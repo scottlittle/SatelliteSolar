{
 "cells": [
  {
   "cell_type": "markdown",
   "metadata": {},
   "source": [
    "##Automate GOES satellite downloads"
   ]
  },
  {
   "cell_type": "code",
   "execution_count": 38,
   "metadata": {
    "collapsed": false
   },
   "outputs": [
    {
     "name": "stdout",
     "output_type": "stream",
     "text": [
      "2014-04-01 00:00:00\n",
      "2014-04-02 00:00:00\n"
     ]
    }
   ],
   "source": [
    "from noaaclass import noaaclass\n",
    "from datetime import datetime\n",
    "from datetime import timedelta\n",
    "\n",
    "import os\n",
    "\n",
    "username = os.environ['NOAA_USERNAME']\n",
    "password = os.environ['NOAA_PASSWORD']\n",
    "noaa = noaaclass.connect(username, password)\n",
    "\n",
    "request_data = []\n",
    "start_time = datetime(2014, 4, 1, 0, 0, 0)\n",
    "end_time = datetime(2014, 4, 1, 23, 59, 59)\n",
    "\n",
    "print start_time\n",
    "\n",
    "print start_time\n",
    "\n"
   ]
  },
  {
   "cell_type": "code",
   "execution_count": 40,
   "metadata": {
    "collapsed": false
   },
   "outputs": [
    {
     "data": {
      "text/plain": [
       "{'channel': [4],\n",
       " 'coverage': ['NH'],\n",
       " 'east': -103.0,\n",
       " 'enabled': True,\n",
       " 'end': datetime.datetime(2014, 4, 2, 23, 59, 59),\n",
       " 'format': 'NetCDF',\n",
       " 'id': '+',\n",
       " 'name': '[auto] sample1',\n",
       " 'north': 41.0,\n",
       " 'satellite': ['G15'],\n",
       " 'schedule': ['R'],\n",
       " 'south': 38.0,\n",
       " 'start': datetime.datetime(2014, 4, 2, 0, 0),\n",
       " 'west': -106.0}"
      ]
     },
     "execution_count": 40,
     "metadata": {},
     "output_type": "execute_result"
    }
   ],
   "source": [
    "for i in range(0,10): #ten days data\n",
    "\n",
    "    for channel in range(1,6): #request 5 channels\n",
    "        request_data.append(\n",
    "        {\n",
    "            'id': '+',\n",
    "            'enabled': True,\n",
    "            'name': '[auto] sample1',\n",
    "            'north': 41.00,\n",
    "            'south': 38.00,\n",
    "            'west': -106.00,\n",
    "            'east': -103.00,\n",
    "            'coverage': ['NH'],\n",
    "            'schedule': ['R'],\n",
    "            'satellite': ['G15'],\n",
    "            'channel': [channel],\n",
    "            'format': 'NetCDF',\n",
    "            'start': start_time,\n",
    "            'end': end_time\n",
    "        }\n",
    "        )\n",
    "    start_time += timedelta(days=1)\n",
    "    end_time += timedelta(days=1)\n",
    "\n",
    "noaa.request.gvar_img.set(data, async=True, append_files=True)\n",
    "noaa.request.gvar_img.get(data, async=True, append_files=True)"
   ]
  },
  {
   "cell_type": "code",
   "execution_count": null,
   "metadata": {
    "collapsed": true
   },
   "outputs": [],
   "source": [
    "data = noaa.request.gvar_img.set(data, async=True, append_files=True)\n",
    "data"
   ]
  }
 ],
 "metadata": {
  "kernelspec": {
   "display_name": "Python 2",
   "language": "python",
   "name": "python2"
  },
  "language_info": {
   "codemirror_mode": {
    "name": "ipython",
    "version": 2
   },
   "file_extension": ".py",
   "mimetype": "text/x-python",
   "name": "python",
   "nbconvert_exporter": "python",
   "pygments_lexer": "ipython2",
   "version": "2.7.10"
  }
 },
 "nbformat": 4,
 "nbformat_minor": 0
}
