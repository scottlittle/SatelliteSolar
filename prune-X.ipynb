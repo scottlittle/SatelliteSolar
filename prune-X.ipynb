{
 "cells": [
  {
   "cell_type": "markdown",
   "metadata": {},
   "source": [
    "##Make X not baD!"
   ]
  },
  {
   "cell_type": "markdown",
   "metadata": {},
   "source": [
    "Load X and Y from getting satellite channels 1 and 6 data, see satellite-to-sensor-model.ipynb for more info."
   ]
  },
  {
   "cell_type": "code",
   "execution_count": 34,
   "metadata": {
    "collapsed": false
   },
   "outputs": [],
   "source": [
    "import numpy as np\n",
    "import matplotlib.pyplot as plt\n",
    "from data_helper_functions import *\n",
    "from IPython.display import display\n",
    "pd.options.display.max_columns = 999\n",
    "%matplotlib inline"
   ]
  },
  {
   "cell_type": "code",
   "execution_count": 2,
   "metadata": {
    "collapsed": false
   },
   "outputs": [],
   "source": [
    "with np.load('data/X.npz') as data:\n",
    "    X = data['X']\n",
    "\n",
    "with np.load('data/Y.npz') as data:\n",
    "    Y = data['Y']"
   ]
  },
  {
   "cell_type": "code",
   "execution_count": 3,
   "metadata": {
    "collapsed": false
   },
   "outputs": [
    {
     "name": "stdout",
     "output_type": "stream",
     "text": [
      "(2544, 2476)\n",
      "(2544, 14)\n"
     ]
    }
   ],
   "source": [
    "print X.shape\n",
    "print Y.shape"
   ]
  },
  {
   "cell_type": "markdown",
   "metadata": {},
   "source": [
    "Random Forest seems to be giving the best results, so we'll stick with that for now"
   ]
  },
  {
   "cell_type": "code",
   "execution_count": 4,
   "metadata": {
    "collapsed": false
   },
   "outputs": [],
   "source": [
    "from sklearn.ensemble import RandomForestRegressor\n",
    "from sklearn.cross_validation import train_test_split\n",
    "rfr = RandomForestRegressor(oob_score=True)\n",
    "X_train, X_test, Y_train, Y_test = train_test_split(X, Y, test_size = 0.2, random_state = 14)"
   ]
  },
  {
   "cell_type": "code",
   "execution_count": 5,
   "metadata": {
    "collapsed": false
   },
   "outputs": [
    {
     "name": "stderr",
     "output_type": "stream",
     "text": [
      "/home/ubuntu/anaconda/lib/python2.7/site-packages/sklearn/ensemble/forest.py:659: UserWarning: Some inputs do not have OOB scores. This probably means too few trees were used to compute any reliable oob estimates.\n",
      "  warn(\"Some inputs do not have OOB scores. \"\n"
     ]
    },
    {
     "data": {
      "text/plain": [
       "RandomForestRegressor(bootstrap=True, criterion='mse', max_depth=None,\n",
       "           max_features='auto', max_leaf_nodes=None, min_samples_leaf=1,\n",
       "           min_samples_split=2, min_weight_fraction_leaf=0.0,\n",
       "           n_estimators=10, n_jobs=1, oob_score=True, random_state=None,\n",
       "           verbose=0, warm_start=False)"
      ]
     },
     "execution_count": 5,
     "metadata": {},
     "output_type": "execute_result"
    }
   ],
   "source": [
    "rfr.fit(X_train,Y_train)"
   ]
  },
  {
   "cell_type": "code",
   "execution_count": 6,
   "metadata": {
    "collapsed": false
   },
   "outputs": [
    {
     "data": {
      "text/plain": [
       "0.030842791854099993"
      ]
     },
     "execution_count": 6,
     "metadata": {},
     "output_type": "execute_result"
    }
   ],
   "source": [
    "rfr.score(X_test,Y_test)"
   ]
  },
  {
   "cell_type": "code",
   "execution_count": 7,
   "metadata": {
    "collapsed": false
   },
   "outputs": [
    {
     "name": "stdout",
     "output_type": "stream",
     "text": [
      "[-1898.04073451 -1895.44739133 -1874.99465429 -1862.62083899 -1872.08635517\n",
      " -1888.94023789 -1878.36506936 -1899.1076668  -1898.16786753 -1898.20189851\n",
      " -1898.21882193 -1898.17638099 -1897.81655789 -1898.10105721]\n",
      "[-1049.38756217 -1049.66777813 -1049.1949189  -1049.17124527 -1049.44469013\n",
      " -1049.60373762 -1049.56861818 -1046.84618117 -1045.290315   -1045.314015\n",
      " -1045.0869825  -1044.91115667 -1044.6794105  -1044.81481833]\n"
     ]
    }
   ],
   "source": [
    "Y_pred = rfr.predict(X_test)\n",
    "from random import randint\n",
    "val = randint(0,508)\n",
    "print Y_pred[val]\n",
    "print Y_test[val]"
   ]
  },
  {
   "cell_type": "markdown",
   "metadata": {},
   "source": [
    "Maybe I should only use the AOD values since the sensor values are sporadic and don't add as much to the data anyway.  Also, I could remove the rows were the sensor readings are zero.  I could look through the Y rows and make a mask to apply to both X and Y rows."
   ]
  },
  {
   "cell_type": "code",
   "execution_count": 8,
   "metadata": {
    "collapsed": false
   },
   "outputs": [],
   "source": [
    "mask = []\n",
    "for i,row in enumerate(Y):\n",
    "    if row[0] == 0:\n",
    "        mask.append(False)\n",
    "    else:\n",
    "        mask.append(True)    "
   ]
  },
  {
   "cell_type": "code",
   "execution_count": 9,
   "metadata": {
    "collapsed": false
   },
   "outputs": [],
   "source": [
    "mask = np.array(mask)"
   ]
  },
  {
   "cell_type": "code",
   "execution_count": 10,
   "metadata": {
    "collapsed": true
   },
   "outputs": [],
   "source": [
    "X_reduced = X[mask]\n",
    "Y_reduced = Y[mask][:,-7::]"
   ]
  },
  {
   "cell_type": "code",
   "execution_count": 11,
   "metadata": {
    "collapsed": false
   },
   "outputs": [
    {
     "name": "stdout",
     "output_type": "stream",
     "text": [
      "(2302, 2476)\n",
      "(2302, 7)\n"
     ]
    }
   ],
   "source": [
    "print X_reduced.shape\n",
    "print Y_reduced.shape"
   ]
  },
  {
   "cell_type": "code",
   "execution_count": 12,
   "metadata": {
    "collapsed": true
   },
   "outputs": [],
   "source": [
    "rfr = RandomForestRegressor(oob_score=True)\n",
    "X_train, X_test, Y_train, Y_test = train_test_split(X_reduced, Y_reduced, test_size = 0.3, random_state = 14)"
   ]
  },
  {
   "cell_type": "code",
   "execution_count": 197,
   "metadata": {
    "collapsed": false
   },
   "outputs": [
    {
     "data": {
      "text/plain": [
       "RandomForestRegressor(bootstrap=True, criterion='mse', max_depth=None,\n",
       "           max_features='auto', max_leaf_nodes=None, min_samples_leaf=1,\n",
       "           min_samples_split=2, min_weight_fraction_leaf=0.0,\n",
       "           n_estimators=10, n_jobs=1, oob_score=True, random_state=None,\n",
       "           verbose=0, warm_start=False)"
      ]
     },
     "execution_count": 197,
     "metadata": {},
     "output_type": "execute_result"
    }
   ],
   "source": [
    "rfr.fit(X_train,Y_train)"
   ]
  },
  {
   "cell_type": "code",
   "execution_count": 198,
   "metadata": {
    "collapsed": false
   },
   "outputs": [
    {
     "name": "stdout",
     "output_type": "stream",
     "text": [
      "0.0800125607355\n",
      "-0.0936330642013\n"
     ]
    }
   ],
   "source": [
    "print rfr.score(X_test,Y_test)\n",
    "print rfr.oob_score_"
   ]
  },
  {
   "cell_type": "code",
   "execution_count": 199,
   "metadata": {
    "collapsed": true
   },
   "outputs": [],
   "source": [
    "Y_pred = rfr.predict(X_test)"
   ]
  },
  {
   "cell_type": "code",
   "execution_count": 200,
   "metadata": {
    "collapsed": false
   },
   "outputs": [
    {
     "name": "stdout",
     "output_type": "stream",
     "text": [
      "[-2962.90243532 -2962.88878597 -2962.89901777 -2962.90393853 -2962.9060391\n",
      " -2962.87717588 -2962.90578052]\n",
      "[-3732.59078983 -3732.40831117 -3732.3851785  -3732.37497417 -3732.37765883\n",
      " -3732.33242967 -3732.37806767]\n"
     ]
    }
   ],
   "source": [
    "from random import randint\n",
    "val = randint(0,Y_pred.shape[0])\n",
    "print Y_pred[val]\n",
    "print Y_test[val]"
   ]
  },
  {
   "cell_type": "markdown",
   "metadata": {},
   "source": [
    "Let's try Ridge again."
   ]
  },
  {
   "cell_type": "code",
   "execution_count": 17,
   "metadata": {
    "collapsed": true
   },
   "outputs": [],
   "source": [
    "from sklearn.linear_model import Ridge\n",
    "ridge = Ridge(solver = 'auto')\n",
    "X_train, X_test, Y_train, Y_test = train_test_split(X_reduced, Y_reduced, test_size = 0.5, random_state = 14)"
   ]
  },
  {
   "cell_type": "code",
   "execution_count": 18,
   "metadata": {
    "collapsed": false
   },
   "outputs": [
    {
     "data": {
      "text/plain": [
       "Ridge(alpha=1.0, copy_X=True, fit_intercept=True, max_iter=None,\n",
       "   normalize=False, solver='auto', tol=0.001)"
      ]
     },
     "execution_count": 18,
     "metadata": {},
     "output_type": "execute_result"
    }
   ],
   "source": [
    "ridge.fit(X_train,Y_train)"
   ]
  },
  {
   "cell_type": "code",
   "execution_count": 19,
   "metadata": {
    "collapsed": false
   },
   "outputs": [
    {
     "data": {
      "text/plain": [
       "-2.0626980586035355"
      ]
     },
     "execution_count": 19,
     "metadata": {},
     "output_type": "execute_result"
    }
   ],
   "source": [
    "ridge.score(X_test,Y_test)"
   ]
  },
  {
   "cell_type": "code",
   "execution_count": 20,
   "metadata": {
    "collapsed": false
   },
   "outputs": [],
   "source": [
    "Y_pred = ridge.predict(X_test)"
   ]
  },
  {
   "cell_type": "code",
   "execution_count": 196,
   "metadata": {
    "collapsed": false
   },
   "outputs": [
    {
     "name": "stdout",
     "output_type": "stream",
     "text": [
      "[-4278.18991    -4277.98500289 -4277.94563314 -4278.02877961 -4278.02623493\n",
      " -4277.81172583 -4278.03564841]\n",
      "[-4432.7487905  -4432.65517167 -4432.671593   -4432.682409   -4432.68769133\n",
      " -4432.644714   -4432.68905467]\n"
     ]
    }
   ],
   "source": [
    "from random import randint\n",
    "val = randint(0,Y_pred.shape[0]-1)\n",
    "print Y_pred[val]\n",
    "print Y_test[val]"
   ]
  },
  {
   "cell_type": "markdown",
   "metadata": {},
   "source": [
    "Not too good. Or at least not an improvement over itself even."
   ]
  },
  {
   "cell_type": "markdown",
   "metadata": {},
   "source": [
    "I may have to do some feature engineering for the images.  Averaging, filtering or both. I wonder if I do some ratios of channels?  Sort of like the \"greenness\" parameter that farmers use.  Also, maybe +/- 3 hours is too long for searching for a satellite image. (Reduce to +/- 1 hour?)"
   ]
  },
  {
   "cell_type": "code",
   "execution_count": 189,
   "metadata": {
    "collapsed": false
   },
   "outputs": [
    {
     "data": {
      "image/png": "[encoded data removed]",
      "text/plain": [
       "<matplotlib.figure.Figure at 0x7fbb573c8a10>"
      ]
     },
     "metadata": {},
     "output_type": "display_data"
    }
   ],
   "source": [
    "plt.plot(Y_pred,'go');"
   ]
  },
  {
   "cell_type": "markdown",
   "metadata": {},
   "source": [
    "So, from the plot above, there are values above 0, even though my Y_train and Y_test are all below zero."
   ]
  },
  {
   "cell_type": "code",
   "execution_count": 383,
   "metadata": {
    "collapsed": false
   },
   "outputs": [
    {
     "data": {
      "image/png": "[encoded data removed]",
      "text/plain": [
       "<matplotlib.figure.Figure at 0x7fbb40780f50>"
      ]
     },
     "metadata": {},
     "output_type": "display_data"
    }
   ],
   "source": [
    "val = randint(0,2301)\n",
    "_ = plt.hist(X_reduced[:,0:1972][val], alpha = 0.5, normed=True, bins=25, label='visible',range=(0,25000)) #visible light histogram\n",
    "_ = plt.hist(X_reduced[:,1973:2476][val], alpha = 0.5, normed=True, bins=25, label='IR',range=(0,25000))\n",
    "plt.legend(loc='upper right');"
   ]
  },
  {
   "cell_type": "code",
   "execution_count": 428,
   "metadata": {
    "collapsed": false
   },
   "outputs": [],
   "source": [
    "X_hist = []\n",
    "for i in xrange(X_reduced.shape[0]):\n",
    "    hist1, _ = np.histogram(X_reduced[:,0:1972][i], density=True, bins=25, range=(0,25000)) #vis\n",
    "    hist2, _ = np.histogram(X_reduced[:,1973:2476][i], density=True, bins=25, range=(0,25000)) #IR\n",
    "    X_hist.append(np.hstack((hist1,hist2)))\n",
    "X_hist = np.array(X_hist)"
   ]
  },
  {
   "cell_type": "markdown",
   "metadata": {},
   "source": [
    "Try random forest with new X_hist:"
   ]
  },
  {
   "cell_type": "code",
   "execution_count": 429,
   "metadata": {
    "collapsed": false
   },
   "outputs": [],
   "source": [
    "rfr = RandomForestRegressor(oob_score=True)\n",
    "X_train, X_test, Y_train, Y_test = train_test_split(X_hist, Y_reduced, test_size = 0.3, random_state = 14)"
   ]
  },
  {
   "cell_type": "code",
   "execution_count": 430,
   "metadata": {
    "collapsed": false
   },
   "outputs": [
    {
     "data": {
      "text/plain": [
       "RandomForestRegressor(bootstrap=True, criterion='mse', max_depth=None,\n",
       "           max_features='auto', max_leaf_nodes=None, min_samples_leaf=1,\n",
       "           min_samples_split=2, min_weight_fraction_leaf=0.0,\n",
       "           n_estimators=10, n_jobs=1, oob_score=True, random_state=None,\n",
       "           verbose=0, warm_start=False)"
      ]
     },
     "execution_count": 430,
     "metadata": {},
     "output_type": "execute_result"
    }
   ],
   "source": [
    "rfr.fit(X_train,Y_train)"
   ]
  },
  {
   "cell_type": "code",
   "execution_count": 431,
   "metadata": {
    "collapsed": false
   },
   "outputs": [
    {
     "name": "stdout",
     "output_type": "stream",
     "text": [
      "0.174518399271\n",
      "-0.00409222016671\n"
     ]
    }
   ],
   "source": [
    "print rfr.score(X_test,Y_test)\n",
    "print rfr.oob_score_"
   ]
  },
  {
   "cell_type": "code",
   "execution_count": 432,
   "metadata": {
    "collapsed": false
   },
   "outputs": [
    {
     "name": "stdout",
     "output_type": "stream",
     "text": [
      "[-1736.63037127 -1735.83002907 -1735.87247932 -1735.86205807 -1735.87630777\n",
      " -1735.59226777 -1735.86062898]\n",
      "[-4082.73808083 -4082.59797133 -4082.65399817 -4082.671105   -4082.67535783\n",
      " -4082.6016735  -4082.6695155 ]\n"
     ]
    }
   ],
   "source": [
    "from random import randint\n",
    "val = randint(0,Y_test.shape[0])\n",
    "print Y_pred[val]\n",
    "print Y_test[val]"
   ]
  },
  {
   "cell_type": "code",
   "execution_count": 433,
   "metadata": {
    "collapsed": false
   },
   "outputs": [
    {
     "data": {
      "image/png": "[encoded data removed]",
      "text/plain": [
       "<matplotlib.figure.Figure at 0x7fbb3979a850>"
      ]
     },
     "metadata": {},
     "output_type": "display_data"
    }
   ],
   "source": [
    "plt.plot(Y_pred,'go');"
   ]
  },
  {
   "cell_type": "markdown",
   "metadata": {},
   "source": [
    "The score has improved (0.2) but the most remarkable is that all the predicted values are now below 0, as they should be."
   ]
  },
  {
   "cell_type": "markdown",
   "metadata": {},
   "source": [
    "Let's try something Extra Trees!"
   ]
  },
  {
   "cell_type": "code",
   "execution_count": 627,
   "metadata": {
    "collapsed": true
   },
   "outputs": [],
   "source": [
    "X_hist = []\n",
    "for i in xrange(X_reduced.shape[0]):\n",
    "    hist1, _ = np.histogram(X_reduced[:,0:1972][i], density=True, bins=30, range=(0,25000)) #vis\n",
    "    hist2, _ = np.histogram(X_reduced[:,1973:2476][i], density=True, bins=30, range=(0,25000)) #IR\n",
    "    X_hist.append(np.hstack((hist1,hist2)))\n",
    "X_hist = np.array(X_hist)"
   ]
  },
  {
   "cell_type": "code",
   "execution_count": 628,
   "metadata": {
    "collapsed": true
   },
   "outputs": [],
   "source": [
    "from sklearn.ensemble import ExtraTreesRegressor\n",
    "etr = ExtraTreesRegressor(oob_score=True, bootstrap=True, n_jobs=-1, n_estimators=100) #njobs uses all cores!\n",
    "X_train, X_test, Y_train, Y_test = train_test_split(X_hist, Y_reduced, test_size = 0.3, random_state = 14)"
   ]
  },
  {
   "cell_type": "code",
   "execution_count": 629,
   "metadata": {
    "collapsed": false
   },
   "outputs": [
    {
     "data": {
      "text/plain": [
       "ExtraTreesRegressor(bootstrap=True, criterion='mse', max_depth=None,\n",
       "          max_features='auto', max_leaf_nodes=None, min_samples_leaf=1,\n",
       "          min_samples_split=2, min_weight_fraction_leaf=0.0,\n",
       "          n_estimators=100, n_jobs=-1, oob_score=True, random_state=None,\n",
       "          verbose=0, warm_start=False)"
      ]
     },
     "execution_count": 629,
     "metadata": {},
     "output_type": "execute_result"
    }
   ],
   "source": [
    "etr.fit(X_train,Y_train)"
   ]
  },
  {
   "cell_type": "code",
   "execution_count": 630,
   "metadata": {
    "collapsed": false
   },
   "outputs": [
    {
     "name": "stdout",
     "output_type": "stream",
     "text": [
      "0.237025258926\n",
      "0.253519316664\n"
     ]
    }
   ],
   "source": [
    "print etr.score(X_test,Y_test)\n",
    "print etr.oob_score_"
   ]
  },
  {
   "cell_type": "code",
   "execution_count": 633,
   "metadata": {
    "collapsed": false
   },
   "outputs": [
    {
     "name": "stdout",
     "output_type": "stream",
     "text": [
      "[-2085.4927687  -2084.31641815 -2084.36274315 -2084.35427948 -2084.396237\n",
      " -2083.90427887 -2084.35021117]\n",
      "[-2099.20588867 -2098.90826783 -2098.97825067 -2098.99554717 -2099.00107567\n",
      " -2098.7010995  -2098.99597117]\n"
     ]
    }
   ],
   "source": [
    "from random import randint\n",
    "val = randint(0,Y_test.shape[0])\n",
    "print Y_pred[val]\n",
    "print Y_test[val]"
   ]
  },
  {
   "cell_type": "code",
   "execution_count": 634,
   "metadata": {
    "collapsed": false
   },
   "outputs": [
    {
     "data": {
      "image/png": "[encoded data removed]",
      "text/plain": [
       "<matplotlib.figure.Figure at 0x7fbb39f87110>"
      ]
     },
     "metadata": {},
     "output_type": "display_data"
    }
   ],
   "source": [
    "plt.plot(Y_pred,'go');"
   ]
  },
  {
   "cell_type": "markdown",
   "metadata": {},
   "source": [
    "Not much better than random forest regressor, but does offer multicore support which speeds things up significantly. Edit: actually, this is better when increasing the number of n_estimators."
   ]
  },
  {
   "cell_type": "markdown",
   "metadata": {},
   "source": [
    "##Now with all channels!"
   ]
  },
  {
   "cell_type": "code",
   "execution_count": 636,
   "metadata": {
    "collapsed": false
   },
   "outputs": [],
   "source": [
    "with np.load('data/X_all_channels.npz') as data:\n",
    "    X = data['X']\n",
    "    \n",
    "with np.load('data/Y_all_channels.npz') as data:\n",
    "    Y = data['Y']"
   ]
  },
  {
   "cell_type": "code",
   "execution_count": 638,
   "metadata": {
    "collapsed": false
   },
   "outputs": [
    {
     "name": "stdout",
     "output_type": "stream",
     "text": [
      "(2544, 3988)\n",
      "(2544, 14)\n"
     ]
    }
   ],
   "source": [
    "print X.shape\n",
    "print Y.shape"
   ]
  },
  {
   "cell_type": "code",
   "execution_count": 639,
   "metadata": {
    "collapsed": true
   },
   "outputs": [],
   "source": [
    "mask = []\n",
    "for i,row in enumerate(Y):\n",
    "    if row[0] == 0:\n",
    "        mask.append(False)\n",
    "    else:\n",
    "        mask.append(True)    \n",
    "mask = np.array(mask)\n",
    "X_reduced = X[mask]\n",
    "Y_reduced = Y[mask][:,-7::]"
   ]
  },
  {
   "cell_type": "code",
   "execution_count": 640,
   "metadata": {
    "collapsed": false
   },
   "outputs": [
    {
     "name": "stdout",
     "output_type": "stream",
     "text": [
      "(2302, 3988)\n",
      "(2302, 7)\n"
     ]
    }
   ],
   "source": [
    "print X_reduced.shape\n",
    "print Y_reduced.shape"
   ]
  },
  {
   "cell_type": "code",
   "execution_count": 656,
   "metadata": {
    "collapsed": false
   },
   "outputs": [
    {
     "data": {
      "image/png": "[encoded data removed]",
      "text/plain": [
       "<matplotlib.figure.Figure at 0x7fbb56961090>"
      ]
     },
     "metadata": {},
     "output_type": "display_data"
    }
   ],
   "source": [
    "val = randint(0,2301)\n",
    "_ = plt.hist(X_reduced[:,0:1972][val], alpha = 0.2, normed=True, bins=30, label='CH1',range=(0,25000)) #visible light histogram\n",
    "_ = plt.hist(X_reduced[:,1973:2476][val], alpha = 0.2, normed=True, bins=30, label='CH2',range=(0,25000))\n",
    "_ = plt.hist(X_reduced[:,2477:2980][val], alpha = 0.2, normed=True, bins=30, label='CH3',range=(0,25000))\n",
    "_ = plt.hist(X_reduced[:,2981:3484][val], alpha = 0.2, normed=True, bins=30, label='CH4',range=(0,25000))\n",
    "_ = plt.hist(X_reduced[:,3484:3988][val], alpha = 0.2, normed=True, bins=30, label='CH6',range=(0,25000))\n",
    "plt.legend(loc='upper right');"
   ]
  },
  {
   "cell_type": "code",
   "execution_count": 737,
   "metadata": {
    "collapsed": true
   },
   "outputs": [],
   "source": [
    "X_hist = []\n",
    "bins = 20\n",
    "for i in xrange(X_reduced.shape[0]):\n",
    "    hist1, _ = np.histogram(X_reduced[:,0:1972][i], density=True, bins=bins, range=(0,25000))\n",
    "    hist2, _ = np.histogram(X_reduced[:,1973:2476][i], density=True, bins=bins, range=(0,25000))\n",
    "    hist3, _ = np.histogram(X_reduced[:,2477:2980][i], density=True, bins=bins, range=(0,25000))\n",
    "    hist4, _ = np.histogram(X_reduced[:,2981:3484][i], density=True, bins=bins, range=(0,25000))\n",
    "    hist5, _ = np.histogram(X_reduced[:,3484:3988][i], density=True, bins=bins, range=(0,25000))\n",
    "    X_hist.append(np.hstack((hist1,hist2,hist3,hist4,hist5)))\n",
    "X_hist = np.array(X_hist)"
   ]
  },
  {
   "cell_type": "code",
   "execution_count": 738,
   "metadata": {
    "collapsed": false
   },
   "outputs": [],
   "source": [
    "from sklearn.ensemble import ExtraTreesRegressor\n",
    "etr = ExtraTreesRegressor(\n",
    "    oob_score=True, bootstrap=True, n_jobs=-1, n_estimators=1000\n",
    "                         ) #nj_obs uses all cores!\n",
    "X_train, X_test, Y_train, Y_test = train_test_split(X_hist, Y_reduced, test_size = 0.25, random_state = 12)"
   ]
  },
  {
   "cell_type": "code",
   "execution_count": 739,
   "metadata": {
    "collapsed": false
   },
   "outputs": [
    {
     "data": {
      "text/plain": [
       "ExtraTreesRegressor(bootstrap=True, criterion='mse', max_depth=None,\n",
       "          max_features='auto', max_leaf_nodes=None, min_samples_leaf=1,\n",
       "          min_samples_split=2, min_weight_fraction_leaf=0.0,\n",
       "          n_estimators=1000, n_jobs=-1, oob_score=True, random_state=None,\n",
       "          verbose=0, warm_start=False)"
      ]
     },
     "execution_count": 739,
     "metadata": {},
     "output_type": "execute_result"
    }
   ],
   "source": [
    "etr.fit(X_train,Y_train)"
   ]
  },
  {
   "cell_type": "code",
   "execution_count": 787,
   "metadata": {
    "collapsed": false
   },
   "outputs": [
    {
     "name": "stdout",
     "output_type": "stream",
     "text": [
      "0.333571847511\n",
      "0.324312054499\n"
     ]
    }
   ],
   "source": [
    "print etr.score(X_test,Y_test)\n",
    "print etr.oob_score_"
   ]
  },
  {
   "cell_type": "code",
   "execution_count": 788,
   "metadata": {
    "collapsed": false
   },
   "outputs": [
    {
     "name": "stdout",
     "output_type": "stream",
     "text": [
      "[-3546.09800318 -3545.97880823 -3546.01557603 -3546.02564373 -3546.02913815\n",
      " -3545.91567287 -3546.02901358]\n",
      "[-2216.3428045  -2216.22484817 -2216.2996965  -2216.32683533 -2216.336912\n",
      " -2216.22664033 -2216.33727767]\n"
     ]
    }
   ],
   "source": [
    "from random import randint\n",
    "val = randint(0,Y_test.shape[0])\n",
    "print Y_pred[val]\n",
    "print Y_test[val]"
   ]
  },
  {
   "cell_type": "code",
   "execution_count": 789,
   "metadata": {
    "collapsed": false
   },
   "outputs": [
    {
     "data": {
      "image/png": "[encoded data removed]",
      "text/plain": [
       "<matplotlib.figure.Figure at 0x7fbb53a6f510>"
      ]
     },
     "metadata": {},
     "output_type": "display_data"
    }
   ],
   "source": [
    "plt.plot(Y_pred,'go');"
   ]
  },
  {
   "cell_type": "markdown",
   "metadata": {},
   "source": [
    "Wow, even better, but is it good enough?  If I include ratios between channels, spatial and other information will be implicitly collected."
   ]
  },
  {
   "cell_type": "markdown",
   "metadata": {},
   "source": [
    "Downsample CH1 and divide by CH6:"
   ]
  },
  {
   "cell_type": "code",
   "execution_count": 1091,
   "metadata": {
    "collapsed": false
   },
   "outputs": [],
   "source": [
    "from scipy.ndimage import zoom\n",
    "from __future__ import division\n",
    "\n",
    "X_reduced_ratio_1_2 = []\n",
    "for i in xrange(X_reduced.shape[0]):\n",
    "    CH1 = zoom(X_reduced[:,0:1972][i].reshape((29,68)),zoom=(0.48, 0.53), order=5)\n",
    "    CH2 = X_reduced[:,1972:2476][i].reshape((14,36))\n",
    "    X_reduced_ratio_1_2.append(25000* CH2  / (CH1 + CH2) )\n",
    "X_reduced_ratio_1_2 = np.array(X_reduced_ratio_1_2)\n",
    "\n",
    "X_reduced_ratio_1_6 = []\n",
    "for i in xrange(X_reduced.shape[0]):\n",
    "    CH1 = zoom(X_reduced[:,0:1972][i].reshape((29,68)),zoom=(0.48, 0.53), order=5)\n",
    "    CH6 = X_reduced[:,3484:3988][i].reshape((14,36))\n",
    "    X_reduced_ratio_1_6.append(25000* CH6 / (CH1 + CH6) )\n",
    "X_reduced_ratio_1_6 = np.array(X_reduced_ratio_1_6)\n",
    "\n",
    "X_reduced_ratio_2_6 = []\n",
    "for i in xrange(X_reduced.shape[0]):\n",
    "    CH2 = X_reduced[:,1972:2476][i].reshape((14,36))\n",
    "    CH6 = X_reduced[:,3484:3988][i].reshape((14,36))\n",
    "    X_reduced_ratio_2_6.append(25000* CH6 / (CH2 + CH6) )\n",
    "X_reduced_ratio_2_6 = np.array(X_reduced_ratio_2_6)"
   ]
  },
  {
   "cell_type": "code",
   "execution_count": 1093,
   "metadata": {
    "collapsed": false
   },
   "outputs": [
    {
     "data": {
      "image/png": "[encoded data removed]",
      "text/plain": [
       "<matplotlib.figure.Figure at 0x7fbb57065dd0>"
      ]
     },
     "metadata": {},
     "output_type": "display_data"
    }
   ],
   "source": [
    "val = randint(0,2301)\n",
    "_ = plt.hist(X_reduced[:,0:1972][val], alpha = 0.2, normed=True, bins=30, label='CH1',range=(0,25000)) #visible light histogram\n",
    "_ = plt.hist(X_reduced[:,1973:2476][val], alpha = 0.2, normed=True, bins=30, label='CH2',range=(0,25000))\n",
    "_ = plt.hist(X_reduced[:,2477:2980][val], alpha = 0.2, normed=True, bins=30, label='CH3',range=(0,25000))\n",
    "_ = plt.hist(X_reduced[:,2981:3484][val], alpha = 0.2, normed=True, bins=30, label='CH4',range=(0,25000))\n",
    "_ = plt.hist(X_reduced[:,3484:3988][val], alpha = 0.2, normed=True, bins=30, label='CH6',range=(0,25000))\n",
    "_ = plt.hist(np.ravel(X_reduced_ratio_1_2[val]), alpha = 0.2, normed=True, bins=30, label='CH2/CH1',range=(0,25000))\n",
    "_ = plt.hist(np.ravel(X_reduced_ratio_1_6[val]), alpha = 0.2, normed=True, bins=30, label='CH6/CH1',range=(0,25000))\n",
    "_ = plt.hist(np.ravel(X_reduced_ratio_2_6[val]), alpha = 0.2, normed=True, bins=30, label='CH6/CH2',range=(0,25000))\n",
    "plt.legend(loc='upper right');"
   ]
  },
  {
   "cell_type": "code",
   "execution_count": 1101,
   "metadata": {
    "collapsed": false
   },
   "outputs": [],
   "source": [
    "X_hist = []\n",
    "bins = 30\n",
    "for i in xrange(X_reduced.shape[0]):\n",
    "    hist1, _ = np.histogram(X_reduced[:,0:1972][i], density=True, bins=bins, range=(0,25000))\n",
    "    hist2, _ = np.histogram(X_reduced[:,1972:2476][i], density=True, bins=bins, range=(0,25000))\n",
    "    hist3, _ = np.histogram(X_reduced[:,2476:2980][i], density=True, bins=bins, range=(0,25000))\n",
    "    hist4, _ = np.histogram(X_reduced[:,2980:3484][i], density=True, bins=bins, range=(0,25000))\n",
    "    hist5, _ = np.histogram(X_reduced[:,3484:3988][i], density=True, bins=bins, range=(0,25000))\n",
    "    hist6, _ = np.histogram(np.ravel(X_reduced_ratio_1_2[i]), density=True, bins=bins, range=(0,25000))\n",
    "    hist7, _ = np.histogram(np.ravel(X_reduced_ratio_1_6[i]), density=True, bins=bins, range=(0,25000))\n",
    "    hist8, _ = np.histogram(np.ravel(X_reduced_ratio_2_6[i]), density=True, bins=bins, range=(0,25000))\n",
    "    X_hist.append(np.hstack((hist1,hist2,hist3,hist4,hist5,hist6,hist7,hist8)))\n",
    "X_hist = np.array(X_hist)"
   ]
  },
  {
   "cell_type": "code",
   "execution_count": 1105,
   "metadata": {
    "collapsed": false
   },
   "outputs": [],
   "source": [
    "from sklearn.ensemble import ExtraTreesRegressor\n",
    "etr = ExtraTreesRegressor(oob_score=True, bootstrap=True,\n",
    "                          n_jobs=-1, n_estimators=1000) #nj_obs uses all cores!\n",
    "X_train, X_test, Y_train, Y_test = train_test_split(X_hist, Y_reduced, test_size = 0.2, random_state = 12)"
   ]
  },
  {
   "cell_type": "code",
   "execution_count": 1106,
   "metadata": {
    "collapsed": false
   },
   "outputs": [
    {
     "data": {
      "text/plain": [
       "ExtraTreesRegressor(bootstrap=True, criterion='mse', max_depth=None,\n",
       "          max_features='auto', max_leaf_nodes=None, min_samples_leaf=1,\n",
       "          min_samples_split=2, min_weight_fraction_leaf=0.0,\n",
       "          n_estimators=1000, n_jobs=-1, oob_score=True, random_state=None,\n",
       "          verbose=0, warm_start=False)"
      ]
     },
     "execution_count": 1106,
     "metadata": {},
     "output_type": "execute_result"
    }
   ],
   "source": [
    "etr.fit(X_train,Y_train)"
   ]
  },
  {
   "cell_type": "code",
   "execution_count": 1107,
   "metadata": {
    "collapsed": false
   },
   "outputs": [
    {
     "name": "stdout",
     "output_type": "stream",
     "text": [
      "0.400992066327\n",
      "0.302861512548\n"
     ]
    }
   ],
   "source": [
    "print etr.score(X_test,Y_test)\n",
    "print etr.oob_score_"
   ]
  },
  {
   "cell_type": "code",
   "execution_count": 1114,
   "metadata": {
    "collapsed": false
   },
   "outputs": [
    {
     "name": "stdout",
     "output_type": "stream",
     "text": [
      "[-2111.35264935 -2111.33037278 -2111.33640548 -2111.33989697 -2111.34116932\n",
      " -2111.31844367 -2111.34136852]\n",
      "[-1513.74919033 -1512.226391   -1512.269637   -1512.23218683 -1512.30237917\n",
      " -1511.73857267 -1512.27493883]\n"
     ]
    }
   ],
   "source": [
    "from random import randint\n",
    "val = randint(0,Y_test.shape[0])\n",
    "print Y_pred[val]\n",
    "print Y_test[val]"
   ]
  },
  {
   "cell_type": "code",
   "execution_count": null,
   "metadata": {
    "collapsed": true
   },
   "outputs": [],
   "source": []
  },
  {
   "cell_type": "code",
   "execution_count": null,
   "metadata": {
    "collapsed": true
   },
   "outputs": [],
   "source": []
  },
  {
   "cell_type": "markdown",
   "metadata": {},
   "source": [
    "Try it all again with just X, not X_reduced?"
   ]
  },
  {
   "cell_type": "code",
   "execution_count": 1229,
   "metadata": {
    "collapsed": true
   },
   "outputs": [],
   "source": [
    "from scipy.ndimage import zoom\n",
    "from __future__ import division\n",
    "\n",
    "X_ratio_1_2 = []\n",
    "for i in xrange(X.shape[0]):\n",
    "    CH1 = zoom(X[:,0:1972][i].reshape((29,68)),zoom=(0.48, 0.53), order=5)\n",
    "    CH2 = X[:,1972:2476][i].reshape((14,36))\n",
    "    X_ratio_1_2.append(25000* (CH2)  / (CH1 + CH2+1.0) )\n",
    "X_ratio_1_2 = np.array(X_ratio_1_2)\n",
    "\n",
    "X_ratio_1_6 = []\n",
    "for i in xrange(X.shape[0]):\n",
    "    CH1 = zoom(X[:,0:1972][i].reshape((29,68)),zoom=(0.48, 0.53), order=5)\n",
    "    CH6 = X[:,3484:3988][i].reshape((14,36))\n",
    "    X_ratio_1_6.append(25000* CH6 / (CH1 + CH6 + 0.1) )\n",
    "X_ratio_1_6 = np.array(X_ratio_1_6)\n",
    "\n",
    "X_ratio_2_6 = []\n",
    "for i in xrange(X.shape[0]):\n",
    "    CH2 = X[:,1972:2476][i].reshape((14,36))\n",
    "    CH6 = X[:,3484:3988][i].reshape((14,36))\n",
    "    X_ratio_2_6.append(25000* CH6 / (CH2 + CH6 + 0.1) )\n",
    "X_ratio_2_6 = np.array(X_ratio_2_6)"
   ]
  },
  {
   "cell_type": "code",
   "execution_count": 1230,
   "metadata": {
    "collapsed": false
   },
   "outputs": [
    {
     "data": {
      "image/png": "[encoded data removed]",
      "text/plain": [
       "<matplotlib.figure.Figure at 0x7fbb44853d50>"
      ]
     },
     "metadata": {},
     "output_type": "display_data"
    }
   ],
   "source": [
    "val = randint(0,2301)\n",
    "_ = plt.hist(X[:,0:1972][val], alpha = 0.2, normed=True, bins=30, label='CH1',range=(0,25000)) #visible light histogram\n",
    "_ = plt.hist(X[:,1973:2476][val], alpha = 0.2, normed=True, bins=30, label='CH2',range=(0,25000))\n",
    "_ = plt.hist(X[:,2477:2980][val], alpha = 0.2, normed=True, bins=30, label='CH3',range=(0,25000))\n",
    "_ = plt.hist(X[:,2981:3484][val], alpha = 0.2, normed=True, bins=30, label='CH4',range=(0,25000))\n",
    "_ = plt.hist(X[:,3484:3988][val], alpha = 0.2, normed=True, bins=30, label='CH6',range=(0,25000))\n",
    "_ = plt.hist(np.ravel(X_ratio_1_2[val]), alpha = 0.2, normed=True, bins=30, label='CH2/CH1',range=(0,25000))\n",
    "_ = plt.hist(np.ravel(X_ratio_1_6[val]), alpha = 0.2, normed=True, bins=30, label='CH6/CH1',range=(0,25000))\n",
    "_ = plt.hist(np.ravel(X_ratio_2_6[val]), alpha = 0.2, normed=True, bins=30, label='CH6/CH2',range=(0,25000))\n",
    "plt.legend(loc='upper right');"
   ]
  },
  {
   "cell_type": "code",
   "execution_count": 1236,
   "metadata": {
    "collapsed": false
   },
   "outputs": [],
   "source": [
    "import pandas as pd\n",
    "\n",
    "X_hist = []\n",
    "bins = 25\n",
    "for i in xrange(X.shape[0]):\n",
    "    myval1 = pd.DataFrame(np.ravel(X_ratio_1_2[i])).fillna(np.mean).values.flatten();\n",
    "    myval2 = pd.DataFrame(np.ravel(X_ratio_1_6[i])).fillna(np.mean).values.flatten();\n",
    "    myval3 = pd.DataFrame(np.ravel(X_ratio_2_6[i])).fillna(np.mean).values.flatten();\n",
    "    \n",
    "    hist1, _ = np.histogram(X[:,0:1972][i], density=True, bins=bins, range=(0,25000))\n",
    "    hist2, _ = np.histogram(X[:,1972:2476][i], density=True, bins=bins, range=(0,25000))\n",
    "    hist3, _ = np.histogram(X[:,2476:2980][i], density=True, bins=bins, range=(0,25000))\n",
    "    hist4, _ = np.histogram(X[:,2980:3484][i], density=True, bins=bins, range=(0,25000))\n",
    "    hist5, _ = np.histogram(X[:,3484:3988][i], density=True, bins=bins, range=(0,25000))\n",
    "    hist6, _ = np.histogram( myval1 , density=True, bins=bins, range=(0,25000) )\n",
    "    hist7, _ = np.histogram( myval2 , density=True, bins=bins, range=(0,25000))\n",
    "    hist8, _ = np.histogram( myval3, density=True, bins=bins, range=(0,25000))\n",
    "    X_hist.append(np.hstack((hist1,hist2,hist3,hist4,hist5,hist6,hist7,hist8)))\n",
    "X_hist = np.array(X_hist)"
   ]
  },
  {
   "cell_type": "code",
   "execution_count": 1237,
   "metadata": {
    "collapsed": true
   },
   "outputs": [],
   "source": [
    "from sklearn.ensemble import ExtraTreesRegressor\n",
    "etr = ExtraTreesRegressor(oob_score=True, bootstrap=True,\n",
    "                          n_jobs=-1, n_estimators=500) #nj_obs uses all cores!\n",
    "X_train, X_test, Y_train, Y_test = train_test_split(X_hist, Y, test_size = 0.2, random_state = 12)"
   ]
  },
  {
   "cell_type": "code",
   "execution_count": 1238,
   "metadata": {
    "collapsed": false
   },
   "outputs": [
    {
     "data": {
      "text/plain": [
       "ExtraTreesRegressor(bootstrap=True, criterion='mse', max_depth=None,\n",
       "          max_features='auto', max_leaf_nodes=None, min_samples_leaf=1,\n",
       "          min_samples_split=2, min_weight_fraction_leaf=0.0,\n",
       "          n_estimators=500, n_jobs=-1, oob_score=True, random_state=None,\n",
       "          verbose=0, warm_start=False)"
      ]
     },
     "execution_count": 1238,
     "metadata": {},
     "output_type": "execute_result"
    }
   ],
   "source": [
    "etr.fit(X_train,Y_train)"
   ]
  },
  {
   "cell_type": "code",
   "execution_count": 1239,
   "metadata": {
    "collapsed": false
   },
   "outputs": [
    {
     "name": "stdout",
     "output_type": "stream",
     "text": [
      "0.350322065473\n",
      "0.452021910383\n"
     ]
    }
   ],
   "source": [
    "print etr.score(X_test,Y_test)\n",
    "print etr.oob_score_"
   ]
  },
  {
   "cell_type": "code",
   "execution_count": 1242,
   "metadata": {
    "collapsed": false
   },
   "outputs": [
    {
     "name": "stdout",
     "output_type": "stream",
     "text": [
      "[-2939.66263944 -2936.73025123 -2915.11887229 -2902.55734712 -2912.72887146\n",
      " -2929.26208371 -2919.29219376 -2255.328698   -2254.21816757 -2254.25603159\n",
      " -2254.24949458 -2254.29407376 -2253.80850048 -2254.21402432]\n",
      "[-816.23915882 -816.13851593 -814.87584727 -814.35181418 -815.06576483\n",
      " -815.88368602 -815.46209638 -810.91360417 -808.76596733 -808.7843\n",
      " -808.86810717 -808.8855985  -808.18823617 -808.80836467]\n"
     ]
    }
   ],
   "source": [
    "Y_pred = etr.predict(X_test)\n",
    "\n",
    "from random import randint\n",
    "val = randint(0,Y_test.shape[0])\n",
    "print Y_pred[val]\n",
    "print Y_test[val]"
   ]
  },
  {
   "cell_type": "code",
   "execution_count": null,
   "metadata": {
    "collapsed": true
   },
   "outputs": [],
   "source": []
  }
 ],
 "metadata": {
  "kernelspec": {
   "display_name": "Python 2",
   "language": "python",
   "name": "python2"
  },
  "language_info": {
   "codemirror_mode": {
    "name": "ipython",
    "version": 2
   },
   "file_extension": ".py",
   "mimetype": "text/x-python",
   "name": "python",
   "nbconvert_exporter": "python",
   "pygments_lexer": "ipython2",
   "version": "2.7.10"
  }
 },
 "nbformat": 4,
 "nbformat_minor": 0
}
