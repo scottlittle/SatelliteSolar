{
 "cells": [
  {
   "cell_type": "markdown",
   "metadata": {},
   "source": [
    "#Flask App"
   ]
  },
  {
   "cell_type": "code",
   "execution_count": 53,
   "metadata": {
    "collapsed": false
   },
   "outputs": [
    {
     "name": "stdout",
     "output_type": "stream",
     "text": [
      "Overwriting solarApp.py\n"
     ]
    }
   ],
   "source": [
    "%%writefile solarApp.py\n",
    "from flask import Flask\n",
    "from flask import request\n",
    "app = Flask(__name__)\n",
    "from flask import render_template\n",
    "from StringIO import StringIO\n",
    "\n",
    "# Form page to submit text\n",
    "#============================================\n",
    "# create page with a form on it\n",
    "@app.route('/', methods=['POST','GET'])\n",
    "def submission_page():\n",
    "    return render_template('template.html')\n",
    "\n",
    "@app.route('/about')\n",
    "def about_page():\n",
    "    return render_template('about.html')\n",
    "\n",
    "@app.route('/output', methods=['POST','GET'] )\n",
    "def output():\n",
    "\n",
    "    panel_type_data = request.form['panel_type']\n",
    "    number_panels_data = int(request.form['number_panels'])\n",
    "    month_data = int(request.form['month'])\n",
    "    day_data = int(request.form['day'])\n",
    "    hour_data = int(request.form['hour'])\n",
    "    \n",
    "    predicted_power = number_panels_data * 180.0\n",
    "\n",
    "    from datetime import datetime, timedelta, time\n",
    "    import pandas as pd\n",
    "    import numpy as np\n",
    "    import matplotlib.pyplot as plt\n",
    "    from data_helper_functions_webapp import find_filename, return_satellite_data\n",
    "    from time import sleep\n",
    "\n",
    "    desired_channel = 'BAND_01'\n",
    "    desired_date = datetime(2014, month_data, day_data)\n",
    "    desired_timedelta = timedelta(hours = hour_data)\n",
    "    desired_datetime = desired_date + desired_timedelta\n",
    "    satellite_filefolder = '../../data/satellite/colorado/summer6months/data/'\n",
    "    sensor_filefolder = '../../data/sensor_data/colorado6months/'\n",
    "    pvoutput_filefolder = '../../data/pvoutput/pvoutput6months/'\n",
    "\n",
    "    #satellite data\n",
    "    satellite_filename = find_filename(desired_datetime, desired_channel, satellite_filefolder)\n",
    "    lons, lats, data = return_satellite_data(satellite_filename, satellite_filefolder)\n",
    "\n",
    "    ##img1 = StringIO() #virtual file object\n",
    "    plt.figure(figsize=(8, 8))\n",
    "    imgplot = plt.imshow(data)\n",
    "    imgplot.set_interpolation('none')\n",
    "    plt.savefig('static/images/foo.png', bbox_inches='tight')\n",
    "    \n",
    "    sleep(10)\n",
    "    \n",
    "    return render_template('output.html', panel_type_data=panel_type_data, \n",
    "                           number_panels_data=number_panels_data, month_data=month_data, \n",
    "                           day_data=day_data, hour_data=hour_data, \n",
    "                           predicted_power=predicted_power)\n",
    "\n",
    "\n",
    "if __name__ == '__main__':\n",
    "    app.run(host='0.0.0.0', port=5000, debug=True)"
   ]
  },
  {
   "cell_type": "code",
   "execution_count": null,
   "metadata": {
    "collapsed": false
   },
   "outputs": [
    {
     "name": "stdout",
     "output_type": "stream",
     "text": [
      " * Running on http://0.0.0.0:5000/ (Press CTRL+C to quit)\n",
      " * Restarting with stat\n",
      "127.0.0.1 - - [15/Aug/2015 19:51:33] \"GET / HTTP/1.1\" 200 -\n",
      "127.0.0.1 - - [15/Aug/2015 19:51:33] \"GET /dist/js/bootstrap.min.js HTTP/1.1\" 404 -\n",
      "127.0.0.1 - - [15/Aug/2015 19:51:33] \"GET /assets/js/ie10-viewport-bug-workaround.js HTTP/1.1\" 404 -\n",
      "127.0.0.1 - - [15/Aug/2015 19:51:41] \"POST /output HTTP/1.1\" 200 -\n",
      "127.0.0.1 - - [15/Aug/2015 19:51:56] \"POST /output HTTP/1.1\" 200 -\n",
      "127.0.0.1 - - [15/Aug/2015 19:52:07] \"POST /output HTTP/1.1\" 200 -\n",
      "----------------------------------------\n",
      "Exception happened during processing of request from ('127.0.0.1', 59984)\n",
      "Traceback (most recent call last):\n",
      "  File \"/Users/scott/anaconda/lib/python2.7/SocketServer.py\", line 295, in _handle_request_noblock\n",
      "    self.process_request(request, client_address)\n",
      "  File \"/Users/scott/anaconda/lib/python2.7/SocketServer.py\", line 321, in process_request\n",
      "    self.finish_request(request, client_address)\n",
      "  File \"/Users/scott/anaconda/lib/python2.7/SocketServer.py\", line 334, in finish_request\n",
      "    self.RequestHandlerClass(request, client_address, self)\n",
      "  File \"/Users/scott/anaconda/lib/python2.7/SocketServer.py\", line 657, in __init__\n",
      "    self.finish()\n",
      "  File \"/Users/scott/anaconda/lib/python2.7/SocketServer.py\", line 716, in finish\n",
      "    self.wfile.close()\n",
      "  File \"/Users/scott/anaconda/lib/python2.7/socket.py\", line 283, in close\n",
      "    self.flush()\n",
      "  File \"/Users/scott/anaconda/lib/python2.7/socket.py\", line 307, in flush\n",
      "    self._sock.sendall(view[write_offset:write_offset+buffer_size])\n",
      "error: [Errno 32] Broken pipe\n",
      "----------------------------------------\n",
      "127.0.0.1 - - [15/Aug/2015 19:52:13] \"POST /output HTTP/1.1\" 200 -\n",
      "127.0.0.1 - - [15/Aug/2015 19:52:26] \"POST /output HTTP/1.1\" 200 -\n",
      "----------------------------------------\n",
      "Exception happened during processing of request from ('127.0.0.1', 59988)\n",
      "Traceback (most recent call last):\n",
      "  File \"/Users/scott/anaconda/lib/python2.7/SocketServer.py\", line 295, in _handle_request_noblock\n",
      "    self.process_request(request, client_address)\n",
      "  File \"/Users/scott/anaconda/lib/python2.7/SocketServer.py\", line 321, in process_request\n",
      "    self.finish_request(request, client_address)\n",
      "  File \"/Users/scott/anaconda/lib/python2.7/SocketServer.py\", line 334, in finish_request\n",
      "    self.RequestHandlerClass(request, client_address, self)\n",
      "  File \"/Users/scott/anaconda/lib/python2.7/SocketServer.py\", line 657, in __init__\n",
      "    self.finish()\n",
      "  File \"/Users/scott/anaconda/lib/python2.7/SocketServer.py\", line 716, in finish\n",
      "    self.wfile.close()\n",
      "  File \"/Users/scott/anaconda/lib/python2.7/socket.py\", line 283, in close\n",
      "    self.flush()\n",
      "  File \"/Users/scott/anaconda/lib/python2.7/socket.py\", line 307, in flush\n",
      "    self._sock.sendall(view[write_offset:write_offset+buffer_size])\n",
      "error: [Errno 32] Broken pipe\n",
      "----------------------------------------\n",
      "127.0.0.1 - - [15/Aug/2015 19:52:32] \"POST /output HTTP/1.1\" 200 -\n",
      "127.0.0.1 - - [15/Aug/2015 19:52:32] \"GET /static/bootstrap-3.3.5-dist/css/bootstrap.min.css HTTP/1.1\" 304 -\n",
      "127.0.0.1 - - [15/Aug/2015 19:52:32] \"GET /static/bootstrap-3.3.5-dist/css/bootstrap-theme.min.css HTTP/1.1\" 304 -\n",
      "127.0.0.1 - - [15/Aug/2015 19:52:32] \"GET /static/bootstrap-3.3.5-dist/js/bootstrap.min.js HTTP/1.1\" 304 -\n",
      "127.0.0.1 - - [15/Aug/2015 19:52:32] \"GET /static/images/foo.png HTTP/1.1\" 200 -\n"
     ]
    }
   ],
   "source": [
    "!python solarApp.py"
   ]
  },
  {
   "cell_type": "code",
   "execution_count": null,
   "metadata": {
    "collapsed": true
   },
   "outputs": [],
   "source": []
  },
  {
   "cell_type": "markdown",
   "metadata": {},
   "source": [
    "#Build a model"
   ]
  },
  {
   "cell_type": "code",
   "execution_count": 5,
   "metadata": {
    "collapsed": false
   },
   "outputs": [
    {
     "name": "stdout",
     "output_type": "stream",
     "text": [
      "Overwriting build_model.py\n"
     ]
    }
   ],
   "source": [
    "%%writefile build_model.py\n",
    "import pandas as pd\n",
    "import matplotlib.pyplot as plt\n",
    "import numpy as np"
   ]
  },
  {
   "cell_type": "code",
   "execution_count": 6,
   "metadata": {
    "collapsed": false
   },
   "outputs": [],
   "source": [
    "!python build_model.py"
   ]
  }
 ],
 "metadata": {
  "kernelspec": {
   "display_name": "Python 2",
   "language": "python",
   "name": "python2"
  },
  "language_info": {
   "codemirror_mode": {
    "name": "ipython",
    "version": 2
   },
   "file_extension": ".py",
   "mimetype": "text/x-python",
   "name": "python",
   "nbconvert_exporter": "python",
   "pygments_lexer": "ipython2",
   "version": "2.7.10"
  }
 },
 "nbformat": 4,
 "nbformat_minor": 0
}
