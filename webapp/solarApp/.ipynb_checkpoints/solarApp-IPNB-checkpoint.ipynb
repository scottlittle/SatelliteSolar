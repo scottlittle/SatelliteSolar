{
 "cells": [
  {
   "cell_type": "markdown",
   "metadata": {},
   "source": [
    "#Build a model"
   ]
  },
  {
   "cell_type": "code",
   "execution_count": null,
   "metadata": {
    "collapsed": true
   },
   "outputs": [],
   "source": [
    "%%writefile mornApp/build_model.py\n",
    "import pandas as pd\n",
    "import matplotlib.pyplot as plt\n",
    "import numpy as np\n",
    "\n",
    "categories = ['alt.atheism', 'soc.religion.christian', 'comp.graphics', 'sci.med']\n",
    "from sklearn.datasets import fetch_20newsgroups\n",
    "twenty_train = fetch_20newsgroups(subset='train',categories=categories, shuffle=True, random_state=42)\n",
    "\n",
    "from sklearn.feature_extraction.text import CountVectorizer\n",
    "count_vect = CountVectorizer()\n",
    "X_train_counts = count_vect.fit_transform(twenty_train.data)\n",
    "\n",
    "from sklearn.feature_extraction.text import TfidfTransformer\n",
    "tf_transformer = TfidfTransformer(use_idf=False).fit(X_train_counts)\n",
    "X_train_tf = tf_transformer.transform(X_train_counts)\n",
    "\n",
    "tfidf_transformer = TfidfTransformer()\n",
    "X_train_tfidf = tfidf_transformer.fit_transform(X_train_counts)\n",
    "\n",
    "from sklearn.naive_bayes import MultinomialNB\n",
    "clf = MultinomialNB().fit(X_train_tfidf, twenty_train.target)\n",
    "\n",
    "import pickle\n",
    "pickle.dump(count_vect, open( \"mornApp/data/my_vectorizer.pkl\", \"wb\" ))\n",
    "pickle.dump(clf, open( \"mornApp/data/my_model.pkl\", \"wb\" ))\n",
    "pickle.dump(tfidf_transformer, open( \"mornApp/data/my_transformer.pkl\", \"wb\" ))\n",
    "clf2 = pickle.load(open( \"mornApp/data/my_model.pkl\", \"rb\" ) )\n",
    "count_vect2 = pickle.load(open( \"mornApp/data/my_vectorizer.pkl\", \"rb\" ) )\n",
    "\n",
    "docs_new = ['God is love', 'OpenGL on the GPU is fast']\n",
    "X_new_counts = count_vect2.transform(docs_new)\n",
    "X_new_tfidf = tfidf_transformer.transform(X_new_counts)\n",
    "\n",
    "predicted = clf2.predict(X_new_tfidf)"
   ]
  },
  {
   "cell_type": "code",
   "execution_count": 2,
   "metadata": {
    "collapsed": false
   },
   "outputs": [],
   "source": [
    "!python mornApp/build_model.py"
   ]
  },
  {
   "cell_type": "markdown",
   "metadata": {},
   "source": [
    "#Then run the app"
   ]
  },
  {
   "cell_type": "code",
   "execution_count": 4,
   "metadata": {
    "collapsed": false
   },
   "outputs": [
    {
     "name": "stdout",
     "output_type": "stream",
     "text": [
      "Overwriting mornApp/mornApp.py\n"
     ]
    }
   ],
   "source": [
    "%%writefile mornApp/mornApp.py\n",
    "from flask import Flask\n",
    "from flask import request\n",
    "app = Flask(__name__)\n",
    "from flask import render_template\n",
    "\n",
    "# Form page to submit text\n",
    "#============================================\n",
    "# create page with a form on it\n",
    "@app.route('/')\n",
    "def submission_page():\n",
    "    #content = 'hello'\n",
    "    return render_template('template.html')\n",
    "\n",
    "@app.route('/about')\n",
    "def about_page():\n",
    "    #content = 'hello'\n",
    "    return render_template('about.html')\n",
    "\n",
    "    '''\n",
    "    '''\n",
    "# <form action=\"/word_counter\" method='POST' >\n",
    "#         <input type=\"text\" name=\"user_input\" />\n",
    "#         <input type=\"submit\" />\n",
    "#     </form>\n",
    "# My word counter app\n",
    "#==============================================\n",
    "# create the page the form goes to\n",
    "@app.route('/word_counter', methods=['POST','GET'] )\n",
    "def word_counter():\n",
    "#     if request.method == 'POST':\n",
    "#         return ''\n",
    "    # get data from request form, the key is the name you set in your form\n",
    "    data = request.form['user_input']\n",
    "\n",
    "    # convert data to list\n",
    "    data = [data]\n",
    "\n",
    "    import pickle\n",
    "    import pandas as pd\n",
    "    import matplotlib.pyplot as plt\n",
    "    import numpy as np\n",
    "    from sklearn.feature_extraction.text import CountVectorizer\n",
    "    from sklearn.feature_extraction.text import TfidfTransformer\n",
    "    from sklearn.naive_bayes import MultinomialNB\n",
    "    \n",
    "    clf2 = pickle.load(open( \"mornApp/data/my_model.pkl\", \"rb\" ) )\n",
    "    count_vect2 = pickle.load(open( \"mornApp/data/my_vectorizer.pkl\", \"rb\" ) )\n",
    "    tfidf_transformer2 = pickle.load(open ( \"mornApp/data/my_transformer.pkl\", \"rb\" ))\n",
    "\n",
    "    #process new data\n",
    "    X_new_counts = count_vect2.transform(data)\n",
    "    X_new_tfidf = tfidf_transformer2.transform(X_new_counts)\n",
    "    predicted = clf2.predict(X_new_tfidf)\n",
    "    \n",
    "    #output the category that the text is in\n",
    "    categories = ['alt.atheism', 'comp.graphics', 'sci.med', 'soc.religion.christian']\n",
    "    for doc, category in zip(data, predicted):\n",
    "        #return('%r => %s' % (doc, categories[category]))\n",
    "        return render_template('template2.html', doc=doc, category=categories[category])\n",
    "\n",
    "if __name__ == '__main__':\n",
    "    app.run(host='0.0.0.0', port=5000, debug=True)"
   ]
  },
  {
   "cell_type": "code",
   "execution_count": 5,
   "metadata": {
    "collapsed": false
   },
   "outputs": [
    {
     "name": "stdout",
     "output_type": "stream",
     "text": [
      " * Running on http://0.0.0.0:5000/ (Press CTRL+C to quit)\n",
      " * Restarting with stat\n",
      "128.177.113.106 - - [13/Aug/2015 02:15:24] \"GET / HTTP/1.1\" 200 -\n",
      "128.177.113.106 - - [13/Aug/2015 02:15:24] \"GET /dist/js/bootstrap.min.js HTTP/1.1\" 404 -\n",
      "128.177.113.106 - - [13/Aug/2015 02:15:24] \"GET /static/bootstrap-3.3.5-dist/css/bootstrap.min.css HTTP/1.1\" 200 -\n",
      "128.177.113.106 - - [13/Aug/2015 02:15:24] \"GET /assets/js/ie10-viewport-bug-workaround.js HTTP/1.1\" 404 -\n",
      "128.177.113.106 - - [13/Aug/2015 02:15:39] \"POST /word_counter HTTP/1.1\" 200 -\n",
      "128.177.113.106 - - [13/Aug/2015 02:15:39] \"GET /dist/js/bootstrap.min.js HTTP/1.1\" 404 -\n",
      "128.177.113.106 - - [13/Aug/2015 02:15:40] \"GET /assets/js/ie10-viewport-bug-workaround.js HTTP/1.1\" 404 -\n",
      "^C\n"
     ]
    }
   ],
   "source": [
    "!python mornApp/mornApp.py"
   ]
  }
 ],
 "metadata": {
  "kernelspec": {
   "display_name": "Python 2",
   "language": "python",
   "name": "python2"
  },
  "language_info": {
   "codemirror_mode": {
    "name": "ipython",
    "version": 2
   },
   "file_extension": ".py",
   "mimetype": "text/x-python",
   "name": "python",
   "nbconvert_exporter": "python",
   "pygments_lexer": "ipython2",
   "version": "2.7.10"
  }
 },
 "nbformat": 4,
 "nbformat_minor": 0
}
