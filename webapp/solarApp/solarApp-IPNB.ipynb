{
 "cells": [
  {
   "cell_type": "markdown",
   "metadata": {},
   "source": [
    "#Build a model"
   ]
  },
  {
   "cell_type": "code",
   "execution_count": 5,
   "metadata": {
    "collapsed": false
   },
   "outputs": [
    {
     "name": "stdout",
     "output_type": "stream",
     "text": [
      "Overwriting build_model.py\n"
     ]
    }
   ],
   "source": [
    "%%writefile build_model.py\n",
    "import pandas as pd\n",
    "import matplotlib.pyplot as plt\n",
    "import numpy as np"
   ]
  },
  {
   "cell_type": "code",
   "execution_count": 6,
   "metadata": {
    "collapsed": false
   },
   "outputs": [],
   "source": [
    "!python build_model.py"
   ]
  },
  {
   "cell_type": "markdown",
   "metadata": {},
   "source": [
    "#Then run the app"
   ]
  },
  {
   "cell_type": "code",
   "execution_count": 23,
   "metadata": {
    "collapsed": false
   },
   "outputs": [
    {
     "name": "stdout",
     "output_type": "stream",
     "text": [
      "Overwriting solarApp.py\n"
     ]
    }
   ],
   "source": [
    "%%writefile solarApp.py\n",
    "from flask import Flask\n",
    "from flask import request\n",
    "app = Flask(__name__)\n",
    "from flask import render_template\n",
    "\n",
    "# Form page to submit text\n",
    "#============================================\n",
    "# create page with a form on it\n",
    "@app.route('/', methods=['POST','GET'])\n",
    "def submission_page():\n",
    "    return render_template('template.html')\n",
    "\n",
    "@app.route('/about')\n",
    "def about_page():\n",
    "    return render_template('about.html')\n",
    "\n",
    "@app.route('/word_counter', methods=['POST','GET'] )\n",
    "def word_counter():\n",
    "\n",
    "    # get data from request form, the key is the name you set in your form\n",
    "    \n",
    "    panel_type_data = request.form['panel_type']\n",
    "    number_panels_data = int(request.form['number_panels'])\n",
    "    month_data = int(request.form['month'])\n",
    "    day_data = int(request.form['day'])\n",
    "    hour_data = int(request.form['hour'])\n",
    "    \n",
    "    if panel_type_data == 'Solyndra':\n",
    "        predicted_power = 0\n",
    "    else:\n",
    "        predicted_power = number_panels_data * 180.0\n",
    "\n",
    "    from datetime import datetime,timedelta, time\n",
    "    import pandas as pd\n",
    "    import numpy as np\n",
    "    import matplotlib.pyplot as plt\n",
    "    from data_helper_functions_webapp import find_filename, return_satellite_data\n",
    "\n",
    "    desired_channel = 'BAND_01'\n",
    "    desired_date = datetime(2014, month_data, day_data)\n",
    "    desired_timedelta = timedelta(hours = hour_data)\n",
    "    desired_datetime = desired_date + desired_timedelta\n",
    "    satellite_filefolder = '../../data/satellite/colorado/summer6months/data/'\n",
    "    sensor_filefolder = '../../data/sensor_data/colorado6months/'\n",
    "    pvoutput_filefolder = '../../data/pvoutput/pvoutput6months/'\n",
    "\n",
    "    #satellite data\n",
    "    satellite_filename = find_filename(desired_datetime, desired_channel, satellite_filefolder)\n",
    "    lons, lats, data = return_satellite_data(satellite_filename, satellite_filefolder)\n",
    "\n",
    "    plt.figure(figsize=(8, 8))\n",
    "    imgplot = plt.imshow(data)\n",
    "    imgplot.set_interpolation('none')\n",
    "    plt.savefig('static/images/foo.png', bbox_inches='tight')\n",
    "\n",
    "    return render_template('template2.html', panel_type_data=panel_type_data, \n",
    "                           number_panels_data=number_panels_data, month_data=month_data, \n",
    "                           day_data=day_data, hour_data=hour_data, \n",
    "                           predicted_power=predicted_power)\n",
    "\n",
    "if __name__ == '__main__':\n",
    "    app.run(host='0.0.0.0', port=5000, debug=True)"
   ]
  },
  {
   "cell_type": "code",
   "execution_count": null,
   "metadata": {
    "collapsed": false
   },
   "outputs": [
    {
     "name": "stdout",
     "output_type": "stream",
     "text": [
      " * Running on http://0.0.0.0:5000/ (Press CTRL+C to quit)\n",
      " * Restarting with stat\n",
      "127.0.0.1 - - [14/Aug/2015 15:01:59] \"GET / HTTP/1.1\" 200 -\n",
      "127.0.0.1 - - [14/Aug/2015 15:01:59] \"GET /dist/js/bootstrap.min.js HTTP/1.1\" 404 -\n",
      "127.0.0.1 - - [14/Aug/2015 15:01:59] \"GET /assets/js/ie10-viewport-bug-workaround.js HTTP/1.1\" 404 -\n",
      "127.0.0.1 - - [14/Aug/2015 15:02:19] \"POST /word_counter HTTP/1.1\" 200 -\n",
      "127.0.0.1 - - [14/Aug/2015 15:02:26] \"POST /word_counter HTTP/1.1\" 200 -\n",
      "127.0.0.1 - - [14/Aug/2015 15:02:26] \"GET /static/bootstrap-3.3.5-dist/css/bootstrap.min.css HTTP/1.1\" 304 -\n",
      "127.0.0.1 - - [14/Aug/2015 15:02:26] \"GET /static/bootstrap-3.3.5-dist/css/bootstrap-theme.min.css HTTP/1.1\" 304 -\n",
      "127.0.0.1 - - [14/Aug/2015 15:02:26] \"GET /static/bootstrap-3.3.5-dist/js/bootstrap.min.js HTTP/1.1\" 304 -\n",
      "127.0.0.1 - - [14/Aug/2015 15:02:26] \"GET /static/images/foo.png HTTP/1.1\" 200 -\n"
     ]
    }
   ],
   "source": [
    "!python solarApp.py"
   ]
  },
  {
   "cell_type": "code",
   "execution_count": null,
   "metadata": {
    "collapsed": true
   },
   "outputs": [],
   "source": []
  }
 ],
 "metadata": {
  "kernelspec": {
   "display_name": "Python 2",
   "language": "python",
   "name": "python2"
  },
  "language_info": {
   "codemirror_mode": {
    "name": "ipython",
    "version": 2
   },
   "file_extension": ".py",
   "mimetype": "text/x-python",
   "name": "python",
   "nbconvert_exporter": "python",
   "pygments_lexer": "ipython2",
   "version": "2.7.10"
  }
 },
 "nbformat": 4,
 "nbformat_minor": 0
}
