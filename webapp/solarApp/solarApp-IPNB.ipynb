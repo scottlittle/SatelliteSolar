{
 "cells": [
  {
   "cell_type": "markdown",
   "metadata": {},
   "source": [
    "#Flask App"
   ]
  },
  {
   "cell_type": "code",
   "execution_count": 1,
   "metadata": {
    "collapsed": false
   },
   "outputs": [
    {
     "name": "stdout",
     "output_type": "stream",
     "text": [
      "Overwriting solarApp.py\n"
     ]
    }
   ],
   "source": [
    "%%writefile solarApp.py\n",
    "from flask import Flask\n",
    "from flask import request\n",
    "app = Flask(__name__)\n",
    "from flask import render_template\n",
    "from solarApp_helper_functions import return_power\n",
    "\n",
    "@app.route('/', methods=['POST','GET'])\n",
    "def submission_page():\n",
    "    return render_template('template.html')\n",
    "\n",
    "@app.route('/about')\n",
    "def about_page():\n",
    "    return render_template('about.html')\n",
    "\n",
    "@app.route('/output', methods=['POST','GET'] )\n",
    "def output():\n",
    "    \n",
    "    #form data\n",
    "    panel_type_data = request.form['panel_type']\n",
    "    number_panels_data = int(request.form['number_panels'])\n",
    "    month_data = int(request.form['month'])\n",
    "    day_data = int(request.form['day'])\n",
    "    hour_data = int(request.form['hour'])\n",
    "    \n",
    "    #pred power calculation and getting satellite image into foo.png\n",
    "    predicted_power = return_power(month_data, day_data, hour_data) / 66.0 * number_panels_data\n",
    "    \n",
    "    return render_template('output.html', panel_type_data=panel_type_data, \n",
    "                           number_panels_data=number_panels_data, month_data=month_data, \n",
    "                           day_data=day_data, hour_data=hour_data, \n",
    "                           predicted_power=int(predicted_power))\n",
    "\n",
    "if __name__ == '__main__':\n",
    "    app.run(host='0.0.0.0', port=80, debug=False)"
   ]
  },
  {
   "cell_type": "code",
   "execution_count": null,
   "metadata": {
    "collapsed": false
   },
   "outputs": [
    {
     "name": "stdout",
     "output_type": "stream",
     "text": [
      " * Running on http://0.0.0.0:80/ (Press CTRL+C to quit)\n",
      " * Restarting with stat\n",
      "128.177.113.106 - - [19/Aug/2015 03:31:26] \"GET / HTTP/1.1\" 200 -\n",
      "128.177.113.106 - - [19/Aug/2015 03:31:26] \"GET /static/bootstrap-3.3.5-dist/css/bootstrap.min.css HTTP/1.1\" 304 -\n",
      "128.177.113.106 - - [19/Aug/2015 03:31:26] \"GET /static/bootstrap-3.3.5-dist/css/bootstrap-theme.min.css HTTP/1.1\" 304 -\n",
      "128.177.113.106 - - [19/Aug/2015 03:31:26] \"GET /static/bootstrap-3.3.5-dist/js/bootstrap.min.js HTTP/1.1\" 304 -\n",
      "128.177.113.106 - - [19/Aug/2015 03:31:26] \"GET /dist/js/bootstrap.min.js HTTP/1.1\" 404 -\n",
      "128.177.113.106 - - [19/Aug/2015 03:31:26] \"GET /assets/js/ie10-viewport-bug-workaround.js HTTP/1.1\" 404 -\n",
      "/home/ubuntu/anaconda/lib/python2.7/site-packages/scipy/ndimage/interpolation.py:549: UserWarning: From scipy 0.13.0, the output shape of zoom() is calculated with round() instead of int() - for these inputs the size of the returned array has changed.\n",
      "  \"the returned array has changed.\", UserWarning)\n",
      "128.177.113.106 - - [19/Aug/2015 03:31:48] \"POST /output HTTP/1.1\" 200 -\n"
     ]
    }
   ],
   "source": [
    "#!python solarApp.py\n",
    "!sudo -E python solarApp.py"
   ]
  },
  {
   "cell_type": "code",
   "execution_count": null,
   "metadata": {
    "collapsed": true
   },
   "outputs": [],
   "source": []
  },
  {
   "cell_type": "markdown",
   "metadata": {},
   "source": [
    "#Build a model"
   ]
  },
  {
   "cell_type": "code",
   "execution_count": null,
   "metadata": {
    "collapsed": false
   },
   "outputs": [],
   "source": [
    "from __future__ import division\n",
    "from scipy.ndimage import zoom\n",
    "from random import randint\n",
    "import numpy as np\n",
    "import matplotlib.pyplot as plt\n",
    "import pandas as pd\n",
    "from datetime import datetime, timedelta, time\n",
    "from data_helper_functions_webapp import *\n",
    "from time import sleep\n",
    "\n",
    "month_data, day_data, hour_data = (4,5,19)\n",
    "'''Input: datetime\n",
    "Output: power\n",
    "Info: also makes satellite image'''\n",
    "\n",
    "######### Satellite image ###############\n",
    "# get sat image first, so it may be redered by computation is done\n",
    "desired_channel = 'BAND_01'\n",
    "desired_date = datetime(2014, month_data, day_data)\n",
    "desired_timedelta = timedelta(hours = hour_data)\n",
    "desired_datetime = desired_date + desired_timedelta\n",
    "satellite_filefolder = '../../data/satellite/colorado/summer6months/data/'\n",
    "sensor_filefolder = '../../data/sensor_data/colorado6months/'\n",
    "pvoutput_filefolder = '../../data/pvoutput/pvoutput6months/'\n",
    "\n",
    "#satellite data\n",
    "satellite_filename = find_filename(desired_datetime, desired_channel, satellite_filefolder)\n",
    "lons, lats, data = return_satellite_data(satellite_filename, satellite_filefolder)\n",
    "\n",
    "plt.figure(figsize=(8, 8))\n",
    "imgplot = plt.imshow(data)\n",
    "imgplot.set_interpolation('none')\n",
    "plt.savefig('static/images/foo.png', bbox_inches='tight') # save sat image to foo.png\n",
    "\n",
    "############## Model for satellite to sensor ############################\n",
    "\n",
    "X = [] #sat data\n",
    "Y = [] #sensor data\n",
    "\n",
    "desired_date = (desired_datetime - timedelta(hours=6)).date() #make sure correct date\n",
    "desired_date = datetime.combine(desired_date, time.min) #get into datetime format\n",
    "\n",
    "desired_channel = 'BAND_01' #problems with an inner for loop (doesn't look good, but works)\n",
    "satellite_filename = find_filename(desired_datetime, desired_channel, satellite_filefolder)\n",
    "lons, lats, data1 = return_satellite_data(satellite_filename, satellite_filefolder)\n",
    "\n",
    "desired_channel = 'BAND_02'\n",
    "satellite_filename = find_filename(desired_datetime, desired_channel, satellite_filefolder)\n",
    "lons, lats, data2 = return_satellite_data(satellite_filename, satellite_filefolder)\n",
    "\n",
    "desired_channel = 'BAND_03'\n",
    "satellite_filename = find_filename(desired_datetime, desired_channel, satellite_filefolder)\n",
    "lons, lats, data3 = return_satellite_data(satellite_filename, satellite_filefolder)               \n",
    "\n",
    "desired_channel = 'BAND_04'\n",
    "satellite_filename = find_filename(desired_datetime, desired_channel, satellite_filefolder)\n",
    "lons, lats, data4 = return_satellite_data(satellite_filename, satellite_filefolder)\n",
    "\n",
    "desired_channel = 'BAND_06'\n",
    "satellite_filename = find_filename(desired_datetime, desired_channel, satellite_filefolder)\n",
    "lons, lats, data5 = return_satellite_data(satellite_filename, satellite_filefolder)\n",
    "\n",
    "sensor_filename = find_file_from_date(desired_date, sensor_filefolder)\n",
    "df_sensor = return_sensor_data(sensor_filename, sensor_filefolder).ix[:,-15:-1]\n",
    "df_sensor[df_sensor.index == desired_datetime]\n",
    "\n",
    "Y.append(df_sensor[df_sensor.index == desired_datetime].values[0])\n",
    "X.append(np.hstack( ( np.ravel(data1) , np.ravel(data2), np.ravel(data3) , np.ravel(data4), np.ravel(data5) ) ) )\n",
    "\n",
    "X,Y = (np.array(X),np.array(Y))\n",
    "\n",
    "####################### Make sat data useful ####################\n",
    "X_ratio_1_2 = []\n",
    "for i in xrange(X.shape[0]): #a little awkward since X is only one row, but no need to change\n",
    "    CH1 = zoom(X[:,0:1972][i].reshape((29,68)),zoom=(0.48, 0.53), order=5)\n",
    "    CH2 = X[:,1972:2476][i].reshape((14,36))\n",
    "    X_ratio_1_2.append(25000* (CH2)  / (CH1 + CH2+1.0) )\n",
    "X_ratio_1_2 = np.array(X_ratio_1_2)\n",
    "\n",
    "X_ratio_1_6 = []\n",
    "for i in xrange(X.shape[0]):\n",
    "    CH1 = zoom(X[:,0:1972][i].reshape((29,68)),zoom=(0.48, 0.53), order=5)\n",
    "    CH6 = X[:,3484:3988][i].reshape((14,36))\n",
    "    X_ratio_1_6.append(25000* CH6 / (CH1 + CH6 + 0.1) )\n",
    "X_ratio_1_6 = np.array(X_ratio_1_6)\n",
    "\n",
    "X_ratio_2_6 = []\n",
    "for i in xrange(X.shape[0]):\n",
    "    CH2 = X[:,1972:2476][i].reshape((14,36))\n",
    "    CH6 = X[:,3484:3988][i].reshape((14,36))\n",
    "    X_ratio_2_6.append(25000* CH6 / (CH2 + CH6 + 0.1) )\n",
    "X_ratio_2_6 = np.array(X_ratio_2_6)\n",
    "\n",
    "######## change X into histogram #############\n",
    "X_hist = []\n",
    "bins = 25\n",
    "for i in xrange(X.shape[0]):\n",
    "    myval1 = pd.DataFrame(np.ravel(X_ratio_1_2[i])).fillna(np.mean).values.flatten();\n",
    "    myval2 = pd.DataFrame(np.ravel(X_ratio_1_6[i])).fillna(np.mean).values.flatten();\n",
    "    myval3 = pd.DataFrame(np.ravel(X_ratio_2_6[i])).fillna(np.mean).values.flatten();\n",
    "\n",
    "    hist1, _ = np.histogram(X[:,0:1972][i], density=True, bins=bins, range=(0,25000))\n",
    "    hist2, _ = np.histogram(X[:,1972:2476][i], density=True, bins=bins, range=(0,25000))\n",
    "    hist3, _ = np.histogram(X[:,2476:2980][i], density=True, bins=bins, range=(0,25000))\n",
    "    hist4, _ = np.histogram(X[:,2980:3484][i], density=True, bins=bins, range=(0,25000))\n",
    "    hist5, _ = np.histogram(X[:,3484:3988][i], density=True, bins=bins, range=(0,25000))\n",
    "    hist6, _ = np.histogram( myval1 , density=True, bins=bins, range=(0,25000) )\n",
    "    hist7, _ = np.histogram( myval2 , density=True, bins=bins, range=(0,25000))\n",
    "    hist8, _ = np.histogram( myval3, density=True, bins=bins, range=(0,25000))\n",
    "    X_hist.append(np.hstack((hist1,hist2,hist3,hist4,hist5,hist6,hist7,hist8)))\n",
    "\n",
    "X_hist = np.array(X_hist)\n",
    "\n",
    "#################### Import models #######################\n",
    "\n",
    "from sklearn.externals import joblib #joblib is sklearn's pickle\n",
    "sat_to_sensor_model = joblib.load('models/sat-to-sensor-model/sat-to-sensor-model.pkl')\n",
    "sensor_to_power_mod = joblib.load('models/sensor-to-power-model/sensor-to-power-model.pkl')\n",
    "\n",
    "X_sensor = sat_to_sensor_model.predict(X_hist)\n",
    "y_power = sensor_to_power_mod.predict(X_sensor)\n",
    "\n",
    "print y_power[0]"
   ]
  },
  {
   "cell_type": "code",
   "execution_count": 111,
   "metadata": {
    "collapsed": true
   },
   "outputs": [],
   "source": [
    "from time import sleep\n",
    "sleep(1)"
   ]
  },
  {
   "cell_type": "code",
   "execution_count": null,
   "metadata": {
    "collapsed": true
   },
   "outputs": [],
   "source": []
  }
 ],
 "metadata": {
  "kernelspec": {
   "display_name": "Python 2",
   "language": "python",
   "name": "python2"
  },
  "language_info": {
   "codemirror_mode": {
    "name": "ipython",
    "version": 2
   },
   "file_extension": ".py",
   "mimetype": "text/x-python",
   "name": "python",
   "nbconvert_exporter": "python",
   "pygments_lexer": "ipython2",
   "version": "2.7.10"
  }
 },
 "nbformat": 4,
 "nbformat_minor": 0
}
