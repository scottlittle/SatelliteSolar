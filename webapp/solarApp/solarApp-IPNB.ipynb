{
 "cells": [
  {
   "cell_type": "markdown",
   "metadata": {},
   "source": [
    "#Build a model"
   ]
  },
  {
   "cell_type": "code",
   "execution_count": 5,
   "metadata": {
    "collapsed": false
   },
   "outputs": [
    {
     "name": "stdout",
     "output_type": "stream",
     "text": [
      "Overwriting build_model.py\n"
     ]
    }
   ],
   "source": [
    "%%writefile build_model.py\n",
    "import pandas as pd\n",
    "import matplotlib.pyplot as plt\n",
    "import numpy as np\n",
    "\n"
   ]
  },
  {
   "cell_type": "code",
   "execution_count": 6,
   "metadata": {
    "collapsed": false
   },
   "outputs": [],
   "source": [
    "!python build_model.py"
   ]
  },
  {
   "cell_type": "markdown",
   "metadata": {},
   "source": [
    "#Then run the app"
   ]
  },
  {
   "cell_type": "code",
   "execution_count": 59,
   "metadata": {
    "collapsed": false
   },
   "outputs": [
    {
     "name": "stdout",
     "output_type": "stream",
     "text": [
      "Overwriting solarApp.py\n"
     ]
    }
   ],
   "source": [
    "%%writefile solarApp.py\n",
    "from flask import Flask\n",
    "from flask import request\n",
    "app = Flask(__name__)\n",
    "from flask import render_template\n",
    "\n",
    "# Form page to submit text\n",
    "#============================================\n",
    "# create page with a form on it\n",
    "@app.route('/', methods=['POST','GET'])\n",
    "def submission_page():\n",
    "    return render_template('template.html')\n",
    "\n",
    "@app.route('/about')\n",
    "def about_page():\n",
    "    return render_template('about.html')\n",
    "\n",
    "@app.route('/word_counter', methods=['POST','GET'] )\n",
    "def word_counter():\n",
    "\n",
    "    # get data from request form, the key is the name you set in your form\n",
    "    panel_type_data = request.form['panel_type']\n",
    "    number_panels_data = request.form['number_panels']\n",
    "    number_panels_data = int(number_panels_data)\n",
    "    \n",
    "    return render_template('template2.html', panel_type_data=panel_type_data, \n",
    "                           number_panels_data=number_panels_data)\n",
    "\n",
    "if __name__ == '__main__':\n",
    "    app.run(host='0.0.0.0', port=5000, debug=True)"
   ]
  },
  {
   "cell_type": "code",
   "execution_count": null,
   "metadata": {
    "collapsed": false
   },
   "outputs": [
    {
     "name": "stdout",
     "output_type": "stream",
     "text": [
      " * Running on http://0.0.0.0:5000/ (Press CTRL+C to quit)\n",
      " * Restarting with stat\n",
      "127.0.0.1 - - [13/Aug/2015 17:08:29] \"GET / HTTP/1.1\" 200 -\n",
      "127.0.0.1 - - [13/Aug/2015 17:08:29] \"GET /dist/js/bootstrap.min.js HTTP/1.1\" 404 -\n",
      "127.0.0.1 - - [13/Aug/2015 17:08:29] \"GET /assets/js/ie10-viewport-bug-workaround.js HTTP/1.1\" 404 -\n",
      "127.0.0.1 - - [13/Aug/2015 17:08:34] \"POST /word_counter HTTP/1.1\" 200 -\n",
      "127.0.0.1 - - [13/Aug/2015 17:08:34] \"GET /dist/js/bootstrap.min.js HTTP/1.1\" 404 -\n",
      "127.0.0.1 - - [13/Aug/2015 17:08:34] \"GET /assets/js/ie10-viewport-bug-workaround.js HTTP/1.1\" 404 -\n",
      "127.0.0.1 - - [13/Aug/2015 17:09:23] \"GET / HTTP/1.1\" 200 -\n",
      "127.0.0.1 - - [13/Aug/2015 17:09:23] \"GET /static/bootstrap-3.3.5-dist/css/bootstrap.min.css HTTP/1.1\" 304 -\n",
      "127.0.0.1 - - [13/Aug/2015 17:09:23] \"GET /static/bootstrap-3.3.5-dist/css/bootstrap-theme.min.css HTTP/1.1\" 304 -\n",
      "127.0.0.1 - - [13/Aug/2015 17:09:23] \"GET /static/bootstrap-3.3.5-dist/js/bootstrap.min.js HTTP/1.1\" 304 -\n",
      "127.0.0.1 - - [13/Aug/2015 17:09:23] \"GET /dist/js/bootstrap.min.js HTTP/1.1\" 404 -\n",
      "127.0.0.1 - - [13/Aug/2015 17:09:23] \"GET /assets/js/ie10-viewport-bug-workaround.js HTTP/1.1\" 404 -\n",
      "127.0.0.1 - - [13/Aug/2015 17:09:26] \"POST /word_counter HTTP/1.1\" 200 -\n",
      "127.0.0.1 - - [13/Aug/2015 17:09:26] \"GET /dist/js/bootstrap.min.js HTTP/1.1\" 404 -\n",
      "127.0.0.1 - - [13/Aug/2015 17:09:26] \"GET /assets/js/ie10-viewport-bug-workaround.js HTTP/1.1\" 404 -\n"
     ]
    }
   ],
   "source": [
    "!python solarApp.py"
   ]
  },
  {
   "cell_type": "code",
   "execution_count": null,
   "metadata": {
    "collapsed": true
   },
   "outputs": [],
   "source": []
  }
 ],
 "metadata": {
  "kernelspec": {
   "display_name": "Python 2",
   "language": "python",
   "name": "python2"
  },
  "language_info": {
   "codemirror_mode": {
    "name": "ipython",
    "version": 2
   },
   "file_extension": ".py",
   "mimetype": "text/x-python",
   "name": "python",
   "nbconvert_exporter": "python",
   "pygments_lexer": "ipython2",
   "version": "2.7.10"
  }
 },
 "nbformat": 4,
 "nbformat_minor": 0
}
