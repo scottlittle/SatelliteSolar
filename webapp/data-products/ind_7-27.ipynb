{
 "cells": [
  {
   "cell_type": "markdown",
   "metadata": {},
   "source": [
    "# How to build a text classifier web app.  \n",
    "Today we are going to train a model, build a web interface that allows people to submit data, send that data to our model, make a prediction on it, then return the results.\n",
    "\n",
    "##### This is how your app directory should look.  \n",
    "```\n",
    "MyProject/\n",
    "|-- my_app/\n",
    "|   |-- the_app.py\n",
    "|   |-- build_model.py\n",
    "|   |-- data\n",
    "|   |   |-- my_data.csv\n",
    "|   |   |-- my_model.pkl\n",
    "|   |   |-- my_vectorizer.pkl\n",
    "```"
   ]
  },
  {
   "cell_type": "markdown",
   "metadata": {},
   "source": [
    "<br>\n",
    "## Step 1: Build your model\n",
    "Step 1 should take about *30min–60min*  \n",
    "\n",
    "'1.  Build ANY text classifier model and place it into the **build_model.py** python file.  \n",
    "'2.  Pickle and export your trained model and vectorizer into your data folder.  \n",
    "'3. *See below if you want a step by step guide for this*"
   ]
  },
  {
   "cell_type": "code",
   "execution_count": 77,
   "metadata": {
    "collapsed": false
   },
   "outputs": [
    {
     "name": "stdout",
     "output_type": "stream",
     "text": [
      "Overwriting mornApp/build_model.py\n"
     ]
    }
   ],
   "source": [
    "%%writefile mornApp/build_model.py\n",
    "import pandas as pd\n",
    "import matplotlib.pyplot as plt\n",
    "import numpy as np\n",
    "\n",
    "categories = ['alt.atheism', 'soc.religion.christian', 'comp.graphics', 'sci.med']\n",
    "from sklearn.datasets import fetch_20newsgroups\n",
    "twenty_train = fetch_20newsgroups(subset='train',categories=categories, shuffle=True, random_state=42)\n",
    "\n",
    "from sklearn.feature_extraction.text import CountVectorizer\n",
    "count_vect = CountVectorizer()\n",
    "X_train_counts = count_vect.fit_transform(twenty_train.data)\n",
    "\n",
    "from sklearn.feature_extraction.text import TfidfTransformer\n",
    "tf_transformer = TfidfTransformer(use_idf=False).fit(X_train_counts)\n",
    "X_train_tf = tf_transformer.transform(X_train_counts)\n",
    "\n",
    "tfidf_transformer = TfidfTransformer()\n",
    "X_train_tfidf = tfidf_transformer.fit_transform(X_train_counts)\n",
    "\n",
    "from sklearn.naive_bayes import MultinomialNB\n",
    "clf = MultinomialNB().fit(X_train_tfidf, twenty_train.target)\n",
    "\n",
    "import pickle\n",
    "pickle.dump(count_vect, open( \"mornApp/data/my_vectorizer.pkl\", \"wb\" ))\n",
    "pickle.dump(clf, open( \"mornApp/data/my_model.pkl\", \"wb\" ))\n",
    "pickle.dump(tfidf_transformer, open( \"mornApp/data/my_transformer.pkl\", \"wb\" ))\n",
    "clf2 = pickle.load(open( \"mornApp/data/my_model.pkl\", \"rb\" ) )\n",
    "count_vect2 = pickle.load(open( \"mornApp/data/my_vectorizer.pkl\", \"rb\" ) )\n",
    "\n",
    "docs_new = ['God is love', 'OpenGL on the GPU is fast']\n",
    "X_new_counts = count_vect2.transform(docs_new)\n",
    "X_new_tfidf = tfidf_transformer.transform(X_new_counts)\n",
    "\n",
    "predicted = clf2.predict(X_new_tfidf)"
   ]
  },
  {
   "cell_type": "code",
   "execution_count": 78,
   "metadata": {
    "collapsed": false
   },
   "outputs": [],
   "source": [
    "!python mornApp/build_model.py"
   ]
  },
  {
   "cell_type": "markdown",
   "metadata": {},
   "source": [
    "<br>\n",
    "## Step 2:  Build your site\n",
    "Step 2 should take anywhere from 30min–120min  \n",
    "'1.  Create an the_app.py file in your my_app folder  \n",
    "\n",
    "```\n",
    "MyProject/\n",
    "|-- my_app/pytho\n",
    "|   |-- **the_app.py**\n",
    "|   |-- build_model.py\n",
    "|   |-- data\n",
    "|   |   |-- my_data.csv\n",
    "|   |   |-- my_model.pkl\n",
    "|   |   |-- my_vectorizer.pkl\n",
    "```\n",
    "\n",
    "'1.  Build a simple web homepage using flask.\n",
    "'2.  Once you have setup a working homepage...\n",
    "'3.  Build a submission_page that has an html form for the user to submit new text data.\n",
    "'4.  Build a predict_page that processes the user submitted form data, and returns the result of your prediction.  \n",
    "\n",
    "\n",
    "---"
   ]
  },
  {
   "cell_type": "markdown",
   "metadata": {},
   "source": [
    "### Step 1:  Step by step\n",
    "\n",
    "'1. Use the `articles.csv` file in the data folder to create a text classifier."
   ]
  },
  {
   "cell_type": "code",
   "execution_count": 1,
   "metadata": {
    "collapsed": false
   },
   "outputs": [
    {
     "name": "stdout",
     "output_type": "stream",
     "text": [
      "Overwriting mornApp/mornApp.py\n"
     ]
    }
   ],
   "source": [
    "%%writefile mornApp/mornApp.py\n",
    "from flask import Flask\n",
    "from flask import request\n",
    "app = Flask(__name__)\n",
    "from flask import render_template\n",
    "\n",
    "# Form page to submit text\n",
    "#============================================\n",
    "# create page with a form on it\n",
    "@app.route('/')\n",
    "def submission_page():\n",
    "    #content = 'hello'\n",
    "    return render_template('template.html')\n",
    "\n",
    "@app.route('/about')\n",
    "def about_page():\n",
    "    #content = 'hello'\n",
    "    return render_template('about.html')\n",
    "\n",
    "    '''\n",
    "    '''\n",
    "# <form action=\"/word_counter\" method='POST' >\n",
    "#         <input type=\"text\" name=\"user_input\" />\n",
    "#         <input type=\"submit\" />\n",
    "#     </form>\n",
    "# My word counter app\n",
    "#==============================================\n",
    "# create the page the form goes to\n",
    "@app.route('/word_counter', methods=['POST','GET'] )\n",
    "def word_counter():\n",
    "#     if request.method == 'POST':\n",
    "#         return ''\n",
    "    # get data from request form, the key is the name you set in your form\n",
    "    data = request.form['user_input']\n",
    "\n",
    "    # convert data to list\n",
    "    data = [data]\n",
    "\n",
    "    import pickle\n",
    "    import pandas as pd\n",
    "    import matplotlib.pyplot as plt\n",
    "    import numpy as np\n",
    "    from sklearn.feature_extraction.text import CountVectorizer\n",
    "    from sklearn.feature_extraction.text import TfidfTransformer\n",
    "    from sklearn.naive_bayes import MultinomialNB\n",
    "    \n",
    "    clf2 = pickle.load(open( \"mornApp/data/my_model.pkl\", \"rb\" ) )\n",
    "    count_vect2 = pickle.load(open( \"mornApp/data/my_vectorizer.pkl\", \"rb\" ) )\n",
    "    tfidf_transformer2 = pickle.load(open ( \"mornApp/data/my_transformer.pkl\", \"rb\" ))\n",
    "\n",
    "    #process new data\n",
    "    X_new_counts = count_vect2.transform(data)\n",
    "    X_new_tfidf = tfidf_transformer2.transform(X_new_counts)\n",
    "    predicted = clf2.predict(X_new_tfidf)\n",
    "    \n",
    "    #output the category that the text is in\n",
    "    categories = ['alt.atheism', 'comp.graphics', 'sci.med', 'soc.religion.christian']\n",
    "    for doc, category in zip(data, predicted):\n",
    "        #return('%r => %s' % (doc, categories[category]))\n",
    "        return render_template('template2.html', doc=doc, category=categories[category])\n",
    "\n",
    "if __name__ == '__main__':\n",
    "    app.run(host='0.0.0.0', port=8087, debug=True)"
   ]
  },
  {
   "cell_type": "code",
   "execution_count": null,
   "metadata": {
    "collapsed": false
   },
   "outputs": [
    {
     "name": "stdout",
     "output_type": "stream",
     "text": [
      " * Running on http://0.0.0.0:8087/ (Press CTRL+C to quit)\n",
      " * Restarting with stat\n",
      "127.0.0.1 - - [27/Jul/2015 22:05:28] \"GET / HTTP/1.1\" 200 -\n",
      "127.0.0.1 - - [27/Jul/2015 22:05:28] \"GET /dist/js/bootstrap.min.js HTTP/1.1\" 404 -\n",
      "127.0.0.1 - - [27/Jul/2015 22:05:28] \"GET /assets/js/ie10-viewport-bug-workaround.js HTTP/1.1\" 404 -\n",
      "127.0.0.1 - - [27/Jul/2015 22:05:28] \"GET /favicon.ico HTTP/1.1\" 404 -\n",
      "127.0.0.1 - - [27/Jul/2015 22:05:45] \"POST /word_counter HTTP/1.1\" 200 -\n",
      "127.0.0.1 - - [27/Jul/2015 22:05:45] \"GET /assets/js/ie10-viewport-bug-workaround.js HTTP/1.1\" 404 -\n",
      "127.0.0.1 - - [27/Jul/2015 22:05:45] \"GET /dist/js/bootstrap.min.js HTTP/1.1\" 404 -\n",
      "127.0.0.1 - - [27/Jul/2015 22:05:53] \"POST /word_counter HTTP/1.1\" 200 -\n",
      "127.0.0.1 - - [27/Jul/2015 22:05:53] \"GET /dist/js/bootstrap.min.js HTTP/1.1\" 404 -\n",
      "127.0.0.1 - - [27/Jul/2015 22:05:53] \"GET /assets/js/ie10-viewport-bug-workaround.js HTTP/1.1\" 404 -\n",
      "127.0.0.1 - - [27/Jul/2015 22:05:57] \"GET /about HTTP/1.1\" 200 -\n",
      "127.0.0.1 - - [27/Jul/2015 22:05:57] \"GET /dist/js/bootstrap.min.js HTTP/1.1\" 404 -\n",
      "127.0.0.1 - - [27/Jul/2015 22:05:57] \"GET /assets/js/ie10-viewport-bug-workaround.js HTTP/1.1\" 404 -\n",
      "127.0.0.1 - - [27/Jul/2015 22:05:58] \"GET / HTTP/1.1\" 200 -\n",
      "127.0.0.1 - - [27/Jul/2015 22:05:58] \"GET /dist/js/bootstrap.min.js HTTP/1.1\" 404 -\n",
      "127.0.0.1 - - [27/Jul/2015 22:05:58] \"GET /assets/js/ie10-viewport-bug-workaround.js HTTP/1.1\" 404 -\n",
      "127.0.0.1 - - [27/Jul/2015 22:06:07] \"POST /word_counter HTTP/1.1\" 200 -\n",
      "127.0.0.1 - - [27/Jul/2015 22:06:07] \"GET /dist/js/bootstrap.min.js HTTP/1.1\" 404 -\n",
      "127.0.0.1 - - [27/Jul/2015 22:06:07] \"GET /assets/js/ie10-viewport-bug-workaround.js HTTP/1.1\" 404 -\n",
      "127.0.0.1 - - [27/Jul/2015 22:06:14] \"POST /word_counter HTTP/1.1\" 200 -\n",
      "127.0.0.1 - - [27/Jul/2015 22:06:14] \"GET /dist/js/bootstrap.min.js HTTP/1.1\" 404 -\n",
      "127.0.0.1 - - [27/Jul/2015 22:06:14] \"GET /assets/js/ie10-viewport-bug-workaround.js HTTP/1.1\" 404 -\n",
      "127.0.0.1 - - [27/Jul/2015 22:06:36] \"POST /word_counter HTTP/1.1\" 200 -\n",
      "127.0.0.1 - - [27/Jul/2015 22:06:36] \"GET /dist/js/bootstrap.min.js HTTP/1.1\" 404 -\n",
      "127.0.0.1 - - [27/Jul/2015 22:06:36] \"GET /assets/js/ie10-viewport-bug-workaround.js HTTP/1.1\" 404 -\n",
      "127.0.0.1 - - [27/Jul/2015 22:06:43] \"POST /word_counter HTTP/1.1\" 200 -\n",
      "127.0.0.1 - - [27/Jul/2015 22:06:43] \"GET /dist/js/bootstrap.min.js HTTP/1.1\" 404 -\n",
      "127.0.0.1 - - [27/Jul/2015 22:06:43] \"GET /assets/js/ie10-viewport-bug-workaround.js HTTP/1.1\" 404 -\n",
      "127.0.0.1 - - [27/Jul/2015 22:07:02] \"POST /word_counter HTTP/1.1\" 200 -\n",
      "127.0.0.1 - - [27/Jul/2015 22:07:02] \"GET /dist/js/bootstrap.min.js HTTP/1.1\" 404 -\n",
      "127.0.0.1 - - [27/Jul/2015 22:07:02] \"GET /assets/js/ie10-viewport-bug-workaround.js HTTP/1.1\" 404 -\n",
      "127.0.0.1 - - [27/Jul/2015 22:07:18] \"POST /word_counter HTTP/1.1\" 200 -\n",
      "127.0.0.1 - - [27/Jul/2015 22:07:18] \"GET /dist/js/bootstrap.min.js HTTP/1.1\" 404 -\n",
      "127.0.0.1 - - [27/Jul/2015 22:07:18] \"GET /assets/js/ie10-viewport-bug-workaround.js HTTP/1.1\" 404 -\n",
      "127.0.0.1 - - [27/Jul/2015 22:07:30] \"POST /word_counter HTTP/1.1\" 200 -\n",
      "127.0.0.1 - - [27/Jul/2015 22:07:30] \"GET /dist/js/bootstrap.min.js HTTP/1.1\" 404 -\n",
      "127.0.0.1 - - [27/Jul/2015 22:07:30] \"GET /assets/js/ie10-viewport-bug-workaround.js HTTP/1.1\" 404 -\n",
      "127.0.0.1 - - [27/Jul/2015 22:07:36] \"POST /word_counter HTTP/1.1\" 200 -\n",
      "127.0.0.1 - - [27/Jul/2015 22:07:36] \"GET /dist/js/bootstrap.min.js HTTP/1.1\" 404 -\n",
      "127.0.0.1 - - [27/Jul/2015 22:07:36] \"GET /assets/js/ie10-viewport-bug-workaround.js HTTP/1.1\" 404 -\n",
      "127.0.0.1 - - [27/Jul/2015 22:07:46] \"POST /word_counter HTTP/1.1\" 200 -\n",
      "127.0.0.1 - - [27/Jul/2015 22:07:46] \"GET /dist/js/bootstrap.min.js HTTP/1.1\" 404 -\n",
      "127.0.0.1 - - [27/Jul/2015 22:07:46] \"GET /assets/js/ie10-viewport-bug-workaround.js HTTP/1.1\" 404 -\n",
      "127.0.0.1 - - [27/Jul/2015 22:07:53] \"GET / HTTP/1.1\" 200 -\n",
      "127.0.0.1 - - [27/Jul/2015 22:07:53] \"GET /static/bootstrap-3.3.5-dist/css/bootstrap.min.css HTTP/1.1\" 304 -\n",
      "127.0.0.1 - - [27/Jul/2015 22:07:53] \"GET /dist/js/bootstrap.min.js HTTP/1.1\" 404 -\n",
      "127.0.0.1 - - [27/Jul/2015 22:07:53] \"GET /assets/js/ie10-viewport-bug-workaround.js HTTP/1.1\" 404 -\n",
      "127.0.0.1 - - [27/Jul/2015 22:07:54] \"GET / HTTP/1.1\" 200 -\n",
      "127.0.0.1 - - [27/Jul/2015 22:07:54] \"GET /dist/js/bootstrap.min.js HTTP/1.1\" 404 -\n",
      "127.0.0.1 - - [27/Jul/2015 22:07:54] \"GET /assets/js/ie10-viewport-bug-workaround.js HTTP/1.1\" 404 -\n",
      "127.0.0.1 - - [27/Jul/2015 22:08:01] \"POST /word_counter HTTP/1.1\" 200 -\n",
      "127.0.0.1 - - [27/Jul/2015 22:08:01] \"GET /dist/js/bootstrap.min.js HTTP/1.1\" 404 -\n",
      "127.0.0.1 - - [27/Jul/2015 22:08:01] \"GET /assets/js/ie10-viewport-bug-workaround.js HTTP/1.1\" 404 -\n",
      "127.0.0.1 - - [27/Jul/2015 22:08:59] \"GET /about HTTP/1.1\" 200 -\n",
      "127.0.0.1 - - [27/Jul/2015 22:08:59] \"GET /dist/js/bootstrap.min.js HTTP/1.1\" 404 -\n",
      "127.0.0.1 - - [27/Jul/2015 22:08:59] \"GET /assets/js/ie10-viewport-bug-workaround.js HTTP/1.1\" 404 -\n",
      "127.0.0.1 - - [27/Jul/2015 22:09:01] \"GET / HTTP/1.1\" 200 -\n",
      "127.0.0.1 - - [27/Jul/2015 22:09:01] \"GET /dist/js/bootstrap.min.js HTTP/1.1\" 404 -\n",
      "127.0.0.1 - - [27/Jul/2015 22:09:01] \"GET /assets/js/ie10-viewport-bug-workaround.js HTTP/1.1\" 404 -\n",
      "127.0.0.1 - - [27/Jul/2015 22:09:10] \"POST /word_counter HTTP/1.1\" 200 -\n",
      "127.0.0.1 - - [27/Jul/2015 22:09:10] \"GET /dist/js/bootstrap.min.js HTTP/1.1\" 404 -\n",
      "127.0.0.1 - - [27/Jul/2015 22:09:10] \"GET /assets/js/ie10-viewport-bug-workaround.js HTTP/1.1\" 404 -\n"
     ]
    }
   ],
   "source": [
    "!python mornApp/mornApp.py"
   ]
  },
  {
   "cell_type": "markdown",
   "metadata": {},
   "source": [
    "##below is from sklearn"
   ]
  },
  {
   "cell_type": "code",
   "execution_count": 6,
   "metadata": {
    "collapsed": false
   },
   "outputs": [],
   "source": [
    "import pandas as pd\n",
    "import matplotlib.pyplot as plt\n",
    "%matplotlib inline\n",
    "import numpy as np\n",
    "pd.set_option('display.max_columns', 999)"
   ]
  },
  {
   "cell_type": "code",
   "execution_count": 27,
   "metadata": {
    "collapsed": false
   },
   "outputs": [
    {
     "name": "stderr",
     "output_type": "stream",
     "text": [
      "WARNING:sklearn.datasets.twenty_newsgroups:Downloading dataset from http://people.csail.mit.edu/jrennie/20Newsgroups/20news-bydate.tar.gz (14 MB)\n"
     ]
    }
   ],
   "source": [
    "categories = ['alt.atheism', 'soc.religion.christian',           'comp.graphics', 'sci.med']\n",
    "from sklearn.datasets import fetch_20newsgroups\n",
    "twenty_train = fetch_20newsgroups(subset='train',categories=categories, shuffle=True, random_state=42)"
   ]
  },
  {
   "cell_type": "code",
   "execution_count": 28,
   "metadata": {
    "collapsed": false
   },
   "outputs": [
    {
     "data": {
      "text/plain": [
       "['alt.atheism', 'comp.graphics', 'sci.med', 'soc.religion.christian']"
      ]
     },
     "execution_count": 28,
     "metadata": {},
     "output_type": "execute_result"
    }
   ],
   "source": [
    "twenty_train.target_names "
   ]
  },
  {
   "cell_type": "code",
   "execution_count": 29,
   "metadata": {
    "collapsed": false
   },
   "outputs": [
    {
     "data": {
      "text/plain": [
       "(2257, 35788)"
      ]
     },
     "execution_count": 29,
     "metadata": {},
     "output_type": "execute_result"
    }
   ],
   "source": [
    "from sklearn.feature_extraction.text import CountVectorizer\n",
    "count_vect = CountVectorizer()\n",
    "X_train_counts = count_vect.fit_transform(twenty_train.data)\n",
    "X_train_counts.shape"
   ]
  },
  {
   "cell_type": "code",
   "execution_count": 30,
   "metadata": {
    "collapsed": false
   },
   "outputs": [
    {
     "data": {
      "text/plain": [
       "(2257, 35788)"
      ]
     },
     "execution_count": 30,
     "metadata": {},
     "output_type": "execute_result"
    }
   ],
   "source": [
    "from sklearn.feature_extraction.text import TfidfTransformer\n",
    "tf_transformer = TfidfTransformer(use_idf=False).fit(X_train_counts)\n",
    "X_train_tf = tf_transformer.transform(X_train_counts)\n",
    "X_train_tf.shape"
   ]
  },
  {
   "cell_type": "code",
   "execution_count": 31,
   "metadata": {
    "collapsed": false
   },
   "outputs": [
    {
     "data": {
      "text/plain": [
       "(2257, 35788)"
      ]
     },
     "execution_count": 31,
     "metadata": {},
     "output_type": "execute_result"
    }
   ],
   "source": [
    "tfidf_transformer = TfidfTransformer()\n",
    "X_train_tfidf = tfidf_transformer.fit_transform(X_train_counts)\n",
    "X_train_tfidf.shape"
   ]
  },
  {
   "cell_type": "code",
   "execution_count": 32,
   "metadata": {
    "collapsed": true
   },
   "outputs": [],
   "source": [
    "from sklearn.naive_bayes import MultinomialNB\n",
    "clf = MultinomialNB().fit(X_train_tfidf, twenty_train.target)"
   ]
  },
  {
   "cell_type": "code",
   "execution_count": 33,
   "metadata": {
    "collapsed": false
   },
   "outputs": [
    {
     "name": "stdout",
     "output_type": "stream",
     "text": [
      "'God is love' => soc.religion.christian\n",
      "'OpenGL on the GPU is fast' => comp.graphics\n"
     ]
    }
   ],
   "source": [
    "docs_new = ['God is love', 'OpenGL on the GPU is fast']\n",
    "X_new_counts = count_vect.transform(docs_new)\n",
    "X_new_tfidf = tfidf_transformer.transform(X_new_counts)\n",
    "\n",
    "predicted = clf.predict(X_new_tfidf)\n",
    "\n",
    "for doc, category in zip(docs_new, predicted):\n",
    "    print('%r => %s' % (doc, twenty_train.target_names[category]))"
   ]
  },
  {
   "cell_type": "code",
   "execution_count": 35,
   "metadata": {
    "collapsed": true
   },
   "outputs": [],
   "source": [
    "from sklearn.pipeline import Pipeline\n",
    "text_clf = Pipeline([('vect', CountVectorizer()),\n",
    "                      ('tfidf', TfidfTransformer()),\n",
    "                      ('clf', MultinomialNB()),\n",
    "])\n",
    "text_clf = text_clf.fit(twenty_train.data, twenty_train.target)"
   ]
  },
  {
   "cell_type": "code",
   "execution_count": 38,
   "metadata": {
    "collapsed": false
   },
   "outputs": [
    {
     "name": "stdout",
     "output_type": "stream",
     "text": [
      "'God is love' => soc.religion.christian\n",
      "'OpenGL on the GPU is fast' => comp.graphics\n"
     ]
    }
   ],
   "source": [
    "import pickle\n",
    "vectorizer_pickle = pickle.dumps(count_vect)\n",
    "model_pickle = pickle.dumps(clf)\n",
    "clf2 = pickle.loads(model_pickle)\n",
    "count_vect2 = pickle.loads(vectorizer_pickle)\n",
    "\n",
    "docs_new = ['God is love', 'OpenGL on the GPU is fast']\n",
    "X_new_counts = count_vect2.transform(docs_new)\n",
    "X_new_tfidf = tfidf_transformer.transform(X_new_counts)\n",
    "\n",
    "predicted = clf2.predict(X_new_tfidf)\n",
    "\n",
    "for doc, category in zip(docs_new, predicted):\n",
    "    print('%r => %s' % (doc, twenty_train.target_names[category]))"
   ]
  },
  {
   "cell_type": "markdown",
   "metadata": {},
   "source": [
    "'2. Set your text data column to `X`.\n",
    "\n",
    "'3. Set your label data column to `y`.\n",
    "\n",
    "'4. Initialize a multinomial naive bayes classifier.  \n",
    "\n",
    "'5. Initialize a TFIDF vectorizer.\n",
    "\n",
    "'6. With your TFIDF vectorizer, fit and transform your `X` text data. Name the output `vectorized_X`\n",
    ".\n",
    "'7.  Initialize your MultinomialNB model\n",
    "```clf = MultinomialNB()```\n",
    "\n",
    "'8.  Fit your model with the `transformed_X` data, and the `y` labels.  \n",
    "\n",
    "'9.  Export your fitted model using pickle.\n",
    "\n",
    "'10.  Export your fitted vectorizer using pickle.\n",
    "\n",
    "'9.  Take a break.\n",
    "---"
   ]
  }
 ],
 "metadata": {
  "kernelspec": {
   "display_name": "Python 2",
   "language": "python",
   "name": "python2"
  },
  "language_info": {
   "codemirror_mode": {
    "name": "ipython",
    "version": 2
   },
   "file_extension": ".py",
   "mimetype": "text/x-python",
   "name": "python",
   "nbconvert_exporter": "python",
   "pygments_lexer": "ipython2",
   "version": "2.7.10"
  }
 },
 "nbformat": 4,
 "nbformat_minor": 0
}
