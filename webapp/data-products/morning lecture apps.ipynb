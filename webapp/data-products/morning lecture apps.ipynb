{
 "cells": [
  {
   "cell_type": "code",
   "execution_count": null,
   "metadata": {
    "collapsed": false
   },
   "outputs": [],
   "source": [
    "%%writefile hello.py\n",
    "from flask import Flask\n",
    "from flask import request\n",
    "app = Flask(__name__)\n",
    "\n",
    "# OUR HOME PAGE\n",
    "#============================================\n",
    "@app.route('/')\n",
    "\n",
    "def index():\n",
    "    return '''\n",
    "<!DOCTYPE html>\n",
    "<html>\n",
    "    <head>\n",
    "        <meta charset=\"utf-8\">\n",
    "        <title>title</title>\n",
    "    </head>\n",
    "\n",
    "  <body>\n",
    "    <!-- page content -->\n",
    "    <div>\n",
    "        This is where text can live or pics or go anything your little heart wishes to be done.\n",
    "    </div>\n",
    "  </body>\n",
    "\n",
    "</html>\n",
    "'''\n",
    "\n",
    "if __name__ == '__main__':\n",
    "    app.run(host='0.0.0.0', port=5000)"
   ]
  },
  {
   "cell_type": "code",
   "execution_count": null,
   "metadata": {
    "collapsed": false
   },
   "outputs": [],
   "source": [
    "!python hello.py"
   ]
  },
  {
   "cell_type": "code",
   "execution_count": 48,
   "metadata": {
    "collapsed": false
   },
   "outputs": [
    {
     "name": "stdout",
     "output_type": "stream",
     "text": [
      "Overwriting templates/template.html\n"
     ]
    }
   ],
   "source": [
    "%%writefile templates/template.html #for zackrules.py\n",
    "<!DOCTYPE html>\n",
    "<html>\n",
    "    <head>\n",
    "        <meta charset=\"utf-8\">\n",
    "        <title>title</title>\n",
    "    </head>\n",
    "  <body>\n",
    "    <div>\n",
    "    {{content}}\n",
    "    </div>\n",
    "  </body>\n",
    "\n",
    "</html>"
   ]
  },
  {
   "cell_type": "code",
   "execution_count": null,
   "metadata": {
    "collapsed": false
   },
   "outputs": [],
   "source": [
    "%%writefile zackrules.py\n",
    "from flask import Flask\n",
    "from flask import render_template\n",
    "app = Flask(__name__)\n",
    "\n",
    "@app.route('/')\n",
    "def index():\n",
    "    #assert 0\n",
    "    return '<h1> Something </h1>'\n",
    "\n",
    "# adding a new page\n",
    "@app.route('/zack_rules')\n",
    "def zack_rules():\n",
    "    content = ''\n",
    "    # generate some content\n",
    "    for i in xrange(1000):\n",
    "        content += 'zack rules! '\n",
    "    return render_template('template.html', content=content)\n",
    "\n",
    "if __name__ == '__main__':\n",
    "    app.run(host='0.0.0.0', port=8085, debug=True)"
   ]
  },
  {
   "cell_type": "code",
   "execution_count": null,
   "metadata": {
    "collapsed": false
   },
   "outputs": [],
   "source": [
    "!python zackrules.py"
   ]
  },
  {
   "cell_type": "code",
   "execution_count": 57,
   "metadata": {
    "collapsed": false
   },
   "outputs": [
    {
     "name": "stdout",
     "output_type": "stream",
     "text": [
      "Overwriting pipeline.py\n"
     ]
    }
   ],
   "source": [
    "%%writefile pipeline.py\n",
    "from flask import Flask\n",
    "from flask import request\n",
    "app = Flask(__name__)\n",
    "\n",
    "\n",
    "# Form page to submit text\n",
    "#============================================\n",
    "# create page with a form on it\n",
    "@app.route('/')\n",
    "def submission_page():\n",
    "    return '''\n",
    "    <form action=\"/word_counter\" method='POST' >\n",
    "        <input type=\"text\" name=\"user_input\" />\n",
    "        <input type=\"submit\" />\n",
    "    </form>\n",
    "    '''\n",
    "\n",
    "\n",
    "# My word counter app\n",
    "#==============================================\n",
    "# create the page the form goes to\n",
    "@app.route('/word_counter', methods=['POST','GET'] )\n",
    "def word_counter():\n",
    "#     if request.method == 'POST':\n",
    "#         return ''\n",
    "    # get data from request form, the key is the name you set in your form\n",
    "    data = request.form['user_input']\n",
    "\n",
    "    # convert data from unicode to string\n",
    "    data = str(data)\n",
    "\n",
    "    # run a simple program that counts all the words\n",
    "    dict_counter = {}\n",
    "    for word in data.lower().split():\n",
    "        if word not in dict_counter:\n",
    "            dict_counter[word] = 1\n",
    "        else:\n",
    "            dict_counter[word] += 1\n",
    "    total_words = len(dict_counter)\n",
    "\n",
    "    # now return your results\n",
    "    return 'Total words is %i, <br> dict_counter is: %s' % (total_words, dict_counter)\n",
    "\n",
    "\n",
    "if __name__ == '__main__':\n",
    "    app.run(host='0.0.0.0', port=8085, debug=True)"
   ]
  },
  {
   "cell_type": "code",
   "execution_count": null,
   "metadata": {
    "collapsed": false
   },
   "outputs": [
    {
     "name": "stdout",
     "output_type": "stream",
     "text": [
      " * Running on http://0.0.0.0:8085/ (Press CTRL+C to quit)\n",
      " * Restarting with stat\n",
      "127.0.0.1 - - [27/Jul/2015 10:48:44] \"GET / HTTP/1.1\" 200 -\n",
      "127.0.0.1 - - [27/Jul/2015 10:48:47] \"POST /word_counter HTTP/1.1\" 200 -\n",
      "127.0.0.1 - - [27/Jul/2015 10:48:50] \"POST /word_counter HTTP/1.1\" 200 -\n",
      "127.0.0.1 - - [27/Jul/2015 15:06:03] \"GET / HTTP/1.1\" 200 -\n",
      "127.0.0.1 - - [27/Jul/2015 15:06:08] \"POST /word_counter HTTP/1.1\" 200 -\n"
     ]
    }
   ],
   "source": [
    "!python pipeline.py"
   ]
  },
  {
   "cell_type": "code",
   "execution_count": null,
   "metadata": {
    "collapsed": true
   },
   "outputs": [],
   "source": []
  },
  {
   "cell_type": "code",
   "execution_count": null,
   "metadata": {
    "collapsed": true
   },
   "outputs": [],
   "source": []
  }
 ],
 "metadata": {
  "kernelspec": {
   "display_name": "Python 2",
   "language": "python",
   "name": "python2"
  },
  "language_info": {
   "codemirror_mode": {
    "name": "ipython",
    "version": 2
   },
   "file_extension": ".py",
   "mimetype": "text/x-python",
   "name": "python",
   "nbconvert_exporter": "python",
   "pygments_lexer": "ipython2",
   "version": "2.7.10"
  }
 },
 "nbformat": 4,
 "nbformat_minor": 0
}
