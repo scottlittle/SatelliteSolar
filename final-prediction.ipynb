{
 "cells": [
  {
   "cell_type": "code",
   "execution_count": 20,
   "metadata": {
    "collapsed": false
   },
   "outputs": [
    {
     "data": {
      "image/png": "[encoded data removed]",
      "text/plain": [
       "<matplotlib.figure.Figure at 0x7f2621adbe90>"
      ]
     },
     "metadata": {},
     "output_type": "display_data"
    },
    {
     "data": {
      "text/html": [
       "<div>\n",
       "<table border=\"1\" class=\"dataframe\">\n",
       "  <thead>\n",
       "    <tr style=\"text-align: right;\">\n",
       "      <th></th>\n",
       "      <th>315nm POM-01 Photometer [nA]</th>\n",
       "      <th>400nm POM-01 Photometer [uA]</th>\n",
       "      <th>500nm POM-01 Photometer [uA]</th>\n",
       "      <th>675nm POM-01 Photometer [uA]</th>\n",
       "      <th>870nm POM-01 Photometer [uA]</th>\n",
       "      <th>940nm POM-01 Photometer [uA]</th>\n",
       "      <th>1020nm POM-01 Photometer [uA]</th>\n",
       "      <th>315nm Obsolete AOD</th>\n",
       "      <th>400nm Obsolete AOD</th>\n",
       "      <th>500nm Obsolete AOD</th>\n",
       "      <th>675nm Obsolete AOD</th>\n",
       "      <th>870nm Obsolete AOD</th>\n",
       "      <th>940nm Obsolete AOD</th>\n",
       "      <th>1020nm Obsolete AOD</th>\n",
       "    </tr>\n",
       "    <tr>\n",
       "      <th>datetime</th>\n",
       "      <th></th>\n",
       "      <th></th>\n",
       "      <th></th>\n",
       "      <th></th>\n",
       "      <th></th>\n",
       "      <th></th>\n",
       "      <th></th>\n",
       "      <th></th>\n",
       "      <th></th>\n",
       "      <th></th>\n",
       "      <th></th>\n",
       "      <th></th>\n",
       "      <th></th>\n",
       "      <th></th>\n",
       "    </tr>\n",
       "  </thead>\n",
       "  <tbody>\n",
       "    <tr>\n",
       "      <th>2014-04-08 18:00:00</th>\n",
       "      <td>-2194.917883</td>\n",
       "      <td>-2179.650583</td>\n",
       "      <td>-2065.379667</td>\n",
       "      <td>-2005.4225</td>\n",
       "      <td>-2060.177167</td>\n",
       "      <td>-2117.088833</td>\n",
       "      <td>-2093.865833</td>\n",
       "      <td>-2216.45358</td>\n",
       "      <td>-2216.194319</td>\n",
       "      <td>-2216.29417</td>\n",
       "      <td>-2216.333306</td>\n",
       "      <td>-2216.345249</td>\n",
       "      <td>-2216.202907</td>\n",
       "      <td>-2216.346496</td>\n",
       "    </tr>\n",
       "  </tbody>\n",
       "</table>\n",
       "</div>"
      ],
      "text/plain": [
       "                     315nm POM-01 Photometer [nA]  \\\n",
       "datetime                                            \n",
       "2014-04-08 18:00:00                  -2194.917883   \n",
       "\n",
       "                     400nm POM-01 Photometer [uA]  \\\n",
       "datetime                                            \n",
       "2014-04-08 18:00:00                  -2179.650583   \n",
       "\n",
       "                     500nm POM-01 Photometer [uA]  \\\n",
       "datetime                                            \n",
       "2014-04-08 18:00:00                  -2065.379667   \n",
       "\n",
       "                     675nm POM-01 Photometer [uA]  \\\n",
       "datetime                                            \n",
       "2014-04-08 18:00:00                    -2005.4225   \n",
       "\n",
       "                     870nm POM-01 Photometer [uA]  \\\n",
       "datetime                                            \n",
       "2014-04-08 18:00:00                  -2060.177167   \n",
       "\n",
       "                     940nm POM-01 Photometer [uA]  \\\n",
       "datetime                                            \n",
       "2014-04-08 18:00:00                  -2117.088833   \n",
       "\n",
       "                     1020nm POM-01 Photometer [uA]  315nm Obsolete AOD  \\\n",
       "datetime                                                                 \n",
       "2014-04-08 18:00:00                   -2093.865833         -2216.45358   \n",
       "\n",
       "                     400nm Obsolete AOD  500nm Obsolete AOD  \\\n",
       "datetime                                                      \n",
       "2014-04-08 18:00:00        -2216.194319         -2216.29417   \n",
       "\n",
       "                     675nm Obsolete AOD  870nm Obsolete AOD  \\\n",
       "datetime                                                      \n",
       "2014-04-08 18:00:00        -2216.333306        -2216.345249   \n",
       "\n",
       "                     940nm Obsolete AOD  1020nm Obsolete AOD  \n",
       "datetime                                                      \n",
       "2014-04-08 18:00:00        -2216.202907         -2216.346496  "
      ]
     },
     "metadata": {},
     "output_type": "display_data"
    }
   ],
   "source": [
    "from datetime import datetime,timedelta, time\n",
    "import pandas as pd\n",
    "import numpy as np\n",
    "import matplotlib.pyplot as plt\n",
    "from data_helper_functions import *\n",
    "from IPython.display import display\n",
    "pd.options.display.max_columns = 999\n",
    "%matplotlib inline\n",
    "\n",
    "desired_channel = 'BAND_02'\n",
    "desired_date = datetime(2014, 4, 8)\n",
    "desired_timedelta = timedelta(hours = 18)\n",
    "desired_datetime = desired_date + desired_timedelta\n",
    "satellite_filefolder = 'data/satellite/colorado/summer6months/data/'\n",
    "sensor_filefolder = 'data/sensor_data/colorado6months/'\n",
    "pvoutput_filefolder = 'data/pvoutput/pvoutput6months/'\n",
    "\n",
    "#satellite data\n",
    "satellite_filename = find_filename(desired_datetime, desired_channel, satellite_filefolder)\n",
    "lons, lats, data = return_satellite_data(satellite_filename, satellite_filefolder)\n",
    "\n",
    "plt.figure(figsize=(8, 8))\n",
    "imgplot = plt.imshow(data)\n",
    "imgplot.set_interpolation('none')\n",
    "plt.show()\n",
    "\n",
    "#sensor data\n",
    "sensor_filename = find_file_from_date(desired_date, sensor_filefolder)\n",
    "df_sensor = return_sensor_data(sensor_filename, sensor_filefolder).ix[:,-15:-1]\n",
    "df_sensor[df_sensor.index == desired_datetime]\n",
    "display(df_sensor[df_sensor.index == desired_datetime])"
   ]
  },
  {
   "cell_type": "code",
   "execution_count": 21,
   "metadata": {
    "collapsed": false
   },
   "outputs": [
    {
     "name": "stdout",
     "output_type": "stream",
     "text": [
      "(504,)\n",
      "(14, 36)\n"
     ]
    }
   ],
   "source": [
    "ravel_data = np.ravel(data)\n",
    "print ravel_data.shape\n",
    "print data.shape"
   ]
  },
  {
   "cell_type": "code",
   "execution_count": 9,
   "metadata": {
    "collapsed": false
   },
   "outputs": [],
   "source": [
    "unravel_data = ravel_data.reshape((29,68))"
   ]
  },
  {
   "cell_type": "code",
   "execution_count": 10,
   "metadata": {
    "collapsed": false
   },
   "outputs": [
    {
     "data": {
      "image/png": "[encoded data removed]",
      "text/plain": [
       "<matplotlib.figure.Figure at 0x7f264979b890>"
      ]
     },
     "metadata": {},
     "output_type": "display_data"
    }
   ],
   "source": [
    "plt.figure(figsize=(8, 8))\n",
    "imgplot = plt.imshow(unravel_data)\n",
    "imgplot.set_interpolation('none')\n",
    "plt.show()"
   ]
  },
  {
   "cell_type": "code",
   "execution_count": null,
   "metadata": {
    "collapsed": true
   },
   "outputs": [],
   "source": []
  }
 ],
 "metadata": {
  "kernelspec": {
   "display_name": "Python 2",
   "language": "python",
   "name": "python2"
  },
  "language_info": {
   "codemirror_mode": {
    "name": "ipython",
    "version": 2
   },
   "file_extension": ".py",
   "mimetype": "text/x-python",
   "name": "python",
   "nbconvert_exporter": "python",
   "pygments_lexer": "ipython2",
   "version": "2.7.10"
  }
 },
 "nbformat": 4,
 "nbformat_minor": 0
}
