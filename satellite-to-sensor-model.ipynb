{
 "cells": [
  {
   "cell_type": "markdown",
   "metadata": {},
   "source": [
    "##Satellite data to sensor data modeling"
   ]
  },
  {
   "cell_type": "code",
   "execution_count": 2,
   "metadata": {
    "collapsed": false
   },
   "outputs": [
    {
     "data": {
      "image/png": "[encoded data removed]",
      "text/plain": [
       "<matplotlib.figure.Figure at 0x7f81e9956190>"
      ]
     },
     "metadata": {},
     "output_type": "display_data"
    },
    {
     "data": {
      "text/html": [
       "<div>\n",
       "<table border=\"1\" class=\"dataframe\">\n",
       "  <thead>\n",
       "    <tr style=\"text-align: right;\">\n",
       "      <th></th>\n",
       "      <th>315nm POM-01 Photometer [nA]</th>\n",
       "      <th>400nm POM-01 Photometer [uA]</th>\n",
       "      <th>500nm POM-01 Photometer [uA]</th>\n",
       "      <th>675nm POM-01 Photometer [uA]</th>\n",
       "      <th>870nm POM-01 Photometer [uA]</th>\n",
       "      <th>940nm POM-01 Photometer [uA]</th>\n",
       "      <th>1020nm POM-01 Photometer [uA]</th>\n",
       "      <th>315nm Obsolete AOD</th>\n",
       "      <th>400nm Obsolete AOD</th>\n",
       "      <th>500nm Obsolete AOD</th>\n",
       "      <th>675nm Obsolete AOD</th>\n",
       "      <th>870nm Obsolete AOD</th>\n",
       "      <th>940nm Obsolete AOD</th>\n",
       "      <th>1020nm Obsolete AOD</th>\n",
       "    </tr>\n",
       "    <tr>\n",
       "      <th>datetime</th>\n",
       "      <th></th>\n",
       "      <th></th>\n",
       "      <th></th>\n",
       "      <th></th>\n",
       "      <th></th>\n",
       "      <th></th>\n",
       "      <th></th>\n",
       "      <th></th>\n",
       "      <th></th>\n",
       "      <th></th>\n",
       "      <th></th>\n",
       "      <th></th>\n",
       "      <th></th>\n",
       "      <th></th>\n",
       "    </tr>\n",
       "  </thead>\n",
       "  <tbody>\n",
       "    <tr>\n",
       "      <th>2014-04-08 18:00:00</th>\n",
       "      <td>-2194.917883</td>\n",
       "      <td>-2179.650583</td>\n",
       "      <td>-2065.379667</td>\n",
       "      <td>-2005.4225</td>\n",
       "      <td>-2060.177167</td>\n",
       "      <td>-2117.088833</td>\n",
       "      <td>-2093.865833</td>\n",
       "      <td>-2216.45358</td>\n",
       "      <td>-2216.194319</td>\n",
       "      <td>-2216.29417</td>\n",
       "      <td>-2216.333306</td>\n",
       "      <td>-2216.345249</td>\n",
       "      <td>-2216.202907</td>\n",
       "      <td>-2216.346496</td>\n",
       "    </tr>\n",
       "  </tbody>\n",
       "</table>\n",
       "</div>"
      ],
      "text/plain": [
       "                     315nm POM-01 Photometer [nA]  \\\n",
       "datetime                                            \n",
       "2014-04-08 18:00:00                  -2194.917883   \n",
       "\n",
       "                     400nm POM-01 Photometer [uA]  \\\n",
       "datetime                                            \n",
       "2014-04-08 18:00:00                  -2179.650583   \n",
       "\n",
       "                     500nm POM-01 Photometer [uA]  \\\n",
       "datetime                                            \n",
       "2014-04-08 18:00:00                  -2065.379667   \n",
       "\n",
       "                     675nm POM-01 Photometer [uA]  \\\n",
       "datetime                                            \n",
       "2014-04-08 18:00:00                    -2005.4225   \n",
       "\n",
       "                     870nm POM-01 Photometer [uA]  \\\n",
       "datetime                                            \n",
       "2014-04-08 18:00:00                  -2060.177167   \n",
       "\n",
       "                     940nm POM-01 Photometer [uA]  \\\n",
       "datetime                                            \n",
       "2014-04-08 18:00:00                  -2117.088833   \n",
       "\n",
       "                     1020nm POM-01 Photometer [uA]  315nm Obsolete AOD  \\\n",
       "datetime                                                                 \n",
       "2014-04-08 18:00:00                   -2093.865833         -2216.45358   \n",
       "\n",
       "                     400nm Obsolete AOD  500nm Obsolete AOD  \\\n",
       "datetime                                                      \n",
       "2014-04-08 18:00:00        -2216.194319         -2216.29417   \n",
       "\n",
       "                     675nm Obsolete AOD  870nm Obsolete AOD  \\\n",
       "datetime                                                      \n",
       "2014-04-08 18:00:00        -2216.333306        -2216.345249   \n",
       "\n",
       "                     940nm Obsolete AOD  1020nm Obsolete AOD  \n",
       "datetime                                                      \n",
       "2014-04-08 18:00:00        -2216.202907         -2216.346496  "
      ]
     },
     "metadata": {},
     "output_type": "display_data"
    }
   ],
   "source": [
    "from datetime import datetime,timedelta, time\n",
    "import pandas as pd\n",
    "import numpy as np\n",
    "import matplotlib.pyplot as plt\n",
    "from data_helper_functions import *\n",
    "from IPython.display import display\n",
    "pd.options.display.max_columns = 999\n",
    "%matplotlib inline\n",
    "\n",
    "desired_channel = 'BAND_01'\n",
    "desired_date = datetime(2014, 4, 8)\n",
    "desired_timedelta = timedelta(hours = 18)\n",
    "desired_datetime = desired_date + desired_timedelta\n",
    "satellite_filefolder = 'data/satellite/colorado/summer6months/data/'\n",
    "sensor_filefolder = 'data/sensor_data/colorado6months/'\n",
    "pvoutput_filefolder = 'data/pvoutput/pvoutput6months/'\n",
    "\n",
    "#satellite data\n",
    "satellite_filename = find_filename(desired_datetime, desired_channel, satellite_filefolder)\n",
    "lons, lats, data = return_satellite_data(satellite_filename, satellite_filefolder)\n",
    "\n",
    "plt.figure(figsize=(8, 8))\n",
    "imgplot = plt.imshow(data)\n",
    "imgplot.set_interpolation('none')\n",
    "plt.show()\n",
    "\n",
    "#sensor data\n",
    "sensor_filename = find_file_from_date(desired_date, sensor_filefolder)\n",
    "df_sensor = return_sensor_data(sensor_filename, sensor_filefolder).ix[:,-15:-1]\n",
    "df_sensor[df_sensor.index == desired_datetime]\n",
    "display(df_sensor[df_sensor.index == desired_datetime])"
   ]
  },
  {
   "cell_type": "code",
   "execution_count": 3,
   "metadata": {
    "collapsed": false
   },
   "outputs": [
    {
     "data": {
      "text/plain": [
       "(1972,)"
      ]
     },
     "execution_count": 3,
     "metadata": {},
     "output_type": "execute_result"
    }
   ],
   "source": [
    "np.ravel(data).shape"
   ]
  },
  {
   "cell_type": "markdown",
   "metadata": {},
   "source": [
    "## Build up satellite and sensor data"
   ]
  },
  {
   "cell_type": "code",
   "execution_count": 7,
   "metadata": {
    "collapsed": false
   },
   "outputs": [
    {
     "name": "stdout",
     "output_type": "stream",
     "text": [
      "No file with this datetime within 3 hours!\n",
      "No file with this datetime within 3 hours!\n",
      "No file with this datetime within 3 hours!\n",
      "No file with this datetime within 3 hours!\n",
      "No file with this datetime within 3 hours!\n",
      "No file with this datetime within 3 hours!\n",
      "No file with this datetime within 3 hours!\n",
      "No file with this datetime within 3 hours!\n",
      "No file with this datetime within 3 hours!\n",
      "No file with this datetime within 3 hours!\n",
      "No file with this datetime within 3 hours!\n",
      "No file with this datetime within 3 hours!\n",
      "No file with this datetime within 3 hours!\n",
      "No file with this datetime within 3 hours!\n",
      "No file with this datetime within 3 hours!\n",
      "No file with this datetime within 3 hours!\n",
      "No file with this datetime within 3 hours!\n",
      "No file with this datetime within 3 hours!\n",
      "No file with this datetime within 3 hours!\n",
      "No file with this datetime within 3 hours!\n",
      "No file with this datetime within 3 hours!\n",
      "No file with this datetime within 3 hours!\n",
      "No file with this datetime within 3 hours!\n",
      "No file with this datetime within 3 hours!\n",
      "No file with this datetime within 3 hours!\n",
      "No file with this datetime within 3 hours!\n",
      "No file with this datetime within 3 hours!\n",
      "No file with this datetime within 3 hours!\n",
      "No file with this datetime within 3 hours!\n",
      "No file with this datetime within 3 hours!\n",
      "No file with this datetime within 3 hours!\n",
      "No file with this datetime within 3 hours!\n",
      "No file with this datetime within 3 hours!\n",
      "No file with this datetime within 3 hours!\n",
      "No file with this datetime within 3 hours!\n",
      "No file with this datetime within 3 hours!\n",
      "No file with this datetime within 3 hours!\n",
      "No file with this datetime within 3 hours!\n",
      "No file with this datetime within 3 hours!\n",
      "No file with this datetime within 3 hours!\n",
      "No file with this datetime within 3 hours!\n",
      "No file with this datetime within 3 hours!\n",
      "No file with this datetime within 3 hours!\n",
      "No file with this datetime within 3 hours!\n",
      "No file with this datetime within 3 hours!\n",
      "No file with this datetime within 3 hours!\n",
      "No file with this datetime within 3 hours!\n",
      "No file with this datetime within 3 hours!\n",
      "No file with this datetime within 3 hours!\n",
      "No file with this datetime within 3 hours!\n",
      "No file with this datetime within 3 hours!\n",
      "No file with this datetime within 3 hours!\n",
      "No file with this datetime within 3 hours!\n",
      "No file with this datetime within 3 hours!\n",
      "No file with this datetime within 3 hours!\n",
      "No file with this datetime within 3 hours!\n",
      "No file with this datetime within 3 hours!\n",
      "No file with this datetime within 3 hours!\n",
      "No file with this datetime within 3 hours!\n",
      "No file with this datetime within 3 hours!\n",
      "No file with this datetime within 3 hours!\n",
      "No file with this datetime within 3 hours!\n",
      "No file with this datetime within 3 hours!\n",
      "No file with this datetime within 3 hours!\n",
      "No file with this datetime within 3 hours!\n",
      "No file with this datetime within 3 hours!\n",
      "No file with this datetime within 3 hours!\n",
      "No file with this datetime within 3 hours!\n",
      "No file with this datetime within 3 hours!\n",
      "No file with this datetime within 3 hours!\n",
      "No file with this datetime within 3 hours!\n",
      "No file with this datetime within 3 hours!\n",
      "No file with this datetime within 3 hours!\n",
      "No file with this datetime within 3 hours!\n",
      "No file with this datetime within 3 hours!\n",
      "No file with this datetime within 3 hours!\n",
      "No file with this datetime within 3 hours!\n",
      "No file with this datetime within 3 hours!\n",
      "No file with this datetime within 3 hours!\n",
      "No file with this datetime within 3 hours!\n",
      "No file with this datetime within 3 hours!\n",
      "No file with this datetime within 3 hours!\n",
      "No file with this datetime within 3 hours!\n",
      "No file with this datetime within 3 hours!\n",
      "No file with this datetime within 3 hours!\n",
      "No file with this datetime within 3 hours!\n",
      "No file with this datetime within 3 hours!\n",
      "No file with this datetime within 3 hours!\n",
      "No file with this datetime within 3 hours!\n",
      "No file with this datetime within 3 hours!\n",
      "No file with this datetime within 3 hours!\n",
      "No file with this datetime within 3 hours!\n",
      "No file with this datetime within 3 hours!\n",
      "No file with this datetime within 3 hours!\n",
      "No file with this datetime within 3 hours!\n",
      "No file with this datetime within 3 hours!\n",
      "No file with this datetime within 3 hours!\n",
      "No file with this datetime within 3 hours!\n",
      "No file with this datetime within 3 hours!\n",
      "No file with this datetime within 3 hours!\n",
      "No file with this datetime within 3 hours!\n",
      "No file with this datetime within 3 hours!\n",
      "No file with this datetime within 3 hours!\n",
      "No file with this datetime within 3 hours!\n",
      "No file with this datetime within 3 hours!\n",
      "No file with this datetime within 3 hours!\n",
      "No file with this datetime within 3 hours!\n",
      "No file with this datetime within 3 hours!\n",
      "No file with this datetime within 3 hours!\n",
      "No file with this datetime within 3 hours!\n",
      "No file with this datetime within 3 hours!\n",
      "No file with this datetime within 3 hours!\n",
      "No file with this datetime within 3 hours!\n",
      "No file with this datetime within 3 hours!\n",
      "No file with this datetime within 3 hours!\n",
      "No file with this datetime within 3 hours!\n",
      "No file with this datetime within 3 hours!\n",
      "No file with this datetime within 3 hours!\n",
      "No file with this datetime within 3 hours!\n",
      "No file with this datetime within 3 hours!\n",
      "No file with this datetime within 3 hours!\n",
      "No file with this datetime within 3 hours!\n",
      "No file with this datetime within 3 hours!\n",
      "No file with this datetime within 3 hours!\n",
      "No file with this datetime within 3 hours!\n",
      "No file with this datetime within 3 hours!\n",
      "No file with this datetime within 3 hours!\n",
      "No file with this datetime within 3 hours!\n",
      "No file with this datetime within 3 hours!\n",
      "No file with this datetime within 3 hours!\n",
      "No file with this datetime within 3 hours!\n",
      "No file with this datetime within 3 hours!\n",
      "No file with this datetime within 3 hours!\n",
      "No file with this datetime within 3 hours!\n",
      "No file with this datetime within 3 hours!\n",
      "No file with this datetime within 3 hours!\n",
      "No file with this datetime within 3 hours!\n",
      "No file with this datetime within 3 hours!\n",
      "No file with this datetime within 3 hours!\n",
      "No file with this datetime within 3 hours!\n",
      "No file with this datetime within 3 hours!\n",
      "No file with this datetime within 3 hours!\n",
      "No file with this datetime within 3 hours!\n",
      "No file with this datetime within 3 hours!\n",
      "No file with this datetime within 3 hours!\n",
      "No file with this datetime within 3 hours!\n",
      "No file with this datetime within 3 hours!\n",
      "No file with this datetime within 3 hours!\n",
      "No file with this datetime within 3 hours!\n",
      "No file with this datetime within 3 hours!\n",
      "No file with this datetime within 3 hours!\n",
      "No file with this datetime within 3 hours!\n",
      "No file with this datetime within 3 hours!\n",
      "No file with this datetime within 3 hours!\n",
      "No file with this datetime within 3 hours!\n",
      "No file with this datetime within 3 hours!\n",
      "No file with this datetime within 3 hours!\n",
      "No file with this datetime within 3 hours!\n",
      "No file with this datetime within 3 hours!\n",
      "No file with this datetime within 3 hours!\n",
      "No file with this datetime within 3 hours!\n",
      "No file with this datetime within 3 hours!\n",
      "No file with this datetime within 3 hours!\n",
      "No file with this datetime within 3 hours!\n",
      "No file with this datetime within 3 hours!\n",
      "No file with this datetime within 3 hours!\n",
      "No file with this datetime within 3 hours!\n",
      "No file with this datetime within 3 hours!\n",
      "No file with this datetime within 3 hours!\n",
      "No file with this datetime within 3 hours!\n",
      "No file with this datetime within 3 hours!\n",
      "No file with this datetime within 3 hours!\n",
      "No file with this datetime within 3 hours!\n",
      "No file with this datetime within 3 hours!\n",
      "No file with this datetime within 3 hours!\n",
      "No file with this datetime within 3 hours!\n",
      "No file with this datetime within 3 hours!\n",
      "No file with this datetime within 3 hours!\n",
      "No file with this datetime within 3 hours!\n",
      "No file with this datetime within 3 hours!\n",
      "No file with this datetime within 3 hours!\n",
      "No file with this datetime within 3 hours!\n",
      "No file with this datetime within 3 hours!\n",
      "No file with this datetime within 3 hours!\n",
      "No file with this datetime within 3 hours!\n",
      "No file with this datetime within 3 hours!\n"
     ]
    }
   ],
   "source": [
    "#iterate over datetimes:\n",
    "mytime = datetime(2014, 4, 1, 13)\n",
    "times = make_time(mytime)\n",
    "\n",
    "# Now that we can call data up over any datetime and we have a list of interested datetimes,\n",
    "# we can finally construct an X matrix and y vector for regression.\n",
    "\n",
    "desired_channel = 'BAND_01'\n",
    "satellite_filefolder = 'data/satellite/colorado/summer6months/data/'\n",
    "sensor_filefolder = 'data/sensor_data/colorado6months/'\n",
    "\n",
    "X = []\n",
    "Y = []\n",
    "\n",
    "for desired_datetime in times:\n",
    "    \n",
    "    try: #ignore data without satellite images, should update to output datetime of occurrance\n",
    "        desired_date = (desired_datetime - timedelta(hours=6)).date() #make sure correct date\n",
    "        desired_date = datetime.combine(desired_date, time.min) #get into datetime format\n",
    "\n",
    "        satellite_filename = find_filename(desired_datetime, desired_channel, satellite_filefolder)\n",
    "        lons, lats, data = return_satellite_data(satellite_filename, satellite_filefolder)\n",
    "\n",
    "        sensor_filename = find_file_from_date(desired_date, sensor_filefolder)\n",
    "        df_sensor = return_sensor_data(sensor_filename, sensor_filefolder).ix[:,-15:-1]\n",
    "        df_sensor[df_sensor.index == desired_datetime]\n",
    "\n",
    "#         pvoutput_filename = find_file_from_date(desired_date, pvoutput_filefolder)\n",
    "#         df_pvoutput = return_pvoutput_data(pvoutput_filename, pvoutput_filefolder)\n",
    "        \n",
    "        X.append(np.ravel(data))\n",
    "        Y.append(df_sensor[df_sensor.index == desired_datetime].values[0])\n",
    "    except:\n",
    "        pass"
   ]
  },
  {
   "cell_type": "code",
   "execution_count": 43,
   "metadata": {
    "collapsed": false
   },
   "outputs": [],
   "source": [
    "X = np.array(X)\n",
    "Y = np.array(Y)"
   ]
  },
  {
   "cell_type": "code",
   "execution_count": 44,
   "metadata": {
    "collapsed": false
   },
   "outputs": [
    {
     "name": "stdout",
     "output_type": "stream",
     "text": [
      "(2544, 1972)\n",
      "(2544, 14)\n"
     ]
    }
   ],
   "source": [
    "print X.shape\n",
    "print Y.shape"
   ]
  },
  {
   "cell_type": "markdown",
   "metadata": {},
   "source": [
    "##Neural Net model"
   ]
  },
  {
   "cell_type": "code",
   "execution_count": 123,
   "metadata": {
    "collapsed": true
   },
   "outputs": [],
   "source": [
    "import pandas as pd\n",
    "import numpy as np\n",
    "from sklearn.preprocessing import scale, StandardScaler\n",
    "from sklearn.cross_validation import train_test_split\n",
    "from sklearn.metrics import *\n",
    "from lasagne import layers\n",
    "from lasagne.nonlinearities import  softmax, rectify, sigmoid, linear, very_leaky_rectify, tanh\n",
    "from lasagne.updates import nesterov_momentum, adagrad, momentum\n",
    "from nolearn.lasagne import NeuralNet"
   ]
  },
  {
   "cell_type": "code",
   "execution_count": 19,
   "metadata": {
    "collapsed": true
   },
   "outputs": [],
   "source": [
    "y = Y.astype('float32') #big Y to little y\n",
    "x = X.astype('float32') #big X to little x\n",
    "scaler = StandardScaler()\n",
    "scaled_x = scaler.fit_transform(x)\n",
    "x_train, x_test, y_train, y_test = train_test_split(scaled_x, y, test_size = 0.2, random_state = 12)"
   ]
  },
  {
   "cell_type": "code",
   "execution_count": 25,
   "metadata": {
    "collapsed": false
   },
   "outputs": [
    {
     "data": {
      "text/plain": [
       "1972"
      ]
     },
     "execution_count": 25,
     "metadata": {},
     "output_type": "execute_result"
    }
   ],
   "source": [
    "x.shape[1]"
   ]
  },
  {
   "cell_type": "code",
   "execution_count": 33,
   "metadata": {
    "collapsed": false
   },
   "outputs": [
    {
     "data": {
      "text/plain": [
       "array([ 0.43959174,  0.61257768,  0.49549052, ..., -0.60034823,\n",
       "       -0.58955151, -0.66364586], dtype=float32)"
      ]
     },
     "execution_count": 33,
     "metadata": {},
     "output_type": "execute_result"
    }
   ],
   "source": [
    "scaled_x[3]"
   ]
  },
  {
   "cell_type": "code",
   "execution_count": 32,
   "metadata": {
    "collapsed": false
   },
   "outputs": [
    {
     "name": "stdout",
     "output_type": "stream",
     "text": [
      "# Neural Network with 198714 learnable parameters\n",
      "\n",
      "## Layer information\n",
      "\n",
      "  #  name      size\n",
      "---  ------  ------\n",
      "  0  input     1972\n",
      "  1  hidden     100\n",
      "  2  output      14\n",
      "\n",
      "  epoch    train loss    valid loss    train/val  dur\n",
      "-------  ------------  ------------  -----------  -----\n",
      "      1           nan           nan          nan  0.15s\n",
      "      2           nan           nan          nan  0.13s\n",
      "      3           nan           nan          nan  0.11s\n",
      "      4           nan           nan          nan  0.12s\n",
      "      5           nan           nan          nan  0.11s\n",
      "      6           nan           nan          nan  0.11s\n",
      "      7           nan           nan          nan  0.11s\n",
      "      8           nan           nan          nan  0.11s\n",
      "      9           nan           nan          nan  0.20s\n",
      "     10           nan           nan          nan  0.19s\n",
      "     11           nan           nan          nan  0.20s\n",
      "     12           nan           nan          nan  0.23s\n",
      "     13           nan           nan          nan  0.13s\n",
      "     14           nan           nan          nan  0.10s\n",
      "     15           nan           nan          nan  0.11s\n",
      "     16           nan           nan          nan  0.11s\n",
      "     17           nan           nan          nan  0.25s\n",
      "     18           nan           nan          nan  0.25s\n",
      "     19           nan           nan          nan  0.18s\n",
      "     20           nan           nan          nan  0.11s\n",
      "     21           nan           nan          nan  0.17s\n",
      "     22           nan           nan          nan  0.24s\n",
      "     23           nan           nan          nan  0.12s\n",
      "     24           nan           nan          nan  0.12s\n",
      "     25           nan           nan          nan  0.11s\n",
      "     26           nan           nan          nan  0.12s\n",
      "     27           nan           nan          nan  0.15s\n",
      "     28           nan           nan          nan  0.17s\n",
      "     29           nan           nan          nan  0.11s\n",
      "     30           nan           nan          nan  0.12s\n",
      "     31           nan           nan          nan  0.10s\n",
      "     32           nan           nan          nan  0.11s\n",
      "     33           nan           nan          nan  0.11s\n",
      "     34           nan           nan          nan  0.11s\n",
      "     35           nan           nan          nan  0.11s\n",
      "     36           nan           nan          nan  0.10s\n",
      "     37           nan           nan          nan  0.11s\n",
      "     38           nan           nan          nan  0.10s\n",
      "     39           nan           nan          nan  0.11s\n",
      "     40           nan           nan          nan  0.11s\n",
      "     41           nan           nan          nan  0.11s\n",
      "     42           nan           nan          nan  0.11s\n",
      "     43           nan           nan          nan  0.10s\n",
      "     44           nan           nan          nan  0.11s\n",
      "     45           nan           nan          nan  0.12s\n",
      "     46           nan           nan          nan  0.11s\n",
      "     47           nan           nan          nan  0.11s\n",
      "     48           nan           nan          nan  0.11s\n",
      "     49           nan           nan          nan  0.11s\n",
      "     50           nan           nan          nan  0.12s\n",
      "     51           nan           nan          nan  0.12s\n",
      "     52           nan           nan          nan  0.13s\n",
      "     53           nan           nan          nan  0.12s\n",
      "     54           nan           nan          nan  0.12s\n",
      "     55           nan           nan          nan  0.12s\n",
      "     56           nan           nan          nan  0.13s\n",
      "     57           nan           nan          nan  0.12s\n",
      "     58           nan           nan          nan  0.12s\n",
      "     59           nan           nan          nan  0.11s\n",
      "     60           nan           nan          nan  0.13s\n",
      "     61           nan           nan          nan  0.14s\n",
      "     62           nan           nan          nan  0.12s\n",
      "     63           nan           nan          nan  0.14s\n",
      "     64           nan           nan          nan  0.11s\n",
      "     65           nan           nan          nan  0.13s\n",
      "     66           nan           nan          nan  0.12s\n",
      "     67           nan           nan          nan  0.15s\n",
      "     68           nan           nan          nan  0.12s\n",
      "     69           nan           nan          nan  0.14s\n",
      "     70           nan           nan          nan  0.11s\n",
      "     71           nan           nan          nan  0.12s\n",
      "     72           nan           nan          nan  0.11s\n",
      "     73           nan           nan          nan  0.12s\n",
      "     74           nan           nan          nan  0.13s\n",
      "     75           nan           nan          nan  0.14s\n",
      "     76           nan           nan          nan  0.11s\n",
      "     77           nan           nan          nan  0.11s\n",
      "     78           nan           nan          nan  0.11s\n",
      "     79           nan           nan          nan  0.12s\n",
      "     80           nan           nan          nan  0.12s\n",
      "     81           nan           nan          nan  0.12s\n",
      "     82           nan           nan          nan  0.13s\n",
      "     83           nan           nan          nan  0.11s\n",
      "     84           nan           nan          nan  0.12s\n",
      "     85           nan           nan          nan  0.11s\n",
      "     86           nan           nan          nan  0.12s\n",
      "     87           nan           nan          nan  0.11s\n",
      "     88           nan           nan          nan  0.17s\n",
      "     89           nan           nan          nan  0.15s\n",
      "     90           nan           nan          nan  0.12s\n",
      "     91           nan           nan          nan  0.11s\n",
      "     92           nan           nan          nan  0.15s\n",
      "     93           nan           nan          nan  0.18s\n",
      "     94           nan           nan          nan  0.13s\n",
      "     95           nan           nan          nan  0.20s\n",
      "     96           nan           nan          nan  0.23s\n",
      "     97           nan           nan          nan  0.20s\n",
      "     98           nan           nan          nan  0.21s\n",
      "     99           nan           nan          nan  0.25s\n",
      "    100           nan           nan          nan  0.12s\n",
      "    101           nan           nan          nan  0.12s\n",
      "    102           nan           nan          nan  0.12s\n",
      "    103           nan           nan          nan  0.12s\n",
      "    104           nan           nan          nan  0.17s\n",
      "    105           nan           nan          nan  0.16s\n",
      "    106           nan           nan          nan  0.12s\n",
      "    107           nan           nan          nan  0.11s\n",
      "    108           nan           nan          nan  0.12s\n",
      "    109           nan           nan          nan  0.11s\n",
      "    110           nan           nan          nan  0.11s\n",
      "    111           nan           nan          nan  0.11s\n",
      "    112           nan           nan          nan  0.12s\n",
      "    113           nan           nan          nan  0.10s\n",
      "    114           nan           nan          nan  0.12s\n",
      "    115           nan           nan          nan  0.11s\n",
      "    116           nan           nan          nan  0.11s\n",
      "    117           nan           nan          nan  0.10s\n",
      "    118           nan           nan          nan  0.10s\n",
      "    119           nan           nan          nan  0.11s\n",
      "    120           nan           nan          nan  0.10s\n",
      "    121           nan           nan          nan  0.11s\n",
      "    122           nan           nan          nan  0.10s\n",
      "    123           nan           nan          nan  0.11s\n",
      "    124           nan           nan          nan  0.11s\n",
      "    125           nan           nan          nan  0.10s\n",
      "    126           nan           nan          nan  0.28s\n",
      "    127           nan           nan          nan  0.12s\n",
      "    128           nan           nan          nan  0.11s\n",
      "    129           nan           nan          nan  0.11s\n",
      "    130           nan           nan          nan  0.11s\n",
      "    131           nan           nan          nan  0.14s\n",
      "    132           nan           nan          nan  0.17s\n",
      "    133           nan           nan          nan  0.22s\n",
      "    134           nan           nan          nan  0.20s\n",
      "    135           nan           nan          nan  0.17s\n",
      "    136           nan           nan          nan  0.12s\n",
      "    137           nan           nan          nan  0.13s\n",
      "    138           nan           nan          nan  0.10s\n",
      "    139           nan           nan          nan  0.12s\n",
      "    140           nan           nan          nan  0.22s\n",
      "    141           nan           nan          nan  0.18s\n",
      "    142           nan           nan          nan  0.15s\n",
      "    143           nan           nan          nan  0.28s\n",
      "    144           nan           nan          nan  0.15s\n",
      "    145           nan           nan          nan  0.22s\n",
      "    146           nan           nan          nan  0.18s\n",
      "    147           nan           nan          nan  0.12s\n",
      "    148           nan           nan          nan  0.11s\n",
      "    149           nan           nan          nan  0.10s\n",
      "    150           nan           nan          nan  0.11s\n",
      "    151           nan           nan          nan  0.14s\n",
      "    152           nan           nan          nan  0.17s\n",
      "    153           nan           nan          nan  0.14s\n",
      "    154           nan           nan          nan  0.12s\n",
      "    155           nan           nan          nan  0.10s\n",
      "    156           nan           nan          nan  0.10s\n",
      "    157           nan           nan          nan  0.11s\n",
      "    158           nan           nan          nan  0.11s\n",
      "    159           nan           nan          nan  0.11s\n",
      "    160           nan           nan          nan  0.11s\n",
      "    161           nan           nan          nan  0.12s\n",
      "    162           nan           nan          nan  0.10s\n",
      "    163           nan           nan          nan  0.12s\n",
      "    164           nan           nan          nan  0.11s\n"
     ]
    },
    {
     "data": {
      "text/plain": [
       "NeuralNet(X_tensor_type=None,\n",
       "     batch_iterator_test=<nolearn.lasagne.base.BatchIterator object at 0x10a4ca810>,\n",
       "     batch_iterator_train=<nolearn.lasagne.base.BatchIterator object at 0x10a4ca790>,\n",
       "     custom_score=None, hidden_num_units=100, input_shape=(None, 1972),\n",
       "     layers=[('input', <class 'lasagne.layers.input.InputLayer'>), ('hidden', <class 'lasagne.layers.dense.DenseLayer'>), ('output', <class 'lasagne.layers.dense.DenseLayer'>)],\n",
       "     loss=None, max_epochs=400, more_params={},\n",
       "     objective=<function objective at 0x10a755b18>,\n",
       "     objective_loss_function=<function squared_error at 0x109a565f0>,\n",
       "     on_epoch_finished=[<nolearn.lasagne.handlers.PrintLog instance at 0x11b8bca28>],\n",
       "     on_training_finished=[],\n",
       "     on_training_started=[<nolearn.lasagne.handlers.PrintLayerInfo instance at 0x11822f5a8>],\n",
       "     output_nonlinearity=None, output_num_units=14, regression=True,\n",
       "     train_split=<nolearn.lasagne.base.TrainSplit object at 0x10a4ca850>,\n",
       "     update=<function nesterov_momentum at 0x109a58b18>,\n",
       "     update_learning_rate=0.01, update_momentum=0.09,\n",
       "     use_label_encoder=False, verbose=1,\n",
       "     y_tensor_type=TensorType(float32, matrix))"
      ]
     },
     "execution_count": 32,
     "metadata": {},
     "output_type": "execute_result"
    }
   ],
   "source": [
    "net1 = NeuralNet(\n",
    "    layers=[  # three layers: one hidden layer\n",
    "        ('input', layers.InputLayer),\n",
    "        ('hidden', layers.DenseLayer),\n",
    "        ('output', layers.DenseLayer),\n",
    "        ],\n",
    "    # layer parameters:\n",
    "    input_shape=(None, x.shape[1]),  # image size\n",
    "    hidden_num_units=100,  # number of units in hidden layer\n",
    "    output_nonlinearity=None,  # output layer uses identity function\n",
    "    output_num_units=14,  # 14 target values\n",
    "\n",
    "    # optimization method:\n",
    "    update=nesterov_momentum,\n",
    "    update_learning_rate=0.01,\n",
    "    update_momentum=0.09,\n",
    "\n",
    "    regression=True,  # flag to indicate we're dealing with regression problem\n",
    "    max_epochs=400,  # we want to train this many epochs\n",
    "    verbose=1,\n",
    "    )\n",
    "\n",
    "net1.fit(scaled_x, y)"
   ]
  },
  {
   "cell_type": "markdown",
   "metadata": {},
   "source": [
    "##Random Forest regressor model\n",
    "Neural nets not working 1st time, who would've guessed?!"
   ]
  },
  {
   "cell_type": "code",
   "execution_count": 55,
   "metadata": {
    "collapsed": true
   },
   "outputs": [],
   "source": [
    "from sklearn.ensemble import RandomForestRegressor\n",
    "rfr = RandomForestRegressor(oob_score=True)\n",
    "X_train, X_test, Y_train, Y_test = train_test_split(X, Y, test_size = 0.2, random_state = 14)"
   ]
  },
  {
   "cell_type": "code",
   "execution_count": 56,
   "metadata": {
    "collapsed": false
   },
   "outputs": [
    {
     "name": "stderr",
     "output_type": "stream",
     "text": [
      "/Users/scott/anaconda/lib/python2.7/site-packages/sklearn/ensemble/forest.py:600: UserWarning: Some inputs do not have OOB scores. This probably means too few trees were used to compute any reliable oob estimates.\n",
      "  warn(\"Some inputs do not have OOB scores. \"\n"
     ]
    },
    {
     "data": {
      "text/plain": [
       "RandomForestRegressor(bootstrap=True, compute_importances=None,\n",
       "           criterion='mse', max_depth=None, max_features='auto',\n",
       "           max_leaf_nodes=None, min_density=None, min_samples_leaf=1,\n",
       "           min_samples_split=2, n_estimators=10, n_jobs=1, oob_score=True,\n",
       "           random_state=None, verbose=0)"
      ]
     },
     "execution_count": 56,
     "metadata": {},
     "output_type": "execute_result"
    }
   ],
   "source": [
    "rfr.fit(X_train,Y_train)"
   ]
  },
  {
   "cell_type": "code",
   "execution_count": 57,
   "metadata": {
    "collapsed": false
   },
   "outputs": [
    {
     "data": {
      "text/plain": [
       "0.093442662655024877"
      ]
     },
     "execution_count": 57,
     "metadata": {},
     "output_type": "execute_result"
    }
   ],
   "source": [
    "rfr.score(X_test,Y_test)"
   ]
  },
  {
   "cell_type": "code",
   "execution_count": 58,
   "metadata": {
    "collapsed": false
   },
   "outputs": [
    {
     "data": {
      "text/plain": [
       "0.0096693512018427973"
      ]
     },
     "execution_count": 58,
     "metadata": {},
     "output_type": "execute_result"
    }
   ],
   "source": [
    "rfr.oob_score_"
   ]
  },
  {
   "cell_type": "code",
   "execution_count": 59,
   "metadata": {
    "collapsed": true
   },
   "outputs": [],
   "source": [
    "Y_pred = rfr.predict(X_test)"
   ]
  },
  {
   "cell_type": "code",
   "execution_count": 68,
   "metadata": {
    "collapsed": false
   },
   "outputs": [
    {
     "name": "stdout",
     "output_type": "stream",
     "text": [
      "[-12419.02534473 -12410.80618377 -12356.9444577  -12324.28702746\n",
      " -12348.89734169 -12388.01135035 -12365.56977055  -3125.60144835\n",
      "  -3125.23774066  -3125.30821753  -3125.32930326  -3125.3380243\n",
      "  -3125.11893927  -3125.31488453]\n",
      "[-2081.65131667 -2070.204      -1980.47421667 -1936.56133333 -1980.67578333\n",
      " -2025.50371667 -2007.35018333 -2099.65122017 -2099.36738433 -2099.46652683\n",
      " -2099.49654417 -2099.49947233 -2099.33611333 -2099.49328117]\n"
     ]
    }
   ],
   "source": [
    "val = 100\n",
    "print Y_pred[val]\n",
    "print Y_test[val]"
   ]
  },
  {
   "cell_type": "markdown",
   "metadata": {},
   "source": [
    "##Linear regressor model"
   ]
  },
  {
   "cell_type": "code",
   "execution_count": 253,
   "metadata": {
    "collapsed": true
   },
   "outputs": [],
   "source": [
    "from sklearn.linear_model import LinearRegression\n",
    "lr = LinearRegression()\n",
    "X_train, X_test, Y_train, Y_test = train_test_split(X, Y, test_size = 0.2, random_state = 14)"
   ]
  },
  {
   "cell_type": "code",
   "execution_count": 254,
   "metadata": {
    "collapsed": false
   },
   "outputs": [
    {
     "data": {
      "text/plain": [
       "LinearRegression(copy_X=True, fit_intercept=True, normalize=False)"
      ]
     },
     "execution_count": 254,
     "metadata": {},
     "output_type": "execute_result"
    }
   ],
   "source": [
    "lr.fit(X_train,Y_train)"
   ]
  },
  {
   "cell_type": "code",
   "execution_count": 255,
   "metadata": {
    "collapsed": false
   },
   "outputs": [
    {
     "data": {
      "text/plain": [
       "-222.64278500759912"
      ]
     },
     "execution_count": 255,
     "metadata": {},
     "output_type": "execute_result"
    }
   ],
   "source": [
    "lr.score(X_test,Y_test)"
   ]
  },
  {
   "cell_type": "code",
   "execution_count": 256,
   "metadata": {
    "collapsed": true
   },
   "outputs": [],
   "source": [
    "Y_pred = rfr.predict(X_test)"
   ]
  },
  {
   "cell_type": "code",
   "execution_count": 268,
   "metadata": {
    "collapsed": false
   },
   "outputs": [
    {
     "name": "stdout",
     "output_type": "stream",
     "text": [
      "[ 6906.70653633  6939.73220954  6986.62261443  7021.54779659  7003.03415723\n",
      "  6966.2242525   6987.41677219 -1133.95232264 -1133.09091217 -1132.96209366\n",
      " -1132.87606238 -1132.79554555 -1132.5208635  -1132.78061842]\n",
      "[-2318.68881667 -2300.75068333 -2191.94566667 -2132.26266667 -2183.365\n",
      " -2253.203      -2215.77516667 -2333.060363   -2332.8778115  -2332.9633125\n",
      " -2332.9920775  -2333.0003805  -2332.809689   -2333.000124  ]\n"
     ]
    }
   ],
   "source": [
    "from random import randint\n",
    "val = randint(0,508)\n",
    "print Y_pred[val]\n",
    "print Y_test[val]"
   ]
  },
  {
   "cell_type": "markdown",
   "metadata": {},
   "source": [
    "##Ridge regression model"
   ]
  },
  {
   "cell_type": "code",
   "execution_count": 289,
   "metadata": {
    "collapsed": true
   },
   "outputs": [],
   "source": [
    "from sklearn.linear_model import Ridge\n",
    "ridge = Ridge()\n",
    "X_train, X_test, Y_train, Y_test = train_test_split(X, Y, test_size = 0.5, random_state = 14)"
   ]
  },
  {
   "cell_type": "code",
   "execution_count": null,
   "metadata": {
    "collapsed": true
   },
   "outputs": [],
   "source": []
  },
  {
   "cell_type": "code",
   "execution_count": 290,
   "metadata": {
    "collapsed": false
   },
   "outputs": [
    {
     "data": {
      "text/plain": [
       "Ridge(alpha=1.0, copy_X=True, fit_intercept=True, max_iter=None,\n",
       "   normalize=False, solver='auto', tol=0.001)"
      ]
     },
     "execution_count": 290,
     "metadata": {},
     "output_type": "execute_result"
    }
   ],
   "source": [
    "ridge.fit(X_train, Y_train)"
   ]
  },
  {
   "cell_type": "code",
   "execution_count": 291,
   "metadata": {
    "collapsed": false
   },
   "outputs": [
    {
     "data": {
      "text/plain": [
       "-6.1071156477380981"
      ]
     },
     "execution_count": 291,
     "metadata": {},
     "output_type": "execute_result"
    }
   ],
   "source": [
    "ridge.score(X_test,Y_test)"
   ]
  },
  {
   "cell_type": "code",
   "execution_count": 292,
   "metadata": {
    "collapsed": true
   },
   "outputs": [],
   "source": [
    "Y_pred = ridge.predict(X_test)"
   ]
  },
  {
   "cell_type": "code",
   "execution_count": 293,
   "metadata": {
    "collapsed": false
   },
   "outputs": [
    {
     "name": "stdout",
     "output_type": "stream",
     "text": [
      "[ 8481.07994688  8584.9537603   8616.64852565  8620.0829562   8601.34456773\n",
      "  8624.14464114  8590.71068227  6209.31671926  6209.29114993  6209.32020132\n",
      "  6209.34848965  6209.43477771  6209.18190122  6209.52546508]\n",
      "[-2090.43820833 -2070.93618333 -1966.34966667 -1900.1695     -1945.3535\n",
      " -2001.5885     -1981.12433333 -2099.66916983 -2099.54994117 -2099.63143433\n",
      " -2099.66807233 -2099.686643   -2099.587258   -2099.677963  ]\n"
     ]
    }
   ],
   "source": [
    "val = randint(0,508)\n",
    "print Y_pred[val]\n",
    "print Y_test[val]"
   ]
  },
  {
   "cell_type": "markdown",
   "metadata": {},
   "source": [
    "suprisingly, this is very fast and works the best due to it's speed!"
   ]
  },
  {
   "cell_type": "markdown",
   "metadata": {},
   "source": [
    "##Build up data part 2"
   ]
  },
  {
   "cell_type": "code",
   "execution_count": 1,
   "metadata": {
    "collapsed": false
   },
   "outputs": [
    {
     "name": "stdout",
     "output_type": "stream",
     "text": [
      "No file with this datetime within 3 hours! Desired datetime = 2014-04-01 18:00:00\n",
      "No file with this datetime within 3 hours! Desired datetime = 2014-04-01 19:00:00\n",
      "No file with this datetime within 3 hours! Desired datetime = 2014-04-01 20:00:00\n",
      "No file with this datetime within 3 hours! Desired datetime = 2014-04-01 21:00:00\n",
      "No file with this datetime within 3 hours! Desired datetime = 2014-04-01 22:00:00\n",
      "No file with this datetime within 3 hours! Desired datetime = 2014-04-01 23:00:00\n",
      "No file with this datetime within 3 hours! Desired datetime = 2014-04-02 00:00:00\n",
      "No file with this datetime within 3 hours! Desired datetime = 2014-04-02 01:00:00\n",
      "No file with this datetime within 3 hours! Desired datetime = 2014-04-02 02:00:00\n",
      "No file with this datetime within 3 hours! Desired datetime = 2014-04-02 03:00:00\n",
      "No file with this datetime within 3 hours! Desired datetime = 2014-04-27 18:00:00\n",
      "No file with this datetime within 3 hours! Desired datetime = 2014-04-27 19:00:00\n",
      "No file with this datetime within 3 hours! Desired datetime = 2014-04-27 20:00:00\n",
      "No file with this datetime within 3 hours! Desired datetime = 2014-04-27 21:00:00\n",
      "No file with this datetime within 3 hours! Desired datetime = 2014-04-27 22:00:00\n",
      "No file with this datetime within 3 hours! Desired datetime = 2014-05-18 21:00:00\n",
      "No file with this datetime within 3 hours! Desired datetime = 2014-05-18 22:00:00\n",
      "No file with this datetime within 3 hours! Desired datetime = 2014-05-18 23:00:00\n",
      "No file with this datetime within 3 hours! Desired datetime = 2014-05-19 00:00:00\n",
      "No file with this datetime within 3 hours! Desired datetime = 2014-05-28 21:00:00\n",
      "No file with this datetime within 3 hours! Desired datetime = 2014-05-28 22:00:00\n",
      "No file with this datetime within 3 hours! Desired datetime = 2014-05-28 23:00:00\n",
      "No file with this datetime within 3 hours! Desired datetime = 2014-05-29 00:00:00\n",
      "No file with this datetime within 3 hours! Desired datetime = 2014-05-29 01:00:00\n",
      "No file with this datetime within 3 hours! Desired datetime = 2014-05-29 02:00:00\n",
      "No file with this datetime within 3 hours! Desired datetime = 2014-05-29 03:00:00\n",
      "No file with this datetime within 3 hours! Desired datetime = 2014-06-01 00:00:00\n",
      "No file with this datetime within 3 hours! Desired datetime = 2014-06-01 01:00:00\n",
      "No file with this datetime within 3 hours! Desired datetime = 2014-06-01 02:00:00\n",
      "No file with this datetime within 3 hours! Desired datetime = 2014-06-01 03:00:00\n",
      "No file with this datetime within 3 hours! Desired datetime = 2014-06-26 00:00:00\n",
      "No file with this datetime within 3 hours! Desired datetime = 2014-06-26 01:00:00\n",
      "No file with this datetime within 3 hours! Desired datetime = 2014-06-26 02:00:00\n",
      "No file with this datetime within 3 hours! Desired datetime = 2014-06-26 03:00:00\n",
      "No file with this datetime within 3 hours! Desired datetime = 2014-06-26 22:00:00\n",
      "No file with this datetime within 3 hours! Desired datetime = 2014-06-26 23:00:00\n",
      "No file with this datetime within 3 hours! Desired datetime = 2014-06-27 00:00:00\n",
      "No file with this datetime within 3 hours! Desired datetime = 2014-06-27 01:00:00\n",
      "No file with this datetime within 3 hours! Desired datetime = 2014-06-27 02:00:00\n",
      "No file with this datetime within 3 hours! Desired datetime = 2014-06-27 03:00:00\n",
      "No file with this datetime within 3 hours! Desired datetime = 2014-07-11 02:00:00\n",
      "No file with this datetime within 3 hours! Desired datetime = 2014-07-11 03:00:00\n",
      "No file with this datetime within 3 hours! Desired datetime = 2014-07-14 02:00:00\n",
      "No file with this datetime within 3 hours! Desired datetime = 2014-07-14 03:00:00\n",
      "No file with this datetime within 3 hours! Desired datetime = 2014-07-14 23:00:00\n",
      "No file with this datetime within 3 hours! Desired datetime = 2014-07-15 00:00:00\n",
      "No file with this datetime within 3 hours! Desired datetime = 2014-07-15 01:00:00\n",
      "No file with this datetime within 3 hours! Desired datetime = 2014-07-15 02:00:00\n",
      "No file with this datetime within 3 hours! Desired datetime = 2014-07-15 03:00:00\n",
      "No file with this datetime within 3 hours! Desired datetime = 2014-07-15 23:00:00\n",
      "No file with this datetime within 3 hours! Desired datetime = 2014-07-16 00:00:00\n",
      "No file with this datetime within 3 hours! Desired datetime = 2014-07-16 23:00:00\n",
      "No file with this datetime within 3 hours! Desired datetime = 2014-07-17 00:00:00\n",
      "No file with this datetime within 3 hours! Desired datetime = 2014-07-17 01:00:00\n",
      "No file with this datetime within 3 hours! Desired datetime = 2014-07-17 02:00:00\n",
      "No file with this datetime within 3 hours! Desired datetime = 2014-07-17 03:00:00\n",
      "No file with this datetime within 3 hours! Desired datetime = 2014-07-21 02:00:00\n",
      "No file with this datetime within 3 hours! Desired datetime = 2014-07-21 03:00:00\n",
      "No file with this datetime within 3 hours! Desired datetime = 2014-07-22 21:00:00\n",
      "No file with this datetime within 3 hours! Desired datetime = 2014-07-22 22:00:00\n",
      "No file with this datetime within 3 hours! Desired datetime = 2014-07-22 23:00:00\n",
      "No file with this datetime within 3 hours! Desired datetime = 2014-07-23 00:00:00\n",
      "No file with this datetime within 3 hours! Desired datetime = 2014-07-23 01:00:00\n",
      "No file with this datetime within 3 hours! Desired datetime = 2014-07-23 02:00:00\n",
      "No file with this datetime within 3 hours! Desired datetime = 2014-07-23 03:00:00\n",
      "No file with this datetime within 3 hours! Desired datetime = 2014-07-23 22:00:00\n",
      "No file with this datetime within 3 hours! Desired datetime = 2014-07-23 23:00:00\n",
      "No file with this datetime within 3 hours! Desired datetime = 2014-07-24 00:00:00\n",
      "No file with this datetime within 3 hours! Desired datetime = 2014-07-24 01:00:00\n",
      "No file with this datetime within 3 hours! Desired datetime = 2014-07-24 02:00:00\n",
      "No file with this datetime within 3 hours! Desired datetime = 2014-07-24 03:00:00\n",
      "No file with this datetime within 3 hours! Desired datetime = 2014-07-25 23:00:00\n",
      "No file with this datetime within 3 hours! Desired datetime = 2014-07-26 00:00:00\n",
      "No file with this datetime within 3 hours! Desired datetime = 2014-07-26 01:00:00\n",
      "No file with this datetime within 3 hours! Desired datetime = 2014-07-26 02:00:00\n",
      "No file with this datetime within 3 hours! Desired datetime = 2014-07-26 03:00:00\n",
      "No file with this datetime within 3 hours! Desired datetime = 2014-07-26 21:00:00\n",
      "No file with this datetime within 3 hours! Desired datetime = 2014-07-26 22:00:00\n",
      "No file with this datetime within 3 hours! Desired datetime = 2014-07-26 23:00:00\n",
      "No file with this datetime within 3 hours! Desired datetime = 2014-07-27 00:00:00\n",
      "No file with this datetime within 3 hours! Desired datetime = 2014-07-27 01:00:00\n",
      "No file with this datetime within 3 hours! Desired datetime = 2014-07-27 02:00:00\n",
      "No file with this datetime within 3 hours! Desired datetime = 2014-07-27 03:00:00\n",
      "No file with this datetime within 3 hours! Desired datetime = 2014-07-27 21:00:00\n",
      "No file with this datetime within 3 hours! Desired datetime = 2014-07-27 22:00:00\n",
      "No file with this datetime within 3 hours! Desired datetime = 2014-07-27 23:00:00\n",
      "No file with this datetime within 3 hours! Desired datetime = 2014-07-28 00:00:00\n",
      "No file with this datetime within 3 hours! Desired datetime = 2014-07-28 01:00:00\n",
      "No file with this datetime within 3 hours! Desired datetime = 2014-07-28 02:00:00\n",
      "No file with this datetime within 3 hours! Desired datetime = 2014-07-28 03:00:00\n",
      "No file with this datetime within 3 hours! Desired datetime = 2014-07-28 21:00:00\n",
      "No file with this datetime within 3 hours! Desired datetime = 2014-07-28 22:00:00\n",
      "No file with this datetime within 3 hours! Desired datetime = 2014-07-28 23:00:00\n",
      "No file with this datetime within 3 hours! Desired datetime = 2014-07-29 00:00:00\n",
      "No file with this datetime within 3 hours! Desired datetime = 2014-07-29 01:00:00\n",
      "No file with this datetime within 3 hours! Desired datetime = 2014-07-29 02:00:00\n",
      "No file with this datetime within 3 hours! Desired datetime = 2014-07-29 03:00:00\n",
      "No file with this datetime within 3 hours! Desired datetime = 2014-08-03 20:00:00\n",
      "No file with this datetime within 3 hours! Desired datetime = 2014-08-03 21:00:00\n",
      "No file with this datetime within 3 hours! Desired datetime = 2014-08-03 22:00:00\n",
      "No file with this datetime within 3 hours! Desired datetime = 2014-08-03 23:00:00\n",
      "No file with this datetime within 3 hours! Desired datetime = 2014-08-04 00:00:00\n",
      "No file with this datetime within 3 hours! Desired datetime = 2014-08-04 01:00:00\n",
      "No file with this datetime within 3 hours! Desired datetime = 2014-08-04 02:00:00\n",
      "No file with this datetime within 3 hours! Desired datetime = 2014-08-04 03:00:00\n",
      "No file with this datetime within 3 hours! Desired datetime = 2014-08-10 18:00:00\n",
      "No file with this datetime within 3 hours! Desired datetime = 2014-08-10 19:00:00\n",
      "No file with this datetime within 3 hours! Desired datetime = 2014-08-10 20:00:00\n",
      "No file with this datetime within 3 hours! Desired datetime = 2014-08-10 21:00:00\n",
      "No file with this datetime within 3 hours! Desired datetime = 2014-08-10 22:00:00\n",
      "No file with this datetime within 3 hours! Desired datetime = 2014-08-10 23:00:00\n",
      "No file with this datetime within 3 hours! Desired datetime = 2014-08-11 00:00:00\n",
      "No file with this datetime within 3 hours! Desired datetime = 2014-08-12 00:00:00\n",
      "No file with this datetime within 3 hours! Desired datetime = 2014-08-12 01:00:00\n",
      "No file with this datetime within 3 hours! Desired datetime = 2014-08-12 02:00:00\n",
      "No file with this datetime within 3 hours! Desired datetime = 2014-08-12 03:00:00\n",
      "No file with this datetime within 3 hours! Desired datetime = 2014-08-12 22:00:00\n",
      "No file with this datetime within 3 hours! Desired datetime = 2014-08-12 23:00:00\n",
      "No file with this datetime within 3 hours! Desired datetime = 2014-08-13 00:00:00\n",
      "No file with this datetime within 3 hours! Desired datetime = 2014-08-13 01:00:00\n",
      "No file with this datetime within 3 hours! Desired datetime = 2014-08-13 02:00:00\n",
      "No file with this datetime within 3 hours! Desired datetime = 2014-08-13 03:00:00\n",
      "No file with this datetime within 3 hours! Desired datetime = 2014-08-13 13:00:00\n",
      "No file with this datetime within 3 hours! Desired datetime = 2014-08-13 14:00:00\n",
      "No file with this datetime within 3 hours! Desired datetime = 2014-08-13 15:00:00\n",
      "No file with this datetime within 3 hours! Desired datetime = 2014-08-13 22:00:00\n",
      "No file with this datetime within 3 hours! Desired datetime = 2014-08-20 20:00:00\n",
      "No file with this datetime within 3 hours! Desired datetime = 2014-08-20 21:00:00\n",
      "No file with this datetime within 3 hours! Desired datetime = 2014-08-20 22:00:00\n",
      "No file with this datetime within 3 hours! Desired datetime = 2014-08-20 23:00:00\n",
      "No file with this datetime within 3 hours! Desired datetime = 2014-08-21 00:00:00\n",
      "No file with this datetime within 3 hours! Desired datetime = 2014-08-21 01:00:00\n",
      "No file with this datetime within 3 hours! Desired datetime = 2014-08-21 02:00:00\n",
      "No file with this datetime within 3 hours! Desired datetime = 2014-08-21 03:00:00\n",
      "No file with this datetime within 3 hours! Desired datetime = 2014-08-22 03:00:00\n",
      "No file with this datetime within 3 hours! Desired datetime = 2014-08-29 21:00:00\n",
      "No file with this datetime within 3 hours! Desired datetime = 2014-08-29 22:00:00\n",
      "No file with this datetime within 3 hours! Desired datetime = 2014-08-29 23:00:00\n",
      "No file with this datetime within 3 hours! Desired datetime = 2014-08-30 00:00:00\n",
      "No file with this datetime within 3 hours! Desired datetime = 2014-08-30 01:00:00\n",
      "No file with this datetime within 3 hours! Desired datetime = 2014-08-30 02:00:00\n",
      "No file with this datetime within 3 hours! Desired datetime = 2014-08-30 03:00:00\n",
      "No file with this datetime within 3 hours! Desired datetime = 2014-09-01 23:00:00\n",
      "No file with this datetime within 3 hours! Desired datetime = 2014-09-02 00:00:00\n",
      "No file with this datetime within 3 hours! Desired datetime = 2014-09-02 21:00:00\n",
      "No file with this datetime within 3 hours! Desired datetime = 2014-09-02 22:00:00\n",
      "No file with this datetime within 3 hours! Desired datetime = 2014-09-02 23:00:00\n",
      "No file with this datetime within 3 hours! Desired datetime = 2014-09-03 00:00:00\n",
      "No file with this datetime within 3 hours! Desired datetime = 2014-09-03 01:00:00\n",
      "No file with this datetime within 3 hours! Desired datetime = 2014-09-03 02:00:00\n",
      "No file with this datetime within 3 hours! Desired datetime = 2014-09-03 03:00:00\n",
      "No file with this datetime within 3 hours! Desired datetime = 2014-09-03 21:00:00\n",
      "No file with this datetime within 3 hours! Desired datetime = 2014-09-03 22:00:00\n",
      "No file with this datetime within 3 hours! Desired datetime = 2014-09-03 23:00:00\n",
      "No file with this datetime within 3 hours! Desired datetime = 2014-09-04 00:00:00\n",
      "No file with this datetime within 3 hours! Desired datetime = 2014-09-04 01:00:00\n",
      "No file with this datetime within 3 hours! Desired datetime = 2014-09-04 02:00:00\n",
      "No file with this datetime within 3 hours! Desired datetime = 2014-09-04 03:00:00\n",
      "No file with this datetime within 3 hours! Desired datetime = 2014-09-06 20:00:00\n",
      "No file with this datetime within 3 hours! Desired datetime = 2014-09-06 21:00:00\n",
      "No file with this datetime within 3 hours! Desired datetime = 2014-09-06 22:00:00\n",
      "No file with this datetime within 3 hours! Desired datetime = 2014-09-06 23:00:00\n",
      "No file with this datetime within 3 hours! Desired datetime = 2014-09-07 00:00:00\n",
      "No file with this datetime within 3 hours! Desired datetime = 2014-09-07 01:00:00\n",
      "No file with this datetime within 3 hours! Desired datetime = 2014-09-07 02:00:00\n",
      "No file with this datetime within 3 hours! Desired datetime = 2014-09-07 03:00:00\n",
      "No file with this datetime within 3 hours! Desired datetime = 2014-09-08 20:00:00\n",
      "No file with this datetime within 3 hours! Desired datetime = 2014-09-08 21:00:00\n",
      "No file with this datetime within 3 hours! Desired datetime = 2014-09-08 22:00:00\n",
      "No file with this datetime within 3 hours! Desired datetime = 2014-09-08 23:00:00\n",
      "No file with this datetime within 3 hours! Desired datetime = 2014-09-09 00:00:00\n",
      "No file with this datetime within 3 hours! Desired datetime = 2014-09-09 01:00:00\n",
      "No file with this datetime within 3 hours! Desired datetime = 2014-09-09 02:00:00\n",
      "No file with this datetime within 3 hours! Desired datetime = 2014-09-09 03:00:00\n",
      "No file with this datetime within 3 hours! Desired datetime = 2014-09-18 20:00:00\n",
      "No file with this datetime within 3 hours! Desired datetime = 2014-09-18 21:00:00\n",
      "No file with this datetime within 3 hours! Desired datetime = 2014-09-18 22:00:00\n",
      "No file with this datetime within 3 hours! Desired datetime = 2014-09-18 23:00:00\n",
      "No file with this datetime within 3 hours! Desired datetime = 2014-09-19 00:00:00\n",
      "No file with this datetime within 3 hours! Desired datetime = 2014-09-27 00:00:00\n",
      "No file with this datetime within 3 hours! Desired datetime = 2014-09-27 01:00:00\n",
      "No file with this datetime within 3 hours! Desired datetime = 2014-09-27 02:00:00\n",
      "No file with this datetime within 3 hours! Desired datetime = 2014-09-27 03:00:00\n",
      "No file with this datetime within 3 hours! Desired datetime = 2014-09-27 13:00:00\n",
      "No file with this datetime within 3 hours! Desired datetime = 2014-09-27 14:00:00\n",
      "No file with this datetime within 3 hours! Desired datetime = 2014-09-27 15:00:00\n"
     ]
    }
   ],
   "source": [
    "from datetime import datetime,timedelta, time\n",
    "import pandas as pd\n",
    "import numpy as np\n",
    "import matplotlib.pyplot as plt\n",
    "from data_helper_functions import *\n",
    "from IPython.display import display\n",
    "pd.options.display.max_columns = 999\n",
    "from __future__ import division\n",
    "%matplotlib inline\n",
    "\n",
    "#iterate over datetimes:\n",
    "mytime = datetime(2014, 4, 1, 13)\n",
    "times = make_time(mytime)\n",
    "\n",
    "satellite_filefolder = 'data/satellite/colorado/summer6months/data/'\n",
    "sensor_filefolder = 'data/sensor_data/colorado6months/'\n",
    "\n",
    "X = []\n",
    "Y = []\n",
    "\n",
    "for desired_datetime in times: \n",
    "    \n",
    "    try: #ignore data without satellite images, should update to output datetime of occurrance\n",
    "        desired_date = (desired_datetime - timedelta(hours=6)).date() #make sure correct date\n",
    "        desired_date = datetime.combine(desired_date, time.min) #get into datetime format\n",
    "\n",
    "        desired_channel = 'BAND_01' #problems with an inner for loop (doesn't look good, but works)\n",
    "        satellite_filename = find_filename(desired_datetime, desired_channel, satellite_filefolder)\n",
    "        lons, lats, data1 = return_satellite_data(satellite_filename, satellite_filefolder)\n",
    "        \n",
    "        desired_channel = 'BAND_02'\n",
    "        satellite_filename = find_filename(desired_datetime, desired_channel, satellite_filefolder)\n",
    "        lons, lats, data2 = return_satellite_data(satellite_filename, satellite_filefolder)\n",
    "        \n",
    "        desired_channel = 'BAND_03'\n",
    "        satellite_filename = find_filename(desired_datetime, desired_channel, satellite_filefolder)\n",
    "        lons, lats, data3 = return_satellite_data(satellite_filename, satellite_filefolder)               \n",
    "\n",
    "        desired_channel = 'BAND_04'\n",
    "        satellite_filename = find_filename(desired_datetime, desired_channel, satellite_filefolder)\n",
    "        lons, lats, data4 = return_satellite_data(satellite_filename, satellite_filefolder)\n",
    "        \n",
    "        desired_channel = 'BAND_06'\n",
    "        satellite_filename = find_filename(desired_datetime, desired_channel, satellite_filefolder)\n",
    "        lons, lats, data5 = return_satellite_data(satellite_filename, satellite_filefolder)\n",
    "\n",
    "        sensor_filename = find_file_from_date(desired_date, sensor_filefolder)\n",
    "        df_sensor = return_sensor_data(sensor_filename, sensor_filefolder).ix[:,-15:-1]\n",
    "        df_sensor[df_sensor.index == desired_datetime]\n",
    "\n",
    "        Y.append(df_sensor[df_sensor.index == desired_datetime].values[0])\n",
    "        X.append(np.hstack( ( np.ravel(data1) , np.ravel(data2), np.ravel(data3) , np.ravel(data4), np.ravel(data5) ) ) )\n",
    "    except:\n",
    "         pass"
   ]
  },
  {
   "cell_type": "code",
   "execution_count": 4,
   "metadata": {
    "collapsed": false
   },
   "outputs": [],
   "source": [
    "X = np.array(X)\n",
    "Y = np.array(Y)"
   ]
  },
  {
   "cell_type": "code",
   "execution_count": 5,
   "metadata": {
    "collapsed": false
   },
   "outputs": [
    {
     "data": {
      "text/plain": [
       "(2544, 3988)"
      ]
     },
     "execution_count": 5,
     "metadata": {},
     "output_type": "execute_result"
    }
   ],
   "source": [
    "X.shape"
   ]
  },
  {
   "cell_type": "code",
   "execution_count": 6,
   "metadata": {
    "collapsed": false
   },
   "outputs": [
    {
     "data": {
      "text/plain": [
       "(2544, 14)"
      ]
     },
     "execution_count": 6,
     "metadata": {},
     "output_type": "execute_result"
    }
   ],
   "source": [
    "Y.shape"
   ]
  },
  {
   "cell_type": "code",
   "execution_count": 7,
   "metadata": {
    "collapsed": true
   },
   "outputs": [],
   "source": [
    "#np.savetxt('data/X.txt', X)\n",
    "#np.savetxt('data/Y.txt', Y)\n",
    "#np.savez_compressed('data/Y_all_channels.npz',Y=Y)\n",
    "#np.savez_compressed('data/X_all_channels.npz',X=X)"
   ]
  },
  {
   "cell_type": "markdown",
   "metadata": {},
   "source": [
    "##Linear Reg again"
   ]
  },
  {
   "cell_type": "code",
   "execution_count": 9,
   "metadata": {
    "collapsed": false
   },
   "outputs": [],
   "source": [
    "from sklearn.linear_model import LinearRegression\n",
    "from sklearn.cross_validation import train_test_split\n",
    "lr = LinearRegression()\n",
    "X_train, X_test, Y_train, Y_test = train_test_split(X, Y, test_size = 0.5, random_state = 14)"
   ]
  },
  {
   "cell_type": "code",
   "execution_count": 10,
   "metadata": {
    "collapsed": false
   },
   "outputs": [
    {
     "data": {
      "text/plain": [
       "LinearRegression(copy_X=True, fit_intercept=True, n_jobs=1, normalize=False)"
      ]
     },
     "execution_count": 10,
     "metadata": {},
     "output_type": "execute_result"
    }
   ],
   "source": [
    "lr.fit(X_train,Y_train)"
   ]
  },
  {
   "cell_type": "code",
   "execution_count": 11,
   "metadata": {
    "collapsed": false
   },
   "outputs": [
    {
     "data": {
      "text/plain": [
       "-2.0134931027358594"
      ]
     },
     "execution_count": 11,
     "metadata": {},
     "output_type": "execute_result"
    }
   ],
   "source": [
    "lr.score(X_test,Y_test)"
   ]
  },
  {
   "cell_type": "code",
   "execution_count": 19,
   "metadata": {
    "collapsed": false
   },
   "outputs": [
    {
     "name": "stdout",
     "output_type": "stream",
     "text": [
      "[-13048.26687386 -13074.32174854 -13100.55642084 -13114.61671839\n",
      " -13101.4448886  -13075.4002051  -13093.50648556  -1804.75496461\n",
      "  -1805.01842424  -1805.0371907   -1805.0462258   -1805.06474491\n",
      "  -1805.22238508  -1805.08588597]\n",
      "[-1283.15 -1283.15 -1283.15 -1283.15 -1283.15 -1283.15 -1283.15 -1283.15\n",
      " -1283.15 -1283.15 -1283.15 -1283.15 -1283.15 -1283.15]\n"
     ]
    }
   ],
   "source": [
    "Y_pred = lr.predict(X_test)\n",
    "from random import randint\n",
    "val = randint(0,508)\n",
    "print Y_pred[val]\n",
    "print Y_test[val]"
   ]
  },
  {
   "cell_type": "markdown",
   "metadata": {},
   "source": [
    "##Ridge again"
   ]
  },
  {
   "cell_type": "code",
   "execution_count": 24,
   "metadata": {
    "collapsed": true
   },
   "outputs": [],
   "source": [
    "from sklearn.linear_model import Ridge\n",
    "ridge = Ridge(solver = 'svd')\n",
    "X_train, X_test, Y_train, Y_test = train_test_split(X, Y, test_size = 0.5, random_state = 14)"
   ]
  },
  {
   "cell_type": "code",
   "execution_count": 25,
   "metadata": {
    "collapsed": false
   },
   "outputs": [
    {
     "data": {
      "text/plain": [
       "Ridge(alpha=1.0, copy_X=True, fit_intercept=True, max_iter=None,\n",
       "   normalize=False, solver='svd', tol=0.001)"
      ]
     },
     "execution_count": 25,
     "metadata": {},
     "output_type": "execute_result"
    }
   ],
   "source": [
    "ridge.fit(X_train,Y_train)"
   ]
  },
  {
   "cell_type": "code",
   "execution_count": 26,
   "metadata": {
    "collapsed": false
   },
   "outputs": [
    {
     "data": {
      "text/plain": [
       "-2.0090967192711715"
      ]
     },
     "execution_count": 26,
     "metadata": {},
     "output_type": "execute_result"
    }
   ],
   "source": [
    "ridge.score(X_test,Y_test)"
   ]
  },
  {
   "cell_type": "code",
   "execution_count": 33,
   "metadata": {
    "collapsed": false
   },
   "outputs": [
    {
     "name": "stdout",
     "output_type": "stream",
     "text": [
      "[-19536.44650315 -19608.3489387  -19548.1032999  -19465.93280051\n",
      " -19479.19950106 -19594.57572702 -19506.07923834  -4160.89173924\n",
      "  -4160.07803645  -4160.06828459  -4160.05081943  -4160.0431162\n",
      "  -4159.74614785  -4160.00704297]\n",
      "[-1399.79942907 -1399.79973343 -1399.79849385 -1399.79754303 -1399.79800903\n",
      " -1399.7997209  -1399.79850053 -1398.9186915  -1398.13730633 -1398.06820567\n",
      " -1398.026232   -1398.035478   -1397.77162867 -1398.0290575 ]\n"
     ]
    }
   ],
   "source": [
    "Y_pred = ridge.predict(X_test)\n",
    "from random import randint\n",
    "val = randint(0,508)\n",
    "print Y_pred[val]\n",
    "print Y_test[val]"
   ]
  },
  {
   "cell_type": "markdown",
   "metadata": {},
   "source": [
    "##Random Forest Reg"
   ]
  },
  {
   "cell_type": "code",
   "execution_count": 34,
   "metadata": {
    "collapsed": true
   },
   "outputs": [],
   "source": [
    "from sklearn.ensemble import RandomForestRegressor\n",
    "rfr = RandomForestRegressor(oob_score=True)\n",
    "X_train, X_test, Y_train, Y_test = train_test_split(X, Y, test_size = 0.8, random_state = 14)"
   ]
  },
  {
   "cell_type": "code",
   "execution_count": 35,
   "metadata": {
    "collapsed": false
   },
   "outputs": [
    {
     "name": "stderr",
     "output_type": "stream",
     "text": [
      "/home/ubuntu/anaconda/lib/python2.7/site-packages/sklearn/ensemble/forest.py:659: UserWarning: Some inputs do not have OOB scores. This probably means too few trees were used to compute any reliable oob estimates.\n",
      "  warn(\"Some inputs do not have OOB scores. \"\n"
     ]
    },
    {
     "data": {
      "text/plain": [
       "RandomForestRegressor(bootstrap=True, criterion='mse', max_depth=None,\n",
       "           max_features='auto', max_leaf_nodes=None, min_samples_leaf=1,\n",
       "           min_samples_split=2, min_weight_fraction_leaf=0.0,\n",
       "           n_estimators=10, n_jobs=1, oob_score=True, random_state=None,\n",
       "           verbose=0, warm_start=False)"
      ]
     },
     "execution_count": 35,
     "metadata": {},
     "output_type": "execute_result"
    }
   ],
   "source": [
    "rfr.fit(X_train,Y_train)"
   ]
  },
  {
   "cell_type": "code",
   "execution_count": 59,
   "metadata": {
    "collapsed": false
   },
   "outputs": [
    {
     "data": {
      "text/plain": [
       "0.072349744631842516"
      ]
     },
     "execution_count": 59,
     "metadata": {},
     "output_type": "execute_result"
    }
   ],
   "source": [
    "rfr.score(X_test,Y_test)"
   ]
  },
  {
   "cell_type": "code",
   "execution_count": 71,
   "metadata": {
    "collapsed": false
   },
   "outputs": [
    {
     "name": "stdout",
     "output_type": "stream",
     "text": [
      "[-1769.46086647 -1766.50308958 -1745.37186942 -1734.39720456 -1744.7553791\n",
      " -1757.07918546 -1751.33310737 -1770.69124985 -1769.72340337 -1769.79154835\n",
      " -1769.79997017 -1769.75339045 -1769.39382238 -1769.71786067]\n",
      "[-1974.54735833 -1969.81337333 -1930.93253333 -1914.2324     -1934.72361667\n",
      " -1951.88292333 -1946.519995   -1982.46084833 -1982.13217233 -1982.21646133\n",
      " -1982.22132017 -1982.196077   -1982.0459485  -1982.17083867]\n"
     ]
    }
   ],
   "source": [
    "Y_pred = rfr.predict(X_test)\n",
    "from random import randint\n",
    "val = randint(0,508)\n",
    "print Y_pred[val]\n",
    "print Y_test[val]"
   ]
  },
  {
   "cell_type": "markdown",
   "metadata": {
    "collapsed": true
   },
   "source": [
    "###Try to match up requested datetimes with failed datetime requests"
   ]
  },
  {
   "cell_type": "code",
   "execution_count": 32,
   "metadata": {
    "collapsed": false
   },
   "outputs": [],
   "source": [
    "import pandas as pd\n",
    "df = pd.read_csv('documentation/failed_times.txt',header=None,delimiter=\" \")\n",
    "df.loc[:,11:12]\n",
    "df_failed_times = pd.to_datetime(df[11] +\" \"+ df[12], format=\"%Y-%m-%d %H:%M:%S\")"
   ]
  },
  {
   "cell_type": "code",
   "execution_count": 25,
   "metadata": {
    "collapsed": true
   },
   "outputs": [],
   "source": [
    "from datetime import datetime,timedelta, time\n",
    "import numpy as np\n",
    "import matplotlib.pyplot as plt\n",
    "from data_helper_functions import *\n",
    "from IPython.display import display\n",
    "pd.options.display.max_columns = 999\n",
    "from __future__ import division\n",
    "%matplotlib inline\n",
    "\n",
    "#iterate over datetimes:\n",
    "mytime = datetime(2014, 4, 1, 13)\n",
    "times = make_time(mytime)"
   ]
  },
  {
   "cell_type": "code",
   "execution_count": 91,
   "metadata": {
    "collapsed": true
   },
   "outputs": [
    {
     "data": {
      "text/plain": [
       "[datetime.datetime(2014, 4, 1, 18, 0),\n",
       " datetime.datetime(2014, 4, 1, 19, 0),\n",
       " datetime.datetime(2014, 4, 1, 20, 0),\n",
       " datetime.datetime(2014, 4, 1, 21, 0),\n",
       " datetime.datetime(2014, 4, 1, 22, 0),\n",
       " datetime.datetime(2014, 4, 1, 23, 0),\n",
       " datetime.datetime(2014, 4, 2, 0, 0),\n",
       " datetime.datetime(2014, 4, 2, 1, 0),\n",
       " datetime.datetime(2014, 4, 2, 2, 0),\n",
       " datetime.datetime(2014, 4, 2, 3, 0),\n",
       " datetime.datetime(2014, 4, 27, 18, 0),\n",
       " datetime.datetime(2014, 4, 27, 19, 0),\n",
       " datetime.datetime(2014, 4, 27, 20, 0),\n",
       " datetime.datetime(2014, 4, 27, 21, 0),\n",
       " datetime.datetime(2014, 4, 27, 22, 0),\n",
       " datetime.datetime(2014, 5, 18, 21, 0),\n",
       " datetime.datetime(2014, 5, 18, 22, 0),\n",
       " datetime.datetime(2014, 5, 18, 23, 0),\n",
       " datetime.datetime(2014, 5, 19, 0, 0),\n",
       " datetime.datetime(2014, 5, 28, 21, 0),\n",
       " datetime.datetime(2014, 5, 28, 22, 0),\n",
       " datetime.datetime(2014, 5, 28, 23, 0),\n",
       " datetime.datetime(2014, 5, 29, 0, 0),\n",
       " datetime.datetime(2014, 5, 29, 1, 0),\n",
       " datetime.datetime(2014, 5, 29, 2, 0),\n",
       " datetime.datetime(2014, 5, 29, 3, 0),\n",
       " datetime.datetime(2014, 6, 1, 0, 0),\n",
       " datetime.datetime(2014, 6, 1, 1, 0),\n",
       " datetime.datetime(2014, 6, 1, 2, 0),\n",
       " datetime.datetime(2014, 6, 1, 3, 0),\n",
       " datetime.datetime(2014, 6, 26, 0, 0),\n",
       " datetime.datetime(2014, 6, 26, 1, 0),\n",
       " datetime.datetime(2014, 6, 26, 2, 0),\n",
       " datetime.datetime(2014, 6, 26, 3, 0),\n",
       " datetime.datetime(2014, 6, 26, 22, 0),\n",
       " datetime.datetime(2014, 6, 26, 23, 0),\n",
       " datetime.datetime(2014, 6, 27, 0, 0),\n",
       " datetime.datetime(2014, 6, 27, 1, 0),\n",
       " datetime.datetime(2014, 6, 27, 2, 0),\n",
       " datetime.datetime(2014, 6, 27, 3, 0),\n",
       " datetime.datetime(2014, 7, 11, 2, 0),\n",
       " datetime.datetime(2014, 7, 11, 3, 0),\n",
       " datetime.datetime(2014, 7, 14, 2, 0),\n",
       " datetime.datetime(2014, 7, 14, 3, 0),\n",
       " datetime.datetime(2014, 7, 14, 23, 0),\n",
       " datetime.datetime(2014, 7, 15, 0, 0),\n",
       " datetime.datetime(2014, 7, 15, 1, 0),\n",
       " datetime.datetime(2014, 7, 15, 2, 0),\n",
       " datetime.datetime(2014, 7, 15, 3, 0),\n",
       " datetime.datetime(2014, 7, 15, 23, 0),\n",
       " datetime.datetime(2014, 7, 16, 0, 0),\n",
       " datetime.datetime(2014, 7, 16, 23, 0),\n",
       " datetime.datetime(2014, 7, 17, 0, 0),\n",
       " datetime.datetime(2014, 7, 17, 1, 0),\n",
       " datetime.datetime(2014, 7, 17, 2, 0),\n",
       " datetime.datetime(2014, 7, 17, 3, 0),\n",
       " datetime.datetime(2014, 7, 21, 2, 0),\n",
       " datetime.datetime(2014, 7, 21, 3, 0),\n",
       " datetime.datetime(2014, 7, 22, 21, 0),\n",
       " datetime.datetime(2014, 7, 22, 22, 0),\n",
       " datetime.datetime(2014, 7, 22, 23, 0),\n",
       " datetime.datetime(2014, 7, 23, 0, 0),\n",
       " datetime.datetime(2014, 7, 23, 1, 0),\n",
       " datetime.datetime(2014, 7, 23, 2, 0),\n",
       " datetime.datetime(2014, 7, 23, 3, 0),\n",
       " datetime.datetime(2014, 7, 23, 22, 0),\n",
       " datetime.datetime(2014, 7, 23, 23, 0),\n",
       " datetime.datetime(2014, 7, 24, 0, 0),\n",
       " datetime.datetime(2014, 7, 24, 1, 0),\n",
       " datetime.datetime(2014, 7, 24, 2, 0),\n",
       " datetime.datetime(2014, 7, 24, 3, 0),\n",
       " datetime.datetime(2014, 7, 25, 23, 0),\n",
       " datetime.datetime(2014, 7, 26, 0, 0),\n",
       " datetime.datetime(2014, 7, 26, 1, 0),\n",
       " datetime.datetime(2014, 7, 26, 2, 0),\n",
       " datetime.datetime(2014, 7, 26, 3, 0),\n",
       " datetime.datetime(2014, 7, 26, 21, 0),\n",
       " datetime.datetime(2014, 7, 26, 22, 0),\n",
       " datetime.datetime(2014, 7, 26, 23, 0),\n",
       " datetime.datetime(2014, 7, 27, 0, 0),\n",
       " datetime.datetime(2014, 7, 27, 1, 0),\n",
       " datetime.datetime(2014, 7, 27, 2, 0),\n",
       " datetime.datetime(2014, 7, 27, 3, 0),\n",
       " datetime.datetime(2014, 7, 27, 21, 0),\n",
       " datetime.datetime(2014, 7, 27, 22, 0),\n",
       " datetime.datetime(2014, 7, 27, 23, 0),\n",
       " datetime.datetime(2014, 7, 28, 0, 0),\n",
       " datetime.datetime(2014, 7, 28, 1, 0),\n",
       " datetime.datetime(2014, 7, 28, 2, 0),\n",
       " datetime.datetime(2014, 7, 28, 3, 0),\n",
       " datetime.datetime(2014, 7, 28, 21, 0),\n",
       " datetime.datetime(2014, 7, 28, 22, 0),\n",
       " datetime.datetime(2014, 7, 28, 23, 0),\n",
       " datetime.datetime(2014, 7, 29, 0, 0),\n",
       " datetime.datetime(2014, 7, 29, 1, 0),\n",
       " datetime.datetime(2014, 7, 29, 2, 0),\n",
       " datetime.datetime(2014, 7, 29, 3, 0),\n",
       " datetime.datetime(2014, 8, 3, 20, 0),\n",
       " datetime.datetime(2014, 8, 3, 21, 0),\n",
       " datetime.datetime(2014, 8, 3, 22, 0),\n",
       " datetime.datetime(2014, 8, 3, 23, 0),\n",
       " datetime.datetime(2014, 8, 4, 0, 0),\n",
       " datetime.datetime(2014, 8, 4, 1, 0),\n",
       " datetime.datetime(2014, 8, 4, 2, 0),\n",
       " datetime.datetime(2014, 8, 4, 3, 0),\n",
       " datetime.datetime(2014, 8, 10, 18, 0),\n",
       " datetime.datetime(2014, 8, 10, 19, 0),\n",
       " datetime.datetime(2014, 8, 10, 20, 0),\n",
       " datetime.datetime(2014, 8, 10, 21, 0),\n",
       " datetime.datetime(2014, 8, 10, 22, 0),\n",
       " datetime.datetime(2014, 8, 10, 23, 0),\n",
       " datetime.datetime(2014, 8, 11, 0, 0),\n",
       " datetime.datetime(2014, 8, 12, 0, 0),\n",
       " datetime.datetime(2014, 8, 12, 1, 0),\n",
       " datetime.datetime(2014, 8, 12, 2, 0),\n",
       " datetime.datetime(2014, 8, 12, 3, 0),\n",
       " datetime.datetime(2014, 8, 12, 22, 0),\n",
       " datetime.datetime(2014, 8, 12, 23, 0),\n",
       " datetime.datetime(2014, 8, 13, 0, 0),\n",
       " datetime.datetime(2014, 8, 13, 1, 0),\n",
       " datetime.datetime(2014, 8, 13, 2, 0),\n",
       " datetime.datetime(2014, 8, 13, 3, 0),\n",
       " datetime.datetime(2014, 8, 13, 13, 0),\n",
       " datetime.datetime(2014, 8, 13, 14, 0),\n",
       " datetime.datetime(2014, 8, 13, 15, 0),\n",
       " datetime.datetime(2014, 8, 13, 22, 0),\n",
       " datetime.datetime(2014, 8, 20, 20, 0),\n",
       " datetime.datetime(2014, 8, 20, 21, 0),\n",
       " datetime.datetime(2014, 8, 20, 22, 0),\n",
       " datetime.datetime(2014, 8, 20, 23, 0),\n",
       " datetime.datetime(2014, 8, 21, 0, 0),\n",
       " datetime.datetime(2014, 8, 21, 1, 0),\n",
       " datetime.datetime(2014, 8, 21, 2, 0),\n",
       " datetime.datetime(2014, 8, 21, 3, 0),\n",
       " datetime.datetime(2014, 8, 22, 3, 0),\n",
       " datetime.datetime(2014, 8, 29, 21, 0),\n",
       " datetime.datetime(2014, 8, 29, 22, 0),\n",
       " datetime.datetime(2014, 8, 29, 23, 0),\n",
       " datetime.datetime(2014, 8, 30, 0, 0),\n",
       " datetime.datetime(2014, 8, 30, 1, 0),\n",
       " datetime.datetime(2014, 8, 30, 2, 0),\n",
       " datetime.datetime(2014, 8, 30, 3, 0),\n",
       " datetime.datetime(2014, 9, 1, 23, 0),\n",
       " datetime.datetime(2014, 9, 2, 0, 0),\n",
       " datetime.datetime(2014, 9, 2, 21, 0),\n",
       " datetime.datetime(2014, 9, 2, 22, 0),\n",
       " datetime.datetime(2014, 9, 2, 23, 0),\n",
       " datetime.datetime(2014, 9, 3, 0, 0),\n",
       " datetime.datetime(2014, 9, 3, 1, 0),\n",
       " datetime.datetime(2014, 9, 3, 2, 0),\n",
       " datetime.datetime(2014, 9, 3, 3, 0),\n",
       " datetime.datetime(2014, 9, 3, 21, 0),\n",
       " datetime.datetime(2014, 9, 3, 22, 0),\n",
       " datetime.datetime(2014, 9, 3, 23, 0),\n",
       " datetime.datetime(2014, 9, 4, 0, 0),\n",
       " datetime.datetime(2014, 9, 4, 1, 0),\n",
       " datetime.datetime(2014, 9, 4, 2, 0),\n",
       " datetime.datetime(2014, 9, 4, 3, 0),\n",
       " datetime.datetime(2014, 9, 6, 20, 0),\n",
       " datetime.datetime(2014, 9, 6, 21, 0),\n",
       " datetime.datetime(2014, 9, 6, 22, 0),\n",
       " datetime.datetime(2014, 9, 6, 23, 0),\n",
       " datetime.datetime(2014, 9, 7, 0, 0),\n",
       " datetime.datetime(2014, 9, 7, 1, 0),\n",
       " datetime.datetime(2014, 9, 7, 2, 0),\n",
       " datetime.datetime(2014, 9, 7, 3, 0),\n",
       " datetime.datetime(2014, 9, 8, 20, 0),\n",
       " datetime.datetime(2014, 9, 8, 21, 0),\n",
       " datetime.datetime(2014, 9, 8, 22, 0),\n",
       " datetime.datetime(2014, 9, 8, 23, 0),\n",
       " datetime.datetime(2014, 9, 9, 0, 0),\n",
       " datetime.datetime(2014, 9, 9, 1, 0),\n",
       " datetime.datetime(2014, 9, 9, 2, 0),\n",
       " datetime.datetime(2014, 9, 9, 3, 0),\n",
       " datetime.datetime(2014, 9, 18, 20, 0),\n",
       " datetime.datetime(2014, 9, 18, 21, 0),\n",
       " datetime.datetime(2014, 9, 18, 22, 0),\n",
       " datetime.datetime(2014, 9, 18, 23, 0),\n",
       " datetime.datetime(2014, 9, 19, 0, 0),\n",
       " datetime.datetime(2014, 9, 27, 0, 0),\n",
       " datetime.datetime(2014, 9, 27, 1, 0),\n",
       " datetime.datetime(2014, 9, 27, 2, 0),\n",
       " datetime.datetime(2014, 9, 27, 3, 0),\n",
       " datetime.datetime(2014, 9, 27, 13, 0),\n",
       " datetime.datetime(2014, 9, 27, 14, 0),\n",
       " datetime.datetime(2014, 9, 27, 15, 0)]"
      ]
     },
     "execution_count": 91,
     "metadata": {},
     "output_type": "execute_result"
    }
   ],
   "source": [
    "failed_datetimes = [] #make a list from all failed datetimes from df above\n",
    "for i in xrange(len(df_failed_times)):\n",
    "    failed_datetimes.append(datetime.utcfromtimestamp(\n",
    "                df_failed_times.values.astype(int)[i]*1e-9))"
   ]
  },
  {
   "cell_type": "code",
   "execution_count": 100,
   "metadata": {
    "collapsed": false
   },
   "outputs": [],
   "source": [
    "time_mask = [True]*len(times) #allocate array and assume good until proven bad\n",
    "for i,time in enumerate(times):\n",
    "    for bad_time in failed_datetimes:\n",
    "        if time==bad_time:\n",
    "            time_mask[i] = False"
   ]
  },
  {
   "cell_type": "code",
   "execution_count": 103,
   "metadata": {
    "collapsed": false
   },
   "outputs": [
    {
     "data": {
      "text/plain": [
       "2544"
      ]
     },
     "execution_count": 103,
     "metadata": {},
     "output_type": "execute_result"
    }
   ],
   "source": [
    "sum(time_mask) #good, same as input to satellite to sensor"
   ]
  },
  {
   "cell_type": "code",
   "execution_count": 110,
   "metadata": {
    "collapsed": false
   },
   "outputs": [
    {
     "data": {
      "text/plain": [
       "array([datetime.datetime(2014, 4, 1, 13, 0),\n",
       "       datetime.datetime(2014, 4, 1, 14, 0),\n",
       "       datetime.datetime(2014, 4, 1, 15, 0), ...,\n",
       "       datetime.datetime(2014, 9, 30, 1, 0),\n",
       "       datetime.datetime(2014, 9, 30, 2, 0),\n",
       "       datetime.datetime(2014, 9, 30, 3, 0)], dtype=object)"
      ]
     },
     "execution_count": 110,
     "metadata": {},
     "output_type": "execute_result"
    }
   ],
   "source": [
    "good_times = np.array(times)[np.array(time_mask)]\n",
    "good_times"
   ]
  },
  {
   "cell_type": "code",
   "execution_count": 111,
   "metadata": {
    "collapsed": true
   },
   "outputs": [],
   "source": [
    "np.savez_compressed('data/good_times.npz',good_times=good_times) #save"
   ]
  },
  {
   "cell_type": "code",
   "execution_count": null,
   "metadata": {
    "collapsed": true
   },
   "outputs": [],
   "source": []
  }
 ],
 "metadata": {
  "kernelspec": {
   "display_name": "Python 2",
   "language": "python",
   "name": "python2"
  },
  "language_info": {
   "codemirror_mode": {
    "name": "ipython",
    "version": 2
   },
   "file_extension": ".py",
   "mimetype": "text/x-python",
   "name": "python",
   "nbconvert_exporter": "python",
   "pygments_lexer": "ipython2",
   "version": "2.7.10"
  }
 },
 "nbformat": 4,
 "nbformat_minor": 0
}
