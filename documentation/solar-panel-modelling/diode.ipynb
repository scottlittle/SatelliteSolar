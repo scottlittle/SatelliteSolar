{
 "cells": [
  {
   "cell_type": "code",
   "execution_count": 427,
   "metadata": {
    "collapsed": false
   },
   "outputs": [],
   "source": [
    "import numpy as np\n",
    "import matplotlib.pyplot as plt\n",
    "%matplotlib inline\n",
    "from __future__ import division\n",
    "import pandas as pd"
   ]
  },
  {
   "cell_type": "code",
   "execution_count": 428,
   "metadata": {
    "collapsed": false
   },
   "outputs": [
    {
     "data": {
      "text/plain": [
       "(0, 100)"
      ]
     },
     "execution_count": 428,
     "metadata": {},
     "output_type": "execute_result"
    },
    {
     "data": {
      "image/png": "[encoded data removed]",
      "text/plain": [
       "<matplotlib.figure.Figure at 0x12ad20e50>"
      ]
     },
     "metadata": {},
     "output_type": "display_data"
    }
   ],
   "source": [
    "V = np.linspace(0,1000,1000)\n",
    "plt.plot(V, 6.43 - 5e-14*(np.exp(V/2.6) - 1)) #in V and A\n",
    "plt.ylim(0,10)\n",
    "plt.xlim(0,100)"
   ]
  },
  {
   "cell_type": "code",
   "execution_count": 429,
   "metadata": {
    "collapsed": false
   },
   "outputs": [
    {
     "data": {
      "text/plain": [
       "(0, 100)"
      ]
     },
     "execution_count": 429,
     "metadata": {},
     "output_type": "execute_result"
    },
    {
     "data": {
      "image/png": "[encoded data removed]",
      "text/plain": [
       "<matplotlib.figure.Figure at 0x12ac22810>"
      ]
     },
     "metadata": {},
     "output_type": "display_data"
    }
   ],
   "source": [
    "V = np.linspace(0,100,1000)\n",
    "I_o = 5e-14 #A\n",
    "I_L = 6.43 #A\n",
    "R_s = 0 #ohm\n",
    "R_sh = 1e6 #ohm\n",
    "plt.plot(V, I_L - I_o*(np.exp(V/2.6) - 1)) #in V and A\n",
    "plt.ylim(0,10)\n",
    "plt.xlim(0,100)"
   ]
  },
  {
   "cell_type": "code",
   "execution_count": 430,
   "metadata": {
    "collapsed": false
   },
   "outputs": [
    {
     "data": {
      "text/plain": [
       "[<matplotlib.lines.Line2D at 0x12b237290>]"
      ]
     },
     "execution_count": 430,
     "metadata": {},
     "output_type": "execute_result"
    },
    {
     "data": {
      "image/png": "[encoded data removed]",
      "text/plain": [
       "<matplotlib.figure.Figure at 0x12ae386d0>"
      ]
     },
     "metadata": {},
     "output_type": "display_data"
    }
   ],
   "source": [
    "I = 100\n",
    "plt.plot(I - I_L - I_o*(np.exp((V+I*R_s)/2.6) - 1)) #this "
   ]
  },
  {
   "cell_type": "code",
   "execution_count": 431,
   "metadata": {
    "collapsed": false
   },
   "outputs": [
    {
     "data": {
      "text/plain": [
       "{x: -3, y: 1}"
      ]
     },
     "execution_count": 431,
     "metadata": {},
     "output_type": "execute_result"
    }
   ],
   "source": [
    "from sympy import solve, Symbol, exp\n",
    "x = Symbol('x')\n",
    "y = Symbol('y')\n",
    "solve([x + 5*y - 2, -3*x + 6*y - 15], [x, y])"
   ]
  },
  {
   "cell_type": "code",
   "execution_count": 433,
   "metadata": {
    "collapsed": false
   },
   "outputs": [],
   "source": [
    "V = Symbol('V')\n",
    "I = Symbol('I')\n",
    "I_o = 5e-14 #A\n",
    "I_L = 6.43 #A\n",
    "R_s = 10 #mohm\n",
    "R_sh = 1e5 #mohm\n",
    "n = 1\n",
    "\n",
    "#solve(I - I_L - I_o*(exp( (V + I * R_s) /(26*n)) - 1) , I)"
   ]
  },
  {
   "cell_type": "code",
   "execution_count": 434,
   "metadata": {
    "collapsed": false
   },
   "outputs": [
    {
     "name": "stdout",
     "output_type": "stream",
     "text": [
      "(4.4508396968012676e-11, -1.0512035686360832e-11)\n"
     ]
    }
   ],
   "source": [
    "from scipy.optimize import fsolve\n",
    "import math\n",
    "\n",
    "def equations(p):\n",
    "    x, y = p\n",
    "    return (x+y**2-4, math.exp(x) + x*y - 3)\n",
    "\n",
    "x, y =  fsolve(equations, (1, 1))\n",
    "\n",
    "print equations((x, y))"
   ]
  },
  {
   "cell_type": "code",
   "execution_count": 435,
   "metadata": {
    "collapsed": false
   },
   "outputs": [
    {
     "name": "stdout",
     "output_type": "stream",
     "text": [
      "[ -7.29867252e-09  -7.29867252e-09   1.99999999e+00]\n"
     ]
    }
   ],
   "source": [
    "import scipy.optimize as optimize\n",
    "from math import sqrt\n",
    "\n",
    "def f(c):\n",
    "    return sqrt(c[0]**2 + c[1]**2 + (c[2]-2)**2)\n",
    "\n",
    "result = optimize.minimize(f, [1,1,1])\n",
    "print result.values()[6]"
   ]
  },
  {
   "cell_type": "code",
   "execution_count": 436,
   "metadata": {
    "collapsed": false
   },
   "outputs": [
    {
     "name": "stdout",
     "output_type": "stream",
     "text": [
      "[ 1.  1.  1.]\n"
     ]
    }
   ],
   "source": [
    "import scipy.optimize as optimize\n",
    "from math import sqrt\n",
    "\n",
    "# I, c[0]\n",
    "I_L = 6.43 #A\n",
    "# I_o = 5e-14 #A,  c[2]\n",
    "# n = 1, c[2]\n",
    "V = 1 #mV\n",
    "# R_s = 1 #mohm, c[3]\n",
    "# R_sh = 1e5 #mohm c[4]\n",
    "\n",
    "\n",
    "def f(c):\n",
    "    \n",
    "    \n",
    "    I - I_L - I_o*(exp( (V + I * R_s) /(26*n)) - 1)\n",
    "    return I \n",
    "\n",
    "result = optimize.minimize(f, [1,1,1])\n",
    "print result.values()[6]"
   ]
  },
  {
   "cell_type": "code",
   "execution_count": 437,
   "metadata": {
    "collapsed": true
   },
   "outputs": [],
   "source": [
    "irrad_df = pd.read_csv('data/ASTMG173.csv')"
   ]
  },
  {
   "cell_type": "code",
   "execution_count": 438,
   "metadata": {
    "collapsed": false
   },
   "outputs": [
    {
     "data": {
      "text/html": [
       "<div>\n",
       "<table border=\"1\" class=\"dataframe\">\n",
       "  <thead>\n",
       "    <tr style=\"text-align: right;\">\n",
       "      <th></th>\n",
       "      <th>wavelength</th>\n",
       "      <th>etr</th>\n",
       "      <th>globaltilt</th>\n",
       "      <th>directcircum</th>\n",
       "    </tr>\n",
       "  </thead>\n",
       "  <tbody>\n",
       "    <tr>\n",
       "      <th>0</th>\n",
       "      <td>280.0</td>\n",
       "      <td>0.082</td>\n",
       "      <td>4.730000e-23</td>\n",
       "      <td>2.540000e-26</td>\n",
       "    </tr>\n",
       "    <tr>\n",
       "      <th>1</th>\n",
       "      <td>280.5</td>\n",
       "      <td>0.099</td>\n",
       "      <td>1.230000e-21</td>\n",
       "      <td>1.090000e-24</td>\n",
       "    </tr>\n",
       "    <tr>\n",
       "      <th>2</th>\n",
       "      <td>281.0</td>\n",
       "      <td>0.150</td>\n",
       "      <td>5.690000e-21</td>\n",
       "      <td>6.130000e-24</td>\n",
       "    </tr>\n",
       "    <tr>\n",
       "      <th>3</th>\n",
       "      <td>281.5</td>\n",
       "      <td>0.212</td>\n",
       "      <td>1.570000e-19</td>\n",
       "      <td>2.750000e-22</td>\n",
       "    </tr>\n",
       "    <tr>\n",
       "      <th>4</th>\n",
       "      <td>282.0</td>\n",
       "      <td>0.267</td>\n",
       "      <td>1.190000e-18</td>\n",
       "      <td>2.830000e-21</td>\n",
       "    </tr>\n",
       "  </tbody>\n",
       "</table>\n",
       "</div>"
      ],
      "text/plain": [
       "   wavelength    etr    globaltilt  directcircum\n",
       "0       280.0  0.082  4.730000e-23  2.540000e-26\n",
       "1       280.5  0.099  1.230000e-21  1.090000e-24\n",
       "2       281.0  0.150  5.690000e-21  6.130000e-24\n",
       "3       281.5  0.212  1.570000e-19  2.750000e-22\n",
       "4       282.0  0.267  1.190000e-18  2.830000e-21"
      ]
     },
     "execution_count": 438,
     "metadata": {},
     "output_type": "execute_result"
    }
   ],
   "source": [
    "irrad_df.head()"
   ]
  },
  {
   "cell_type": "code",
   "execution_count": 439,
   "metadata": {
    "collapsed": false
   },
   "outputs": [
    {
     "data": {
      "text/plain": [
       "<matplotlib.axes._subplots.AxesSubplot at 0x351f7dc10>"
      ]
     },
     "execution_count": 439,
     "metadata": {},
     "output_type": "execute_result"
    },
    {
     "data": {
      "image/png": "[encoded data removed]",
      "text/plain": [
       "<matplotlib.figure.Figure at 0x12aef1450>"
      ]
     },
     "metadata": {},
     "output_type": "display_data"
    }
   ],
   "source": [
    "irrad_df['globaltilt'].plot()"
   ]
  },
  {
   "cell_type": "code",
   "execution_count": 440,
   "metadata": {
    "collapsed": true
   },
   "outputs": [],
   "source": [
    "eqe_df = pd.read_csv('data/eqe_sunpower_25.csv')"
   ]
  },
  {
   "cell_type": "code",
   "execution_count": 441,
   "metadata": {
    "collapsed": false
   },
   "outputs": [
    {
     "data": {
      "text/html": [
       "<div>\n",
       "<table border=\"1\" class=\"dataframe\">\n",
       "  <thead>\n",
       "    <tr style=\"text-align: right;\">\n",
       "      <th></th>\n",
       "      <th>wavelength</th>\n",
       "      <th>percent</th>\n",
       "    </tr>\n",
       "  </thead>\n",
       "  <tbody>\n",
       "    <tr>\n",
       "      <th>0</th>\n",
       "      <td>299.768250</td>\n",
       "      <td>64.683427</td>\n",
       "    </tr>\n",
       "    <tr>\n",
       "      <th>1</th>\n",
       "      <td>303.939745</td>\n",
       "      <td>67.215777</td>\n",
       "    </tr>\n",
       "    <tr>\n",
       "      <th>2</th>\n",
       "      <td>308.806489</td>\n",
       "      <td>70.355838</td>\n",
       "    </tr>\n",
       "    <tr>\n",
       "      <th>3</th>\n",
       "      <td>322.016223</td>\n",
       "      <td>73.598574</td>\n",
       "    </tr>\n",
       "    <tr>\n",
       "      <th>4</th>\n",
       "      <td>331.054461</td>\n",
       "      <td>76.840606</td>\n",
       "    </tr>\n",
       "  </tbody>\n",
       "</table>\n",
       "</div>"
      ],
      "text/plain": [
       "   wavelength    percent\n",
       "0  299.768250  64.683427\n",
       "1  303.939745  67.215777\n",
       "2  308.806489  70.355838\n",
       "3  322.016223  73.598574\n",
       "4  331.054461  76.840606"
      ]
     },
     "execution_count": 441,
     "metadata": {},
     "output_type": "execute_result"
    }
   ],
   "source": [
    "eqe_df.head()"
   ]
  },
  {
   "cell_type": "code",
   "execution_count": 442,
   "metadata": {
    "collapsed": false
   },
   "outputs": [
    {
     "data": {
      "text/plain": [
       "array([ 64.68342696,  67.21577658,  70.35583848,  73.5985743 ,\n",
       "        76.84060607,  79.57642607,  86.66984467,  93.45970049,\n",
       "        95.99603972,  97.11454009,  98.13494287,  98.5429397 ,\n",
       "        98.44707159,  98.75345058,  98.95762501,  99.26916702,\n",
       "        98.7698784 ,  98.77257726,  98.97862916,  98.58530003,\n",
       "        98.79158661,  98.79510685,  98.79804039,  98.80038723,\n",
       "        99.00585241,  99.00972469,  98.81118266,  98.51125746,\n",
       "        97.70465113,  96.39218505,  93.15578568,  89.20935213,\n",
       "        86.47705238,  75.84824794,  69.976473  ,  66.02839667,\n",
       "        39.80782375,  33.63236869,  24.21722868,   8.42457134,   1.44074981])"
      ]
     },
     "execution_count": 442,
     "metadata": {},
     "output_type": "execute_result"
    }
   ],
   "source": [
    "eqe_df['percent'].values"
   ]
  },
  {
   "cell_type": "code",
   "execution_count": 443,
   "metadata": {
    "collapsed": false
   },
   "outputs": [
    {
     "data": {
      "image/png": "[encoded data removed]",
      "text/plain": [
       "<matplotlib.figure.Figure at 0x12af52ad0>"
      ]
     },
     "metadata": {},
     "output_type": "display_data"
    }
   ],
   "source": [
    "from scipy import interpolate\n",
    "x = eqe_df['wavelength'].values\n",
    "y = eqe_df['percent'].values\n",
    "f = interpolate.interp1d(x, y)\n",
    "\n",
    "wav_new = np.arange(300,1180, 0.5)\n",
    "eqe_new = f(xnew)   # use interpolation function returned by `interp1d`\n",
    "plt.plot(x, y, 'o', wav_new, eqe_new, '-')\n",
    "plt.show()"
   ]
  },
  {
   "cell_type": "code",
   "execution_count": 444,
   "metadata": {
    "collapsed": false
   },
   "outputs": [
    {
     "data": {
      "text/html": [
       "<div>\n",
       "<table border=\"1\" class=\"dataframe\">\n",
       "  <thead>\n",
       "    <tr style=\"text-align: right;\">\n",
       "      <th></th>\n",
       "      <th>wavelength</th>\n",
       "      <th>etr</th>\n",
       "      <th>globaltilt</th>\n",
       "      <th>directcircum</th>\n",
       "    </tr>\n",
       "  </thead>\n",
       "  <tbody>\n",
       "    <tr>\n",
       "      <th>40</th>\n",
       "      <td>300</td>\n",
       "      <td>0.458</td>\n",
       "      <td>0.00102</td>\n",
       "      <td>0.000456</td>\n",
       "    </tr>\n",
       "  </tbody>\n",
       "</table>\n",
       "</div>"
      ],
      "text/plain": [
       "    wavelength    etr  globaltilt  directcircum\n",
       "40         300  0.458     0.00102      0.000456"
      ]
     },
     "execution_count": 444,
     "metadata": {},
     "output_type": "execute_result"
    }
   ],
   "source": [
    "irrad_df[irrad_df['wavelength']==300]"
   ]
  },
  {
   "cell_type": "code",
   "execution_count": 445,
   "metadata": {
    "collapsed": false
   },
   "outputs": [
    {
     "data": {
      "text/html": [
       "<div>\n",
       "<table border=\"1\" class=\"dataframe\">\n",
       "  <thead>\n",
       "    <tr style=\"text-align: right;\">\n",
       "      <th></th>\n",
       "      <th>wavelength</th>\n",
       "      <th>etr</th>\n",
       "      <th>globaltilt</th>\n",
       "      <th>directcircum</th>\n",
       "    </tr>\n",
       "  </thead>\n",
       "  <tbody>\n",
       "    <tr>\n",
       "      <th>1020</th>\n",
       "      <td>1180</td>\n",
       "      <td>0.522</td>\n",
       "      <td>0.441</td>\n",
       "      <td>0.421</td>\n",
       "    </tr>\n",
       "  </tbody>\n",
       "</table>\n",
       "</div>"
      ],
      "text/plain": [
       "      wavelength    etr  globaltilt  directcircum\n",
       "1020        1180  0.522       0.441         0.421"
      ]
     },
     "execution_count": 445,
     "metadata": {},
     "output_type": "execute_result"
    }
   ],
   "source": [
    "irrad_df[irrad_df['wavelength']==1180]"
   ]
  },
  {
   "cell_type": "code",
   "execution_count": null,
   "metadata": {
    "collapsed": false
   },
   "outputs": [],
   "source": []
  },
  {
   "cell_type": "code",
   "execution_count": 448,
   "metadata": {
    "collapsed": false
   },
   "outputs": [
    {
     "data": {
      "image/png": "[encoded data removed]",
      "text/plain": [
       "<matplotlib.figure.Figure at 0x11f77c910>"
      ]
     },
     "metadata": {},
     "output_type": "display_data"
    }
   ],
   "source": [
    "from scipy import interpolate\n",
    "\n",
    "x = irrad_df['wavelength'][40:1021].values\n",
    "irrad_global = irrad_df['globaltilt'][40:1021].values #AM1.5 spectrum\n",
    "\n",
    "f = interpolate.interp1d(x, irrad_global)\n",
    "wav_new = np.arange(300,1180, 0.5) #300 nm to 1180 nm with 0.5 nm spacing\n",
    "irrad_new = f(xnew)   #recreate AM1.5 with 0.5 nm spacing\n",
    "\n",
    "plt.plot(x, irrad_global, 'o', wav_new, irrad_new, '-')\n",
    "plt.show()"
   ]
  },
  {
   "cell_type": "code",
   "execution_count": 449,
   "metadata": {
    "collapsed": false
   },
   "outputs": [
    {
     "data": {
      "text/plain": [
       "[<matplotlib.lines.Line2D at 0x11f1d2490>]"
      ]
     },
     "execution_count": 449,
     "metadata": {},
     "output_type": "execute_result"
    },
    {
     "data": {
      "image/png": "[encoded data removed]",
      "text/plain": [
       "<matplotlib.figure.Figure at 0x12a911b90>"
      ]
     },
     "metadata": {},
     "output_type": "display_data"
    }
   ],
   "source": [
    "plt.plot(wav_new,eqe_new*irrad_new*wav_new)"
   ]
  },
  {
   "cell_type": "code",
   "execution_count": 450,
   "metadata": {
    "collapsed": false
   },
   "outputs": [
    {
     "data": {
      "text/plain": [
       "41.796068304420977"
      ]
     },
     "execution_count": 450,
     "metadata": {},
     "output_type": "execute_result"
    }
   ],
   "source": [
    "(1/1240)*sum(eqe_new*irrad_new*wav_new)*.5/1e3 #mA/cm^2"
   ]
  },
  {
   "cell_type": "code",
   "execution_count": 451,
   "metadata": {
    "collapsed": true
   },
   "outputs": [],
   "source": [
    "iv_df = pd.read_csv('data/i_v_sunpower_25.csv')"
   ]
  },
  {
   "cell_type": "code",
   "execution_count": 465,
   "metadata": {
    "collapsed": false
   },
   "outputs": [
    {
     "data": {
      "text/plain": [
       "(0, 50)"
      ]
     },
     "execution_count": 465,
     "metadata": {},
     "output_type": "execute_result"
    },
    {
     "data": {
      "image/png": "[encoded data removed]",
      "text/plain": [
       "<matplotlib.figure.Figure at 0x10a960a10>"
      ]
     },
     "metadata": {},
     "output_type": "display_data"
    }
   ],
   "source": [
    "plt.plot(iv_df.voltage,iv_df.current, 'r--')\n",
    "I_o = 3.6e-10 #mA/cm^2\n",
    "I_L = 41.74 #mA/cm^2\n",
    "plt.plot(iv_df.voltage, I_L - I_o*(np.exp(iv_df.voltage/.0283) - 1)) #in V and A\n",
    "plt.ylim(0,50)"
   ]
  },
  {
   "cell_type": "code",
   "execution_count": null,
   "metadata": {
    "collapsed": true
   },
   "outputs": [],
   "source": []
  },
  {
   "cell_type": "code",
   "execution_count": null,
   "metadata": {
    "collapsed": true
   },
   "outputs": [],
   "source": []
  },
  {
   "cell_type": "code",
   "execution_count": null,
   "metadata": {
    "collapsed": true
   },
   "outputs": [],
   "source": []
  }
 ],
 "metadata": {
  "kernelspec": {
   "display_name": "Python 2",
   "language": "python",
   "name": "python2"
  },
  "language_info": {
   "codemirror_mode": {
    "name": "ipython",
    "version": 2
   },
   "file_extension": ".py",
   "mimetype": "text/x-python",
   "name": "python",
   "nbconvert_exporter": "python",
   "pygments_lexer": "ipython2",
   "version": "2.7.10"
  }
 },
 "nbformat": 4,
 "nbformat_minor": 0
}
