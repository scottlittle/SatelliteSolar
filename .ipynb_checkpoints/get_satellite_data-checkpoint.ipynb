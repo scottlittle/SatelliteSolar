{
 "cells": [
  {
   "cell_type": "code",
   "execution_count": 50,
   "metadata": {
    "collapsed": true
   },
   "outputs": [],
   "source": [
    "import pandas as pd\n",
    "import os\n",
    "import glob\n",
    "import requests"
   ]
  },
  {
   "cell_type": "code",
   "execution_count": 84,
   "metadata": {
    "collapsed": true
   },
   "outputs": [
    {
     "data": {
      "text/plain": [
       "['list_5.txt',\n",
       " '001',\n",
       " '001.1',\n",
       " '001.2',\n",
       " '001.3',\n",
       " '001.4',\n",
       " '001.5',\n",
       " '001.6',\n",
       " '001.7',\n",
       " '001.8',\n",
       " '001.9',\n",
       " '001.10',\n",
       " '001.11',\n",
       " '001.12',\n",
       " '001.13',\n",
       " '001.14',\n",
       " '001.15',\n",
       " '001.16',\n",
       " '001.17',\n",
       " '001.18',\n",
       " '001.19',\n",
       " '001.20',\n",
       " '001.21',\n",
       " '001.22',\n",
       " '001.23',\n",
       " '001.24',\n",
       " '001.25',\n",
       " '001.26',\n",
       " '001.27',\n",
       " '001.28',\n",
       " '001.29',\n",
       " '001.30',\n",
       " '001.31',\n",
       " '001.32',\n",
       " '001.33',\n",
       " '001.34',\n",
       " '001.35',\n",
       " '001.36',\n",
       " '001.37',\n",
       " '001.38',\n",
       " '001.39',\n",
       " '001.40',\n",
       " '001.41',\n",
       " '001.42',\n",
       " '001.43',\n",
       " '001.44',\n",
       " '001.45',\n",
       " '001.46',\n",
       " '001.47',\n",
       " '001.48',\n",
       " '001.49',\n",
       " '001.50',\n",
       " '001.51',\n",
       " '001.52',\n",
       " '001.53',\n",
       " '001.54',\n",
       " '001.55',\n",
       " '001.56',\n",
       " '001.57',\n",
       " '001.58',\n",
       " '001.59',\n",
       " '001.60',\n",
       " '001.61',\n",
       " '001.62',\n",
       " '001.63',\n",
       " '001.64',\n",
       " '001.65',\n",
       " '001.66',\n",
       " '001.67',\n",
       " '001.68',\n",
       " '001.69',\n",
       " '001.70',\n",
       " '001.71',\n",
       " '001.72',\n",
       " '001.73',\n",
       " '001.74',\n",
       " '001.75',\n",
       " '001.76',\n",
       " '001.77',\n",
       " '001.78',\n",
       " '001.79',\n",
       " '001.80',\n",
       " '001.81',\n",
       " '001.82',\n",
       " '001.83',\n",
       " '001.84',\n",
       " '001.85',\n",
       " '001.86',\n",
       " '001.87',\n",
       " '001.88',\n",
       " '001.89',\n",
       " '001.90',\n",
       " '001.91',\n",
       " '001.92',\n",
       " '001.93',\n",
       " '001.94',\n",
       " '001.95',\n",
       " '001.100',\n",
       " '001.101',\n",
       " '001.102',\n",
       " '001.103',\n",
       " '001.104',\n",
       " '001.105',\n",
       " '001.106',\n",
       " '001.107',\n",
       " '001.96',\n",
       " '001.97',\n",
       " '001.98',\n",
       " '001.99',\n",
       " '001.108',\n",
       " '001.109',\n",
       " '001.110',\n",
       " '001.111',\n",
       " '001.112',\n",
       " '001.113',\n",
       " '001.114',\n",
       " '001.115',\n",
       " '001.116',\n",
       " '001.117',\n",
       " '001.118',\n",
       " '001.119',\n",
       " '001.120',\n",
       " '001.121',\n",
       " '001.122',\n",
       " '001.123',\n",
       " '001.124',\n",
       " '001.125',\n",
       " '001.126',\n",
       " '001.127',\n",
       " '001.128',\n",
       " '001.129',\n",
       " '001.130',\n",
       " '001.131',\n",
       " '001.132',\n",
       " '001.133',\n",
       " '001.134',\n",
       " '001.135',\n",
       " '001.136',\n",
       " '001.137',\n",
       " '001.138',\n",
       " '001.139',\n",
       " '001.140',\n",
       " '001.141',\n",
       " '001.142',\n",
       " '001.143',\n",
       " '001.144',\n",
       " '001.145',\n",
       " '001.146',\n",
       " '001.147',\n",
       " '001.148',\n",
       " '001.149',\n",
       " '001.150',\n",
       " '001.151',\n",
       " '001.152',\n",
       " '001.153',\n",
       " '001.154',\n",
       " '001.155',\n",
       " '001.156',\n",
       " '001.157',\n",
       " '001.158',\n",
       " '001.159',\n",
       " '001.160',\n",
       " '001.161',\n",
       " '001.162',\n",
       " '001.163',\n",
       " '001.164',\n",
       " '001.165',\n",
       " '001.166',\n",
       " '001.167',\n",
       " '001.168',\n",
       " '001.169',\n",
       " '001.170',\n",
       " '001.171',\n",
       " '001.172',\n",
       " '001.173',\n",
       " '001.174',\n",
       " '001.175',\n",
       " '001.176',\n",
       " '001.177',\n",
       " '001.178',\n",
       " '001.179',\n",
       " '001.180',\n",
       " '001.181']"
      ]
     },
     "execution_count": 84,
     "metadata": {},
     "output_type": "execute_result"
    }
   ],
   "source": [
    "mypath = \"data/satellite/colorado/summer6months/\"\n",
    "# remove anything from the list that is not a file (directories, symlinks)\n",
    "# thanks to J.F. Sebastion for pointing out that the requirement was a list \n",
    "# of files (presumably not including directories)  \n",
    "http_files = filter(os.path.isfile, glob.glob(mypath + \"*\"))\n",
    "http_files.sort(key=lambda x: os.path.getmtime(x))\n",
    "http_files = [os.path.basename(i) for i in http_files]\n",
    "http_files"
   ]
  },
  {
   "cell_type": "code",
   "execution_count": null,
   "metadata": {
    "collapsed": true
   },
   "outputs": [],
   "source": []
  },
  {
   "cell_type": "code",
   "execution_count": 89,
   "metadata": {
    "collapsed": false
   },
   "outputs": [
    {
     "data": {
      "text/html": [
       "<div>\n",
       "<table border=\"1\" class=\"dataframe\">\n",
       "  <thead>\n",
       "    <tr style=\"text-align: right;\">\n",
       "      <th></th>\n",
       "      <th>Name</th>\n",
       "      <th>Date and Time</th>\n",
       "      <th>Size (Bytes)</th>\n",
       "    </tr>\n",
       "  </thead>\n",
       "  <tbody>\n",
       "    <tr>\n",
       "      <th>0</th>\n",
       "      <td>goes15.2014.092.110018.BAND_01.nc</td>\n",
       "      <td>8/6/15 4:48 PM</td>\n",
       "      <td>26092</td>\n",
       "    </tr>\n",
       "    <tr>\n",
       "      <th>1</th>\n",
       "      <td>goes15.2014.092.110018.BAND_02.nc</td>\n",
       "      <td>8/6/15 4:48 PM</td>\n",
       "      <td>8476</td>\n",
       "    </tr>\n",
       "    <tr>\n",
       "      <th>2</th>\n",
       "      <td>goes15.2014.092.110018.BAND_03.nc</td>\n",
       "      <td>8/6/15 4:48 PM</td>\n",
       "      <td>8476</td>\n",
       "    </tr>\n",
       "    <tr>\n",
       "      <th>3</th>\n",
       "      <td>goes15.2014.092.110018.BAND_04.nc</td>\n",
       "      <td>8/6/15 4:48 PM</td>\n",
       "      <td>8476</td>\n",
       "    </tr>\n",
       "    <tr>\n",
       "      <th>4</th>\n",
       "      <td>goes15.2014.092.110018.BAND_06.nc</td>\n",
       "      <td>8/6/15 4:48 PM</td>\n",
       "      <td>8476</td>\n",
       "    </tr>\n",
       "  </tbody>\n",
       "</table>\n",
       "</div>"
      ],
      "text/plain": [
       "                                Name   Date and Time  Size (Bytes)\n",
       "0  goes15.2014.092.110018.BAND_01.nc  8/6/15 4:48 PM         26092\n",
       "1  goes15.2014.092.110018.BAND_02.nc  8/6/15 4:48 PM          8476\n",
       "2  goes15.2014.092.110018.BAND_03.nc  8/6/15 4:48 PM          8476\n",
       "3  goes15.2014.092.110018.BAND_04.nc  8/6/15 4:48 PM          8476\n",
       "4  goes15.2014.092.110018.BAND_06.nc  8/6/15 4:48 PM          8476"
      ]
     },
     "execution_count": 89,
     "metadata": {},
     "output_type": "execute_result"
    }
   ],
   "source": [
    "df = pd.read_html('data/satellite/colorado/summer6months/001.1',header=0)[0]\n",
    "data_files = df['Name'].tolist()\n",
    "df.head()"
   ]
  },
  {
   "cell_type": "code",
   "execution_count": 34,
   "metadata": {
    "collapsed": false
   },
   "outputs": [
    {
     "data": {
      "text/plain": [
       "150"
      ]
     },
     "execution_count": 34,
     "metadata": {},
     "output_type": "execute_result"
    }
   ],
   "source": [
    "len(df)"
   ]
  },
  {
   "cell_type": "code",
   "execution_count": 39,
   "metadata": {
    "collapsed": true
   },
   "outputs": [],
   "source": [
    "import requests\n",
    "filenames = []\n",
    "for i in range(len(df)):\n",
    "    filenames.append(df.loc[i, 'Name'])\n",
    "#filenames"
   ]
  },
  {
   "cell_type": "code",
   "execution_count": 17,
   "metadata": {
    "collapsed": false
   },
   "outputs": [],
   "source": [
    "begin_url = 'http://download.class.ngdc.noaa.gov/download/1985025513/001' + '/{0}'\n",
    "req = requests.get(begin_url.format(df.loc[0, 'Name']))"
   ]
  },
  {
   "cell_type": "code",
   "execution_count": 22,
   "metadata": {
    "collapsed": false
   },
   "outputs": [],
   "source": [
    "with open('test.nc','wb') as fout:\n",
    "    fout.write(req.content)"
   ]
  },
  {
   "cell_type": "code",
   "execution_count": 23,
   "metadata": {
    "collapsed": true
   },
   "outputs": [],
   "source": [
    "import netCDF4\n",
    "from netCDF4 import Dataset\n",
    "rootgrp = Dataset(\"test.nc\", \"a\", format=\"NETCDF4\")"
   ]
  },
  {
   "cell_type": "code",
   "execution_count": 24,
   "metadata": {
    "collapsed": false
   },
   "outputs": [
    {
     "name": "stdout",
     "output_type": "stream",
     "text": [
      "type of data:  NETCDF3_CLASSIC\n",
      "variables in data:  [u'version', u'sensorID', u'imageDate', u'imageTime', u'startLine', u'startElem', u'time', u'dataWidth', u'lineRes', u'elemRes', u'prefixSize', u'crDate', u'crTime', u'bands', u'auditTrail', u'data', u'lat', u'lon']\n",
      "latitude of one point;  41.0006\n"
     ]
    }
   ],
   "source": [
    "print \"type of data: \", rootgrp.data_model #netcdf3_classic, not netcdf4\n",
    "myvars = []\n",
    "for var in rootgrp.variables: #list of variables\n",
    "    myvars.append(var)\n",
    "print \"variables in data: \", myvars\n",
    "print \"latitude of one point; \", rootgrp.variables['lat'][0][0] #verify that one latitude is where we expect\n",
    "\n",
    "lons = rootgrp.variables['lon'][:]\n",
    "lats = rootgrp.variables['lat'][:]\n",
    "data = rootgrp.variables['data'][:] #data is sensor data\n",
    "rootgrp.close() #need to close before you can open again"
   ]
  },
  {
   "cell_type": "code",
   "execution_count": null,
   "metadata": {
    "collapsed": true
   },
   "outputs": [],
   "source": []
  }
 ],
 "metadata": {
  "kernelspec": {
   "display_name": "Python 2",
   "language": "python",
   "name": "python2"
  },
  "language_info": {
   "codemirror_mode": {
    "name": "ipython",
    "version": 2
   },
   "file_extension": ".py",
   "mimetype": "text/x-python",
   "name": "python",
   "nbconvert_exporter": "python",
   "pygments_lexer": "ipython2",
   "version": "2.7.10"
  }
 },
 "nbformat": 4,
 "nbformat_minor": 0
}
