{
 "cells": [
  {
   "cell_type": "code",
   "execution_count": 7,
   "metadata": {
    "collapsed": true
   },
   "outputs": [],
   "source": [
    "import pandas as pd\n",
    "import matplotlib.pyplot as plt\n",
    "import numpy as np\n",
    "%matplotlib inline"
   ]
  },
  {
   "cell_type": "code",
   "execution_count": 4,
   "metadata": {
    "collapsed": false
   },
   "outputs": [
    {
     "data": {
      "text/html": [
       "<div>\n",
       "<table border=\"1\" class=\"dataframe\">\n",
       "  <thead>\n",
       "    <tr style=\"text-align: right;\">\n",
       "      <th></th>\n",
       "      <th>DATE (MM/DD/YYYY)</th>\n",
       "      <th>HOUR-HST</th>\n",
       "      <th>Avg Global Horizontal [W/m^2]</th>\n",
       "      <th>Avg Global PAR [umol/s/m^2]</th>\n",
       "      <th>Avg Air Temperature [deg C]</th>\n",
       "      <th>Avg Dew Point Temp [deg C]</th>\n",
       "      <th>Avg Rel Humidity [%]</th>\n",
       "      <th>Avg Station Pressure [mBar]</th>\n",
       "      <th>Avg CR1000 Temp [deg C]</th>\n",
       "      <th>Avg CR1000 Battery [VDC]</th>\n",
       "    </tr>\n",
       "  </thead>\n",
       "  <tbody>\n",
       "    <tr>\n",
       "      <th>0</th>\n",
       "      <td>7/1/2015</td>\n",
       "      <td>1</td>\n",
       "      <td>-1.5214</td>\n",
       "      <td>-0.6173</td>\n",
       "      <td>26.709</td>\n",
       "      <td>22.5735</td>\n",
       "      <td>78.0075</td>\n",
       "      <td>1012.2700</td>\n",
       "      <td>26.7250</td>\n",
       "      <td>11.93</td>\n",
       "    </tr>\n",
       "    <tr>\n",
       "      <th>1</th>\n",
       "      <td>7/1/2015</td>\n",
       "      <td>2</td>\n",
       "      <td>-0.9041</td>\n",
       "      <td>-0.5930</td>\n",
       "      <td>26.721</td>\n",
       "      <td>22.4702</td>\n",
       "      <td>77.4735</td>\n",
       "      <td>1011.5845</td>\n",
       "      <td>26.8567</td>\n",
       "      <td>11.93</td>\n",
       "    </tr>\n",
       "    <tr>\n",
       "      <th>2</th>\n",
       "      <td>7/1/2015</td>\n",
       "      <td>3</td>\n",
       "      <td>-1.0224</td>\n",
       "      <td>-0.5679</td>\n",
       "      <td>26.610</td>\n",
       "      <td>22.3082</td>\n",
       "      <td>77.2130</td>\n",
       "      <td>1011.0637</td>\n",
       "      <td>26.9235</td>\n",
       "      <td>11.93</td>\n",
       "    </tr>\n",
       "    <tr>\n",
       "      <th>3</th>\n",
       "      <td>7/1/2015</td>\n",
       "      <td>4</td>\n",
       "      <td>-0.7767</td>\n",
       "      <td>-0.4894</td>\n",
       "      <td>26.625</td>\n",
       "      <td>22.2568</td>\n",
       "      <td>76.9027</td>\n",
       "      <td>1010.8700</td>\n",
       "      <td>26.9622</td>\n",
       "      <td>11.93</td>\n",
       "    </tr>\n",
       "    <tr>\n",
       "      <th>4</th>\n",
       "      <td>7/1/2015</td>\n",
       "      <td>5</td>\n",
       "      <td>-0.9165</td>\n",
       "      <td>-0.6244</td>\n",
       "      <td>26.337</td>\n",
       "      <td>21.9572</td>\n",
       "      <td>76.8125</td>\n",
       "      <td>1010.7870</td>\n",
       "      <td>26.9322</td>\n",
       "      <td>11.93</td>\n",
       "    </tr>\n",
       "  </tbody>\n",
       "</table>\n",
       "</div>"
      ],
      "text/plain": [
       "  DATE (MM/DD/YYYY)  HOUR-HST  Avg Global Horizontal [W/m^2]  \\\n",
       "0          7/1/2015         1                        -1.5214   \n",
       "1          7/1/2015         2                        -0.9041   \n",
       "2          7/1/2015         3                        -1.0224   \n",
       "3          7/1/2015         4                        -0.7767   \n",
       "4          7/1/2015         5                        -0.9165   \n",
       "\n",
       "   Avg Global PAR [umol/s/m^2]  Avg Air Temperature [deg C]  \\\n",
       "0                      -0.6173                       26.709   \n",
       "1                      -0.5930                       26.721   \n",
       "2                      -0.5679                       26.610   \n",
       "3                      -0.4894                       26.625   \n",
       "4                      -0.6244                       26.337   \n",
       "\n",
       "   Avg Dew Point Temp [deg C]  Avg Rel Humidity [%]  \\\n",
       "0                     22.5735               78.0075   \n",
       "1                     22.4702               77.4735   \n",
       "2                     22.3082               77.2130   \n",
       "3                     22.2568               76.9027   \n",
       "4                     21.9572               76.8125   \n",
       "\n",
       "   Avg Station Pressure [mBar]  Avg CR1000 Temp [deg C]  \\\n",
       "0                    1012.2700                  26.7250   \n",
       "1                    1011.5845                  26.8567   \n",
       "2                    1011.0637                  26.9235   \n",
       "3                    1010.8700                  26.9622   \n",
       "4                    1010.7870                  26.9322   \n",
       "\n",
       "   Avg CR1000 Battery [VDC]  \n",
       "0                     11.93  \n",
       "1                     11.93  \n",
       "2                     11.93  \n",
       "3                     11.93  \n",
       "4                     11.93  "
      ]
     },
     "execution_count": 4,
     "metadata": {},
     "output_type": "execute_result"
    }
   ],
   "source": [
    "df = pd.read_csv('data/sensor20150701.txt')\n",
    "df.head()"
   ]
  },
  {
   "cell_type": "code",
   "execution_count": 9,
   "metadata": {
    "collapsed": false
   },
   "outputs": [
    {
     "data": {
      "text/plain": [
       "[<matplotlib.lines.Line2D at 0x107943a50>]"
      ]
     },
     "execution_count": 9,
     "metadata": {},
     "output_type": "execute_result"
    },
    {
     "data": {
      "image/png": "[encoded data removed]",
      "text/plain": [
       "<matplotlib.figure.Figure at 0x10780a710>"
      ]
     },
     "metadata": {},
     "output_type": "display_data"
    }
   ],
   "source": [
    "plt.plot(df['Avg Global PAR [umol/s/m^2]'].values)"
   ]
  },
  {
   "cell_type": "code",
   "execution_count": null,
   "metadata": {
    "collapsed": true
   },
   "outputs": [],
   "source": []
  }
 ],
 "metadata": {
  "kernelspec": {
   "display_name": "Python 2",
   "language": "python",
   "name": "python2"
  },
  "language_info": {
   "codemirror_mode": {
    "name": "ipython",
    "version": 2
   },
   "file_extension": ".py",
   "mimetype": "text/x-python",
   "name": "python",
   "nbconvert_exporter": "python",
   "pygments_lexer": "ipython2",
   "version": "2.7.10"
  }
 },
 "nbformat": 4,
 "nbformat_minor": 0
}
