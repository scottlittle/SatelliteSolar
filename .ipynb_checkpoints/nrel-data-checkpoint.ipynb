{
 "cells": [
  {
   "cell_type": "markdown",
   "metadata": {},
   "source": [
    "#EDA with solar data"
   ]
  },
  {
   "cell_type": "code",
   "execution_count": 1,
   "metadata": {
    "collapsed": true
   },
   "outputs": [],
   "source": [
    "import pandas as pd\n",
    "import matplotlib.pyplot as plt\n",
    "import numpy as np\n",
    "%matplotlib inline\n",
    "pd.options.display.max_rows = 999\n",
    "pd.options.display.max_columns = 999\n",
    "from __future__ import division"
   ]
  },
  {
   "cell_type": "markdown",
   "metadata": {},
   "source": [
    "##Sensor data from NREL"
   ]
  },
  {
   "cell_type": "markdown",
   "metadata": {},
   "source": [
    "###Hawaii:"
   ]
  },
  {
   "cell_type": "code",
   "execution_count": 2,
   "metadata": {
    "collapsed": false
   },
   "outputs": [
    {
     "data": {
      "text/html": [
       "<div>\n",
       "<table border=\"1\" class=\"dataframe\">\n",
       "  <thead>\n",
       "    <tr style=\"text-align: right;\">\n",
       "      <th></th>\n",
       "      <th>DATE (MM/DD/YYYY)</th>\n",
       "      <th>HOUR-HST</th>\n",
       "      <th>Avg Global Horizontal [W/m^2]</th>\n",
       "      <th>Avg Global PAR [umol/s/m^2]</th>\n",
       "      <th>Avg Air Temperature [deg C]</th>\n",
       "      <th>Avg Dew Point Temp [deg C]</th>\n",
       "      <th>Avg Rel Humidity [%]</th>\n",
       "      <th>Avg Station Pressure [mBar]</th>\n",
       "      <th>Avg CR1000 Temp [deg C]</th>\n",
       "      <th>Avg CR1000 Battery [VDC]</th>\n",
       "    </tr>\n",
       "  </thead>\n",
       "  <tbody>\n",
       "    <tr>\n",
       "      <th>0</th>\n",
       "      <td>7/1/2015</td>\n",
       "      <td>1</td>\n",
       "      <td>-1.5214</td>\n",
       "      <td>-0.6173</td>\n",
       "      <td>26.709</td>\n",
       "      <td>22.5735</td>\n",
       "      <td>78.0075</td>\n",
       "      <td>1012.2700</td>\n",
       "      <td>26.7250</td>\n",
       "      <td>11.93</td>\n",
       "    </tr>\n",
       "    <tr>\n",
       "      <th>1</th>\n",
       "      <td>7/1/2015</td>\n",
       "      <td>2</td>\n",
       "      <td>-0.9041</td>\n",
       "      <td>-0.5930</td>\n",
       "      <td>26.721</td>\n",
       "      <td>22.4702</td>\n",
       "      <td>77.4735</td>\n",
       "      <td>1011.5845</td>\n",
       "      <td>26.8567</td>\n",
       "      <td>11.93</td>\n",
       "    </tr>\n",
       "    <tr>\n",
       "      <th>2</th>\n",
       "      <td>7/1/2015</td>\n",
       "      <td>3</td>\n",
       "      <td>-1.0224</td>\n",
       "      <td>-0.5679</td>\n",
       "      <td>26.610</td>\n",
       "      <td>22.3082</td>\n",
       "      <td>77.2130</td>\n",
       "      <td>1011.0637</td>\n",
       "      <td>26.9235</td>\n",
       "      <td>11.93</td>\n",
       "    </tr>\n",
       "    <tr>\n",
       "      <th>3</th>\n",
       "      <td>7/1/2015</td>\n",
       "      <td>4</td>\n",
       "      <td>-0.7767</td>\n",
       "      <td>-0.4894</td>\n",
       "      <td>26.625</td>\n",
       "      <td>22.2568</td>\n",
       "      <td>76.9027</td>\n",
       "      <td>1010.8700</td>\n",
       "      <td>26.9622</td>\n",
       "      <td>11.93</td>\n",
       "    </tr>\n",
       "    <tr>\n",
       "      <th>4</th>\n",
       "      <td>7/1/2015</td>\n",
       "      <td>5</td>\n",
       "      <td>-0.9165</td>\n",
       "      <td>-0.6244</td>\n",
       "      <td>26.337</td>\n",
       "      <td>21.9572</td>\n",
       "      <td>76.8125</td>\n",
       "      <td>1010.7870</td>\n",
       "      <td>26.9322</td>\n",
       "      <td>11.93</td>\n",
       "    </tr>\n",
       "  </tbody>\n",
       "</table>\n",
       "</div>"
      ],
      "text/plain": [
       "  DATE (MM/DD/YYYY)  HOUR-HST  Avg Global Horizontal [W/m^2]  \\\n",
       "0          7/1/2015         1                        -1.5214   \n",
       "1          7/1/2015         2                        -0.9041   \n",
       "2          7/1/2015         3                        -1.0224   \n",
       "3          7/1/2015         4                        -0.7767   \n",
       "4          7/1/2015         5                        -0.9165   \n",
       "\n",
       "   Avg Global PAR [umol/s/m^2]  Avg Air Temperature [deg C]  \\\n",
       "0                      -0.6173                       26.709   \n",
       "1                      -0.5930                       26.721   \n",
       "2                      -0.5679                       26.610   \n",
       "3                      -0.4894                       26.625   \n",
       "4                      -0.6244                       26.337   \n",
       "\n",
       "   Avg Dew Point Temp [deg C]  Avg Rel Humidity [%]  \\\n",
       "0                     22.5735               78.0075   \n",
       "1                     22.4702               77.4735   \n",
       "2                     22.3082               77.2130   \n",
       "3                     22.2568               76.9027   \n",
       "4                     21.9572               76.8125   \n",
       "\n",
       "   Avg Station Pressure [mBar]  Avg CR1000 Temp [deg C]  \\\n",
       "0                    1012.2700                  26.7250   \n",
       "1                    1011.5845                  26.8567   \n",
       "2                    1011.0637                  26.9235   \n",
       "3                    1010.8700                  26.9622   \n",
       "4                    1010.7870                  26.9322   \n",
       "\n",
       "   Avg CR1000 Battery [VDC]  \n",
       "0                     11.93  \n",
       "1                     11.93  \n",
       "2                     11.93  \n",
       "3                     11.93  \n",
       "4                     11.93  "
      ]
     },
     "execution_count": 2,
     "metadata": {},
     "output_type": "execute_result"
    }
   ],
   "source": [
    "df = pd.read_csv('data/sensor20150701.txt')\n",
    "df.head()"
   ]
  },
  {
   "cell_type": "code",
   "execution_count": 3,
   "metadata": {
    "collapsed": false
   },
   "outputs": [
    {
     "data": {
      "text/plain": [
       "[<matplotlib.lines.Line2D at 0x1077b88d0>]"
      ]
     },
     "execution_count": 3,
     "metadata": {},
     "output_type": "execute_result"
    },
    {
     "data": {
      "image/png": "[encoded data removed]",
      "text/plain": [
       "<matplotlib.figure.Figure at 0x104590110>"
      ]
     },
     "metadata": {},
     "output_type": "display_data"
    }
   ],
   "source": [
    "plt.plot(df['Avg Global PAR [umol/s/m^2]'].values)"
   ]
  },
  {
   "cell_type": "markdown",
   "metadata": {},
   "source": [
    "###Colorado:"
   ]
  },
  {
   "cell_type": "code",
   "execution_count": 195,
   "metadata": {
    "collapsed": false
   },
   "outputs": [
    {
     "data": {
      "text/html": [
       "<div>\n",
       "<table border=\"1\" class=\"dataframe\">\n",
       "  <thead>\n",
       "    <tr style=\"text-align: right;\">\n",
       "      <th></th>\n",
       "      <th>DATE (MM/DD/YYYY)</th>\n",
       "      <th>HOUR-MST</th>\n",
       "      <th>Avg Global PSP (vent/cor) [W/m^2]</th>\n",
       "      <th>Avg Global Extraterrestrial (calc) [W/m^2]</th>\n",
       "      <th>Avg Global Photometric LI-210 [klux]</th>\n",
       "      <th>Avg 500nm TWC Photometer [V]</th>\n",
       "      <th>Avg 315nm POM-01 Photometer [nA]</th>\n",
       "      <th>Avg 400nm POM-01 Photometer [uA]</th>\n",
       "      <th>Avg 500nm POM-01 Photometer [uA]</th>\n",
       "      <th>Avg 675nm POM-01 Photometer [uA]</th>\n",
       "      <th>Avg 870nm POM-01 Photometer [uA]</th>\n",
       "      <th>Avg 940nm POM-01 Photometer [uA]</th>\n",
       "      <th>Avg 1020nm POM-01 Photometer [uA]</th>\n",
       "      <th>Avg Global PSP [mV]</th>\n",
       "      <th>Avg Zenith Angle [degrees]</th>\n",
       "      <th>Avg Azimuth Angle [degrees]</th>\n",
       "      <th>Avg Airmass</th>\n",
       "      <th>Avg Tower Dry Bulb Temp [deg C]</th>\n",
       "      <th>Avg Deck Dry Bulb Temp [deg C]</th>\n",
       "      <th>Avg SE Dry Bulb Temp [deg C]</th>\n",
       "      <th>Avg Data lab Dry Bulb Temp [deg C]</th>\n",
       "      <th>Avg Tower Wet Bulb Temp [deg C]</th>\n",
       "      <th>Avg Tower Dew Point Temp [deg C]</th>\n",
       "      <th>Avg Tower Wind Chill Temp [deg C]</th>\n",
       "      <th>Avg Deck Wind Chill Temp [deg C]</th>\n",
       "      <th>Avg Tower RH [%]</th>\n",
       "      <th>Avg Deck RH [%]</th>\n",
       "      <th>Avg SE RH [%]</th>\n",
       "      <th>Avg Data lab RH [%]</th>\n",
       "      <th>Avg Total Cloud Cover [%]</th>\n",
       "      <th>Avg Opaque Cloud Cover [%]</th>\n",
       "      <th>Avg Station Pressure [mBar]</th>\n",
       "      <th>Avg Sea-Level Pressure (Est) [mBar]</th>\n",
       "      <th>Avg Atmospheric Electric Field [kV/m]</th>\n",
       "      <th>Avg 500nm TWC AOD</th>\n",
       "      <th>Avg 500nm Estimated AOD</th>\n",
       "      <th>Avg Broadband Turbidity</th>\n",
       "      <th>Avg Albedo (CM22)</th>\n",
       "      <th>Avg Albedo (CM3)</th>\n",
       "      <th>Avg Albedo (LI-200)</th>\n",
       "      <th>Avg Albedo Quantum (LI-190)</th>\n",
       "      <th>Avg SE-POA Angle [degrees]</th>\n",
       "    </tr>\n",
       "  </thead>\n",
       "  <tbody>\n",
       "    <tr>\n",
       "      <th>0</th>\n",
       "      <td>7/1/2015</td>\n",
       "      <td>1</td>\n",
       "      <td>2.5324</td>\n",
       "      <td>0.0000</td>\n",
       "      <td>0.0011</td>\n",
       "      <td>-0.0001</td>\n",
       "      <td>0</td>\n",
       "      <td>0</td>\n",
       "      <td>0</td>\n",
       "      <td>0</td>\n",
       "      <td>0</td>\n",
       "      <td>0</td>\n",
       "      <td>0</td>\n",
       "      <td>-0.0219</td>\n",
       "      <td>116.7211</td>\n",
       "      <td>30.6832</td>\n",
       "      <td>-1.0000</td>\n",
       "      <td>20.4007</td>\n",
       "      <td>20.2898</td>\n",
       "      <td>19.7155</td>\n",
       "      <td>21.5255</td>\n",
       "      <td>14.4772</td>\n",
       "      <td>11.1037</td>\n",
       "      <td>20.4007</td>\n",
       "      <td>20.2898</td>\n",
       "      <td>55.1772</td>\n",
       "      <td>55.1703</td>\n",
       "      <td>56.7908</td>\n",
       "      <td>43.0565</td>\n",
       "      <td>-1</td>\n",
       "      <td>-1</td>\n",
       "      <td>819.7822</td>\n",
       "      <td>1021.0570</td>\n",
       "      <td>0.0266</td>\n",
       "      <td>0.0000</td>\n",
       "      <td>0.0000</td>\n",
       "      <td>0.0000</td>\n",
       "      <td>0.0000</td>\n",
       "      <td>0.0000</td>\n",
       "      <td>0.0000</td>\n",
       "      <td>0.0000</td>\n",
       "      <td>0.0850</td>\n",
       "    </tr>\n",
       "    <tr>\n",
       "      <th>1</th>\n",
       "      <td>7/1/2015</td>\n",
       "      <td>2</td>\n",
       "      <td>4.6280</td>\n",
       "      <td>0.0000</td>\n",
       "      <td>0.0014</td>\n",
       "      <td>-0.0001</td>\n",
       "      <td>0</td>\n",
       "      <td>0</td>\n",
       "      <td>0</td>\n",
       "      <td>0</td>\n",
       "      <td>0</td>\n",
       "      <td>0</td>\n",
       "      <td>0</td>\n",
       "      <td>-0.0242</td>\n",
       "      <td>113.9060</td>\n",
       "      <td>21.5977</td>\n",
       "      <td>-1.0000</td>\n",
       "      <td>20.2025</td>\n",
       "      <td>20.0793</td>\n",
       "      <td>19.5970</td>\n",
       "      <td>21.4163</td>\n",
       "      <td>13.7762</td>\n",
       "      <td>9.9055</td>\n",
       "      <td>20.2025</td>\n",
       "      <td>20.0793</td>\n",
       "      <td>51.6217</td>\n",
       "      <td>51.5198</td>\n",
       "      <td>52.7787</td>\n",
       "      <td>43.4797</td>\n",
       "      <td>-1</td>\n",
       "      <td>-1</td>\n",
       "      <td>819.2624</td>\n",
       "      <td>1020.5380</td>\n",
       "      <td>0.0352</td>\n",
       "      <td>0.0000</td>\n",
       "      <td>0.0000</td>\n",
       "      <td>0.0000</td>\n",
       "      <td>0.0000</td>\n",
       "      <td>0.0000</td>\n",
       "      <td>0.0000</td>\n",
       "      <td>0.0000</td>\n",
       "      <td>0.0786</td>\n",
       "    </tr>\n",
       "    <tr>\n",
       "      <th>2</th>\n",
       "      <td>7/1/2015</td>\n",
       "      <td>3</td>\n",
       "      <td>4.5013</td>\n",
       "      <td>0.0000</td>\n",
       "      <td>0.0013</td>\n",
       "      <td>-0.0001</td>\n",
       "      <td>0</td>\n",
       "      <td>0</td>\n",
       "      <td>0</td>\n",
       "      <td>0</td>\n",
       "      <td>0</td>\n",
       "      <td>0</td>\n",
       "      <td>0</td>\n",
       "      <td>-0.0243</td>\n",
       "      <td>108.4288</td>\n",
       "      <td>35.1641</td>\n",
       "      <td>-1.0000</td>\n",
       "      <td>20.0422</td>\n",
       "      <td>20.0528</td>\n",
       "      <td>19.4850</td>\n",
       "      <td>21.2288</td>\n",
       "      <td>13.2922</td>\n",
       "      <td>9.0829</td>\n",
       "      <td>20.0422</td>\n",
       "      <td>20.0528</td>\n",
       "      <td>49.2762</td>\n",
       "      <td>48.7005</td>\n",
       "      <td>50.0063</td>\n",
       "      <td>43.6992</td>\n",
       "      <td>-1</td>\n",
       "      <td>-1</td>\n",
       "      <td>818.8139</td>\n",
       "      <td>1020.0883</td>\n",
       "      <td>0.0357</td>\n",
       "      <td>0.0000</td>\n",
       "      <td>0.0000</td>\n",
       "      <td>0.0000</td>\n",
       "      <td>0.0000</td>\n",
       "      <td>0.0000</td>\n",
       "      <td>0.0000</td>\n",
       "      <td>0.0000</td>\n",
       "      <td>0.0743</td>\n",
       "    </tr>\n",
       "    <tr>\n",
       "      <th>3</th>\n",
       "      <td>7/1/2015</td>\n",
       "      <td>4</td>\n",
       "      <td>4.7167</td>\n",
       "      <td>0.0000</td>\n",
       "      <td>0.0024</td>\n",
       "      <td>-0.0001</td>\n",
       "      <td>0</td>\n",
       "      <td>0</td>\n",
       "      <td>0</td>\n",
       "      <td>0</td>\n",
       "      <td>0</td>\n",
       "      <td>0</td>\n",
       "      <td>0</td>\n",
       "      <td>-0.0231</td>\n",
       "      <td>100.8536</td>\n",
       "      <td>47.0792</td>\n",
       "      <td>-1.0000</td>\n",
       "      <td>20.8902</td>\n",
       "      <td>20.9502</td>\n",
       "      <td>20.3470</td>\n",
       "      <td>21.3292</td>\n",
       "      <td>12.8787</td>\n",
       "      <td>7.6099</td>\n",
       "      <td>20.8902</td>\n",
       "      <td>20.9502</td>\n",
       "      <td>42.3137</td>\n",
       "      <td>41.6873</td>\n",
       "      <td>42.5780</td>\n",
       "      <td>42.4400</td>\n",
       "      <td>-1</td>\n",
       "      <td>-1</td>\n",
       "      <td>818.7855</td>\n",
       "      <td>1020.0597</td>\n",
       "      <td>0.0359</td>\n",
       "      <td>0.0000</td>\n",
       "      <td>0.0000</td>\n",
       "      <td>0.0000</td>\n",
       "      <td>0.0000</td>\n",
       "      <td>0.0000</td>\n",
       "      <td>0.0000</td>\n",
       "      <td>0.0000</td>\n",
       "      <td>0.0756</td>\n",
       "    </tr>\n",
       "    <tr>\n",
       "      <th>4</th>\n",
       "      <td>7/1/2015</td>\n",
       "      <td>5</td>\n",
       "      <td>15.9336</td>\n",
       "      <td>13.8694</td>\n",
       "      <td>0.7915</td>\n",
       "      <td>0.0176</td>\n",
       "      <td>0</td>\n",
       "      <td>0</td>\n",
       "      <td>0</td>\n",
       "      <td>0</td>\n",
       "      <td>0</td>\n",
       "      <td>0</td>\n",
       "      <td>0</td>\n",
       "      <td>0.0542</td>\n",
       "      <td>91.6214</td>\n",
       "      <td>57.5053</td>\n",
       "      <td>16.4303</td>\n",
       "      <td>21.3253</td>\n",
       "      <td>21.2743</td>\n",
       "      <td>20.7990</td>\n",
       "      <td>21.3492</td>\n",
       "      <td>12.6926</td>\n",
       "      <td>6.8696</td>\n",
       "      <td>21.3253</td>\n",
       "      <td>21.2743</td>\n",
       "      <td>39.1450</td>\n",
       "      <td>38.9337</td>\n",
       "      <td>39.2247</td>\n",
       "      <td>41.9788</td>\n",
       "      <td>-1</td>\n",
       "      <td>-1</td>\n",
       "      <td>819.2428</td>\n",
       "      <td>1020.5175</td>\n",
       "      <td>0.0396</td>\n",
       "      <td>0.0434</td>\n",
       "      <td>0.0445</td>\n",
       "      <td>0.0424</td>\n",
       "      <td>0.0547</td>\n",
       "      <td>0.0697</td>\n",
       "      <td>0.0828</td>\n",
       "      <td>0.0188</td>\n",
       "      <td>-0.6433</td>\n",
       "    </tr>\n",
       "  </tbody>\n",
       "</table>\n",
       "</div>"
      ],
      "text/plain": [
       "  DATE (MM/DD/YYYY)  HOUR-MST  Avg Global PSP (vent/cor) [W/m^2]  \\\n",
       "0          7/1/2015         1                             2.5324   \n",
       "1          7/1/2015         2                             4.6280   \n",
       "2          7/1/2015         3                             4.5013   \n",
       "3          7/1/2015         4                             4.7167   \n",
       "4          7/1/2015         5                            15.9336   \n",
       "\n",
       "   Avg Global Extraterrestrial (calc) [W/m^2]  \\\n",
       "0                                      0.0000   \n",
       "1                                      0.0000   \n",
       "2                                      0.0000   \n",
       "3                                      0.0000   \n",
       "4                                     13.8694   \n",
       "\n",
       "   Avg Global Photometric LI-210 [klux]  Avg 500nm TWC Photometer [V]  \\\n",
       "0                                0.0011                       -0.0001   \n",
       "1                                0.0014                       -0.0001   \n",
       "2                                0.0013                       -0.0001   \n",
       "3                                0.0024                       -0.0001   \n",
       "4                                0.7915                        0.0176   \n",
       "\n",
       "   Avg 315nm POM-01 Photometer [nA]  Avg 400nm POM-01 Photometer [uA]  \\\n",
       "0                                 0                                 0   \n",
       "1                                 0                                 0   \n",
       "2                                 0                                 0   \n",
       "3                                 0                                 0   \n",
       "4                                 0                                 0   \n",
       "\n",
       "   Avg 500nm POM-01 Photometer [uA]  Avg 675nm POM-01 Photometer [uA]  \\\n",
       "0                                 0                                 0   \n",
       "1                                 0                                 0   \n",
       "2                                 0                                 0   \n",
       "3                                 0                                 0   \n",
       "4                                 0                                 0   \n",
       "\n",
       "   Avg 870nm POM-01 Photometer [uA]  Avg 940nm POM-01 Photometer [uA]  \\\n",
       "0                                 0                                 0   \n",
       "1                                 0                                 0   \n",
       "2                                 0                                 0   \n",
       "3                                 0                                 0   \n",
       "4                                 0                                 0   \n",
       "\n",
       "   Avg 1020nm POM-01 Photometer [uA]  Avg Global PSP [mV]  \\\n",
       "0                                  0              -0.0219   \n",
       "1                                  0              -0.0242   \n",
       "2                                  0              -0.0243   \n",
       "3                                  0              -0.0231   \n",
       "4                                  0               0.0542   \n",
       "\n",
       "   Avg Zenith Angle [degrees]  Avg Azimuth Angle [degrees]  Avg Airmass  \\\n",
       "0                    116.7211                      30.6832      -1.0000   \n",
       "1                    113.9060                      21.5977      -1.0000   \n",
       "2                    108.4288                      35.1641      -1.0000   \n",
       "3                    100.8536                      47.0792      -1.0000   \n",
       "4                     91.6214                      57.5053      16.4303   \n",
       "\n",
       "   Avg Tower Dry Bulb Temp [deg C]  Avg Deck Dry Bulb Temp [deg C]  \\\n",
       "0                          20.4007                         20.2898   \n",
       "1                          20.2025                         20.0793   \n",
       "2                          20.0422                         20.0528   \n",
       "3                          20.8902                         20.9502   \n",
       "4                          21.3253                         21.2743   \n",
       "\n",
       "   Avg SE Dry Bulb Temp [deg C]  Avg Data lab Dry Bulb Temp [deg C]  \\\n",
       "0                       19.7155                             21.5255   \n",
       "1                       19.5970                             21.4163   \n",
       "2                       19.4850                             21.2288   \n",
       "3                       20.3470                             21.3292   \n",
       "4                       20.7990                             21.3492   \n",
       "\n",
       "   Avg Tower Wet Bulb Temp [deg C]  Avg Tower Dew Point Temp [deg C]  \\\n",
       "0                          14.4772                           11.1037   \n",
       "1                          13.7762                            9.9055   \n",
       "2                          13.2922                            9.0829   \n",
       "3                          12.8787                            7.6099   \n",
       "4                          12.6926                            6.8696   \n",
       "\n",
       "   Avg Tower Wind Chill Temp [deg C]  Avg Deck Wind Chill Temp [deg C]  \\\n",
       "0                            20.4007                           20.2898   \n",
       "1                            20.2025                           20.0793   \n",
       "2                            20.0422                           20.0528   \n",
       "3                            20.8902                           20.9502   \n",
       "4                            21.3253                           21.2743   \n",
       "\n",
       "   Avg Tower RH [%]  Avg Deck RH [%]  Avg SE RH [%]  Avg Data lab RH [%]  \\\n",
       "0           55.1772          55.1703        56.7908              43.0565   \n",
       "1           51.6217          51.5198        52.7787              43.4797   \n",
       "2           49.2762          48.7005        50.0063              43.6992   \n",
       "3           42.3137          41.6873        42.5780              42.4400   \n",
       "4           39.1450          38.9337        39.2247              41.9788   \n",
       "\n",
       "   Avg Total Cloud Cover [%]  Avg Opaque Cloud Cover [%]  \\\n",
       "0                         -1                          -1   \n",
       "1                         -1                          -1   \n",
       "2                         -1                          -1   \n",
       "3                         -1                          -1   \n",
       "4                         -1                          -1   \n",
       "\n",
       "   Avg Station Pressure [mBar]  Avg Sea-Level Pressure (Est) [mBar]  \\\n",
       "0                     819.7822                            1021.0570   \n",
       "1                     819.2624                            1020.5380   \n",
       "2                     818.8139                            1020.0883   \n",
       "3                     818.7855                            1020.0597   \n",
       "4                     819.2428                            1020.5175   \n",
       "\n",
       "   Avg Atmospheric Electric Field [kV/m]  Avg 500nm TWC AOD  \\\n",
       "0                                 0.0266             0.0000   \n",
       "1                                 0.0352             0.0000   \n",
       "2                                 0.0357             0.0000   \n",
       "3                                 0.0359             0.0000   \n",
       "4                                 0.0396             0.0434   \n",
       "\n",
       "   Avg 500nm Estimated AOD  Avg Broadband Turbidity  Avg Albedo (CM22)  \\\n",
       "0                   0.0000                   0.0000             0.0000   \n",
       "1                   0.0000                   0.0000             0.0000   \n",
       "2                   0.0000                   0.0000             0.0000   \n",
       "3                   0.0000                   0.0000             0.0000   \n",
       "4                   0.0445                   0.0424             0.0547   \n",
       "\n",
       "   Avg Albedo (CM3)  Avg Albedo (LI-200)  Avg Albedo Quantum (LI-190)  \\\n",
       "0            0.0000               0.0000                       0.0000   \n",
       "1            0.0000               0.0000                       0.0000   \n",
       "2            0.0000               0.0000                       0.0000   \n",
       "3            0.0000               0.0000                       0.0000   \n",
       "4            0.0697               0.0828                       0.0188   \n",
       "\n",
       "   Avg SE-POA Angle [degrees]  \n",
       "0                      0.0850  \n",
       "1                      0.0786  \n",
       "2                      0.0743  \n",
       "3                      0.0756  \n",
       "4                     -0.6433  "
      ]
     },
     "execution_count": 195,
     "metadata": {},
     "output_type": "execute_result"
    }
   ],
   "source": [
    "col_0701_df = pd.read_csv('data/colorado20150701.txt')\n",
    "def to_str(x):\n",
    "    if x < 10:\n",
    "        return '0' + x.astype(str)\n",
    "    else:\n",
    "        return x.astype(str)\n",
    "        \n",
    "col_0701_df['datetime'] = pd.to_datetime(col_0701_df['DATE (MM/DD/YYYY)']+' '+col_0701_df['HOUR-MST'].map(to_str))\n",
    "intensities = np.insert(col_0701_df['Avg Global PSP (vent/cor) [W/m^2]'].values,0,0)"
   ]
  },
  {
   "cell_type": "code",
   "execution_count": 5,
   "metadata": {
    "collapsed": false
   },
   "outputs": [],
   "source": [
    "spectrometer = col_0701_df[col_0701_df.index==10].values.reshape(42,)[7:12]"
   ]
  },
  {
   "cell_type": "code",
   "execution_count": 6,
   "metadata": {
    "collapsed": false
   },
   "outputs": [],
   "source": [
    "wavelengths = np.array([400, 500, 675, 940, 1020])"
   ]
  },
  {
   "cell_type": "code",
   "execution_count": 7,
   "metadata": {
    "collapsed": false
   },
   "outputs": [
    {
     "data": {
      "text/plain": [
       "[<matplotlib.lines.Line2D at 0x10817e550>]"
      ]
     },
     "execution_count": 7,
     "metadata": {},
     "output_type": "execute_result"
    },
    {
     "data": {
      "image/png": "[encoded data removed]",
      "text/plain": [
       "<matplotlib.figure.Figure at 0x108038650>"
      ]
     },
     "metadata": {},
     "output_type": "display_data"
    }
   ],
   "source": [
    "plt.plot(wavelengths,spectrometer)"
   ]
  },
  {
   "cell_type": "code",
   "execution_count": 8,
   "metadata": {
    "collapsed": false
   },
   "outputs": [
    {
     "data": {
      "image/png": "[encoded data removed]",
      "text/plain": [
       "<matplotlib.figure.Figure at 0x1081b9ed0>"
      ]
     },
     "metadata": {},
     "output_type": "display_data"
    }
   ],
   "source": [
    "from scipy import interpolate\n",
    "\n",
    "x = wavelengths\n",
    "y = spectrometer\n",
    "\n",
    "f = interpolate.interp1d(x, y)\n",
    "wav_new = np.arange(400,1020, 0.5) #300 nm to 1180 nm with 0.5 nm spacing\n",
    "spec_new = f(wav_new)   #recreate AM1.5 with 0.5 nm spacing\n",
    "\n",
    "plt.plot(x, y, 'o', wav_new, spec_new, '-')\n",
    "plt.show()"
   ]
  },
  {
   "cell_type": "code",
   "execution_count": 9,
   "metadata": {
    "collapsed": false
   },
   "outputs": [
    {
     "data": {
      "text/plain": [
       "780.22615203649048"
      ]
     },
     "execution_count": 9,
     "metadata": {},
     "output_type": "execute_result"
    }
   ],
   "source": [
    "sum(wav_new*spec_new)*.5/1240/100"
   ]
  },
  {
   "cell_type": "markdown",
   "metadata": {},
   "source": [
    "##Web scraping for pvoutput.org"
   ]
  },
  {
   "cell_type": "code",
   "execution_count": 270,
   "metadata": {
    "collapsed": false
   },
   "outputs": [
    {
     "data": {
      "text/html": [
       "<div>\n",
       "<table border=\"1\" class=\"dataframe\">\n",
       "  <thead>\n",
       "    <tr style=\"text-align: right;\">\n",
       "      <th></th>\n",
       "      <th>Date</th>\n",
       "      <th>Time</th>\n",
       "      <th>Energy</th>\n",
       "      <th>Efficiency</th>\n",
       "      <th>Power</th>\n",
       "      <th>Average</th>\n",
       "      <th>Normalised</th>\n",
       "      <th>Temperature</th>\n",
       "      <th>Voltage</th>\n",
       "      <th>Energy Used</th>\n",
       "      <th>Power Used</th>\n",
       "      <th>nan</th>\n",
       "    </tr>\n",
       "    <tr>\n",
       "      <th>datetime</th>\n",
       "      <th></th>\n",
       "      <th></th>\n",
       "      <th></th>\n",
       "      <th></th>\n",
       "      <th></th>\n",
       "      <th></th>\n",
       "      <th></th>\n",
       "      <th></th>\n",
       "      <th></th>\n",
       "      <th></th>\n",
       "      <th></th>\n",
       "      <th></th>\n",
       "    </tr>\n",
       "  </thead>\n",
       "  <tbody>\n",
       "    <tr>\n",
       "      <th>2015-07-01 23:55:00</th>\n",
       "      <td>2015-07-01</td>\n",
       "      <td>23:55</td>\n",
       "      <td>61.260kWh</td>\n",
       "      <td>4.317kWh/kW</td>\n",
       "      <td>0</td>\n",
       "      <td>0W</td>\n",
       "      <td>0.000kW/kW</td>\n",
       "      <td>-</td>\n",
       "      <td>-</td>\n",
       "      <td>66.801kWh</td>\n",
       "      <td>1,921W</td>\n",
       "      <td>NaN</td>\n",
       "    </tr>\n",
       "    <tr>\n",
       "      <th>2015-07-01 23:50:00</th>\n",
       "      <td>2015-07-01</td>\n",
       "      <td>23:50</td>\n",
       "      <td>61.260kWh</td>\n",
       "      <td>4.317kWh/kW</td>\n",
       "      <td>0</td>\n",
       "      <td>0W</td>\n",
       "      <td>0.000kW/kW</td>\n",
       "      <td>-</td>\n",
       "      <td>-</td>\n",
       "      <td>66.641kWh</td>\n",
       "      <td>2,215W</td>\n",
       "      <td>NaN</td>\n",
       "    </tr>\n",
       "    <tr>\n",
       "      <th>2015-07-01 23:45:00</th>\n",
       "      <td>2015-07-01</td>\n",
       "      <td>23:45</td>\n",
       "      <td>61.260kWh</td>\n",
       "      <td>4.317kWh/kW</td>\n",
       "      <td>0</td>\n",
       "      <td>0W</td>\n",
       "      <td>0.000kW/kW</td>\n",
       "      <td>-</td>\n",
       "      <td>-</td>\n",
       "      <td>66.456kWh</td>\n",
       "      <td>2,230W</td>\n",
       "      <td>NaN</td>\n",
       "    </tr>\n",
       "    <tr>\n",
       "      <th>2015-07-01 23:40:00</th>\n",
       "      <td>2015-07-01</td>\n",
       "      <td>23:40</td>\n",
       "      <td>61.260kWh</td>\n",
       "      <td>4.317kWh/kW</td>\n",
       "      <td>0</td>\n",
       "      <td>0W</td>\n",
       "      <td>0.000kW/kW</td>\n",
       "      <td>-</td>\n",
       "      <td>-</td>\n",
       "      <td>66.271kWh</td>\n",
       "      <td>2,237W</td>\n",
       "      <td>NaN</td>\n",
       "    </tr>\n",
       "    <tr>\n",
       "      <th>2015-07-01 23:35:00</th>\n",
       "      <td>2015-07-01</td>\n",
       "      <td>23:35</td>\n",
       "      <td>61.260kWh</td>\n",
       "      <td>4.317kWh/kW</td>\n",
       "      <td>0</td>\n",
       "      <td>0W</td>\n",
       "      <td>0.000kW/kW</td>\n",
       "      <td>-</td>\n",
       "      <td>-</td>\n",
       "      <td>66.084kWh</td>\n",
       "      <td>2,230W</td>\n",
       "      <td>NaN</td>\n",
       "    </tr>\n",
       "  </tbody>\n",
       "</table>\n",
       "</div>"
      ],
      "text/plain": [
       "                           Date   Time     Energy   Efficiency  Power Average  \\\n",
       "datetime                                                                        \n",
       "2015-07-01 23:55:00  2015-07-01  23:55  61.260kWh  4.317kWh/kW      0      0W   \n",
       "2015-07-01 23:50:00  2015-07-01  23:50  61.260kWh  4.317kWh/kW      0      0W   \n",
       "2015-07-01 23:45:00  2015-07-01  23:45  61.260kWh  4.317kWh/kW      0      0W   \n",
       "2015-07-01 23:40:00  2015-07-01  23:40  61.260kWh  4.317kWh/kW      0      0W   \n",
       "2015-07-01 23:35:00  2015-07-01  23:35  61.260kWh  4.317kWh/kW      0      0W   \n",
       "\n",
       "                     Normalised Temperature Voltage Energy Used Power Used  \\\n",
       "datetime                                                                     \n",
       "2015-07-01 23:55:00  0.000kW/kW           -       -   66.801kWh     1,921W   \n",
       "2015-07-01 23:50:00  0.000kW/kW           -       -   66.641kWh     2,215W   \n",
       "2015-07-01 23:45:00  0.000kW/kW           -       -   66.456kWh     2,230W   \n",
       "2015-07-01 23:40:00  0.000kW/kW           -       -   66.271kWh     2,237W   \n",
       "2015-07-01 23:35:00  0.000kW/kW           -       -   66.084kWh     2,230W   \n",
       "\n",
       "                     NaN  \n",
       "datetime                  \n",
       "2015-07-01 23:55:00  NaN  \n",
       "2015-07-01 23:50:00  NaN  \n",
       "2015-07-01 23:45:00  NaN  \n",
       "2015-07-01 23:40:00  NaN  \n",
       "2015-07-01 23:35:00  NaN  "
      ]
     },
     "execution_count": 270,
     "metadata": {},
     "output_type": "execute_result"
    }
   ],
   "source": [
    "import mechanize\n",
    "import cookielib\n",
    "import os\n",
    "PVOUTPUT_USERNAME = os.environ['PVOUTPUT_USERNAME']\n",
    "PVOUTPUT_PASSWORD = os.environ['PVOUTPUT_PASSWORD']\n",
    "PVOUTPUT_API = os.environ['PVOUTPUT_API']\n",
    "\n",
    "#web scraping\n",
    "cj = cookielib.CookieJar() #saves the cookie?\n",
    "br = mechanize.Browser() #instansiates a browser\n",
    "br.set_handle_robots(False) #I am not a robot...\n",
    "br.set_cookiejar(cj) #use cookie?\n",
    "br.open(\"http://pvoutput.org/\") #open login page\n",
    "br.select_form(nr=0) #select login form\n",
    "br.form['login'] = PVOUTPUT_USERNAME #login using saved env vars\n",
    "br.form['password'] = PVOUTPUT_PASSWORD #login using saved env vars\n",
    "br.submit() #press enter\n",
    "#print br.response().read() #see if it worked\n",
    "br.open(\"http://pvoutput.org/intraday.jsp?id=5446&sid=5473&dt=20150701\") #open desired page\n",
    "html = br.response().read() #read desired page\n",
    "df_html = pd.read_html(html)[0]\n",
    "\n",
    "#cleaning the data\n",
    "df_html.columns = pd.MultiIndex.from_arrays(df_html[df_html.index==1].values)\n",
    "df_html.drop(df_html.index[[0,1]],inplace=True)\n",
    "df_html['Power'] = df_html['Power'].str.replace(',','')\n",
    "df_html['Power'] = df_html['Power'].map(lambda x: x.rstrip('W'))\n",
    "\n",
    "def make_a_no(x):                  \n",
    "    try:\n",
    "        return int(x)\n",
    "    except:\n",
    "        x = 0 \n",
    "        return x\n",
    "    \n",
    "df_html['Power'] = df_html['Power'].map(make_a_no)\n",
    "df_html['datetime'] = pd.to_datetime(df_html['Date'] + ' ' + df_html['Time'], unit='h')\n",
    "df_html.set_index(['datetime'],inplace=True)\n",
    "df_html.head()"
   ]
  },
  {
   "cell_type": "markdown",
   "metadata": {},
   "source": [
    "##Making a simple linear model"
   ]
  },
  {
   "cell_type": "code",
   "execution_count": 250,
   "metadata": {
    "collapsed": false
   },
   "outputs": [],
   "source": [
    "powers = df_html.resample('H', how='mean')['Power'].values"
   ]
  },
  {
   "cell_type": "code",
   "execution_count": 257,
   "metadata": {
    "collapsed": false
   },
   "outputs": [
    {
     "data": {
      "text/plain": [
       "[<matplotlib.lines.Line2D at 0x10db72850>]"
      ]
     },
     "execution_count": 257,
     "metadata": {},
     "output_type": "execute_result"
    },
    {
     "data": {
      "image/png": "[encoded data removed]",
      "text/plain": [
       "<matplotlib.figure.Figure at 0x10f69fbd0>"
      ]
     },
     "metadata": {},
     "output_type": "display_data"
    }
   ],
   "source": [
    "plt.plot(intensities,powers,'ro') #output powers vs. intensities"
   ]
  },
  {
   "cell_type": "code",
   "execution_count": 262,
   "metadata": {
    "collapsed": false
   },
   "outputs": [
    {
     "name": "stdout",
     "output_type": "stream",
     "text": [
      "                            OLS Regression Results                            \n",
      "==============================================================================\n",
      "Dep. Variable:                      y   R-squared:                       0.909\n",
      "Model:                            OLS   Adj. R-squared:                  0.906\n",
      "Method:                 Least Squares   F-statistic:                     231.0\n",
      "Date:                Tue, 04 Aug 2015   Prob (F-statistic):           1.74e-13\n",
      "Time:                        10:54:42   Log-Likelihood:                -204.38\n",
      "No. Observations:                  24   AIC:                             410.8\n",
      "Df Residuals:                      23   BIC:                             411.9\n",
      "Df Model:                           1                                         \n",
      "Covariance Type:            nonrobust                                         \n",
      "==============================================================================\n",
      "                 coef    std err          t      P>|t|      [95.0% Conf. Int.]\n",
      "------------------------------------------------------------------------------\n",
      "x1             9.5328      0.627     15.199      0.000         8.235    10.830\n",
      "==============================================================================\n",
      "Omnibus:                        3.884   Durbin-Watson:                   2.531\n",
      "Prob(Omnibus):                  0.143   Jarque-Bera (JB):                2.215\n",
      "Skew:                          -0.398   Prob(JB):                        0.330\n",
      "Kurtosis:                       4.257   Cond. No.                         1.00\n",
      "==============================================================================\n",
      "\n",
      "Warnings:\n",
      "[1] Standard Errors assume that the covariance matrix of the errors is correctly specified.\n"
     ]
    }
   ],
   "source": [
    "import statsmodels.api as sm\n",
    "\n",
    "# Fit and summarize OLS model\n",
    "mod = sm.OLS(powers,intensities)\n",
    "res = mod.fit()\n",
    "print res.summary()"
   ]
  },
  {
   "cell_type": "code",
   "execution_count": 263,
   "metadata": {
    "collapsed": false
   },
   "outputs": [
    {
     "data": {
      "image/png": "[encoded data removed]",
      "text/plain": [
       "<matplotlib.figure.Figure at 0x10dd74e50>"
      ]
     },
     "metadata": {},
     "output_type": "display_data"
    }
   ],
   "source": [
    "fig, ax = plt.subplots()\n",
    "fig = sm.graphics.plot_fit(res, 0, ax=ax)"
   ]
  },
  {
   "cell_type": "markdown",
   "metadata": {},
   "source": [
    "##Another day: the next day (July 2nd)"
   ]
  },
  {
   "cell_type": "code",
   "execution_count": 274,
   "metadata": {
    "collapsed": false
   },
   "outputs": [],
   "source": [
    "col_0702_df = pd.read_csv('data/colorado20150702.txt')\n",
    "def to_str(x):\n",
    "    if x < 10:\n",
    "        return '0' + x.astype(str)\n",
    "    else:\n",
    "        return x.astype(str)\n",
    "        \n",
    "col_0702_df['datetime'] = pd.to_datetime(col_0702_df['DATE (MM/DD/YYYY)']+' '+col_0702_df['HOUR-MST'].map(to_str))\n",
    "intensities = np.insert(col_0702_df['Avg Global PSP (vent/cor) [W/m^2]'].values,0,0)"
   ]
  },
  {
   "cell_type": "markdown",
   "metadata": {},
   "source": [
    "### copy from above"
   ]
  },
  {
   "cell_type": "code",
   "execution_count": 272,
   "metadata": {
    "collapsed": false
   },
   "outputs": [
    {
     "data": {
      "text/html": [
       "<div>\n",
       "<table border=\"1\" class=\"dataframe\">\n",
       "  <thead>\n",
       "    <tr style=\"text-align: right;\">\n",
       "      <th></th>\n",
       "      <th>Date</th>\n",
       "      <th>Time</th>\n",
       "      <th>Energy</th>\n",
       "      <th>Efficiency</th>\n",
       "      <th>Power</th>\n",
       "      <th>Average</th>\n",
       "      <th>Normalised</th>\n",
       "      <th>Temperature</th>\n",
       "      <th>Voltage</th>\n",
       "      <th>Energy Used</th>\n",
       "      <th>Power Used</th>\n",
       "      <th>nan</th>\n",
       "    </tr>\n",
       "    <tr>\n",
       "      <th>datetime</th>\n",
       "      <th></th>\n",
       "      <th></th>\n",
       "      <th></th>\n",
       "      <th></th>\n",
       "      <th></th>\n",
       "      <th></th>\n",
       "      <th></th>\n",
       "      <th></th>\n",
       "      <th></th>\n",
       "      <th></th>\n",
       "      <th></th>\n",
       "      <th></th>\n",
       "    </tr>\n",
       "  </thead>\n",
       "  <tbody>\n",
       "    <tr>\n",
       "      <th>2015-07-02 23:55:00</th>\n",
       "      <td>2015-07-02</td>\n",
       "      <td>23:55</td>\n",
       "      <td>74.866kWh</td>\n",
       "      <td>5.276kWh/kW</td>\n",
       "      <td>0</td>\n",
       "      <td>0W</td>\n",
       "      <td>0.000kW/kW</td>\n",
       "      <td>-</td>\n",
       "      <td>-</td>\n",
       "      <td>53.868kWh</td>\n",
       "      <td>1,789W</td>\n",
       "      <td>NaN</td>\n",
       "    </tr>\n",
       "    <tr>\n",
       "      <th>2015-07-02 23:50:00</th>\n",
       "      <td>2015-07-02</td>\n",
       "      <td>23:50</td>\n",
       "      <td>74.866kWh</td>\n",
       "      <td>5.276kWh/kW</td>\n",
       "      <td>0</td>\n",
       "      <td>0W</td>\n",
       "      <td>0.000kW/kW</td>\n",
       "      <td>-</td>\n",
       "      <td>-</td>\n",
       "      <td>53.719kWh</td>\n",
       "      <td>1,881W</td>\n",
       "      <td>NaN</td>\n",
       "    </tr>\n",
       "    <tr>\n",
       "      <th>2015-07-02 23:45:00</th>\n",
       "      <td>2015-07-02</td>\n",
       "      <td>23:45</td>\n",
       "      <td>74.866kWh</td>\n",
       "      <td>5.276kWh/kW</td>\n",
       "      <td>0</td>\n",
       "      <td>0W</td>\n",
       "      <td>0.000kW/kW</td>\n",
       "      <td>-</td>\n",
       "      <td>-</td>\n",
       "      <td>53.562kWh</td>\n",
       "      <td>2,032W</td>\n",
       "      <td>NaN</td>\n",
       "    </tr>\n",
       "    <tr>\n",
       "      <th>2015-07-02 23:40:00</th>\n",
       "      <td>2015-07-02</td>\n",
       "      <td>23:40</td>\n",
       "      <td>74.866kWh</td>\n",
       "      <td>5.276kWh/kW</td>\n",
       "      <td>0</td>\n",
       "      <td>0W</td>\n",
       "      <td>0.000kW/kW</td>\n",
       "      <td>-</td>\n",
       "      <td>-</td>\n",
       "      <td>53.393kWh</td>\n",
       "      <td>2,031W</td>\n",
       "      <td>NaN</td>\n",
       "    </tr>\n",
       "    <tr>\n",
       "      <th>2015-07-02 23:35:00</th>\n",
       "      <td>2015-07-02</td>\n",
       "      <td>23:35</td>\n",
       "      <td>74.866kWh</td>\n",
       "      <td>5.276kWh/kW</td>\n",
       "      <td>0</td>\n",
       "      <td>0W</td>\n",
       "      <td>0.000kW/kW</td>\n",
       "      <td>-</td>\n",
       "      <td>-</td>\n",
       "      <td>53.224kWh</td>\n",
       "      <td>2,057W</td>\n",
       "      <td>NaN</td>\n",
       "    </tr>\n",
       "  </tbody>\n",
       "</table>\n",
       "</div>"
      ],
      "text/plain": [
       "                           Date   Time     Energy   Efficiency  Power Average  \\\n",
       "datetime                                                                        \n",
       "2015-07-02 23:55:00  2015-07-02  23:55  74.866kWh  5.276kWh/kW      0      0W   \n",
       "2015-07-02 23:50:00  2015-07-02  23:50  74.866kWh  5.276kWh/kW      0      0W   \n",
       "2015-07-02 23:45:00  2015-07-02  23:45  74.866kWh  5.276kWh/kW      0      0W   \n",
       "2015-07-02 23:40:00  2015-07-02  23:40  74.866kWh  5.276kWh/kW      0      0W   \n",
       "2015-07-02 23:35:00  2015-07-02  23:35  74.866kWh  5.276kWh/kW      0      0W   \n",
       "\n",
       "                     Normalised Temperature Voltage Energy Used Power Used  \\\n",
       "datetime                                                                     \n",
       "2015-07-02 23:55:00  0.000kW/kW           -       -   53.868kWh     1,789W   \n",
       "2015-07-02 23:50:00  0.000kW/kW           -       -   53.719kWh     1,881W   \n",
       "2015-07-02 23:45:00  0.000kW/kW           -       -   53.562kWh     2,032W   \n",
       "2015-07-02 23:40:00  0.000kW/kW           -       -   53.393kWh     2,031W   \n",
       "2015-07-02 23:35:00  0.000kW/kW           -       -   53.224kWh     2,057W   \n",
       "\n",
       "                     NaN  \n",
       "datetime                  \n",
       "2015-07-02 23:55:00  NaN  \n",
       "2015-07-02 23:50:00  NaN  \n",
       "2015-07-02 23:45:00  NaN  \n",
       "2015-07-02 23:40:00  NaN  \n",
       "2015-07-02 23:35:00  NaN  "
      ]
     },
     "execution_count": 272,
     "metadata": {},
     "output_type": "execute_result"
    }
   ],
   "source": [
    "import mechanize\n",
    "import cookielib\n",
    "import os\n",
    "PVOUTPUT_USERNAME = os.environ['PVOUTPUT_USERNAME']\n",
    "PVOUTPUT_PASSWORD = os.environ['PVOUTPUT_PASSWORD']\n",
    "PVOUTPUT_API = os.environ['PVOUTPUT_API']\n",
    "\n",
    "#web scraping\n",
    "cj = cookielib.CookieJar() #saves the cookie?\n",
    "br = mechanize.Browser() #instansiates a browser\n",
    "br.set_handle_robots(False) #I am not a robot...\n",
    "br.set_cookiejar(cj) #use cookie?\n",
    "br.open(\"http://pvoutput.org/\") #open login page\n",
    "br.select_form(nr=0) #select login form\n",
    "br.form['login'] = PVOUTPUT_USERNAME #login using saved env vars\n",
    "br.form['password'] = PVOUTPUT_PASSWORD #login using saved env vars\n",
    "br.submit() #press enter\n",
    "#print br.response().read() #see if it worked\n",
    "br.open(\"http://pvoutput.org/intraday.jsp?id=5446&sid=5473&dt=20150702\") #open desired page\n",
    "html = br.response().read() #read desired page\n",
    "df_html = pd.read_html(html)[0]\n",
    "\n",
    "#cleaning the data\n",
    "df_html.columns = pd.MultiIndex.from_arrays(df_html[df_html.index==1].values)\n",
    "df_html.drop(df_html.index[[0,1]],inplace=True)\n",
    "df_html['Power'] = df_html['Power'].str.replace(',','')\n",
    "df_html['Power'] = df_html['Power'].map(lambda x: x.rstrip('W'))\n",
    "\n",
    "def make_a_no(x):                  \n",
    "    try:\n",
    "        return int(x)\n",
    "    except:\n",
    "        x = 0 \n",
    "        return x\n",
    "    \n",
    "df_html['Power'] = df_html['Power'].map(make_a_no)\n",
    "df_html['datetime'] = pd.to_datetime(df_html['Date'] + ' ' + df_html['Time'], unit='h')\n",
    "df_html.set_index(['datetime'],inplace=True)\n",
    "df_html.head()"
   ]
  },
  {
   "cell_type": "markdown",
   "metadata": {},
   "source": [
    "###use yesterdays model to predict today"
   ]
  },
  {
   "cell_type": "code",
   "execution_count": 273,
   "metadata": {
    "collapsed": true
   },
   "outputs": [],
   "source": [
    "powers = df_html.resample('H', how='mean')['Power'].values"
   ]
  },
  {
   "cell_type": "code",
   "execution_count": 283,
   "metadata": {
    "collapsed": false
   },
   "outputs": [],
   "source": [
    "powers_pred = res.predict(intensities)"
   ]
  },
  {
   "cell_type": "code",
   "execution_count": 285,
   "metadata": {
    "collapsed": false
   },
   "outputs": [
    {
     "data": {
      "text/plain": [
       "[<matplotlib.lines.Line2D at 0x1108eda90>]"
      ]
     },
     "execution_count": 285,
     "metadata": {},
     "output_type": "execute_result"
    },
    {
     "data": {
      "image/png": "[encoded data removed]",
      "text/plain": [
       "<matplotlib.figure.Figure at 0x10adcf290>"
      ]
     },
     "metadata": {},
     "output_type": "display_data"
    }
   ],
   "source": [
    "plt.plot(powers,powers_pred, 'ro')"
   ]
  },
  {
   "cell_type": "code",
   "execution_count": 286,
   "metadata": {
    "collapsed": false
   },
   "outputs": [
    {
     "name": "stdout",
     "output_type": "stream",
     "text": [
      "                            OLS Regression Results                            \n",
      "==============================================================================\n",
      "Dep. Variable:                      y   R-squared:                       0.909\n",
      "Model:                            OLS   Adj. R-squared:                  0.906\n",
      "Method:                 Least Squares   F-statistic:                     231.0\n",
      "Date:                Tue, 04 Aug 2015   Prob (F-statistic):           1.74e-13\n",
      "Time:                        13:01:16   Log-Likelihood:                -204.38\n",
      "No. Observations:                  24   AIC:                             410.8\n",
      "Df Residuals:                      23   BIC:                             411.9\n",
      "Df Model:                           1                                         \n",
      "Covariance Type:            nonrobust                                         \n",
      "==============================================================================\n",
      "                 coef    std err          t      P>|t|      [95.0% Conf. Int.]\n",
      "------------------------------------------------------------------------------\n",
      "x1             9.5328      0.627     15.199      0.000         8.235    10.830\n",
      "==============================================================================\n",
      "Omnibus:                        3.884   Durbin-Watson:                   2.531\n",
      "Prob(Omnibus):                  0.143   Jarque-Bera (JB):                2.215\n",
      "Skew:                          -0.398   Prob(JB):                        0.330\n",
      "Kurtosis:                       4.257   Cond. No.                         1.00\n",
      "==============================================================================\n",
      "\n",
      "Warnings:\n",
      "[1] Standard Errors assume that the covariance matrix of the errors is correctly specified.\n"
     ]
    }
   ],
   "source": [
    "mod2 = sm.OLS(powers_pred,powers)\n",
    "res2 = mod.fit()\n",
    "print res2.summary()"
   ]
  },
  {
   "cell_type": "code",
   "execution_count": 287,
   "metadata": {
    "collapsed": false
   },
   "outputs": [
    {
     "data": {
      "image/png": "[encoded data removed]",
      "text/plain": [
       "<matplotlib.figure.Figure at 0x11086ba10>"
      ]
     },
     "metadata": {},
     "output_type": "display_data"
    }
   ],
   "source": [
    "fig, ax = plt.subplots()\n",
    "fig = sm.graphics.plot_fit(res2, 0, ax=ax)"
   ]
  },
  {
   "cell_type": "markdown",
   "metadata": {},
   "source": [
    "##Now a satellite? (or what are we gunna do?)"
   ]
  },
  {
   "cell_type": "code",
   "execution_count": 289,
   "metadata": {
    "collapsed": true
   },
   "outputs": [],
   "source": [
    "import netCDF4"
   ]
  },
  {
   "cell_type": "code",
   "execution_count": 290,
   "metadata": {
    "collapsed": true
   },
   "outputs": [],
   "source": [
    "from netCDF4 import Dataset\n",
    "rootgrp = Dataset(\"data/f001/goes15.2015.182.000021.BAND_02.nc\", \"a\", format=\"NETCDF4\")"
   ]
  },
  {
   "cell_type": "code",
   "execution_count": 291,
   "metadata": {
    "collapsed": false
   },
   "outputs": [
    {
     "data": {
      "text/plain": [
       "'NETCDF3_CLASSIC'"
      ]
     },
     "execution_count": 291,
     "metadata": {},
     "output_type": "execute_result"
    }
   ],
   "source": [
    "rootgrp.data_model"
   ]
  },
  {
   "cell_type": "code",
   "execution_count": 303,
   "metadata": {
    "collapsed": false
   },
   "outputs": [
    {
     "name": "stdout",
     "output_type": "stream",
     "text": [
      "version\n",
      "sensorID\n",
      "imageDate\n",
      "imageTime\n",
      "startLine\n",
      "startElem\n",
      "time\n",
      "dataWidth\n",
      "lineRes\n",
      "elemRes\n",
      "prefixSize\n",
      "crDate\n",
      "crTime\n",
      "bands\n",
      "auditTrail\n",
      "data\n",
      "lat\n",
      "lon\n"
     ]
    }
   ],
   "source": [
    "for i in rootgrp.variables:\n",
    "    print i"
   ]
  },
  {
   "cell_type": "code",
   "execution_count": 312,
   "metadata": {
    "collapsed": true
   },
   "outputs": [],
   "source": [
    "lons = rootgrp.variables['lon'][:]\n",
    "lats = rootgrp.variables['lat'][:]\n",
    "data = rootgrp.variables['data'][:]"
   ]
  },
  {
   "cell_type": "code",
   "execution_count": 313,
   "metadata": {
    "collapsed": true
   },
   "outputs": [],
   "source": [
    "rootgrp.close()"
   ]
  },
  {
   "cell_type": "code",
   "execution_count": 314,
   "metadata": {
    "collapsed": true
   },
   "outputs": [],
   "source": [
    "from mpl_toolkits.basemap import Basemap"
   ]
  },
  {
   "cell_type": "code",
   "execution_count": 316,
   "metadata": {
    "collapsed": false
   },
   "outputs": [],
   "source": [
    "lon_0 = lons.mean()\n",
    "lat_0 = lats.mean()\n",
    "\n",
    "m = Basemap(width=5000000,height=3500000,\n",
    "            resolution='l',projection='stere',\\\n",
    "            lat_ts=40,lat_0=lat_0,lon_0=lon_0)"
   ]
  },
  {
   "cell_type": "code",
   "execution_count": null,
   "metadata": {
    "collapsed": true
   },
   "outputs": [],
   "source": []
  }
 ],
 "metadata": {
  "kernelspec": {
   "display_name": "Python 2",
   "language": "python",
   "name": "python2"
  },
  "language_info": {
   "codemirror_mode": {
    "name": "ipython",
    "version": 2
   },
   "file_extension": ".py",
   "mimetype": "text/x-python",
   "name": "python",
   "nbconvert_exporter": "python",
   "pygments_lexer": "ipython2",
   "version": "2.7.10"
  }
 },
 "nbformat": 4,
 "nbformat_minor": 0
}
