{
 "cells": [
  {
   "cell_type": "markdown",
   "metadata": {},
   "source": [
    "##Make X not baD!"
   ]
  },
  {
   "cell_type": "markdown",
   "metadata": {},
   "source": [
    "Load X and Y from getting satellite channels 1 and 6 data, see satellite-to-sensor-model.ipynb for more info."
   ]
  },
  {
   "cell_type": "code",
   "execution_count": 31,
   "metadata": {
    "collapsed": false
   },
   "outputs": [],
   "source": [
    "import numpy as np\n",
    "import matplotlib.pyplot as plt\n",
    "from data_helper_functions import *\n",
    "from IPython.display import display\n",
    "pd.options.display.max_columns = 999\n",
    "%matplotlib inline"
   ]
  },
  {
   "cell_type": "code",
   "execution_count": null,
   "metadata": {
    "collapsed": false
   },
   "outputs": [],
   "source": [
    "with np.load('data/X.npz') as data: #old X, don't use, start at \"Now with all channels...\"\n",
    "    X = data['X'] \n",
    "\n",
    "with np.load('data/Y.npz') as data: #old Y, don't use\n",
    "    Y = data['Y']"
   ]
  },
  {
   "cell_type": "code",
   "execution_count": 3,
   "metadata": {
    "collapsed": false
   },
   "outputs": [
    {
     "name": "stdout",
     "output_type": "stream",
     "text": [
      "(2544, 2476)\n",
      "(2544, 14)\n"
     ]
    }
   ],
   "source": [
    "print X.shape\n",
    "print Y.shape"
   ]
  },
  {
   "cell_type": "markdown",
   "metadata": {},
   "source": [
    "Random Forest seems to be giving the best results, so we'll stick with that for now"
   ]
  },
  {
   "cell_type": "code",
   "execution_count": 4,
   "metadata": {
    "collapsed": false
   },
   "outputs": [],
   "source": [
    "from sklearn.ensemble import RandomForestRegressor\n",
    "from sklearn.cross_validation import train_test_split\n",
    "rfr = RandomForestRegressor(oob_score=True)\n",
    "X_train, X_test, Y_train, Y_test = train_test_split(X, Y, test_size = 0.2, random_state = 14)"
   ]
  },
  {
   "cell_type": "code",
   "execution_count": 5,
   "metadata": {
    "collapsed": false
   },
   "outputs": [
    {
     "name": "stderr",
     "output_type": "stream",
     "text": [
      "/home/ubuntu/anaconda/lib/python2.7/site-packages/sklearn/ensemble/forest.py:659: UserWarning: Some inputs do not have OOB scores. This probably means too few trees were used to compute any reliable oob estimates.\n",
      "  warn(\"Some inputs do not have OOB scores. \"\n"
     ]
    },
    {
     "data": {
      "text/plain": [
       "RandomForestRegressor(bootstrap=True, criterion='mse', max_depth=None,\n",
       "           max_features='auto', max_leaf_nodes=None, min_samples_leaf=1,\n",
       "           min_samples_split=2, min_weight_fraction_leaf=0.0,\n",
       "           n_estimators=10, n_jobs=1, oob_score=True, random_state=None,\n",
       "           verbose=0, warm_start=False)"
      ]
     },
     "execution_count": 5,
     "metadata": {},
     "output_type": "execute_result"
    }
   ],
   "source": [
    "rfr.fit(X_train,Y_train)"
   ]
  },
  {
   "cell_type": "code",
   "execution_count": 6,
   "metadata": {
    "collapsed": false
   },
   "outputs": [
    {
     "data": {
      "text/plain": [
       "0.030842791854099993"
      ]
     },
     "execution_count": 6,
     "metadata": {},
     "output_type": "execute_result"
    }
   ],
   "source": [
    "rfr.score(X_test,Y_test)"
   ]
  },
  {
   "cell_type": "code",
   "execution_count": 7,
   "metadata": {
    "collapsed": false
   },
   "outputs": [
    {
     "name": "stdout",
     "output_type": "stream",
     "text": [
      "[-1898.04073451 -1895.44739133 -1874.99465429 -1862.62083899 -1872.08635517\n",
      " -1888.94023789 -1878.36506936 -1899.1076668  -1898.16786753 -1898.20189851\n",
      " -1898.21882193 -1898.17638099 -1897.81655789 -1898.10105721]\n",
      "[-1049.38756217 -1049.66777813 -1049.1949189  -1049.17124527 -1049.44469013\n",
      " -1049.60373762 -1049.56861818 -1046.84618117 -1045.290315   -1045.314015\n",
      " -1045.0869825  -1044.91115667 -1044.6794105  -1044.81481833]\n"
     ]
    }
   ],
   "source": [
    "Y_pred = rfr.predict(X_test)\n",
    "from random import randint\n",
    "val = randint(0,508)\n",
    "print Y_pred[val]\n",
    "print Y_test[val]"
   ]
  },
  {
   "cell_type": "markdown",
   "metadata": {},
   "source": [
    "Maybe I should only use the AOD values since the sensor values are sporadic and don't add as much to the data anyway.  Also, I could remove the rows were the sensor readings are zero.  I could look through the Y rows and make a mask to apply to both X and Y rows."
   ]
  },
  {
   "cell_type": "code",
   "execution_count": 8,
   "metadata": {
    "collapsed": false
   },
   "outputs": [],
   "source": [
    "mask = []\n",
    "for i,row in enumerate(Y):\n",
    "    if row[0] == 0:\n",
    "        mask.append(False)\n",
    "    else:\n",
    "        mask.append(True)    "
   ]
  },
  {
   "cell_type": "code",
   "execution_count": 9,
   "metadata": {
    "collapsed": false
   },
   "outputs": [],
   "source": [
    "mask = np.array(mask)"
   ]
  },
  {
   "cell_type": "code",
   "execution_count": 10,
   "metadata": {
    "collapsed": true
   },
   "outputs": [],
   "source": [
    "X_reduced = X[mask]\n",
    "Y_reduced = Y[mask][:,-7::]"
   ]
  },
  {
   "cell_type": "code",
   "execution_count": 11,
   "metadata": {
    "collapsed": false
   },
   "outputs": [
    {
     "name": "stdout",
     "output_type": "stream",
     "text": [
      "(2302, 2476)\n",
      "(2302, 7)\n"
     ]
    }
   ],
   "source": [
    "print X_reduced.shape\n",
    "print Y_reduced.shape"
   ]
  },
  {
   "cell_type": "code",
   "execution_count": 12,
   "metadata": {
    "collapsed": true
   },
   "outputs": [],
   "source": [
    "rfr = RandomForestRegressor(oob_score=True)\n",
    "X_train, X_test, Y_train, Y_test = train_test_split(X_reduced, Y_reduced, test_size = 0.3, random_state = 14)"
   ]
  },
  {
   "cell_type": "code",
   "execution_count": 197,
   "metadata": {
    "collapsed": false
   },
   "outputs": [
    {
     "data": {
      "text/plain": [
       "RandomForestRegressor(bootstrap=True, criterion='mse', max_depth=None,\n",
       "           max_features='auto', max_leaf_nodes=None, min_samples_leaf=1,\n",
       "           min_samples_split=2, min_weight_fraction_leaf=0.0,\n",
       "           n_estimators=10, n_jobs=1, oob_score=True, random_state=None,\n",
       "           verbose=0, warm_start=False)"
      ]
     },
     "execution_count": 197,
     "metadata": {},
     "output_type": "execute_result"
    }
   ],
   "source": [
    "rfr.fit(X_train,Y_train)"
   ]
  },
  {
   "cell_type": "code",
   "execution_count": 198,
   "metadata": {
    "collapsed": false
   },
   "outputs": [
    {
     "name": "stdout",
     "output_type": "stream",
     "text": [
      "0.0800125607355\n",
      "-0.0936330642013\n"
     ]
    }
   ],
   "source": [
    "print rfr.score(X_test,Y_test)\n",
    "print rfr.oob_score_"
   ]
  },
  {
   "cell_type": "code",
   "execution_count": 199,
   "metadata": {
    "collapsed": true
   },
   "outputs": [],
   "source": [
    "Y_pred = rfr.predict(X_test)"
   ]
  },
  {
   "cell_type": "code",
   "execution_count": 200,
   "metadata": {
    "collapsed": false
   },
   "outputs": [
    {
     "name": "stdout",
     "output_type": "stream",
     "text": [
      "[-2962.90243532 -2962.88878597 -2962.89901777 -2962.90393853 -2962.9060391\n",
      " -2962.87717588 -2962.90578052]\n",
      "[-3732.59078983 -3732.40831117 -3732.3851785  -3732.37497417 -3732.37765883\n",
      " -3732.33242967 -3732.37806767]\n"
     ]
    }
   ],
   "source": [
    "from random import randint\n",
    "val = randint(0,Y_pred.shape[0])\n",
    "print Y_pred[val]\n",
    "print Y_test[val]"
   ]
  },
  {
   "cell_type": "markdown",
   "metadata": {},
   "source": [
    "Let's try Ridge again."
   ]
  },
  {
   "cell_type": "code",
   "execution_count": 17,
   "metadata": {
    "collapsed": true
   },
   "outputs": [],
   "source": [
    "from sklearn.linear_model import Ridge\n",
    "ridge = Ridge(solver = 'auto')\n",
    "X_train, X_test, Y_train, Y_test = train_test_split(X_reduced, Y_reduced, test_size = 0.5, random_state = 14)"
   ]
  },
  {
   "cell_type": "code",
   "execution_count": 18,
   "metadata": {
    "collapsed": false
   },
   "outputs": [
    {
     "data": {
      "text/plain": [
       "Ridge(alpha=1.0, copy_X=True, fit_intercept=True, max_iter=None,\n",
       "   normalize=False, solver='auto', tol=0.001)"
      ]
     },
     "execution_count": 18,
     "metadata": {},
     "output_type": "execute_result"
    }
   ],
   "source": [
    "ridge.fit(X_train,Y_train)"
   ]
  },
  {
   "cell_type": "code",
   "execution_count": 19,
   "metadata": {
    "collapsed": false
   },
   "outputs": [
    {
     "data": {
      "text/plain": [
       "-2.0626980586035355"
      ]
     },
     "execution_count": 19,
     "metadata": {},
     "output_type": "execute_result"
    }
   ],
   "source": [
    "ridge.score(X_test,Y_test)"
   ]
  },
  {
   "cell_type": "code",
   "execution_count": 20,
   "metadata": {
    "collapsed": false
   },
   "outputs": [],
   "source": [
    "Y_pred = ridge.predict(X_test)"
   ]
  },
  {
   "cell_type": "code",
   "execution_count": 196,
   "metadata": {
    "collapsed": false
   },
   "outputs": [
    {
     "name": "stdout",
     "output_type": "stream",
     "text": [
      "[-4278.18991    -4277.98500289 -4277.94563314 -4278.02877961 -4278.02623493\n",
      " -4277.81172583 -4278.03564841]\n",
      "[-4432.7487905  -4432.65517167 -4432.671593   -4432.682409   -4432.68769133\n",
      " -4432.644714   -4432.68905467]\n"
     ]
    }
   ],
   "source": [
    "from random import randint\n",
    "val = randint(0,Y_pred.shape[0]-1)\n",
    "print Y_pred[val]\n",
    "print Y_test[val]"
   ]
  },
  {
   "cell_type": "markdown",
   "metadata": {},
   "source": [
    "Not too good. Or at least not an improvement over itself even."
   ]
  },
  {
   "cell_type": "markdown",
   "metadata": {},
   "source": [
    "I may have to do some feature engineering for the images.  Averaging, filtering or both. I wonder if I do some ratios of channels?  Sort of like the \"greenness\" parameter that farmers use.  Also, maybe +/- 3 hours is too long for searching for a satellite image. (Reduce to +/- 1 hour?)"
   ]
  },
  {
   "cell_type": "code",
   "execution_count": 189,
   "metadata": {
    "collapsed": false
   },
   "outputs": [
    {
     "data": {
      "image/png": "[encoded data removed]",
      "text/plain": [
       "<matplotlib.figure.Figure at 0x7fbb573c8a10>"
      ]
     },
     "metadata": {},
     "output_type": "display_data"
    }
   ],
   "source": [
    "plt.plot(Y_pred,'go');"
   ]
  },
  {
   "cell_type": "markdown",
   "metadata": {},
   "source": [
    "So, from the plot above, there are values above 0, even though my Y_train and Y_test are all below zero."
   ]
  },
  {
   "cell_type": "code",
   "execution_count": 383,
   "metadata": {
    "collapsed": false
   },
   "outputs": [
    {
     "data": {
      "image/png": "[encoded data removed]",
      "text/plain": [
       "<matplotlib.figure.Figure at 0x7fbb40780f50>"
      ]
     },
     "metadata": {},
     "output_type": "display_data"
    }
   ],
   "source": [
    "val = randint(0,2301)\n",
    "_ = plt.hist(X_reduced[:,0:1972][val], alpha = 0.5, normed=True, bins=25, label='visible',range=(0,25000)) #visible light histogram\n",
    "_ = plt.hist(X_reduced[:,1973:2476][val], alpha = 0.5, normed=True, bins=25, label='IR',range=(0,25000))\n",
    "plt.legend(loc='upper right');"
   ]
  },
  {
   "cell_type": "code",
   "execution_count": 428,
   "metadata": {
    "collapsed": false
   },
   "outputs": [],
   "source": [
    "X_hist = []\n",
    "for i in xrange(X_reduced.shape[0]):\n",
    "    hist1, _ = np.histogram(X_reduced[:,0:1972][i], density=True, bins=25, range=(0,25000)) #vis\n",
    "    hist2, _ = np.histogram(X_reduced[:,1973:2476][i], density=True, bins=25, range=(0,25000)) #IR\n",
    "    X_hist.append(np.hstack((hist1,hist2)))\n",
    "X_hist = np.array(X_hist)"
   ]
  },
  {
   "cell_type": "markdown",
   "metadata": {},
   "source": [
    "Try random forest with new X_hist:"
   ]
  },
  {
   "cell_type": "code",
   "execution_count": 429,
   "metadata": {
    "collapsed": false
   },
   "outputs": [],
   "source": [
    "rfr = RandomForestRegressor(oob_score=True)\n",
    "X_train, X_test, Y_train, Y_test = train_test_split(X_hist, Y_reduced, test_size = 0.3, random_state = 14)"
   ]
  },
  {
   "cell_type": "code",
   "execution_count": 430,
   "metadata": {
    "collapsed": false
   },
   "outputs": [
    {
     "data": {
      "text/plain": [
       "RandomForestRegressor(bootstrap=True, criterion='mse', max_depth=None,\n",
       "           max_features='auto', max_leaf_nodes=None, min_samples_leaf=1,\n",
       "           min_samples_split=2, min_weight_fraction_leaf=0.0,\n",
       "           n_estimators=10, n_jobs=1, oob_score=True, random_state=None,\n",
       "           verbose=0, warm_start=False)"
      ]
     },
     "execution_count": 430,
     "metadata": {},
     "output_type": "execute_result"
    }
   ],
   "source": [
    "rfr.fit(X_train,Y_train)"
   ]
  },
  {
   "cell_type": "code",
   "execution_count": 431,
   "metadata": {
    "collapsed": false
   },
   "outputs": [
    {
     "name": "stdout",
     "output_type": "stream",
     "text": [
      "0.174518399271\n",
      "-0.00409222016671\n"
     ]
    }
   ],
   "source": [
    "print rfr.score(X_test,Y_test)\n",
    "print rfr.oob_score_"
   ]
  },
  {
   "cell_type": "code",
   "execution_count": 432,
   "metadata": {
    "collapsed": false
   },
   "outputs": [
    {
     "name": "stdout",
     "output_type": "stream",
     "text": [
      "[-1736.63037127 -1735.83002907 -1735.87247932 -1735.86205807 -1735.87630777\n",
      " -1735.59226777 -1735.86062898]\n",
      "[-4082.73808083 -4082.59797133 -4082.65399817 -4082.671105   -4082.67535783\n",
      " -4082.6016735  -4082.6695155 ]\n"
     ]
    }
   ],
   "source": [
    "from random import randint\n",
    "val = randint(0,Y_test.shape[0])\n",
    "print Y_pred[val]\n",
    "print Y_test[val]"
   ]
  },
  {
   "cell_type": "code",
   "execution_count": 433,
   "metadata": {
    "collapsed": false
   },
   "outputs": [
    {
     "data": {
      "image/png": "[encoded data removed]",
      "text/plain": [
       "<matplotlib.figure.Figure at 0x7fbb3979a850>"
      ]
     },
     "metadata": {},
     "output_type": "display_data"
    }
   ],
   "source": [
    "plt.plot(Y_pred,'go');"
   ]
  },
  {
   "cell_type": "markdown",
   "metadata": {},
   "source": [
    "The score has improved (0.2) but the most remarkable is that all the predicted values are now below 0, as they should be."
   ]
  },
  {
   "cell_type": "markdown",
   "metadata": {},
   "source": [
    "Let's try something Extra Trees!"
   ]
  },
  {
   "cell_type": "code",
   "execution_count": 627,
   "metadata": {
    "collapsed": true
   },
   "outputs": [],
   "source": [
    "X_hist = []\n",
    "for i in xrange(X_reduced.shape[0]):\n",
    "    hist1, _ = np.histogram(X_reduced[:,0:1972][i], density=True, bins=30, range=(0,25000)) #vis\n",
    "    hist2, _ = np.histogram(X_reduced[:,1973:2476][i], density=True, bins=30, range=(0,25000)) #IR\n",
    "    X_hist.append(np.hstack((hist1,hist2)))\n",
    "X_hist = np.array(X_hist)"
   ]
  },
  {
   "cell_type": "code",
   "execution_count": 628,
   "metadata": {
    "collapsed": true
   },
   "outputs": [],
   "source": [
    "from sklearn.ensemble import ExtraTreesRegressor\n",
    "etr = ExtraTreesRegressor(oob_score=True, bootstrap=True, n_jobs=-1, n_estimators=100) #njobs uses all cores!\n",
    "X_train, X_test, Y_train, Y_test = train_test_split(X_hist, Y_reduced, test_size = 0.3, random_state = 14)"
   ]
  },
  {
   "cell_type": "code",
   "execution_count": 629,
   "metadata": {
    "collapsed": false
   },
   "outputs": [
    {
     "data": {
      "text/plain": [
       "ExtraTreesRegressor(bootstrap=True, criterion='mse', max_depth=None,\n",
       "          max_features='auto', max_leaf_nodes=None, min_samples_leaf=1,\n",
       "          min_samples_split=2, min_weight_fraction_leaf=0.0,\n",
       "          n_estimators=100, n_jobs=-1, oob_score=True, random_state=None,\n",
       "          verbose=0, warm_start=False)"
      ]
     },
     "execution_count": 629,
     "metadata": {},
     "output_type": "execute_result"
    }
   ],
   "source": [
    "etr.fit(X_train,Y_train)"
   ]
  },
  {
   "cell_type": "code",
   "execution_count": 630,
   "metadata": {
    "collapsed": false
   },
   "outputs": [
    {
     "name": "stdout",
     "output_type": "stream",
     "text": [
      "0.237025258926\n",
      "0.253519316664\n"
     ]
    }
   ],
   "source": [
    "print etr.score(X_test,Y_test)\n",
    "print etr.oob_score_"
   ]
  },
  {
   "cell_type": "code",
   "execution_count": 633,
   "metadata": {
    "collapsed": false
   },
   "outputs": [
    {
     "name": "stdout",
     "output_type": "stream",
     "text": [
      "[-2085.4927687  -2084.31641815 -2084.36274315 -2084.35427948 -2084.396237\n",
      " -2083.90427887 -2084.35021117]\n",
      "[-2099.20588867 -2098.90826783 -2098.97825067 -2098.99554717 -2099.00107567\n",
      " -2098.7010995  -2098.99597117]\n"
     ]
    }
   ],
   "source": [
    "from random import randint\n",
    "val = randint(0,Y_test.shape[0])\n",
    "print Y_pred[val]\n",
    "print Y_test[val]"
   ]
  },
  {
   "cell_type": "code",
   "execution_count": 634,
   "metadata": {
    "collapsed": false
   },
   "outputs": [
    {
     "data": {
      "image/png": "[encoded data removed]",
      "text/plain": [
       "<matplotlib.figure.Figure at 0x7fbb39f87110>"
      ]
     },
     "metadata": {},
     "output_type": "display_data"
    }
   ],
   "source": [
    "plt.plot(Y_pred,'go');"
   ]
  },
  {
   "cell_type": "markdown",
   "metadata": {},
   "source": [
    "Not much better than random forest regressor, but does offer multicore support which speeds things up significantly. Edit: actually, this is better when increasing the number of n_estimators."
   ]
  },
  {
   "cell_type": "markdown",
   "metadata": {},
   "source": [
    "##Now with all channels! (Skip to \"try it again...\" for model used)"
   ]
  },
  {
   "cell_type": "code",
   "execution_count": 33,
   "metadata": {
    "collapsed": false
   },
   "outputs": [],
   "source": [
    "with np.load('data/X_all_channels.npz') as data:\n",
    "    X = data['X']\n",
    "    \n",
    "with np.load('data/Y_all_channels.npz') as data:\n",
    "    Y = data['Y']"
   ]
  },
  {
   "cell_type": "code",
   "execution_count": 34,
   "metadata": {
    "collapsed": false
   },
   "outputs": [
    {
     "name": "stdout",
     "output_type": "stream",
     "text": [
      "(2544, 3988)\n",
      "(2544, 14)\n"
     ]
    }
   ],
   "source": [
    "print X.shape\n",
    "print Y.shape"
   ]
  },
  {
   "cell_type": "code",
   "execution_count": 639,
   "metadata": {
    "collapsed": true
   },
   "outputs": [],
   "source": [
    "mask = []\n",
    "for i,row in enumerate(Y):\n",
    "    if row[0] == 0:\n",
    "        mask.append(False)\n",
    "    else:\n",
    "        mask.append(True)    \n",
    "mask = np.array(mask)\n",
    "X_reduced = X[mask]\n",
    "Y_reduced = Y[mask][:,-7::]"
   ]
  },
  {
   "cell_type": "code",
   "execution_count": 640,
   "metadata": {
    "collapsed": false
   },
   "outputs": [
    {
     "name": "stdout",
     "output_type": "stream",
     "text": [
      "(2302, 3988)\n",
      "(2302, 7)\n"
     ]
    }
   ],
   "source": [
    "print X_reduced.shape\n",
    "print Y_reduced.shape"
   ]
  },
  {
   "cell_type": "code",
   "execution_count": 656,
   "metadata": {
    "collapsed": false
   },
   "outputs": [
    {
     "data": {
      "image/png": "[encoded data removed]",
      "text/plain": [
       "<matplotlib.figure.Figure at 0x7fbb56961090>"
      ]
     },
     "metadata": {},
     "output_type": "display_data"
    }
   ],
   "source": [
    "val = randint(0,2301)\n",
    "_ = plt.hist(X_reduced[:,0:1972][val], alpha = 0.2, normed=True, bins=30, label='CH1',range=(0,25000)) #visible light histogram\n",
    "_ = plt.hist(X_reduced[:,1973:2476][val], alpha = 0.2, normed=True, bins=30, label='CH2',range=(0,25000))\n",
    "_ = plt.hist(X_reduced[:,2477:2980][val], alpha = 0.2, normed=True, bins=30, label='CH3',range=(0,25000))\n",
    "_ = plt.hist(X_reduced[:,2981:3484][val], alpha = 0.2, normed=True, bins=30, label='CH4',range=(0,25000))\n",
    "_ = plt.hist(X_reduced[:,3484:3988][val], alpha = 0.2, normed=True, bins=30, label='CH6',range=(0,25000))\n",
    "plt.legend(loc='upper right');"
   ]
  },
  {
   "cell_type": "code",
   "execution_count": 737,
   "metadata": {
    "collapsed": true
   },
   "outputs": [],
   "source": [
    "X_hist = []\n",
    "bins = 20\n",
    "for i in xrange(X_reduced.shape[0]):\n",
    "    hist1, _ = np.histogram(X_reduced[:,0:1972][i], density=True, bins=bins, range=(0,25000))\n",
    "    hist2, _ = np.histogram(X_reduced[:,1973:2476][i], density=True, bins=bins, range=(0,25000))\n",
    "    hist3, _ = np.histogram(X_reduced[:,2477:2980][i], density=True, bins=bins, range=(0,25000))\n",
    "    hist4, _ = np.histogram(X_reduced[:,2981:3484][i], density=True, bins=bins, range=(0,25000))\n",
    "    hist5, _ = np.histogram(X_reduced[:,3484:3988][i], density=True, bins=bins, range=(0,25000))\n",
    "    X_hist.append(np.hstack((hist1,hist2,hist3,hist4,hist5)))\n",
    "X_hist = np.array(X_hist)"
   ]
  },
  {
   "cell_type": "code",
   "execution_count": 738,
   "metadata": {
    "collapsed": false
   },
   "outputs": [],
   "source": [
    "from sklearn.ensemble import ExtraTreesRegressor\n",
    "etr = ExtraTreesRegressor(\n",
    "    oob_score=True, bootstrap=True, n_jobs=-1, n_estimators=1000\n",
    "                         ) #nj_obs uses all cores!\n",
    "X_train, X_test, Y_train, Y_test = train_test_split(X_hist, Y_reduced, test_size = 0.25, random_state = 12)"
   ]
  },
  {
   "cell_type": "code",
   "execution_count": 739,
   "metadata": {
    "collapsed": false
   },
   "outputs": [
    {
     "data": {
      "text/plain": [
       "ExtraTreesRegressor(bootstrap=True, criterion='mse', max_depth=None,\n",
       "          max_features='auto', max_leaf_nodes=None, min_samples_leaf=1,\n",
       "          min_samples_split=2, min_weight_fraction_leaf=0.0,\n",
       "          n_estimators=1000, n_jobs=-1, oob_score=True, random_state=None,\n",
       "          verbose=0, warm_start=False)"
      ]
     },
     "execution_count": 739,
     "metadata": {},
     "output_type": "execute_result"
    }
   ],
   "source": [
    "etr.fit(X_train,Y_train)"
   ]
  },
  {
   "cell_type": "code",
   "execution_count": 787,
   "metadata": {
    "collapsed": false
   },
   "outputs": [
    {
     "name": "stdout",
     "output_type": "stream",
     "text": [
      "0.333571847511\n",
      "0.324312054499\n"
     ]
    }
   ],
   "source": [
    "print etr.score(X_test,Y_test)\n",
    "print etr.oob_score_"
   ]
  },
  {
   "cell_type": "code",
   "execution_count": 788,
   "metadata": {
    "collapsed": false
   },
   "outputs": [
    {
     "name": "stdout",
     "output_type": "stream",
     "text": [
      "[-3546.09800318 -3545.97880823 -3546.01557603 -3546.02564373 -3546.02913815\n",
      " -3545.91567287 -3546.02901358]\n",
      "[-2216.3428045  -2216.22484817 -2216.2996965  -2216.32683533 -2216.336912\n",
      " -2216.22664033 -2216.33727767]\n"
     ]
    }
   ],
   "source": [
    "from random import randint\n",
    "val = randint(0,Y_test.shape[0])\n",
    "print Y_pred[val]\n",
    "print Y_test[val]"
   ]
  },
  {
   "cell_type": "code",
   "execution_count": 789,
   "metadata": {
    "collapsed": false
   },
   "outputs": [
    {
     "data": {
      "image/png": "[encoded data removed]",
      "text/plain": [
       "<matplotlib.figure.Figure at 0x7fbb53a6f510>"
      ]
     },
     "metadata": {},
     "output_type": "display_data"
    }
   ],
   "source": [
    "plt.plot(Y_pred,'go');"
   ]
  },
  {
   "cell_type": "markdown",
   "metadata": {},
   "source": [
    "Wow, even better, but is it good enough?  If I include ratios between channels, spatial and other information will be implicitly collected."
   ]
  },
  {
   "cell_type": "markdown",
   "metadata": {},
   "source": [
    "Downsample CH1 and divide by CH6:"
   ]
  },
  {
   "cell_type": "code",
   "execution_count": 1091,
   "metadata": {
    "collapsed": false
   },
   "outputs": [],
   "source": [
    "from scipy.ndimage import zoom\n",
    "from __future__ import division\n",
    "\n",
    "X_reduced_ratio_1_2 = []\n",
    "for i in xrange(X_reduced.shape[0]):\n",
    "    CH1 = zoom(X_reduced[:,0:1972][i].reshape((29,68)),zoom=(0.48, 0.53), order=5)\n",
    "    CH2 = X_reduced[:,1972:2476][i].reshape((14,36))\n",
    "    X_reduced_ratio_1_2.append(25000* CH2  / (CH1 + CH2) )\n",
    "X_reduced_ratio_1_2 = np.array(X_reduced_ratio_1_2)\n",
    "\n",
    "X_reduced_ratio_1_6 = []\n",
    "for i in xrange(X_reduced.shape[0]):\n",
    "    CH1 = zoom(X_reduced[:,0:1972][i].reshape((29,68)),zoom=(0.48, 0.53), order=5)\n",
    "    CH6 = X_reduced[:,3484:3988][i].reshape((14,36))\n",
    "    X_reduced_ratio_1_6.append(25000* CH6 / (CH1 + CH6) )\n",
    "X_reduced_ratio_1_6 = np.array(X_reduced_ratio_1_6)\n",
    "\n",
    "X_reduced_ratio_2_6 = []\n",
    "for i in xrange(X_reduced.shape[0]):\n",
    "    CH2 = X_reduced[:,1972:2476][i].reshape((14,36))\n",
    "    CH6 = X_reduced[:,3484:3988][i].reshape((14,36))\n",
    "    X_reduced_ratio_2_6.append(25000* CH6 / (CH2 + CH6) )\n",
    "X_reduced_ratio_2_6 = np.array(X_reduced_ratio_2_6)"
   ]
  },
  {
   "cell_type": "code",
   "execution_count": 1093,
   "metadata": {
    "collapsed": false
   },
   "outputs": [
    {
     "data": {
      "image/png": "[encoded data removed]",
      "text/plain": [
       "<matplotlib.figure.Figure at 0x7fbb57065dd0>"
      ]
     },
     "metadata": {},
     "output_type": "display_data"
    }
   ],
   "source": [
    "val = randint(0,2301)\n",
    "_ = plt.hist(X_reduced[:,0:1972][val], alpha = 0.2, normed=True, bins=30, label='CH1',range=(0,25000)) #visible light histogram\n",
    "_ = plt.hist(X_reduced[:,1973:2476][val], alpha = 0.2, normed=True, bins=30, label='CH2',range=(0,25000))\n",
    "_ = plt.hist(X_reduced[:,2477:2980][val], alpha = 0.2, normed=True, bins=30, label='CH3',range=(0,25000))\n",
    "_ = plt.hist(X_reduced[:,2981:3484][val], alpha = 0.2, normed=True, bins=30, label='CH4',range=(0,25000))\n",
    "_ = plt.hist(X_reduced[:,3484:3988][val], alpha = 0.2, normed=True, bins=30, label='CH6',range=(0,25000))\n",
    "_ = plt.hist(np.ravel(X_reduced_ratio_1_2[val]), alpha = 0.2, normed=True, bins=30, label='CH2/CH1',range=(0,25000))\n",
    "_ = plt.hist(np.ravel(X_reduced_ratio_1_6[val]), alpha = 0.2, normed=True, bins=30, label='CH6/CH1',range=(0,25000))\n",
    "_ = plt.hist(np.ravel(X_reduced_ratio_2_6[val]), alpha = 0.2, normed=True, bins=30, label='CH6/CH2',range=(0,25000))\n",
    "plt.legend(loc='upper right');"
   ]
  },
  {
   "cell_type": "code",
   "execution_count": 1101,
   "metadata": {
    "collapsed": false
   },
   "outputs": [],
   "source": [
    "X_hist = []\n",
    "bins = 30\n",
    "for i in xrange(X_reduced.shape[0]):\n",
    "    hist1, _ = np.histogram(X_reduced[:,0:1972][i], density=True, bins=bins, range=(0,25000))\n",
    "    hist2, _ = np.histogram(X_reduced[:,1972:2476][i], density=True, bins=bins, range=(0,25000))\n",
    "    hist3, _ = np.histogram(X_reduced[:,2476:2980][i], density=True, bins=bins, range=(0,25000))\n",
    "    hist4, _ = np.histogram(X_reduced[:,2980:3484][i], density=True, bins=bins, range=(0,25000))\n",
    "    hist5, _ = np.histogram(X_reduced[:,3484:3988][i], density=True, bins=bins, range=(0,25000))\n",
    "    hist6, _ = np.histogram(np.ravel(X_reduced_ratio_1_2[i]), density=True, bins=bins, range=(0,25000))\n",
    "    hist7, _ = np.histogram(np.ravel(X_reduced_ratio_1_6[i]), density=True, bins=bins, range=(0,25000))\n",
    "    hist8, _ = np.histogram(np.ravel(X_reduced_ratio_2_6[i]), density=True, bins=bins, range=(0,25000))\n",
    "    X_hist.append(np.hstack((hist1,hist2,hist3,hist4,hist5,hist6,hist7,hist8)))\n",
    "X_hist = np.array(X_hist)"
   ]
  },
  {
   "cell_type": "code",
   "execution_count": 1105,
   "metadata": {
    "collapsed": false
   },
   "outputs": [],
   "source": [
    "from sklearn.ensemble import ExtraTreesRegressor\n",
    "etr = ExtraTreesRegressor(oob_score=True, bootstrap=True,\n",
    "                          n_jobs=-1, n_estimators=1000) #nj_obs uses all cores!\n",
    "X_train, X_test, Y_train, Y_test = train_test_split(X_hist, Y_reduced, test_size = 0.2, random_state = 12)"
   ]
  },
  {
   "cell_type": "code",
   "execution_count": 1106,
   "metadata": {
    "collapsed": false
   },
   "outputs": [
    {
     "data": {
      "text/plain": [
       "ExtraTreesRegressor(bootstrap=True, criterion='mse', max_depth=None,\n",
       "          max_features='auto', max_leaf_nodes=None, min_samples_leaf=1,\n",
       "          min_samples_split=2, min_weight_fraction_leaf=0.0,\n",
       "          n_estimators=1000, n_jobs=-1, oob_score=True, random_state=None,\n",
       "          verbose=0, warm_start=False)"
      ]
     },
     "execution_count": 1106,
     "metadata": {},
     "output_type": "execute_result"
    }
   ],
   "source": [
    "etr.fit(X_train,Y_train)"
   ]
  },
  {
   "cell_type": "code",
   "execution_count": 1107,
   "metadata": {
    "collapsed": false
   },
   "outputs": [
    {
     "name": "stdout",
     "output_type": "stream",
     "text": [
      "0.400992066327\n",
      "0.302861512548\n"
     ]
    }
   ],
   "source": [
    "print etr.score(X_test,Y_test)\n",
    "print etr.oob_score_"
   ]
  },
  {
   "cell_type": "code",
   "execution_count": 1114,
   "metadata": {
    "collapsed": false
   },
   "outputs": [
    {
     "name": "stdout",
     "output_type": "stream",
     "text": [
      "[-2111.35264935 -2111.33037278 -2111.33640548 -2111.33989697 -2111.34116932\n",
      " -2111.31844367 -2111.34136852]\n",
      "[-1513.74919033 -1512.226391   -1512.269637   -1512.23218683 -1512.30237917\n",
      " -1511.73857267 -1512.27493883]\n"
     ]
    }
   ],
   "source": [
    "from random import randint\n",
    "val = randint(0,Y_test.shape[0])\n",
    "print Y_pred[val]\n",
    "print Y_test[val]"
   ]
  },
  {
   "cell_type": "code",
   "execution_count": null,
   "metadata": {
    "collapsed": true
   },
   "outputs": [],
   "source": []
  },
  {
   "cell_type": "code",
   "execution_count": null,
   "metadata": {
    "collapsed": true
   },
   "outputs": [],
   "source": []
  },
  {
   "cell_type": "markdown",
   "metadata": {},
   "source": [
    "###Try it all again with just X, not X_reduced?"
   ]
  },
  {
   "cell_type": "code",
   "execution_count": 37,
   "metadata": {
    "collapsed": false
   },
   "outputs": [
    {
     "name": "stderr",
     "output_type": "stream",
     "text": [
      "/Users/scott/anaconda/lib/python2.7/site-packages/scipy/ndimage/interpolation.py:549: UserWarning: From scipy 0.13.0, the output shape of zoom() is calculated with round() instead of int() - for these inputs the size of the returned array has changed.\n",
      "  \"the returned array has changed.\", UserWarning)\n"
     ]
    }
   ],
   "source": [
    "from scipy.ndimage import zoom\n",
    "from __future__ import division\n",
    "from random import randint\n",
    "\n",
    "X_ratio_1_2 = []\n",
    "for i in xrange(X.shape[0]):\n",
    "    CH1 = zoom(X[:,0:1972][i].reshape((29,68)),zoom=(0.48, 0.53), order=5)\n",
    "    CH2 = X[:,1972:2476][i].reshape((14,36))\n",
    "    X_ratio_1_2.append(25000* (CH2)  / (CH1 + CH2+1.0) )\n",
    "X_ratio_1_2 = np.array(X_ratio_1_2)\n",
    "\n",
    "X_ratio_1_6 = []\n",
    "for i in xrange(X.shape[0]):\n",
    "    CH1 = zoom(X[:,0:1972][i].reshape((29,68)),zoom=(0.48, 0.53), order=5)\n",
    "    CH6 = X[:,3484:3988][i].reshape((14,36))\n",
    "    X_ratio_1_6.append(25000* CH6 / (CH1 + CH6 + 0.1) )\n",
    "X_ratio_1_6 = np.array(X_ratio_1_6)\n",
    "\n",
    "X_ratio_2_6 = []\n",
    "for i in xrange(X.shape[0]):\n",
    "    CH2 = X[:,1972:2476][i].reshape((14,36))\n",
    "    CH6 = X[:,3484:3988][i].reshape((14,36))\n",
    "    X_ratio_2_6.append(25000* CH6 / (CH2 + CH6 + 0.1) )\n",
    "X_ratio_2_6 = np.array(X_ratio_2_6)"
   ]
  },
  {
   "cell_type": "code",
   "execution_count": 38,
   "metadata": {
    "collapsed": false
   },
   "outputs": [
    {
     "data": {
      "image/png": "[encoded data removed]",
      "text/plain": [
       "<matplotlib.figure.Figure at 0x11274cc90>"
      ]
     },
     "metadata": {},
     "output_type": "display_data"
    }
   ],
   "source": [
    "val = randint(0,2301)\n",
    "_ = plt.hist(X[:,0:1972][val], alpha = 0.2, normed=True, bins=30, label='CH1',range=(0,25000)) #visible light histogram\n",
    "_ = plt.hist(X[:,1973:2476][val], alpha = 0.2, normed=True, bins=30, label='CH2',range=(0,25000))\n",
    "_ = plt.hist(X[:,2477:2980][val], alpha = 0.2, normed=True, bins=30, label='CH3',range=(0,25000))\n",
    "_ = plt.hist(X[:,2981:3484][val], alpha = 0.2, normed=True, bins=30, label='CH4',range=(0,25000))\n",
    "_ = plt.hist(X[:,3484:3988][val], alpha = 0.2, normed=True, bins=30, label='CH6',range=(0,25000))\n",
    "_ = plt.hist(np.ravel(X_ratio_1_2[val]), alpha = 0.2, normed=True, bins=30, label='CH2/CH1',range=(0,25000))\n",
    "_ = plt.hist(np.ravel(X_ratio_1_6[val]), alpha = 0.2, normed=True, bins=30, label='CH6/CH1',range=(0,25000))\n",
    "_ = plt.hist(np.ravel(X_ratio_2_6[val]), alpha = 0.2, normed=True, bins=30, label='CH6/CH2',range=(0,25000))\n",
    "plt.legend(loc='upper right');"
   ]
  },
  {
   "cell_type": "code",
   "execution_count": 39,
   "metadata": {
    "collapsed": false
   },
   "outputs": [],
   "source": [
    "import pandas as pd\n",
    "\n",
    "X_hist = []\n",
    "bins = 25\n",
    "for i in xrange(X.shape[0]):\n",
    "    myval1 = pd.DataFrame(np.ravel(X_ratio_1_2[i])).fillna(np.mean).values.flatten();\n",
    "    myval2 = pd.DataFrame(np.ravel(X_ratio_1_6[i])).fillna(np.mean).values.flatten();\n",
    "    myval3 = pd.DataFrame(np.ravel(X_ratio_2_6[i])).fillna(np.mean).values.flatten();\n",
    "    \n",
    "    hist1, _ = np.histogram(X[:,0:1972][i], density=True, bins=bins, range=(0,25000))\n",
    "    hist2, _ = np.histogram(X[:,1972:2476][i], density=True, bins=bins, range=(0,25000))\n",
    "    hist3, _ = np.histogram(X[:,2476:2980][i], density=True, bins=bins, range=(0,25000))\n",
    "    hist4, _ = np.histogram(X[:,2980:3484][i], density=True, bins=bins, range=(0,25000))\n",
    "    hist5, _ = np.histogram(X[:,3484:3988][i], density=True, bins=bins, range=(0,25000))\n",
    "    hist6, _ = np.histogram( myval1 , density=True, bins=bins, range=(0,25000) )\n",
    "    hist7, _ = np.histogram( myval2 , density=True, bins=bins, range=(0,25000))\n",
    "    hist8, _ = np.histogram( myval3, density=True, bins=bins, range=(0,25000))\n",
    "    X_hist.append(np.hstack((hist1,hist2,hist3,hist4,hist5,hist6,hist7,hist8)))\n",
    "X_hist = np.array(X_hist)"
   ]
  },
  {
   "cell_type": "code",
   "execution_count": 40,
   "metadata": {
    "collapsed": false
   },
   "outputs": [],
   "source": [
    "from sklearn.ensemble import ExtraTreesRegressor\n",
    "from sklearn.cross_validation import train_test_split\n",
    "etr = ExtraTreesRegressor(oob_score=True, bootstrap=True,\n",
    "                          n_jobs=-1, n_estimators=500) #nj_obs uses all cores!\n",
    "X_train, X_test, Y_train, Y_test = train_test_split(X_hist, Y, test_size = 0.2, random_state = 12)"
   ]
  },
  {
   "cell_type": "code",
   "execution_count": 41,
   "metadata": {
    "collapsed": false
   },
   "outputs": [
    {
     "data": {
      "text/plain": [
       "ExtraTreesRegressor(bootstrap=True, criterion='mse', max_depth=None,\n",
       "          max_features='auto', max_leaf_nodes=None, min_samples_leaf=1,\n",
       "          min_samples_split=2, min_weight_fraction_leaf=0.0,\n",
       "          n_estimators=500, n_jobs=-1, oob_score=True, random_state=None,\n",
       "          verbose=0, warm_start=False)"
      ]
     },
     "execution_count": 41,
     "metadata": {},
     "output_type": "execute_result"
    }
   ],
   "source": [
    "etr.fit(X_train,Y_train) #pickle it!"
   ]
  },
  {
   "cell_type": "code",
   "execution_count": 45,
   "metadata": {
    "collapsed": false,
    "scrolled": true
   },
   "outputs": [
    {
     "data": {
      "text/plain": [
       "['webapp/solarApp/models/sat-to-sensor-model/sat-to-sensor-model.pkl',\n",
       " 'webapp/solarApp/models/sat-to-sensor-model/sat-to-sensor-model.pkl_01.npy',\n",
       " 'webapp/solarApp/models/sat-to-sensor-model/sat-to-sensor-model.pkl_02.npy',\n",
       " 'webapp/solarApp/models/sat-to-sensor-model/sat-to-sensor-model.pkl_03.npy',\n",
       " 'webapp/solarApp/models/sat-to-sensor-model/sat-to-sensor-model.pkl_04.npy',\n",
       " 'webapp/solarApp/models/sat-to-sensor-model/sat-to-sensor-model.pkl_05.npy',\n",
       " 'webapp/solarApp/models/sat-to-sensor-model/sat-to-sensor-model.pkl_06.npy',\n",
       " 'webapp/solarApp/models/sat-to-sensor-model/sat-to-sensor-model.pkl_07.npy',\n",
       " 'webapp/solarApp/models/sat-to-sensor-model/sat-to-sensor-model.pkl_08.npy',\n",
       " 'webapp/solarApp/models/sat-to-sensor-model/sat-to-sensor-model.pkl_09.npy',\n",
       " 'webapp/solarApp/models/sat-to-sensor-model/sat-to-sensor-model.pkl_10.npy',\n",
       " 'webapp/solarApp/models/sat-to-sensor-model/sat-to-sensor-model.pkl_11.npy',\n",
       " 'webapp/solarApp/models/sat-to-sensor-model/sat-to-sensor-model.pkl_12.npy',\n",
       " 'webapp/solarApp/models/sat-to-sensor-model/sat-to-sensor-model.pkl_13.npy',\n",
       " 'webapp/solarApp/models/sat-to-sensor-model/sat-to-sensor-model.pkl_14.npy',\n",
       " 'webapp/solarApp/models/sat-to-sensor-model/sat-to-sensor-model.pkl_15.npy',\n",
       " 'webapp/solarApp/models/sat-to-sensor-model/sat-to-sensor-model.pkl_16.npy',\n",
       " 'webapp/solarApp/models/sat-to-sensor-model/sat-to-sensor-model.pkl_17.npy',\n",
       " 'webapp/solarApp/models/sat-to-sensor-model/sat-to-sensor-model.pkl_18.npy',\n",
       " 'webapp/solarApp/models/sat-to-sensor-model/sat-to-sensor-model.pkl_19.npy',\n",
       " 'webapp/solarApp/models/sat-to-sensor-model/sat-to-sensor-model.pkl_20.npy',\n",
       " 'webapp/solarApp/models/sat-to-sensor-model/sat-to-sensor-model.pkl_21.npy',\n",
       " 'webapp/solarApp/models/sat-to-sensor-model/sat-to-sensor-model.pkl_22.npy',\n",
       " 'webapp/solarApp/models/sat-to-sensor-model/sat-to-sensor-model.pkl_23.npy',\n",
       " 'webapp/solarApp/models/sat-to-sensor-model/sat-to-sensor-model.pkl_24.npy',\n",
       " 'webapp/solarApp/models/sat-to-sensor-model/sat-to-sensor-model.pkl_25.npy',\n",
       " 'webapp/solarApp/models/sat-to-sensor-model/sat-to-sensor-model.pkl_26.npy',\n",
       " 'webapp/solarApp/models/sat-to-sensor-model/sat-to-sensor-model.pkl_27.npy',\n",
       " 'webapp/solarApp/models/sat-to-sensor-model/sat-to-sensor-model.pkl_28.npy',\n",
       " 'webapp/solarApp/models/sat-to-sensor-model/sat-to-sensor-model.pkl_29.npy',\n",
       " 'webapp/solarApp/models/sat-to-sensor-model/sat-to-sensor-model.pkl_30.npy',\n",
       " 'webapp/solarApp/models/sat-to-sensor-model/sat-to-sensor-model.pkl_31.npy',\n",
       " 'webapp/solarApp/models/sat-to-sensor-model/sat-to-sensor-model.pkl_32.npy',\n",
       " 'webapp/solarApp/models/sat-to-sensor-model/sat-to-sensor-model.pkl_33.npy',\n",
       " 'webapp/solarApp/models/sat-to-sensor-model/sat-to-sensor-model.pkl_34.npy',\n",
       " 'webapp/solarApp/models/sat-to-sensor-model/sat-to-sensor-model.pkl_35.npy',\n",
       " 'webapp/solarApp/models/sat-to-sensor-model/sat-to-sensor-model.pkl_36.npy',\n",
       " 'webapp/solarApp/models/sat-to-sensor-model/sat-to-sensor-model.pkl_37.npy',\n",
       " 'webapp/solarApp/models/sat-to-sensor-model/sat-to-sensor-model.pkl_38.npy',\n",
       " 'webapp/solarApp/models/sat-to-sensor-model/sat-to-sensor-model.pkl_39.npy',\n",
       " 'webapp/solarApp/models/sat-to-sensor-model/sat-to-sensor-model.pkl_40.npy',\n",
       " 'webapp/solarApp/models/sat-to-sensor-model/sat-to-sensor-model.pkl_41.npy',\n",
       " 'webapp/solarApp/models/sat-to-sensor-model/sat-to-sensor-model.pkl_42.npy',\n",
       " 'webapp/solarApp/models/sat-to-sensor-model/sat-to-sensor-model.pkl_43.npy',\n",
       " 'webapp/solarApp/models/sat-to-sensor-model/sat-to-sensor-model.pkl_44.npy',\n",
       " 'webapp/solarApp/models/sat-to-sensor-model/sat-to-sensor-model.pkl_45.npy',\n",
       " 'webapp/solarApp/models/sat-to-sensor-model/sat-to-sensor-model.pkl_46.npy',\n",
       " 'webapp/solarApp/models/sat-to-sensor-model/sat-to-sensor-model.pkl_47.npy',\n",
       " 'webapp/solarApp/models/sat-to-sensor-model/sat-to-sensor-model.pkl_48.npy',\n",
       " 'webapp/solarApp/models/sat-to-sensor-model/sat-to-sensor-model.pkl_49.npy',\n",
       " 'webapp/solarApp/models/sat-to-sensor-model/sat-to-sensor-model.pkl_50.npy',\n",
       " 'webapp/solarApp/models/sat-to-sensor-model/sat-to-sensor-model.pkl_51.npy',\n",
       " 'webapp/solarApp/models/sat-to-sensor-model/sat-to-sensor-model.pkl_52.npy',\n",
       " 'webapp/solarApp/models/sat-to-sensor-model/sat-to-sensor-model.pkl_53.npy',\n",
       " 'webapp/solarApp/models/sat-to-sensor-model/sat-to-sensor-model.pkl_54.npy',\n",
       " 'webapp/solarApp/models/sat-to-sensor-model/sat-to-sensor-model.pkl_55.npy',\n",
       " 'webapp/solarApp/models/sat-to-sensor-model/sat-to-sensor-model.pkl_56.npy',\n",
       " 'webapp/solarApp/models/sat-to-sensor-model/sat-to-sensor-model.pkl_57.npy',\n",
       " 'webapp/solarApp/models/sat-to-sensor-model/sat-to-sensor-model.pkl_58.npy',\n",
       " 'webapp/solarApp/models/sat-to-sensor-model/sat-to-sensor-model.pkl_59.npy',\n",
       " 'webapp/solarApp/models/sat-to-sensor-model/sat-to-sensor-model.pkl_60.npy',\n",
       " 'webapp/solarApp/models/sat-to-sensor-model/sat-to-sensor-model.pkl_61.npy',\n",
       " 'webapp/solarApp/models/sat-to-sensor-model/sat-to-sensor-model.pkl_62.npy',\n",
       " 'webapp/solarApp/models/sat-to-sensor-model/sat-to-sensor-model.pkl_63.npy',\n",
       " 'webapp/solarApp/models/sat-to-sensor-model/sat-to-sensor-model.pkl_64.npy',\n",
       " 'webapp/solarApp/models/sat-to-sensor-model/sat-to-sensor-model.pkl_65.npy',\n",
       " 'webapp/solarApp/models/sat-to-sensor-model/sat-to-sensor-model.pkl_66.npy',\n",
       " 'webapp/solarApp/models/sat-to-sensor-model/sat-to-sensor-model.pkl_67.npy',\n",
       " 'webapp/solarApp/models/sat-to-sensor-model/sat-to-sensor-model.pkl_68.npy',\n",
       " 'webapp/solarApp/models/sat-to-sensor-model/sat-to-sensor-model.pkl_69.npy',\n",
       " 'webapp/solarApp/models/sat-to-sensor-model/sat-to-sensor-model.pkl_70.npy',\n",
       " 'webapp/solarApp/models/sat-to-sensor-model/sat-to-sensor-model.pkl_71.npy',\n",
       " 'webapp/solarApp/models/sat-to-sensor-model/sat-to-sensor-model.pkl_72.npy',\n",
       " 'webapp/solarApp/models/sat-to-sensor-model/sat-to-sensor-model.pkl_73.npy',\n",
       " 'webapp/solarApp/models/sat-to-sensor-model/sat-to-sensor-model.pkl_74.npy',\n",
       " 'webapp/solarApp/models/sat-to-sensor-model/sat-to-sensor-model.pkl_75.npy',\n",
       " 'webapp/solarApp/models/sat-to-sensor-model/sat-to-sensor-model.pkl_76.npy',\n",
       " 'webapp/solarApp/models/sat-to-sensor-model/sat-to-sensor-model.pkl_77.npy',\n",
       " 'webapp/solarApp/models/sat-to-sensor-model/sat-to-sensor-model.pkl_78.npy',\n",
       " 'webapp/solarApp/models/sat-to-sensor-model/sat-to-sensor-model.pkl_79.npy',\n",
       " 'webapp/solarApp/models/sat-to-sensor-model/sat-to-sensor-model.pkl_80.npy',\n",
       " 'webapp/solarApp/models/sat-to-sensor-model/sat-to-sensor-model.pkl_81.npy',\n",
       " 'webapp/solarApp/models/sat-to-sensor-model/sat-to-sensor-model.pkl_82.npy',\n",
       " 'webapp/solarApp/models/sat-to-sensor-model/sat-to-sensor-model.pkl_83.npy',\n",
       " 'webapp/solarApp/models/sat-to-sensor-model/sat-to-sensor-model.pkl_84.npy',\n",
       " 'webapp/solarApp/models/sat-to-sensor-model/sat-to-sensor-model.pkl_85.npy',\n",
       " 'webapp/solarApp/models/sat-to-sensor-model/sat-to-sensor-model.pkl_86.npy',\n",
       " 'webapp/solarApp/models/sat-to-sensor-model/sat-to-sensor-model.pkl_87.npy',\n",
       " 'webapp/solarApp/models/sat-to-sensor-model/sat-to-sensor-model.pkl_88.npy',\n",
       " 'webapp/solarApp/models/sat-to-sensor-model/sat-to-sensor-model.pkl_89.npy',\n",
       " 'webapp/solarApp/models/sat-to-sensor-model/sat-to-sensor-model.pkl_90.npy',\n",
       " 'webapp/solarApp/models/sat-to-sensor-model/sat-to-sensor-model.pkl_91.npy',\n",
       " 'webapp/solarApp/models/sat-to-sensor-model/sat-to-sensor-model.pkl_92.npy',\n",
       " 'webapp/solarApp/models/sat-to-sensor-model/sat-to-sensor-model.pkl_93.npy',\n",
       " 'webapp/solarApp/models/sat-to-sensor-model/sat-to-sensor-model.pkl_94.npy',\n",
       " 'webapp/solarApp/models/sat-to-sensor-model/sat-to-sensor-model.pkl_95.npy',\n",
       " 'webapp/solarApp/models/sat-to-sensor-model/sat-to-sensor-model.pkl_96.npy',\n",
       " 'webapp/solarApp/models/sat-to-sensor-model/sat-to-sensor-model.pkl_97.npy',\n",
       " 'webapp/solarApp/models/sat-to-sensor-model/sat-to-sensor-model.pkl_98.npy',\n",
       " 'webapp/solarApp/models/sat-to-sensor-model/sat-to-sensor-model.pkl_99.npy',\n",
       " 'webapp/solarApp/models/sat-to-sensor-model/sat-to-sensor-model.pkl_100.npy',\n",
       " 'webapp/solarApp/models/sat-to-sensor-model/sat-to-sensor-model.pkl_101.npy',\n",
       " 'webapp/solarApp/models/sat-to-sensor-model/sat-to-sensor-model.pkl_102.npy',\n",
       " 'webapp/solarApp/models/sat-to-sensor-model/sat-to-sensor-model.pkl_103.npy',\n",
       " 'webapp/solarApp/models/sat-to-sensor-model/sat-to-sensor-model.pkl_104.npy',\n",
       " 'webapp/solarApp/models/sat-to-sensor-model/sat-to-sensor-model.pkl_105.npy',\n",
       " 'webapp/solarApp/models/sat-to-sensor-model/sat-to-sensor-model.pkl_106.npy',\n",
       " 'webapp/solarApp/models/sat-to-sensor-model/sat-to-sensor-model.pkl_107.npy',\n",
       " 'webapp/solarApp/models/sat-to-sensor-model/sat-to-sensor-model.pkl_108.npy',\n",
       " 'webapp/solarApp/models/sat-to-sensor-model/sat-to-sensor-model.pkl_109.npy',\n",
       " 'webapp/solarApp/models/sat-to-sensor-model/sat-to-sensor-model.pkl_110.npy',\n",
       " 'webapp/solarApp/models/sat-to-sensor-model/sat-to-sensor-model.pkl_111.npy',\n",
       " 'webapp/solarApp/models/sat-to-sensor-model/sat-to-sensor-model.pkl_112.npy',\n",
       " 'webapp/solarApp/models/sat-to-sensor-model/sat-to-sensor-model.pkl_113.npy',\n",
       " 'webapp/solarApp/models/sat-to-sensor-model/sat-to-sensor-model.pkl_114.npy',\n",
       " 'webapp/solarApp/models/sat-to-sensor-model/sat-to-sensor-model.pkl_115.npy',\n",
       " 'webapp/solarApp/models/sat-to-sensor-model/sat-to-sensor-model.pkl_116.npy',\n",
       " 'webapp/solarApp/models/sat-to-sensor-model/sat-to-sensor-model.pkl_117.npy',\n",
       " 'webapp/solarApp/models/sat-to-sensor-model/sat-to-sensor-model.pkl_118.npy',\n",
       " 'webapp/solarApp/models/sat-to-sensor-model/sat-to-sensor-model.pkl_119.npy',\n",
       " 'webapp/solarApp/models/sat-to-sensor-model/sat-to-sensor-model.pkl_120.npy',\n",
       " 'webapp/solarApp/models/sat-to-sensor-model/sat-to-sensor-model.pkl_121.npy',\n",
       " 'webapp/solarApp/models/sat-to-sensor-model/sat-to-sensor-model.pkl_122.npy',\n",
       " 'webapp/solarApp/models/sat-to-sensor-model/sat-to-sensor-model.pkl_123.npy',\n",
       " 'webapp/solarApp/models/sat-to-sensor-model/sat-to-sensor-model.pkl_124.npy',\n",
       " 'webapp/solarApp/models/sat-to-sensor-model/sat-to-sensor-model.pkl_125.npy',\n",
       " 'webapp/solarApp/models/sat-to-sensor-model/sat-to-sensor-model.pkl_126.npy',\n",
       " 'webapp/solarApp/models/sat-to-sensor-model/sat-to-sensor-model.pkl_127.npy',\n",
       " 'webapp/solarApp/models/sat-to-sensor-model/sat-to-sensor-model.pkl_128.npy',\n",
       " 'webapp/solarApp/models/sat-to-sensor-model/sat-to-sensor-model.pkl_129.npy',\n",
       " 'webapp/solarApp/models/sat-to-sensor-model/sat-to-sensor-model.pkl_130.npy',\n",
       " 'webapp/solarApp/models/sat-to-sensor-model/sat-to-sensor-model.pkl_131.npy',\n",
       " 'webapp/solarApp/models/sat-to-sensor-model/sat-to-sensor-model.pkl_132.npy',\n",
       " 'webapp/solarApp/models/sat-to-sensor-model/sat-to-sensor-model.pkl_133.npy',\n",
       " 'webapp/solarApp/models/sat-to-sensor-model/sat-to-sensor-model.pkl_134.npy',\n",
       " 'webapp/solarApp/models/sat-to-sensor-model/sat-to-sensor-model.pkl_135.npy',\n",
       " 'webapp/solarApp/models/sat-to-sensor-model/sat-to-sensor-model.pkl_136.npy',\n",
       " 'webapp/solarApp/models/sat-to-sensor-model/sat-to-sensor-model.pkl_137.npy',\n",
       " 'webapp/solarApp/models/sat-to-sensor-model/sat-to-sensor-model.pkl_138.npy',\n",
       " 'webapp/solarApp/models/sat-to-sensor-model/sat-to-sensor-model.pkl_139.npy',\n",
       " 'webapp/solarApp/models/sat-to-sensor-model/sat-to-sensor-model.pkl_140.npy',\n",
       " 'webapp/solarApp/models/sat-to-sensor-model/sat-to-sensor-model.pkl_141.npy',\n",
       " 'webapp/solarApp/models/sat-to-sensor-model/sat-to-sensor-model.pkl_142.npy',\n",
       " 'webapp/solarApp/models/sat-to-sensor-model/sat-to-sensor-model.pkl_143.npy',\n",
       " 'webapp/solarApp/models/sat-to-sensor-model/sat-to-sensor-model.pkl_144.npy',\n",
       " 'webapp/solarApp/models/sat-to-sensor-model/sat-to-sensor-model.pkl_145.npy',\n",
       " 'webapp/solarApp/models/sat-to-sensor-model/sat-to-sensor-model.pkl_146.npy',\n",
       " 'webapp/solarApp/models/sat-to-sensor-model/sat-to-sensor-model.pkl_147.npy',\n",
       " 'webapp/solarApp/models/sat-to-sensor-model/sat-to-sensor-model.pkl_148.npy',\n",
       " 'webapp/solarApp/models/sat-to-sensor-model/sat-to-sensor-model.pkl_149.npy',\n",
       " 'webapp/solarApp/models/sat-to-sensor-model/sat-to-sensor-model.pkl_150.npy',\n",
       " 'webapp/solarApp/models/sat-to-sensor-model/sat-to-sensor-model.pkl_151.npy',\n",
       " 'webapp/solarApp/models/sat-to-sensor-model/sat-to-sensor-model.pkl_152.npy',\n",
       " 'webapp/solarApp/models/sat-to-sensor-model/sat-to-sensor-model.pkl_153.npy',\n",
       " 'webapp/solarApp/models/sat-to-sensor-model/sat-to-sensor-model.pkl_154.npy',\n",
       " 'webapp/solarApp/models/sat-to-sensor-model/sat-to-sensor-model.pkl_155.npy',\n",
       " 'webapp/solarApp/models/sat-to-sensor-model/sat-to-sensor-model.pkl_156.npy',\n",
       " 'webapp/solarApp/models/sat-to-sensor-model/sat-to-sensor-model.pkl_157.npy',\n",
       " 'webapp/solarApp/models/sat-to-sensor-model/sat-to-sensor-model.pkl_158.npy',\n",
       " 'webapp/solarApp/models/sat-to-sensor-model/sat-to-sensor-model.pkl_159.npy',\n",
       " 'webapp/solarApp/models/sat-to-sensor-model/sat-to-sensor-model.pkl_160.npy',\n",
       " 'webapp/solarApp/models/sat-to-sensor-model/sat-to-sensor-model.pkl_161.npy',\n",
       " 'webapp/solarApp/models/sat-to-sensor-model/sat-to-sensor-model.pkl_162.npy',\n",
       " 'webapp/solarApp/models/sat-to-sensor-model/sat-to-sensor-model.pkl_163.npy',\n",
       " 'webapp/solarApp/models/sat-to-sensor-model/sat-to-sensor-model.pkl_164.npy',\n",
       " 'webapp/solarApp/models/sat-to-sensor-model/sat-to-sensor-model.pkl_165.npy',\n",
       " 'webapp/solarApp/models/sat-to-sensor-model/sat-to-sensor-model.pkl_166.npy',\n",
       " 'webapp/solarApp/models/sat-to-sensor-model/sat-to-sensor-model.pkl_167.npy',\n",
       " 'webapp/solarApp/models/sat-to-sensor-model/sat-to-sensor-model.pkl_168.npy',\n",
       " 'webapp/solarApp/models/sat-to-sensor-model/sat-to-sensor-model.pkl_169.npy',\n",
       " 'webapp/solarApp/models/sat-to-sensor-model/sat-to-sensor-model.pkl_170.npy',\n",
       " 'webapp/solarApp/models/sat-to-sensor-model/sat-to-sensor-model.pkl_171.npy',\n",
       " 'webapp/solarApp/models/sat-to-sensor-model/sat-to-sensor-model.pkl_172.npy',\n",
       " 'webapp/solarApp/models/sat-to-sensor-model/sat-to-sensor-model.pkl_173.npy',\n",
       " 'webapp/solarApp/models/sat-to-sensor-model/sat-to-sensor-model.pkl_174.npy',\n",
       " 'webapp/solarApp/models/sat-to-sensor-model/sat-to-sensor-model.pkl_175.npy',\n",
       " 'webapp/solarApp/models/sat-to-sensor-model/sat-to-sensor-model.pkl_176.npy',\n",
       " 'webapp/solarApp/models/sat-to-sensor-model/sat-to-sensor-model.pkl_177.npy',\n",
       " 'webapp/solarApp/models/sat-to-sensor-model/sat-to-sensor-model.pkl_178.npy',\n",
       " 'webapp/solarApp/models/sat-to-sensor-model/sat-to-sensor-model.pkl_179.npy',\n",
       " 'webapp/solarApp/models/sat-to-sensor-model/sat-to-sensor-model.pkl_180.npy',\n",
       " 'webapp/solarApp/models/sat-to-sensor-model/sat-to-sensor-model.pkl_181.npy',\n",
       " 'webapp/solarApp/models/sat-to-sensor-model/sat-to-sensor-model.pkl_182.npy',\n",
       " 'webapp/solarApp/models/sat-to-sensor-model/sat-to-sensor-model.pkl_183.npy',\n",
       " 'webapp/solarApp/models/sat-to-sensor-model/sat-to-sensor-model.pkl_184.npy',\n",
       " 'webapp/solarApp/models/sat-to-sensor-model/sat-to-sensor-model.pkl_185.npy',\n",
       " 'webapp/solarApp/models/sat-to-sensor-model/sat-to-sensor-model.pkl_186.npy',\n",
       " 'webapp/solarApp/models/sat-to-sensor-model/sat-to-sensor-model.pkl_187.npy',\n",
       " 'webapp/solarApp/models/sat-to-sensor-model/sat-to-sensor-model.pkl_188.npy',\n",
       " 'webapp/solarApp/models/sat-to-sensor-model/sat-to-sensor-model.pkl_189.npy',\n",
       " 'webapp/solarApp/models/sat-to-sensor-model/sat-to-sensor-model.pkl_190.npy',\n",
       " 'webapp/solarApp/models/sat-to-sensor-model/sat-to-sensor-model.pkl_191.npy',\n",
       " 'webapp/solarApp/models/sat-to-sensor-model/sat-to-sensor-model.pkl_192.npy',\n",
       " 'webapp/solarApp/models/sat-to-sensor-model/sat-to-sensor-model.pkl_193.npy',\n",
       " 'webapp/solarApp/models/sat-to-sensor-model/sat-to-sensor-model.pkl_194.npy',\n",
       " 'webapp/solarApp/models/sat-to-sensor-model/sat-to-sensor-model.pkl_195.npy',\n",
       " 'webapp/solarApp/models/sat-to-sensor-model/sat-to-sensor-model.pkl_196.npy',\n",
       " 'webapp/solarApp/models/sat-to-sensor-model/sat-to-sensor-model.pkl_197.npy',\n",
       " 'webapp/solarApp/models/sat-to-sensor-model/sat-to-sensor-model.pkl_198.npy',\n",
       " 'webapp/solarApp/models/sat-to-sensor-model/sat-to-sensor-model.pkl_199.npy',\n",
       " 'webapp/solarApp/models/sat-to-sensor-model/sat-to-sensor-model.pkl_200.npy',\n",
       " 'webapp/solarApp/models/sat-to-sensor-model/sat-to-sensor-model.pkl_201.npy',\n",
       " 'webapp/solarApp/models/sat-to-sensor-model/sat-to-sensor-model.pkl_202.npy',\n",
       " 'webapp/solarApp/models/sat-to-sensor-model/sat-to-sensor-model.pkl_203.npy',\n",
       " 'webapp/solarApp/models/sat-to-sensor-model/sat-to-sensor-model.pkl_204.npy',\n",
       " 'webapp/solarApp/models/sat-to-sensor-model/sat-to-sensor-model.pkl_205.npy',\n",
       " 'webapp/solarApp/models/sat-to-sensor-model/sat-to-sensor-model.pkl_206.npy',\n",
       " 'webapp/solarApp/models/sat-to-sensor-model/sat-to-sensor-model.pkl_207.npy',\n",
       " 'webapp/solarApp/models/sat-to-sensor-model/sat-to-sensor-model.pkl_208.npy',\n",
       " 'webapp/solarApp/models/sat-to-sensor-model/sat-to-sensor-model.pkl_209.npy',\n",
       " 'webapp/solarApp/models/sat-to-sensor-model/sat-to-sensor-model.pkl_210.npy',\n",
       " 'webapp/solarApp/models/sat-to-sensor-model/sat-to-sensor-model.pkl_211.npy',\n",
       " 'webapp/solarApp/models/sat-to-sensor-model/sat-to-sensor-model.pkl_212.npy',\n",
       " 'webapp/solarApp/models/sat-to-sensor-model/sat-to-sensor-model.pkl_213.npy',\n",
       " 'webapp/solarApp/models/sat-to-sensor-model/sat-to-sensor-model.pkl_214.npy',\n",
       " 'webapp/solarApp/models/sat-to-sensor-model/sat-to-sensor-model.pkl_215.npy',\n",
       " 'webapp/solarApp/models/sat-to-sensor-model/sat-to-sensor-model.pkl_216.npy',\n",
       " 'webapp/solarApp/models/sat-to-sensor-model/sat-to-sensor-model.pkl_217.npy',\n",
       " 'webapp/solarApp/models/sat-to-sensor-model/sat-to-sensor-model.pkl_218.npy',\n",
       " 'webapp/solarApp/models/sat-to-sensor-model/sat-to-sensor-model.pkl_219.npy',\n",
       " 'webapp/solarApp/models/sat-to-sensor-model/sat-to-sensor-model.pkl_220.npy',\n",
       " 'webapp/solarApp/models/sat-to-sensor-model/sat-to-sensor-model.pkl_221.npy',\n",
       " 'webapp/solarApp/models/sat-to-sensor-model/sat-to-sensor-model.pkl_222.npy',\n",
       " 'webapp/solarApp/models/sat-to-sensor-model/sat-to-sensor-model.pkl_223.npy',\n",
       " 'webapp/solarApp/models/sat-to-sensor-model/sat-to-sensor-model.pkl_224.npy',\n",
       " 'webapp/solarApp/models/sat-to-sensor-model/sat-to-sensor-model.pkl_225.npy',\n",
       " 'webapp/solarApp/models/sat-to-sensor-model/sat-to-sensor-model.pkl_226.npy',\n",
       " 'webapp/solarApp/models/sat-to-sensor-model/sat-to-sensor-model.pkl_227.npy',\n",
       " 'webapp/solarApp/models/sat-to-sensor-model/sat-to-sensor-model.pkl_228.npy',\n",
       " 'webapp/solarApp/models/sat-to-sensor-model/sat-to-sensor-model.pkl_229.npy',\n",
       " 'webapp/solarApp/models/sat-to-sensor-model/sat-to-sensor-model.pkl_230.npy',\n",
       " 'webapp/solarApp/models/sat-to-sensor-model/sat-to-sensor-model.pkl_231.npy',\n",
       " 'webapp/solarApp/models/sat-to-sensor-model/sat-to-sensor-model.pkl_232.npy',\n",
       " 'webapp/solarApp/models/sat-to-sensor-model/sat-to-sensor-model.pkl_233.npy',\n",
       " 'webapp/solarApp/models/sat-to-sensor-model/sat-to-sensor-model.pkl_234.npy',\n",
       " 'webapp/solarApp/models/sat-to-sensor-model/sat-to-sensor-model.pkl_235.npy',\n",
       " 'webapp/solarApp/models/sat-to-sensor-model/sat-to-sensor-model.pkl_236.npy',\n",
       " 'webapp/solarApp/models/sat-to-sensor-model/sat-to-sensor-model.pkl_237.npy',\n",
       " 'webapp/solarApp/models/sat-to-sensor-model/sat-to-sensor-model.pkl_238.npy',\n",
       " 'webapp/solarApp/models/sat-to-sensor-model/sat-to-sensor-model.pkl_239.npy',\n",
       " 'webapp/solarApp/models/sat-to-sensor-model/sat-to-sensor-model.pkl_240.npy',\n",
       " 'webapp/solarApp/models/sat-to-sensor-model/sat-to-sensor-model.pkl_241.npy',\n",
       " 'webapp/solarApp/models/sat-to-sensor-model/sat-to-sensor-model.pkl_242.npy',\n",
       " 'webapp/solarApp/models/sat-to-sensor-model/sat-to-sensor-model.pkl_243.npy',\n",
       " 'webapp/solarApp/models/sat-to-sensor-model/sat-to-sensor-model.pkl_244.npy',\n",
       " 'webapp/solarApp/models/sat-to-sensor-model/sat-to-sensor-model.pkl_245.npy',\n",
       " 'webapp/solarApp/models/sat-to-sensor-model/sat-to-sensor-model.pkl_246.npy',\n",
       " 'webapp/solarApp/models/sat-to-sensor-model/sat-to-sensor-model.pkl_247.npy',\n",
       " 'webapp/solarApp/models/sat-to-sensor-model/sat-to-sensor-model.pkl_248.npy',\n",
       " 'webapp/solarApp/models/sat-to-sensor-model/sat-to-sensor-model.pkl_249.npy',\n",
       " 'webapp/solarApp/models/sat-to-sensor-model/sat-to-sensor-model.pkl_250.npy',\n",
       " 'webapp/solarApp/models/sat-to-sensor-model/sat-to-sensor-model.pkl_251.npy',\n",
       " 'webapp/solarApp/models/sat-to-sensor-model/sat-to-sensor-model.pkl_252.npy',\n",
       " 'webapp/solarApp/models/sat-to-sensor-model/sat-to-sensor-model.pkl_253.npy',\n",
       " 'webapp/solarApp/models/sat-to-sensor-model/sat-to-sensor-model.pkl_254.npy',\n",
       " 'webapp/solarApp/models/sat-to-sensor-model/sat-to-sensor-model.pkl_255.npy',\n",
       " 'webapp/solarApp/models/sat-to-sensor-model/sat-to-sensor-model.pkl_256.npy',\n",
       " 'webapp/solarApp/models/sat-to-sensor-model/sat-to-sensor-model.pkl_257.npy',\n",
       " 'webapp/solarApp/models/sat-to-sensor-model/sat-to-sensor-model.pkl_258.npy',\n",
       " 'webapp/solarApp/models/sat-to-sensor-model/sat-to-sensor-model.pkl_259.npy',\n",
       " 'webapp/solarApp/models/sat-to-sensor-model/sat-to-sensor-model.pkl_260.npy',\n",
       " 'webapp/solarApp/models/sat-to-sensor-model/sat-to-sensor-model.pkl_261.npy',\n",
       " 'webapp/solarApp/models/sat-to-sensor-model/sat-to-sensor-model.pkl_262.npy',\n",
       " 'webapp/solarApp/models/sat-to-sensor-model/sat-to-sensor-model.pkl_263.npy',\n",
       " 'webapp/solarApp/models/sat-to-sensor-model/sat-to-sensor-model.pkl_264.npy',\n",
       " 'webapp/solarApp/models/sat-to-sensor-model/sat-to-sensor-model.pkl_265.npy',\n",
       " 'webapp/solarApp/models/sat-to-sensor-model/sat-to-sensor-model.pkl_266.npy',\n",
       " 'webapp/solarApp/models/sat-to-sensor-model/sat-to-sensor-model.pkl_267.npy',\n",
       " 'webapp/solarApp/models/sat-to-sensor-model/sat-to-sensor-model.pkl_268.npy',\n",
       " 'webapp/solarApp/models/sat-to-sensor-model/sat-to-sensor-model.pkl_269.npy',\n",
       " 'webapp/solarApp/models/sat-to-sensor-model/sat-to-sensor-model.pkl_270.npy',\n",
       " 'webapp/solarApp/models/sat-to-sensor-model/sat-to-sensor-model.pkl_271.npy',\n",
       " 'webapp/solarApp/models/sat-to-sensor-model/sat-to-sensor-model.pkl_272.npy',\n",
       " 'webapp/solarApp/models/sat-to-sensor-model/sat-to-sensor-model.pkl_273.npy',\n",
       " 'webapp/solarApp/models/sat-to-sensor-model/sat-to-sensor-model.pkl_274.npy',\n",
       " 'webapp/solarApp/models/sat-to-sensor-model/sat-to-sensor-model.pkl_275.npy',\n",
       " 'webapp/solarApp/models/sat-to-sensor-model/sat-to-sensor-model.pkl_276.npy',\n",
       " 'webapp/solarApp/models/sat-to-sensor-model/sat-to-sensor-model.pkl_277.npy',\n",
       " 'webapp/solarApp/models/sat-to-sensor-model/sat-to-sensor-model.pkl_278.npy',\n",
       " 'webapp/solarApp/models/sat-to-sensor-model/sat-to-sensor-model.pkl_279.npy',\n",
       " 'webapp/solarApp/models/sat-to-sensor-model/sat-to-sensor-model.pkl_280.npy',\n",
       " 'webapp/solarApp/models/sat-to-sensor-model/sat-to-sensor-model.pkl_281.npy',\n",
       " 'webapp/solarApp/models/sat-to-sensor-model/sat-to-sensor-model.pkl_282.npy',\n",
       " 'webapp/solarApp/models/sat-to-sensor-model/sat-to-sensor-model.pkl_283.npy',\n",
       " 'webapp/solarApp/models/sat-to-sensor-model/sat-to-sensor-model.pkl_284.npy',\n",
       " 'webapp/solarApp/models/sat-to-sensor-model/sat-to-sensor-model.pkl_285.npy',\n",
       " 'webapp/solarApp/models/sat-to-sensor-model/sat-to-sensor-model.pkl_286.npy',\n",
       " 'webapp/solarApp/models/sat-to-sensor-model/sat-to-sensor-model.pkl_287.npy',\n",
       " 'webapp/solarApp/models/sat-to-sensor-model/sat-to-sensor-model.pkl_288.npy',\n",
       " 'webapp/solarApp/models/sat-to-sensor-model/sat-to-sensor-model.pkl_289.npy',\n",
       " 'webapp/solarApp/models/sat-to-sensor-model/sat-to-sensor-model.pkl_290.npy',\n",
       " 'webapp/solarApp/models/sat-to-sensor-model/sat-to-sensor-model.pkl_291.npy',\n",
       " 'webapp/solarApp/models/sat-to-sensor-model/sat-to-sensor-model.pkl_292.npy',\n",
       " 'webapp/solarApp/models/sat-to-sensor-model/sat-to-sensor-model.pkl_293.npy',\n",
       " 'webapp/solarApp/models/sat-to-sensor-model/sat-to-sensor-model.pkl_294.npy',\n",
       " 'webapp/solarApp/models/sat-to-sensor-model/sat-to-sensor-model.pkl_295.npy',\n",
       " 'webapp/solarApp/models/sat-to-sensor-model/sat-to-sensor-model.pkl_296.npy',\n",
       " 'webapp/solarApp/models/sat-to-sensor-model/sat-to-sensor-model.pkl_297.npy',\n",
       " 'webapp/solarApp/models/sat-to-sensor-model/sat-to-sensor-model.pkl_298.npy',\n",
       " 'webapp/solarApp/models/sat-to-sensor-model/sat-to-sensor-model.pkl_299.npy',\n",
       " 'webapp/solarApp/models/sat-to-sensor-model/sat-to-sensor-model.pkl_300.npy',\n",
       " 'webapp/solarApp/models/sat-to-sensor-model/sat-to-sensor-model.pkl_301.npy',\n",
       " 'webapp/solarApp/models/sat-to-sensor-model/sat-to-sensor-model.pkl_302.npy',\n",
       " 'webapp/solarApp/models/sat-to-sensor-model/sat-to-sensor-model.pkl_303.npy',\n",
       " 'webapp/solarApp/models/sat-to-sensor-model/sat-to-sensor-model.pkl_304.npy',\n",
       " 'webapp/solarApp/models/sat-to-sensor-model/sat-to-sensor-model.pkl_305.npy',\n",
       " 'webapp/solarApp/models/sat-to-sensor-model/sat-to-sensor-model.pkl_306.npy',\n",
       " 'webapp/solarApp/models/sat-to-sensor-model/sat-to-sensor-model.pkl_307.npy',\n",
       " 'webapp/solarApp/models/sat-to-sensor-model/sat-to-sensor-model.pkl_308.npy',\n",
       " 'webapp/solarApp/models/sat-to-sensor-model/sat-to-sensor-model.pkl_309.npy',\n",
       " 'webapp/solarApp/models/sat-to-sensor-model/sat-to-sensor-model.pkl_310.npy',\n",
       " 'webapp/solarApp/models/sat-to-sensor-model/sat-to-sensor-model.pkl_311.npy',\n",
       " 'webapp/solarApp/models/sat-to-sensor-model/sat-to-sensor-model.pkl_312.npy',\n",
       " 'webapp/solarApp/models/sat-to-sensor-model/sat-to-sensor-model.pkl_313.npy',\n",
       " 'webapp/solarApp/models/sat-to-sensor-model/sat-to-sensor-model.pkl_314.npy',\n",
       " 'webapp/solarApp/models/sat-to-sensor-model/sat-to-sensor-model.pkl_315.npy',\n",
       " 'webapp/solarApp/models/sat-to-sensor-model/sat-to-sensor-model.pkl_316.npy',\n",
       " 'webapp/solarApp/models/sat-to-sensor-model/sat-to-sensor-model.pkl_317.npy',\n",
       " 'webapp/solarApp/models/sat-to-sensor-model/sat-to-sensor-model.pkl_318.npy',\n",
       " 'webapp/solarApp/models/sat-to-sensor-model/sat-to-sensor-model.pkl_319.npy',\n",
       " 'webapp/solarApp/models/sat-to-sensor-model/sat-to-sensor-model.pkl_320.npy',\n",
       " 'webapp/solarApp/models/sat-to-sensor-model/sat-to-sensor-model.pkl_321.npy',\n",
       " 'webapp/solarApp/models/sat-to-sensor-model/sat-to-sensor-model.pkl_322.npy',\n",
       " 'webapp/solarApp/models/sat-to-sensor-model/sat-to-sensor-model.pkl_323.npy',\n",
       " 'webapp/solarApp/models/sat-to-sensor-model/sat-to-sensor-model.pkl_324.npy',\n",
       " 'webapp/solarApp/models/sat-to-sensor-model/sat-to-sensor-model.pkl_325.npy',\n",
       " 'webapp/solarApp/models/sat-to-sensor-model/sat-to-sensor-model.pkl_326.npy',\n",
       " 'webapp/solarApp/models/sat-to-sensor-model/sat-to-sensor-model.pkl_327.npy',\n",
       " 'webapp/solarApp/models/sat-to-sensor-model/sat-to-sensor-model.pkl_328.npy',\n",
       " 'webapp/solarApp/models/sat-to-sensor-model/sat-to-sensor-model.pkl_329.npy',\n",
       " 'webapp/solarApp/models/sat-to-sensor-model/sat-to-sensor-model.pkl_330.npy',\n",
       " 'webapp/solarApp/models/sat-to-sensor-model/sat-to-sensor-model.pkl_331.npy',\n",
       " 'webapp/solarApp/models/sat-to-sensor-model/sat-to-sensor-model.pkl_332.npy',\n",
       " 'webapp/solarApp/models/sat-to-sensor-model/sat-to-sensor-model.pkl_333.npy',\n",
       " 'webapp/solarApp/models/sat-to-sensor-model/sat-to-sensor-model.pkl_334.npy',\n",
       " 'webapp/solarApp/models/sat-to-sensor-model/sat-to-sensor-model.pkl_335.npy',\n",
       " 'webapp/solarApp/models/sat-to-sensor-model/sat-to-sensor-model.pkl_336.npy',\n",
       " 'webapp/solarApp/models/sat-to-sensor-model/sat-to-sensor-model.pkl_337.npy',\n",
       " 'webapp/solarApp/models/sat-to-sensor-model/sat-to-sensor-model.pkl_338.npy',\n",
       " 'webapp/solarApp/models/sat-to-sensor-model/sat-to-sensor-model.pkl_339.npy',\n",
       " 'webapp/solarApp/models/sat-to-sensor-model/sat-to-sensor-model.pkl_340.npy',\n",
       " 'webapp/solarApp/models/sat-to-sensor-model/sat-to-sensor-model.pkl_341.npy',\n",
       " 'webapp/solarApp/models/sat-to-sensor-model/sat-to-sensor-model.pkl_342.npy',\n",
       " 'webapp/solarApp/models/sat-to-sensor-model/sat-to-sensor-model.pkl_343.npy',\n",
       " 'webapp/solarApp/models/sat-to-sensor-model/sat-to-sensor-model.pkl_344.npy',\n",
       " 'webapp/solarApp/models/sat-to-sensor-model/sat-to-sensor-model.pkl_345.npy',\n",
       " 'webapp/solarApp/models/sat-to-sensor-model/sat-to-sensor-model.pkl_346.npy',\n",
       " 'webapp/solarApp/models/sat-to-sensor-model/sat-to-sensor-model.pkl_347.npy',\n",
       " 'webapp/solarApp/models/sat-to-sensor-model/sat-to-sensor-model.pkl_348.npy',\n",
       " 'webapp/solarApp/models/sat-to-sensor-model/sat-to-sensor-model.pkl_349.npy',\n",
       " 'webapp/solarApp/models/sat-to-sensor-model/sat-to-sensor-model.pkl_350.npy',\n",
       " 'webapp/solarApp/models/sat-to-sensor-model/sat-to-sensor-model.pkl_351.npy',\n",
       " 'webapp/solarApp/models/sat-to-sensor-model/sat-to-sensor-model.pkl_352.npy',\n",
       " 'webapp/solarApp/models/sat-to-sensor-model/sat-to-sensor-model.pkl_353.npy',\n",
       " 'webapp/solarApp/models/sat-to-sensor-model/sat-to-sensor-model.pkl_354.npy',\n",
       " 'webapp/solarApp/models/sat-to-sensor-model/sat-to-sensor-model.pkl_355.npy',\n",
       " 'webapp/solarApp/models/sat-to-sensor-model/sat-to-sensor-model.pkl_356.npy',\n",
       " 'webapp/solarApp/models/sat-to-sensor-model/sat-to-sensor-model.pkl_357.npy',\n",
       " 'webapp/solarApp/models/sat-to-sensor-model/sat-to-sensor-model.pkl_358.npy',\n",
       " 'webapp/solarApp/models/sat-to-sensor-model/sat-to-sensor-model.pkl_359.npy',\n",
       " 'webapp/solarApp/models/sat-to-sensor-model/sat-to-sensor-model.pkl_360.npy',\n",
       " 'webapp/solarApp/models/sat-to-sensor-model/sat-to-sensor-model.pkl_361.npy',\n",
       " 'webapp/solarApp/models/sat-to-sensor-model/sat-to-sensor-model.pkl_362.npy',\n",
       " 'webapp/solarApp/models/sat-to-sensor-model/sat-to-sensor-model.pkl_363.npy',\n",
       " 'webapp/solarApp/models/sat-to-sensor-model/sat-to-sensor-model.pkl_364.npy',\n",
       " 'webapp/solarApp/models/sat-to-sensor-model/sat-to-sensor-model.pkl_365.npy',\n",
       " 'webapp/solarApp/models/sat-to-sensor-model/sat-to-sensor-model.pkl_366.npy',\n",
       " 'webapp/solarApp/models/sat-to-sensor-model/sat-to-sensor-model.pkl_367.npy',\n",
       " 'webapp/solarApp/models/sat-to-sensor-model/sat-to-sensor-model.pkl_368.npy',\n",
       " 'webapp/solarApp/models/sat-to-sensor-model/sat-to-sensor-model.pkl_369.npy',\n",
       " 'webapp/solarApp/models/sat-to-sensor-model/sat-to-sensor-model.pkl_370.npy',\n",
       " 'webapp/solarApp/models/sat-to-sensor-model/sat-to-sensor-model.pkl_371.npy',\n",
       " 'webapp/solarApp/models/sat-to-sensor-model/sat-to-sensor-model.pkl_372.npy',\n",
       " 'webapp/solarApp/models/sat-to-sensor-model/sat-to-sensor-model.pkl_373.npy',\n",
       " 'webapp/solarApp/models/sat-to-sensor-model/sat-to-sensor-model.pkl_374.npy',\n",
       " 'webapp/solarApp/models/sat-to-sensor-model/sat-to-sensor-model.pkl_375.npy',\n",
       " 'webapp/solarApp/models/sat-to-sensor-model/sat-to-sensor-model.pkl_376.npy',\n",
       " 'webapp/solarApp/models/sat-to-sensor-model/sat-to-sensor-model.pkl_377.npy',\n",
       " 'webapp/solarApp/models/sat-to-sensor-model/sat-to-sensor-model.pkl_378.npy',\n",
       " 'webapp/solarApp/models/sat-to-sensor-model/sat-to-sensor-model.pkl_379.npy',\n",
       " 'webapp/solarApp/models/sat-to-sensor-model/sat-to-sensor-model.pkl_380.npy',\n",
       " 'webapp/solarApp/models/sat-to-sensor-model/sat-to-sensor-model.pkl_381.npy',\n",
       " 'webapp/solarApp/models/sat-to-sensor-model/sat-to-sensor-model.pkl_382.npy',\n",
       " 'webapp/solarApp/models/sat-to-sensor-model/sat-to-sensor-model.pkl_383.npy',\n",
       " 'webapp/solarApp/models/sat-to-sensor-model/sat-to-sensor-model.pkl_384.npy',\n",
       " 'webapp/solarApp/models/sat-to-sensor-model/sat-to-sensor-model.pkl_385.npy',\n",
       " 'webapp/solarApp/models/sat-to-sensor-model/sat-to-sensor-model.pkl_386.npy',\n",
       " 'webapp/solarApp/models/sat-to-sensor-model/sat-to-sensor-model.pkl_387.npy',\n",
       " 'webapp/solarApp/models/sat-to-sensor-model/sat-to-sensor-model.pkl_388.npy',\n",
       " 'webapp/solarApp/models/sat-to-sensor-model/sat-to-sensor-model.pkl_389.npy',\n",
       " 'webapp/solarApp/models/sat-to-sensor-model/sat-to-sensor-model.pkl_390.npy',\n",
       " 'webapp/solarApp/models/sat-to-sensor-model/sat-to-sensor-model.pkl_391.npy',\n",
       " 'webapp/solarApp/models/sat-to-sensor-model/sat-to-sensor-model.pkl_392.npy',\n",
       " 'webapp/solarApp/models/sat-to-sensor-model/sat-to-sensor-model.pkl_393.npy',\n",
       " 'webapp/solarApp/models/sat-to-sensor-model/sat-to-sensor-model.pkl_394.npy',\n",
       " 'webapp/solarApp/models/sat-to-sensor-model/sat-to-sensor-model.pkl_395.npy',\n",
       " 'webapp/solarApp/models/sat-to-sensor-model/sat-to-sensor-model.pkl_396.npy',\n",
       " 'webapp/solarApp/models/sat-to-sensor-model/sat-to-sensor-model.pkl_397.npy',\n",
       " 'webapp/solarApp/models/sat-to-sensor-model/sat-to-sensor-model.pkl_398.npy',\n",
       " 'webapp/solarApp/models/sat-to-sensor-model/sat-to-sensor-model.pkl_399.npy',\n",
       " 'webapp/solarApp/models/sat-to-sensor-model/sat-to-sensor-model.pkl_400.npy',\n",
       " 'webapp/solarApp/models/sat-to-sensor-model/sat-to-sensor-model.pkl_401.npy',\n",
       " 'webapp/solarApp/models/sat-to-sensor-model/sat-to-sensor-model.pkl_402.npy',\n",
       " 'webapp/solarApp/models/sat-to-sensor-model/sat-to-sensor-model.pkl_403.npy',\n",
       " 'webapp/solarApp/models/sat-to-sensor-model/sat-to-sensor-model.pkl_404.npy',\n",
       " 'webapp/solarApp/models/sat-to-sensor-model/sat-to-sensor-model.pkl_405.npy',\n",
       " 'webapp/solarApp/models/sat-to-sensor-model/sat-to-sensor-model.pkl_406.npy',\n",
       " 'webapp/solarApp/models/sat-to-sensor-model/sat-to-sensor-model.pkl_407.npy',\n",
       " 'webapp/solarApp/models/sat-to-sensor-model/sat-to-sensor-model.pkl_408.npy',\n",
       " 'webapp/solarApp/models/sat-to-sensor-model/sat-to-sensor-model.pkl_409.npy',\n",
       " 'webapp/solarApp/models/sat-to-sensor-model/sat-to-sensor-model.pkl_410.npy',\n",
       " 'webapp/solarApp/models/sat-to-sensor-model/sat-to-sensor-model.pkl_411.npy',\n",
       " 'webapp/solarApp/models/sat-to-sensor-model/sat-to-sensor-model.pkl_412.npy',\n",
       " 'webapp/solarApp/models/sat-to-sensor-model/sat-to-sensor-model.pkl_413.npy',\n",
       " 'webapp/solarApp/models/sat-to-sensor-model/sat-to-sensor-model.pkl_414.npy',\n",
       " 'webapp/solarApp/models/sat-to-sensor-model/sat-to-sensor-model.pkl_415.npy',\n",
       " 'webapp/solarApp/models/sat-to-sensor-model/sat-to-sensor-model.pkl_416.npy',\n",
       " 'webapp/solarApp/models/sat-to-sensor-model/sat-to-sensor-model.pkl_417.npy',\n",
       " 'webapp/solarApp/models/sat-to-sensor-model/sat-to-sensor-model.pkl_418.npy',\n",
       " 'webapp/solarApp/models/sat-to-sensor-model/sat-to-sensor-model.pkl_419.npy',\n",
       " 'webapp/solarApp/models/sat-to-sensor-model/sat-to-sensor-model.pkl_420.npy',\n",
       " 'webapp/solarApp/models/sat-to-sensor-model/sat-to-sensor-model.pkl_421.npy',\n",
       " 'webapp/solarApp/models/sat-to-sensor-model/sat-to-sensor-model.pkl_422.npy',\n",
       " 'webapp/solarApp/models/sat-to-sensor-model/sat-to-sensor-model.pkl_423.npy',\n",
       " 'webapp/solarApp/models/sat-to-sensor-model/sat-to-sensor-model.pkl_424.npy',\n",
       " 'webapp/solarApp/models/sat-to-sensor-model/sat-to-sensor-model.pkl_425.npy',\n",
       " 'webapp/solarApp/models/sat-to-sensor-model/sat-to-sensor-model.pkl_426.npy',\n",
       " 'webapp/solarApp/models/sat-to-sensor-model/sat-to-sensor-model.pkl_427.npy',\n",
       " 'webapp/solarApp/models/sat-to-sensor-model/sat-to-sensor-model.pkl_428.npy',\n",
       " 'webapp/solarApp/models/sat-to-sensor-model/sat-to-sensor-model.pkl_429.npy',\n",
       " 'webapp/solarApp/models/sat-to-sensor-model/sat-to-sensor-model.pkl_430.npy',\n",
       " 'webapp/solarApp/models/sat-to-sensor-model/sat-to-sensor-model.pkl_431.npy',\n",
       " 'webapp/solarApp/models/sat-to-sensor-model/sat-to-sensor-model.pkl_432.npy',\n",
       " 'webapp/solarApp/models/sat-to-sensor-model/sat-to-sensor-model.pkl_433.npy',\n",
       " 'webapp/solarApp/models/sat-to-sensor-model/sat-to-sensor-model.pkl_434.npy',\n",
       " 'webapp/solarApp/models/sat-to-sensor-model/sat-to-sensor-model.pkl_435.npy',\n",
       " 'webapp/solarApp/models/sat-to-sensor-model/sat-to-sensor-model.pkl_436.npy',\n",
       " 'webapp/solarApp/models/sat-to-sensor-model/sat-to-sensor-model.pkl_437.npy',\n",
       " 'webapp/solarApp/models/sat-to-sensor-model/sat-to-sensor-model.pkl_438.npy',\n",
       " 'webapp/solarApp/models/sat-to-sensor-model/sat-to-sensor-model.pkl_439.npy',\n",
       " 'webapp/solarApp/models/sat-to-sensor-model/sat-to-sensor-model.pkl_440.npy',\n",
       " 'webapp/solarApp/models/sat-to-sensor-model/sat-to-sensor-model.pkl_441.npy',\n",
       " 'webapp/solarApp/models/sat-to-sensor-model/sat-to-sensor-model.pkl_442.npy',\n",
       " 'webapp/solarApp/models/sat-to-sensor-model/sat-to-sensor-model.pkl_443.npy',\n",
       " 'webapp/solarApp/models/sat-to-sensor-model/sat-to-sensor-model.pkl_444.npy',\n",
       " 'webapp/solarApp/models/sat-to-sensor-model/sat-to-sensor-model.pkl_445.npy',\n",
       " 'webapp/solarApp/models/sat-to-sensor-model/sat-to-sensor-model.pkl_446.npy',\n",
       " 'webapp/solarApp/models/sat-to-sensor-model/sat-to-sensor-model.pkl_447.npy',\n",
       " 'webapp/solarApp/models/sat-to-sensor-model/sat-to-sensor-model.pkl_448.npy',\n",
       " 'webapp/solarApp/models/sat-to-sensor-model/sat-to-sensor-model.pkl_449.npy',\n",
       " 'webapp/solarApp/models/sat-to-sensor-model/sat-to-sensor-model.pkl_450.npy',\n",
       " 'webapp/solarApp/models/sat-to-sensor-model/sat-to-sensor-model.pkl_451.npy',\n",
       " 'webapp/solarApp/models/sat-to-sensor-model/sat-to-sensor-model.pkl_452.npy',\n",
       " 'webapp/solarApp/models/sat-to-sensor-model/sat-to-sensor-model.pkl_453.npy',\n",
       " 'webapp/solarApp/models/sat-to-sensor-model/sat-to-sensor-model.pkl_454.npy',\n",
       " 'webapp/solarApp/models/sat-to-sensor-model/sat-to-sensor-model.pkl_455.npy',\n",
       " 'webapp/solarApp/models/sat-to-sensor-model/sat-to-sensor-model.pkl_456.npy',\n",
       " 'webapp/solarApp/models/sat-to-sensor-model/sat-to-sensor-model.pkl_457.npy',\n",
       " 'webapp/solarApp/models/sat-to-sensor-model/sat-to-sensor-model.pkl_458.npy',\n",
       " 'webapp/solarApp/models/sat-to-sensor-model/sat-to-sensor-model.pkl_459.npy',\n",
       " 'webapp/solarApp/models/sat-to-sensor-model/sat-to-sensor-model.pkl_460.npy',\n",
       " 'webapp/solarApp/models/sat-to-sensor-model/sat-to-sensor-model.pkl_461.npy',\n",
       " 'webapp/solarApp/models/sat-to-sensor-model/sat-to-sensor-model.pkl_462.npy',\n",
       " 'webapp/solarApp/models/sat-to-sensor-model/sat-to-sensor-model.pkl_463.npy',\n",
       " 'webapp/solarApp/models/sat-to-sensor-model/sat-to-sensor-model.pkl_464.npy',\n",
       " 'webapp/solarApp/models/sat-to-sensor-model/sat-to-sensor-model.pkl_465.npy',\n",
       " 'webapp/solarApp/models/sat-to-sensor-model/sat-to-sensor-model.pkl_466.npy',\n",
       " 'webapp/solarApp/models/sat-to-sensor-model/sat-to-sensor-model.pkl_467.npy',\n",
       " 'webapp/solarApp/models/sat-to-sensor-model/sat-to-sensor-model.pkl_468.npy',\n",
       " 'webapp/solarApp/models/sat-to-sensor-model/sat-to-sensor-model.pkl_469.npy',\n",
       " 'webapp/solarApp/models/sat-to-sensor-model/sat-to-sensor-model.pkl_470.npy',\n",
       " 'webapp/solarApp/models/sat-to-sensor-model/sat-to-sensor-model.pkl_471.npy',\n",
       " 'webapp/solarApp/models/sat-to-sensor-model/sat-to-sensor-model.pkl_472.npy',\n",
       " 'webapp/solarApp/models/sat-to-sensor-model/sat-to-sensor-model.pkl_473.npy',\n",
       " 'webapp/solarApp/models/sat-to-sensor-model/sat-to-sensor-model.pkl_474.npy',\n",
       " 'webapp/solarApp/models/sat-to-sensor-model/sat-to-sensor-model.pkl_475.npy',\n",
       " 'webapp/solarApp/models/sat-to-sensor-model/sat-to-sensor-model.pkl_476.npy',\n",
       " 'webapp/solarApp/models/sat-to-sensor-model/sat-to-sensor-model.pkl_477.npy',\n",
       " 'webapp/solarApp/models/sat-to-sensor-model/sat-to-sensor-model.pkl_478.npy',\n",
       " 'webapp/solarApp/models/sat-to-sensor-model/sat-to-sensor-model.pkl_479.npy',\n",
       " 'webapp/solarApp/models/sat-to-sensor-model/sat-to-sensor-model.pkl_480.npy',\n",
       " 'webapp/solarApp/models/sat-to-sensor-model/sat-to-sensor-model.pkl_481.npy',\n",
       " 'webapp/solarApp/models/sat-to-sensor-model/sat-to-sensor-model.pkl_482.npy',\n",
       " 'webapp/solarApp/models/sat-to-sensor-model/sat-to-sensor-model.pkl_483.npy',\n",
       " 'webapp/solarApp/models/sat-to-sensor-model/sat-to-sensor-model.pkl_484.npy',\n",
       " 'webapp/solarApp/models/sat-to-sensor-model/sat-to-sensor-model.pkl_485.npy',\n",
       " 'webapp/solarApp/models/sat-to-sensor-model/sat-to-sensor-model.pkl_486.npy',\n",
       " 'webapp/solarApp/models/sat-to-sensor-model/sat-to-sensor-model.pkl_487.npy',\n",
       " 'webapp/solarApp/models/sat-to-sensor-model/sat-to-sensor-model.pkl_488.npy',\n",
       " 'webapp/solarApp/models/sat-to-sensor-model/sat-to-sensor-model.pkl_489.npy',\n",
       " 'webapp/solarApp/models/sat-to-sensor-model/sat-to-sensor-model.pkl_490.npy',\n",
       " 'webapp/solarApp/models/sat-to-sensor-model/sat-to-sensor-model.pkl_491.npy',\n",
       " 'webapp/solarApp/models/sat-to-sensor-model/sat-to-sensor-model.pkl_492.npy',\n",
       " 'webapp/solarApp/models/sat-to-sensor-model/sat-to-sensor-model.pkl_493.npy',\n",
       " 'webapp/solarApp/models/sat-to-sensor-model/sat-to-sensor-model.pkl_494.npy',\n",
       " 'webapp/solarApp/models/sat-to-sensor-model/sat-to-sensor-model.pkl_495.npy',\n",
       " 'webapp/solarApp/models/sat-to-sensor-model/sat-to-sensor-model.pkl_496.npy',\n",
       " 'webapp/solarApp/models/sat-to-sensor-model/sat-to-sensor-model.pkl_497.npy',\n",
       " 'webapp/solarApp/models/sat-to-sensor-model/sat-to-sensor-model.pkl_498.npy',\n",
       " 'webapp/solarApp/models/sat-to-sensor-model/sat-to-sensor-model.pkl_499.npy',\n",
       " 'webapp/solarApp/models/sat-to-sensor-model/sat-to-sensor-model.pkl_500.npy',\n",
       " 'webapp/solarApp/models/sat-to-sensor-model/sat-to-sensor-model.pkl_501.npy',\n",
       " 'webapp/solarApp/models/sat-to-sensor-model/sat-to-sensor-model.pkl_502.npy',\n",
       " 'webapp/solarApp/models/sat-to-sensor-model/sat-to-sensor-model.pkl_503.npy',\n",
       " 'webapp/solarApp/models/sat-to-sensor-model/sat-to-sensor-model.pkl_504.npy',\n",
       " 'webapp/solarApp/models/sat-to-sensor-model/sat-to-sensor-model.pkl_505.npy',\n",
       " 'webapp/solarApp/models/sat-to-sensor-model/sat-to-sensor-model.pkl_506.npy',\n",
       " 'webapp/solarApp/models/sat-to-sensor-model/sat-to-sensor-model.pkl_507.npy',\n",
       " 'webapp/solarApp/models/sat-to-sensor-model/sat-to-sensor-model.pkl_508.npy',\n",
       " 'webapp/solarApp/models/sat-to-sensor-model/sat-to-sensor-model.pkl_509.npy',\n",
       " 'webapp/solarApp/models/sat-to-sensor-model/sat-to-sensor-model.pkl_510.npy',\n",
       " 'webapp/solarApp/models/sat-to-sensor-model/sat-to-sensor-model.pkl_511.npy',\n",
       " 'webapp/solarApp/models/sat-to-sensor-model/sat-to-sensor-model.pkl_512.npy',\n",
       " 'webapp/solarApp/models/sat-to-sensor-model/sat-to-sensor-model.pkl_513.npy',\n",
       " 'webapp/solarApp/models/sat-to-sensor-model/sat-to-sensor-model.pkl_514.npy',\n",
       " 'webapp/solarApp/models/sat-to-sensor-model/sat-to-sensor-model.pkl_515.npy',\n",
       " 'webapp/solarApp/models/sat-to-sensor-model/sat-to-sensor-model.pkl_516.npy',\n",
       " 'webapp/solarApp/models/sat-to-sensor-model/sat-to-sensor-model.pkl_517.npy',\n",
       " 'webapp/solarApp/models/sat-to-sensor-model/sat-to-sensor-model.pkl_518.npy',\n",
       " 'webapp/solarApp/models/sat-to-sensor-model/sat-to-sensor-model.pkl_519.npy',\n",
       " 'webapp/solarApp/models/sat-to-sensor-model/sat-to-sensor-model.pkl_520.npy',\n",
       " 'webapp/solarApp/models/sat-to-sensor-model/sat-to-sensor-model.pkl_521.npy',\n",
       " 'webapp/solarApp/models/sat-to-sensor-model/sat-to-sensor-model.pkl_522.npy',\n",
       " 'webapp/solarApp/models/sat-to-sensor-model/sat-to-sensor-model.pkl_523.npy',\n",
       " 'webapp/solarApp/models/sat-to-sensor-model/sat-to-sensor-model.pkl_524.npy',\n",
       " 'webapp/solarApp/models/sat-to-sensor-model/sat-to-sensor-model.pkl_525.npy',\n",
       " 'webapp/solarApp/models/sat-to-sensor-model/sat-to-sensor-model.pkl_526.npy',\n",
       " 'webapp/solarApp/models/sat-to-sensor-model/sat-to-sensor-model.pkl_527.npy',\n",
       " 'webapp/solarApp/models/sat-to-sensor-model/sat-to-sensor-model.pkl_528.npy',\n",
       " 'webapp/solarApp/models/sat-to-sensor-model/sat-to-sensor-model.pkl_529.npy',\n",
       " 'webapp/solarApp/models/sat-to-sensor-model/sat-to-sensor-model.pkl_530.npy',\n",
       " 'webapp/solarApp/models/sat-to-sensor-model/sat-to-sensor-model.pkl_531.npy',\n",
       " 'webapp/solarApp/models/sat-to-sensor-model/sat-to-sensor-model.pkl_532.npy',\n",
       " 'webapp/solarApp/models/sat-to-sensor-model/sat-to-sensor-model.pkl_533.npy',\n",
       " 'webapp/solarApp/models/sat-to-sensor-model/sat-to-sensor-model.pkl_534.npy',\n",
       " 'webapp/solarApp/models/sat-to-sensor-model/sat-to-sensor-model.pkl_535.npy',\n",
       " 'webapp/solarApp/models/sat-to-sensor-model/sat-to-sensor-model.pkl_536.npy',\n",
       " 'webapp/solarApp/models/sat-to-sensor-model/sat-to-sensor-model.pkl_537.npy',\n",
       " 'webapp/solarApp/models/sat-to-sensor-model/sat-to-sensor-model.pkl_538.npy',\n",
       " 'webapp/solarApp/models/sat-to-sensor-model/sat-to-sensor-model.pkl_539.npy',\n",
       " 'webapp/solarApp/models/sat-to-sensor-model/sat-to-sensor-model.pkl_540.npy',\n",
       " 'webapp/solarApp/models/sat-to-sensor-model/sat-to-sensor-model.pkl_541.npy',\n",
       " 'webapp/solarApp/models/sat-to-sensor-model/sat-to-sensor-model.pkl_542.npy',\n",
       " 'webapp/solarApp/models/sat-to-sensor-model/sat-to-sensor-model.pkl_543.npy',\n",
       " 'webapp/solarApp/models/sat-to-sensor-model/sat-to-sensor-model.pkl_544.npy',\n",
       " 'webapp/solarApp/models/sat-to-sensor-model/sat-to-sensor-model.pkl_545.npy',\n",
       " 'webapp/solarApp/models/sat-to-sensor-model/sat-to-sensor-model.pkl_546.npy',\n",
       " 'webapp/solarApp/models/sat-to-sensor-model/sat-to-sensor-model.pkl_547.npy',\n",
       " 'webapp/solarApp/models/sat-to-sensor-model/sat-to-sensor-model.pkl_548.npy',\n",
       " 'webapp/solarApp/models/sat-to-sensor-model/sat-to-sensor-model.pkl_549.npy',\n",
       " 'webapp/solarApp/models/sat-to-sensor-model/sat-to-sensor-model.pkl_550.npy',\n",
       " 'webapp/solarApp/models/sat-to-sensor-model/sat-to-sensor-model.pkl_551.npy',\n",
       " 'webapp/solarApp/models/sat-to-sensor-model/sat-to-sensor-model.pkl_552.npy',\n",
       " 'webapp/solarApp/models/sat-to-sensor-model/sat-to-sensor-model.pkl_553.npy',\n",
       " 'webapp/solarApp/models/sat-to-sensor-model/sat-to-sensor-model.pkl_554.npy',\n",
       " 'webapp/solarApp/models/sat-to-sensor-model/sat-to-sensor-model.pkl_555.npy',\n",
       " 'webapp/solarApp/models/sat-to-sensor-model/sat-to-sensor-model.pkl_556.npy',\n",
       " 'webapp/solarApp/models/sat-to-sensor-model/sat-to-sensor-model.pkl_557.npy',\n",
       " 'webapp/solarApp/models/sat-to-sensor-model/sat-to-sensor-model.pkl_558.npy',\n",
       " 'webapp/solarApp/models/sat-to-sensor-model/sat-to-sensor-model.pkl_559.npy',\n",
       " 'webapp/solarApp/models/sat-to-sensor-model/sat-to-sensor-model.pkl_560.npy',\n",
       " 'webapp/solarApp/models/sat-to-sensor-model/sat-to-sensor-model.pkl_561.npy',\n",
       " 'webapp/solarApp/models/sat-to-sensor-model/sat-to-sensor-model.pkl_562.npy',\n",
       " 'webapp/solarApp/models/sat-to-sensor-model/sat-to-sensor-model.pkl_563.npy',\n",
       " 'webapp/solarApp/models/sat-to-sensor-model/sat-to-sensor-model.pkl_564.npy',\n",
       " 'webapp/solarApp/models/sat-to-sensor-model/sat-to-sensor-model.pkl_565.npy',\n",
       " 'webapp/solarApp/models/sat-to-sensor-model/sat-to-sensor-model.pkl_566.npy',\n",
       " 'webapp/solarApp/models/sat-to-sensor-model/sat-to-sensor-model.pkl_567.npy',\n",
       " 'webapp/solarApp/models/sat-to-sensor-model/sat-to-sensor-model.pkl_568.npy',\n",
       " 'webapp/solarApp/models/sat-to-sensor-model/sat-to-sensor-model.pkl_569.npy',\n",
       " 'webapp/solarApp/models/sat-to-sensor-model/sat-to-sensor-model.pkl_570.npy',\n",
       " 'webapp/solarApp/models/sat-to-sensor-model/sat-to-sensor-model.pkl_571.npy',\n",
       " 'webapp/solarApp/models/sat-to-sensor-model/sat-to-sensor-model.pkl_572.npy',\n",
       " 'webapp/solarApp/models/sat-to-sensor-model/sat-to-sensor-model.pkl_573.npy',\n",
       " 'webapp/solarApp/models/sat-to-sensor-model/sat-to-sensor-model.pkl_574.npy',\n",
       " 'webapp/solarApp/models/sat-to-sensor-model/sat-to-sensor-model.pkl_575.npy',\n",
       " 'webapp/solarApp/models/sat-to-sensor-model/sat-to-sensor-model.pkl_576.npy',\n",
       " 'webapp/solarApp/models/sat-to-sensor-model/sat-to-sensor-model.pkl_577.npy',\n",
       " 'webapp/solarApp/models/sat-to-sensor-model/sat-to-sensor-model.pkl_578.npy',\n",
       " 'webapp/solarApp/models/sat-to-sensor-model/sat-to-sensor-model.pkl_579.npy',\n",
       " 'webapp/solarApp/models/sat-to-sensor-model/sat-to-sensor-model.pkl_580.npy',\n",
       " 'webapp/solarApp/models/sat-to-sensor-model/sat-to-sensor-model.pkl_581.npy',\n",
       " 'webapp/solarApp/models/sat-to-sensor-model/sat-to-sensor-model.pkl_582.npy',\n",
       " 'webapp/solarApp/models/sat-to-sensor-model/sat-to-sensor-model.pkl_583.npy',\n",
       " 'webapp/solarApp/models/sat-to-sensor-model/sat-to-sensor-model.pkl_584.npy',\n",
       " 'webapp/solarApp/models/sat-to-sensor-model/sat-to-sensor-model.pkl_585.npy',\n",
       " 'webapp/solarApp/models/sat-to-sensor-model/sat-to-sensor-model.pkl_586.npy',\n",
       " 'webapp/solarApp/models/sat-to-sensor-model/sat-to-sensor-model.pkl_587.npy',\n",
       " 'webapp/solarApp/models/sat-to-sensor-model/sat-to-sensor-model.pkl_588.npy',\n",
       " 'webapp/solarApp/models/sat-to-sensor-model/sat-to-sensor-model.pkl_589.npy',\n",
       " 'webapp/solarApp/models/sat-to-sensor-model/sat-to-sensor-model.pkl_590.npy',\n",
       " 'webapp/solarApp/models/sat-to-sensor-model/sat-to-sensor-model.pkl_591.npy',\n",
       " 'webapp/solarApp/models/sat-to-sensor-model/sat-to-sensor-model.pkl_592.npy',\n",
       " 'webapp/solarApp/models/sat-to-sensor-model/sat-to-sensor-model.pkl_593.npy',\n",
       " 'webapp/solarApp/models/sat-to-sensor-model/sat-to-sensor-model.pkl_594.npy',\n",
       " 'webapp/solarApp/models/sat-to-sensor-model/sat-to-sensor-model.pkl_595.npy',\n",
       " 'webapp/solarApp/models/sat-to-sensor-model/sat-to-sensor-model.pkl_596.npy',\n",
       " 'webapp/solarApp/models/sat-to-sensor-model/sat-to-sensor-model.pkl_597.npy',\n",
       " 'webapp/solarApp/models/sat-to-sensor-model/sat-to-sensor-model.pkl_598.npy',\n",
       " 'webapp/solarApp/models/sat-to-sensor-model/sat-to-sensor-model.pkl_599.npy',\n",
       " 'webapp/solarApp/models/sat-to-sensor-model/sat-to-sensor-model.pkl_600.npy',\n",
       " 'webapp/solarApp/models/sat-to-sensor-model/sat-to-sensor-model.pkl_601.npy',\n",
       " 'webapp/solarApp/models/sat-to-sensor-model/sat-to-sensor-model.pkl_602.npy',\n",
       " 'webapp/solarApp/models/sat-to-sensor-model/sat-to-sensor-model.pkl_603.npy',\n",
       " 'webapp/solarApp/models/sat-to-sensor-model/sat-to-sensor-model.pkl_604.npy',\n",
       " 'webapp/solarApp/models/sat-to-sensor-model/sat-to-sensor-model.pkl_605.npy',\n",
       " 'webapp/solarApp/models/sat-to-sensor-model/sat-to-sensor-model.pkl_606.npy',\n",
       " 'webapp/solarApp/models/sat-to-sensor-model/sat-to-sensor-model.pkl_607.npy',\n",
       " 'webapp/solarApp/models/sat-to-sensor-model/sat-to-sensor-model.pkl_608.npy',\n",
       " 'webapp/solarApp/models/sat-to-sensor-model/sat-to-sensor-model.pkl_609.npy',\n",
       " 'webapp/solarApp/models/sat-to-sensor-model/sat-to-sensor-model.pkl_610.npy',\n",
       " 'webapp/solarApp/models/sat-to-sensor-model/sat-to-sensor-model.pkl_611.npy',\n",
       " 'webapp/solarApp/models/sat-to-sensor-model/sat-to-sensor-model.pkl_612.npy',\n",
       " 'webapp/solarApp/models/sat-to-sensor-model/sat-to-sensor-model.pkl_613.npy',\n",
       " 'webapp/solarApp/models/sat-to-sensor-model/sat-to-sensor-model.pkl_614.npy',\n",
       " 'webapp/solarApp/models/sat-to-sensor-model/sat-to-sensor-model.pkl_615.npy',\n",
       " 'webapp/solarApp/models/sat-to-sensor-model/sat-to-sensor-model.pkl_616.npy',\n",
       " 'webapp/solarApp/models/sat-to-sensor-model/sat-to-sensor-model.pkl_617.npy',\n",
       " 'webapp/solarApp/models/sat-to-sensor-model/sat-to-sensor-model.pkl_618.npy',\n",
       " 'webapp/solarApp/models/sat-to-sensor-model/sat-to-sensor-model.pkl_619.npy',\n",
       " 'webapp/solarApp/models/sat-to-sensor-model/sat-to-sensor-model.pkl_620.npy',\n",
       " 'webapp/solarApp/models/sat-to-sensor-model/sat-to-sensor-model.pkl_621.npy',\n",
       " 'webapp/solarApp/models/sat-to-sensor-model/sat-to-sensor-model.pkl_622.npy',\n",
       " 'webapp/solarApp/models/sat-to-sensor-model/sat-to-sensor-model.pkl_623.npy',\n",
       " 'webapp/solarApp/models/sat-to-sensor-model/sat-to-sensor-model.pkl_624.npy',\n",
       " 'webapp/solarApp/models/sat-to-sensor-model/sat-to-sensor-model.pkl_625.npy',\n",
       " 'webapp/solarApp/models/sat-to-sensor-model/sat-to-sensor-model.pkl_626.npy',\n",
       " 'webapp/solarApp/models/sat-to-sensor-model/sat-to-sensor-model.pkl_627.npy',\n",
       " 'webapp/solarApp/models/sat-to-sensor-model/sat-to-sensor-model.pkl_628.npy',\n",
       " 'webapp/solarApp/models/sat-to-sensor-model/sat-to-sensor-model.pkl_629.npy',\n",
       " 'webapp/solarApp/models/sat-to-sensor-model/sat-to-sensor-model.pkl_630.npy',\n",
       " 'webapp/solarApp/models/sat-to-sensor-model/sat-to-sensor-model.pkl_631.npy',\n",
       " 'webapp/solarApp/models/sat-to-sensor-model/sat-to-sensor-model.pkl_632.npy',\n",
       " 'webapp/solarApp/models/sat-to-sensor-model/sat-to-sensor-model.pkl_633.npy',\n",
       " 'webapp/solarApp/models/sat-to-sensor-model/sat-to-sensor-model.pkl_634.npy',\n",
       " 'webapp/solarApp/models/sat-to-sensor-model/sat-to-sensor-model.pkl_635.npy',\n",
       " 'webapp/solarApp/models/sat-to-sensor-model/sat-to-sensor-model.pkl_636.npy',\n",
       " 'webapp/solarApp/models/sat-to-sensor-model/sat-to-sensor-model.pkl_637.npy',\n",
       " 'webapp/solarApp/models/sat-to-sensor-model/sat-to-sensor-model.pkl_638.npy',\n",
       " 'webapp/solarApp/models/sat-to-sensor-model/sat-to-sensor-model.pkl_639.npy',\n",
       " 'webapp/solarApp/models/sat-to-sensor-model/sat-to-sensor-model.pkl_640.npy',\n",
       " 'webapp/solarApp/models/sat-to-sensor-model/sat-to-sensor-model.pkl_641.npy',\n",
       " 'webapp/solarApp/models/sat-to-sensor-model/sat-to-sensor-model.pkl_642.npy',\n",
       " 'webapp/solarApp/models/sat-to-sensor-model/sat-to-sensor-model.pkl_643.npy',\n",
       " 'webapp/solarApp/models/sat-to-sensor-model/sat-to-sensor-model.pkl_644.npy',\n",
       " 'webapp/solarApp/models/sat-to-sensor-model/sat-to-sensor-model.pkl_645.npy',\n",
       " 'webapp/solarApp/models/sat-to-sensor-model/sat-to-sensor-model.pkl_646.npy',\n",
       " 'webapp/solarApp/models/sat-to-sensor-model/sat-to-sensor-model.pkl_647.npy',\n",
       " 'webapp/solarApp/models/sat-to-sensor-model/sat-to-sensor-model.pkl_648.npy',\n",
       " 'webapp/solarApp/models/sat-to-sensor-model/sat-to-sensor-model.pkl_649.npy',\n",
       " 'webapp/solarApp/models/sat-to-sensor-model/sat-to-sensor-model.pkl_650.npy',\n",
       " 'webapp/solarApp/models/sat-to-sensor-model/sat-to-sensor-model.pkl_651.npy',\n",
       " 'webapp/solarApp/models/sat-to-sensor-model/sat-to-sensor-model.pkl_652.npy',\n",
       " 'webapp/solarApp/models/sat-to-sensor-model/sat-to-sensor-model.pkl_653.npy',\n",
       " 'webapp/solarApp/models/sat-to-sensor-model/sat-to-sensor-model.pkl_654.npy',\n",
       " 'webapp/solarApp/models/sat-to-sensor-model/sat-to-sensor-model.pkl_655.npy',\n",
       " 'webapp/solarApp/models/sat-to-sensor-model/sat-to-sensor-model.pkl_656.npy',\n",
       " 'webapp/solarApp/models/sat-to-sensor-model/sat-to-sensor-model.pkl_657.npy',\n",
       " 'webapp/solarApp/models/sat-to-sensor-model/sat-to-sensor-model.pkl_658.npy',\n",
       " 'webapp/solarApp/models/sat-to-sensor-model/sat-to-sensor-model.pkl_659.npy',\n",
       " 'webapp/solarApp/models/sat-to-sensor-model/sat-to-sensor-model.pkl_660.npy',\n",
       " 'webapp/solarApp/models/sat-to-sensor-model/sat-to-sensor-model.pkl_661.npy',\n",
       " 'webapp/solarApp/models/sat-to-sensor-model/sat-to-sensor-model.pkl_662.npy',\n",
       " 'webapp/solarApp/models/sat-to-sensor-model/sat-to-sensor-model.pkl_663.npy',\n",
       " 'webapp/solarApp/models/sat-to-sensor-model/sat-to-sensor-model.pkl_664.npy',\n",
       " 'webapp/solarApp/models/sat-to-sensor-model/sat-to-sensor-model.pkl_665.npy',\n",
       " 'webapp/solarApp/models/sat-to-sensor-model/sat-to-sensor-model.pkl_666.npy',\n",
       " 'webapp/solarApp/models/sat-to-sensor-model/sat-to-sensor-model.pkl_667.npy',\n",
       " 'webapp/solarApp/models/sat-to-sensor-model/sat-to-sensor-model.pkl_668.npy',\n",
       " 'webapp/solarApp/models/sat-to-sensor-model/sat-to-sensor-model.pkl_669.npy',\n",
       " 'webapp/solarApp/models/sat-to-sensor-model/sat-to-sensor-model.pkl_670.npy',\n",
       " 'webapp/solarApp/models/sat-to-sensor-model/sat-to-sensor-model.pkl_671.npy',\n",
       " 'webapp/solarApp/models/sat-to-sensor-model/sat-to-sensor-model.pkl_672.npy',\n",
       " 'webapp/solarApp/models/sat-to-sensor-model/sat-to-sensor-model.pkl_673.npy',\n",
       " 'webapp/solarApp/models/sat-to-sensor-model/sat-to-sensor-model.pkl_674.npy',\n",
       " 'webapp/solarApp/models/sat-to-sensor-model/sat-to-sensor-model.pkl_675.npy',\n",
       " 'webapp/solarApp/models/sat-to-sensor-model/sat-to-sensor-model.pkl_676.npy',\n",
       " 'webapp/solarApp/models/sat-to-sensor-model/sat-to-sensor-model.pkl_677.npy',\n",
       " 'webapp/solarApp/models/sat-to-sensor-model/sat-to-sensor-model.pkl_678.npy',\n",
       " 'webapp/solarApp/models/sat-to-sensor-model/sat-to-sensor-model.pkl_679.npy',\n",
       " 'webapp/solarApp/models/sat-to-sensor-model/sat-to-sensor-model.pkl_680.npy',\n",
       " 'webapp/solarApp/models/sat-to-sensor-model/sat-to-sensor-model.pkl_681.npy',\n",
       " 'webapp/solarApp/models/sat-to-sensor-model/sat-to-sensor-model.pkl_682.npy',\n",
       " 'webapp/solarApp/models/sat-to-sensor-model/sat-to-sensor-model.pkl_683.npy',\n",
       " 'webapp/solarApp/models/sat-to-sensor-model/sat-to-sensor-model.pkl_684.npy',\n",
       " 'webapp/solarApp/models/sat-to-sensor-model/sat-to-sensor-model.pkl_685.npy',\n",
       " 'webapp/solarApp/models/sat-to-sensor-model/sat-to-sensor-model.pkl_686.npy',\n",
       " 'webapp/solarApp/models/sat-to-sensor-model/sat-to-sensor-model.pkl_687.npy',\n",
       " 'webapp/solarApp/models/sat-to-sensor-model/sat-to-sensor-model.pkl_688.npy',\n",
       " 'webapp/solarApp/models/sat-to-sensor-model/sat-to-sensor-model.pkl_689.npy',\n",
       " 'webapp/solarApp/models/sat-to-sensor-model/sat-to-sensor-model.pkl_690.npy',\n",
       " 'webapp/solarApp/models/sat-to-sensor-model/sat-to-sensor-model.pkl_691.npy',\n",
       " 'webapp/solarApp/models/sat-to-sensor-model/sat-to-sensor-model.pkl_692.npy',\n",
       " 'webapp/solarApp/models/sat-to-sensor-model/sat-to-sensor-model.pkl_693.npy',\n",
       " 'webapp/solarApp/models/sat-to-sensor-model/sat-to-sensor-model.pkl_694.npy',\n",
       " 'webapp/solarApp/models/sat-to-sensor-model/sat-to-sensor-model.pkl_695.npy',\n",
       " 'webapp/solarApp/models/sat-to-sensor-model/sat-to-sensor-model.pkl_696.npy',\n",
       " 'webapp/solarApp/models/sat-to-sensor-model/sat-to-sensor-model.pkl_697.npy',\n",
       " 'webapp/solarApp/models/sat-to-sensor-model/sat-to-sensor-model.pkl_698.npy',\n",
       " 'webapp/solarApp/models/sat-to-sensor-model/sat-to-sensor-model.pkl_699.npy',\n",
       " 'webapp/solarApp/models/sat-to-sensor-model/sat-to-sensor-model.pkl_700.npy',\n",
       " 'webapp/solarApp/models/sat-to-sensor-model/sat-to-sensor-model.pkl_701.npy',\n",
       " 'webapp/solarApp/models/sat-to-sensor-model/sat-to-sensor-model.pkl_702.npy',\n",
       " 'webapp/solarApp/models/sat-to-sensor-model/sat-to-sensor-model.pkl_703.npy',\n",
       " 'webapp/solarApp/models/sat-to-sensor-model/sat-to-sensor-model.pkl_704.npy',\n",
       " 'webapp/solarApp/models/sat-to-sensor-model/sat-to-sensor-model.pkl_705.npy',\n",
       " 'webapp/solarApp/models/sat-to-sensor-model/sat-to-sensor-model.pkl_706.npy',\n",
       " 'webapp/solarApp/models/sat-to-sensor-model/sat-to-sensor-model.pkl_707.npy',\n",
       " 'webapp/solarApp/models/sat-to-sensor-model/sat-to-sensor-model.pkl_708.npy',\n",
       " 'webapp/solarApp/models/sat-to-sensor-model/sat-to-sensor-model.pkl_709.npy',\n",
       " 'webapp/solarApp/models/sat-to-sensor-model/sat-to-sensor-model.pkl_710.npy',\n",
       " 'webapp/solarApp/models/sat-to-sensor-model/sat-to-sensor-model.pkl_711.npy',\n",
       " 'webapp/solarApp/models/sat-to-sensor-model/sat-to-sensor-model.pkl_712.npy',\n",
       " 'webapp/solarApp/models/sat-to-sensor-model/sat-to-sensor-model.pkl_713.npy',\n",
       " 'webapp/solarApp/models/sat-to-sensor-model/sat-to-sensor-model.pkl_714.npy',\n",
       " 'webapp/solarApp/models/sat-to-sensor-model/sat-to-sensor-model.pkl_715.npy',\n",
       " 'webapp/solarApp/models/sat-to-sensor-model/sat-to-sensor-model.pkl_716.npy',\n",
       " 'webapp/solarApp/models/sat-to-sensor-model/sat-to-sensor-model.pkl_717.npy',\n",
       " 'webapp/solarApp/models/sat-to-sensor-model/sat-to-sensor-model.pkl_718.npy',\n",
       " 'webapp/solarApp/models/sat-to-sensor-model/sat-to-sensor-model.pkl_719.npy',\n",
       " 'webapp/solarApp/models/sat-to-sensor-model/sat-to-sensor-model.pkl_720.npy',\n",
       " 'webapp/solarApp/models/sat-to-sensor-model/sat-to-sensor-model.pkl_721.npy',\n",
       " 'webapp/solarApp/models/sat-to-sensor-model/sat-to-sensor-model.pkl_722.npy',\n",
       " 'webapp/solarApp/models/sat-to-sensor-model/sat-to-sensor-model.pkl_723.npy',\n",
       " 'webapp/solarApp/models/sat-to-sensor-model/sat-to-sensor-model.pkl_724.npy',\n",
       " 'webapp/solarApp/models/sat-to-sensor-model/sat-to-sensor-model.pkl_725.npy',\n",
       " 'webapp/solarApp/models/sat-to-sensor-model/sat-to-sensor-model.pkl_726.npy',\n",
       " 'webapp/solarApp/models/sat-to-sensor-model/sat-to-sensor-model.pkl_727.npy',\n",
       " 'webapp/solarApp/models/sat-to-sensor-model/sat-to-sensor-model.pkl_728.npy',\n",
       " 'webapp/solarApp/models/sat-to-sensor-model/sat-to-sensor-model.pkl_729.npy',\n",
       " 'webapp/solarApp/models/sat-to-sensor-model/sat-to-sensor-model.pkl_730.npy',\n",
       " 'webapp/solarApp/models/sat-to-sensor-model/sat-to-sensor-model.pkl_731.npy',\n",
       " 'webapp/solarApp/models/sat-to-sensor-model/sat-to-sensor-model.pkl_732.npy',\n",
       " 'webapp/solarApp/models/sat-to-sensor-model/sat-to-sensor-model.pkl_733.npy',\n",
       " 'webapp/solarApp/models/sat-to-sensor-model/sat-to-sensor-model.pkl_734.npy',\n",
       " 'webapp/solarApp/models/sat-to-sensor-model/sat-to-sensor-model.pkl_735.npy',\n",
       " 'webapp/solarApp/models/sat-to-sensor-model/sat-to-sensor-model.pkl_736.npy',\n",
       " 'webapp/solarApp/models/sat-to-sensor-model/sat-to-sensor-model.pkl_737.npy',\n",
       " 'webapp/solarApp/models/sat-to-sensor-model/sat-to-sensor-model.pkl_738.npy',\n",
       " 'webapp/solarApp/models/sat-to-sensor-model/sat-to-sensor-model.pkl_739.npy',\n",
       " 'webapp/solarApp/models/sat-to-sensor-model/sat-to-sensor-model.pkl_740.npy',\n",
       " 'webapp/solarApp/models/sat-to-sensor-model/sat-to-sensor-model.pkl_741.npy',\n",
       " 'webapp/solarApp/models/sat-to-sensor-model/sat-to-sensor-model.pkl_742.npy',\n",
       " 'webapp/solarApp/models/sat-to-sensor-model/sat-to-sensor-model.pkl_743.npy',\n",
       " 'webapp/solarApp/models/sat-to-sensor-model/sat-to-sensor-model.pkl_744.npy',\n",
       " 'webapp/solarApp/models/sat-to-sensor-model/sat-to-sensor-model.pkl_745.npy',\n",
       " 'webapp/solarApp/models/sat-to-sensor-model/sat-to-sensor-model.pkl_746.npy',\n",
       " 'webapp/solarApp/models/sat-to-sensor-model/sat-to-sensor-model.pkl_747.npy',\n",
       " 'webapp/solarApp/models/sat-to-sensor-model/sat-to-sensor-model.pkl_748.npy',\n",
       " 'webapp/solarApp/models/sat-to-sensor-model/sat-to-sensor-model.pkl_749.npy',\n",
       " 'webapp/solarApp/models/sat-to-sensor-model/sat-to-sensor-model.pkl_750.npy',\n",
       " 'webapp/solarApp/models/sat-to-sensor-model/sat-to-sensor-model.pkl_751.npy',\n",
       " 'webapp/solarApp/models/sat-to-sensor-model/sat-to-sensor-model.pkl_752.npy',\n",
       " 'webapp/solarApp/models/sat-to-sensor-model/sat-to-sensor-model.pkl_753.npy',\n",
       " 'webapp/solarApp/models/sat-to-sensor-model/sat-to-sensor-model.pkl_754.npy',\n",
       " 'webapp/solarApp/models/sat-to-sensor-model/sat-to-sensor-model.pkl_755.npy',\n",
       " 'webapp/solarApp/models/sat-to-sensor-model/sat-to-sensor-model.pkl_756.npy',\n",
       " 'webapp/solarApp/models/sat-to-sensor-model/sat-to-sensor-model.pkl_757.npy',\n",
       " 'webapp/solarApp/models/sat-to-sensor-model/sat-to-sensor-model.pkl_758.npy',\n",
       " 'webapp/solarApp/models/sat-to-sensor-model/sat-to-sensor-model.pkl_759.npy',\n",
       " 'webapp/solarApp/models/sat-to-sensor-model/sat-to-sensor-model.pkl_760.npy',\n",
       " 'webapp/solarApp/models/sat-to-sensor-model/sat-to-sensor-model.pkl_761.npy',\n",
       " 'webapp/solarApp/models/sat-to-sensor-model/sat-to-sensor-model.pkl_762.npy',\n",
       " 'webapp/solarApp/models/sat-to-sensor-model/sat-to-sensor-model.pkl_763.npy',\n",
       " 'webapp/solarApp/models/sat-to-sensor-model/sat-to-sensor-model.pkl_764.npy',\n",
       " 'webapp/solarApp/models/sat-to-sensor-model/sat-to-sensor-model.pkl_765.npy',\n",
       " 'webapp/solarApp/models/sat-to-sensor-model/sat-to-sensor-model.pkl_766.npy',\n",
       " 'webapp/solarApp/models/sat-to-sensor-model/sat-to-sensor-model.pkl_767.npy',\n",
       " 'webapp/solarApp/models/sat-to-sensor-model/sat-to-sensor-model.pkl_768.npy',\n",
       " 'webapp/solarApp/models/sat-to-sensor-model/sat-to-sensor-model.pkl_769.npy',\n",
       " 'webapp/solarApp/models/sat-to-sensor-model/sat-to-sensor-model.pkl_770.npy',\n",
       " 'webapp/solarApp/models/sat-to-sensor-model/sat-to-sensor-model.pkl_771.npy',\n",
       " 'webapp/solarApp/models/sat-to-sensor-model/sat-to-sensor-model.pkl_772.npy',\n",
       " 'webapp/solarApp/models/sat-to-sensor-model/sat-to-sensor-model.pkl_773.npy',\n",
       " 'webapp/solarApp/models/sat-to-sensor-model/sat-to-sensor-model.pkl_774.npy',\n",
       " 'webapp/solarApp/models/sat-to-sensor-model/sat-to-sensor-model.pkl_775.npy',\n",
       " 'webapp/solarApp/models/sat-to-sensor-model/sat-to-sensor-model.pkl_776.npy',\n",
       " 'webapp/solarApp/models/sat-to-sensor-model/sat-to-sensor-model.pkl_777.npy',\n",
       " 'webapp/solarApp/models/sat-to-sensor-model/sat-to-sensor-model.pkl_778.npy',\n",
       " 'webapp/solarApp/models/sat-to-sensor-model/sat-to-sensor-model.pkl_779.npy',\n",
       " 'webapp/solarApp/models/sat-to-sensor-model/sat-to-sensor-model.pkl_780.npy',\n",
       " 'webapp/solarApp/models/sat-to-sensor-model/sat-to-sensor-model.pkl_781.npy',\n",
       " 'webapp/solarApp/models/sat-to-sensor-model/sat-to-sensor-model.pkl_782.npy',\n",
       " 'webapp/solarApp/models/sat-to-sensor-model/sat-to-sensor-model.pkl_783.npy',\n",
       " 'webapp/solarApp/models/sat-to-sensor-model/sat-to-sensor-model.pkl_784.npy',\n",
       " 'webapp/solarApp/models/sat-to-sensor-model/sat-to-sensor-model.pkl_785.npy',\n",
       " 'webapp/solarApp/models/sat-to-sensor-model/sat-to-sensor-model.pkl_786.npy',\n",
       " 'webapp/solarApp/models/sat-to-sensor-model/sat-to-sensor-model.pkl_787.npy',\n",
       " 'webapp/solarApp/models/sat-to-sensor-model/sat-to-sensor-model.pkl_788.npy',\n",
       " 'webapp/solarApp/models/sat-to-sensor-model/sat-to-sensor-model.pkl_789.npy',\n",
       " 'webapp/solarApp/models/sat-to-sensor-model/sat-to-sensor-model.pkl_790.npy',\n",
       " 'webapp/solarApp/models/sat-to-sensor-model/sat-to-sensor-model.pkl_791.npy',\n",
       " 'webapp/solarApp/models/sat-to-sensor-model/sat-to-sensor-model.pkl_792.npy',\n",
       " 'webapp/solarApp/models/sat-to-sensor-model/sat-to-sensor-model.pkl_793.npy',\n",
       " 'webapp/solarApp/models/sat-to-sensor-model/sat-to-sensor-model.pkl_794.npy',\n",
       " 'webapp/solarApp/models/sat-to-sensor-model/sat-to-sensor-model.pkl_795.npy',\n",
       " 'webapp/solarApp/models/sat-to-sensor-model/sat-to-sensor-model.pkl_796.npy',\n",
       " 'webapp/solarApp/models/sat-to-sensor-model/sat-to-sensor-model.pkl_797.npy',\n",
       " 'webapp/solarApp/models/sat-to-sensor-model/sat-to-sensor-model.pkl_798.npy',\n",
       " 'webapp/solarApp/models/sat-to-sensor-model/sat-to-sensor-model.pkl_799.npy',\n",
       " 'webapp/solarApp/models/sat-to-sensor-model/sat-to-sensor-model.pkl_800.npy',\n",
       " 'webapp/solarApp/models/sat-to-sensor-model/sat-to-sensor-model.pkl_801.npy',\n",
       " 'webapp/solarApp/models/sat-to-sensor-model/sat-to-sensor-model.pkl_802.npy',\n",
       " 'webapp/solarApp/models/sat-to-sensor-model/sat-to-sensor-model.pkl_803.npy',\n",
       " 'webapp/solarApp/models/sat-to-sensor-model/sat-to-sensor-model.pkl_804.npy',\n",
       " 'webapp/solarApp/models/sat-to-sensor-model/sat-to-sensor-model.pkl_805.npy',\n",
       " 'webapp/solarApp/models/sat-to-sensor-model/sat-to-sensor-model.pkl_806.npy',\n",
       " 'webapp/solarApp/models/sat-to-sensor-model/sat-to-sensor-model.pkl_807.npy',\n",
       " 'webapp/solarApp/models/sat-to-sensor-model/sat-to-sensor-model.pkl_808.npy',\n",
       " 'webapp/solarApp/models/sat-to-sensor-model/sat-to-sensor-model.pkl_809.npy',\n",
       " 'webapp/solarApp/models/sat-to-sensor-model/sat-to-sensor-model.pkl_810.npy',\n",
       " 'webapp/solarApp/models/sat-to-sensor-model/sat-to-sensor-model.pkl_811.npy',\n",
       " 'webapp/solarApp/models/sat-to-sensor-model/sat-to-sensor-model.pkl_812.npy',\n",
       " 'webapp/solarApp/models/sat-to-sensor-model/sat-to-sensor-model.pkl_813.npy',\n",
       " 'webapp/solarApp/models/sat-to-sensor-model/sat-to-sensor-model.pkl_814.npy',\n",
       " 'webapp/solarApp/models/sat-to-sensor-model/sat-to-sensor-model.pkl_815.npy',\n",
       " 'webapp/solarApp/models/sat-to-sensor-model/sat-to-sensor-model.pkl_816.npy',\n",
       " 'webapp/solarApp/models/sat-to-sensor-model/sat-to-sensor-model.pkl_817.npy',\n",
       " 'webapp/solarApp/models/sat-to-sensor-model/sat-to-sensor-model.pkl_818.npy',\n",
       " 'webapp/solarApp/models/sat-to-sensor-model/sat-to-sensor-model.pkl_819.npy',\n",
       " 'webapp/solarApp/models/sat-to-sensor-model/sat-to-sensor-model.pkl_820.npy',\n",
       " 'webapp/solarApp/models/sat-to-sensor-model/sat-to-sensor-model.pkl_821.npy',\n",
       " 'webapp/solarApp/models/sat-to-sensor-model/sat-to-sensor-model.pkl_822.npy',\n",
       " 'webapp/solarApp/models/sat-to-sensor-model/sat-to-sensor-model.pkl_823.npy',\n",
       " 'webapp/solarApp/models/sat-to-sensor-model/sat-to-sensor-model.pkl_824.npy',\n",
       " 'webapp/solarApp/models/sat-to-sensor-model/sat-to-sensor-model.pkl_825.npy',\n",
       " 'webapp/solarApp/models/sat-to-sensor-model/sat-to-sensor-model.pkl_826.npy',\n",
       " 'webapp/solarApp/models/sat-to-sensor-model/sat-to-sensor-model.pkl_827.npy',\n",
       " 'webapp/solarApp/models/sat-to-sensor-model/sat-to-sensor-model.pkl_828.npy',\n",
       " 'webapp/solarApp/models/sat-to-sensor-model/sat-to-sensor-model.pkl_829.npy',\n",
       " 'webapp/solarApp/models/sat-to-sensor-model/sat-to-sensor-model.pkl_830.npy',\n",
       " 'webapp/solarApp/models/sat-to-sensor-model/sat-to-sensor-model.pkl_831.npy',\n",
       " 'webapp/solarApp/models/sat-to-sensor-model/sat-to-sensor-model.pkl_832.npy',\n",
       " 'webapp/solarApp/models/sat-to-sensor-model/sat-to-sensor-model.pkl_833.npy',\n",
       " 'webapp/solarApp/models/sat-to-sensor-model/sat-to-sensor-model.pkl_834.npy',\n",
       " 'webapp/solarApp/models/sat-to-sensor-model/sat-to-sensor-model.pkl_835.npy',\n",
       " 'webapp/solarApp/models/sat-to-sensor-model/sat-to-sensor-model.pkl_836.npy',\n",
       " 'webapp/solarApp/models/sat-to-sensor-model/sat-to-sensor-model.pkl_837.npy',\n",
       " 'webapp/solarApp/models/sat-to-sensor-model/sat-to-sensor-model.pkl_838.npy',\n",
       " 'webapp/solarApp/models/sat-to-sensor-model/sat-to-sensor-model.pkl_839.npy',\n",
       " 'webapp/solarApp/models/sat-to-sensor-model/sat-to-sensor-model.pkl_840.npy',\n",
       " 'webapp/solarApp/models/sat-to-sensor-model/sat-to-sensor-model.pkl_841.npy',\n",
       " 'webapp/solarApp/models/sat-to-sensor-model/sat-to-sensor-model.pkl_842.npy',\n",
       " 'webapp/solarApp/models/sat-to-sensor-model/sat-to-sensor-model.pkl_843.npy',\n",
       " 'webapp/solarApp/models/sat-to-sensor-model/sat-to-sensor-model.pkl_844.npy',\n",
       " 'webapp/solarApp/models/sat-to-sensor-model/sat-to-sensor-model.pkl_845.npy',\n",
       " 'webapp/solarApp/models/sat-to-sensor-model/sat-to-sensor-model.pkl_846.npy',\n",
       " 'webapp/solarApp/models/sat-to-sensor-model/sat-to-sensor-model.pkl_847.npy',\n",
       " 'webapp/solarApp/models/sat-to-sensor-model/sat-to-sensor-model.pkl_848.npy',\n",
       " 'webapp/solarApp/models/sat-to-sensor-model/sat-to-sensor-model.pkl_849.npy',\n",
       " 'webapp/solarApp/models/sat-to-sensor-model/sat-to-sensor-model.pkl_850.npy',\n",
       " 'webapp/solarApp/models/sat-to-sensor-model/sat-to-sensor-model.pkl_851.npy',\n",
       " 'webapp/solarApp/models/sat-to-sensor-model/sat-to-sensor-model.pkl_852.npy',\n",
       " 'webapp/solarApp/models/sat-to-sensor-model/sat-to-sensor-model.pkl_853.npy',\n",
       " 'webapp/solarApp/models/sat-to-sensor-model/sat-to-sensor-model.pkl_854.npy',\n",
       " 'webapp/solarApp/models/sat-to-sensor-model/sat-to-sensor-model.pkl_855.npy',\n",
       " 'webapp/solarApp/models/sat-to-sensor-model/sat-to-sensor-model.pkl_856.npy',\n",
       " 'webapp/solarApp/models/sat-to-sensor-model/sat-to-sensor-model.pkl_857.npy',\n",
       " 'webapp/solarApp/models/sat-to-sensor-model/sat-to-sensor-model.pkl_858.npy',\n",
       " 'webapp/solarApp/models/sat-to-sensor-model/sat-to-sensor-model.pkl_859.npy',\n",
       " 'webapp/solarApp/models/sat-to-sensor-model/sat-to-sensor-model.pkl_860.npy',\n",
       " 'webapp/solarApp/models/sat-to-sensor-model/sat-to-sensor-model.pkl_861.npy',\n",
       " 'webapp/solarApp/models/sat-to-sensor-model/sat-to-sensor-model.pkl_862.npy',\n",
       " 'webapp/solarApp/models/sat-to-sensor-model/sat-to-sensor-model.pkl_863.npy',\n",
       " 'webapp/solarApp/models/sat-to-sensor-model/sat-to-sensor-model.pkl_864.npy',\n",
       " 'webapp/solarApp/models/sat-to-sensor-model/sat-to-sensor-model.pkl_865.npy',\n",
       " 'webapp/solarApp/models/sat-to-sensor-model/sat-to-sensor-model.pkl_866.npy',\n",
       " 'webapp/solarApp/models/sat-to-sensor-model/sat-to-sensor-model.pkl_867.npy',\n",
       " 'webapp/solarApp/models/sat-to-sensor-model/sat-to-sensor-model.pkl_868.npy',\n",
       " 'webapp/solarApp/models/sat-to-sensor-model/sat-to-sensor-model.pkl_869.npy',\n",
       " 'webapp/solarApp/models/sat-to-sensor-model/sat-to-sensor-model.pkl_870.npy',\n",
       " 'webapp/solarApp/models/sat-to-sensor-model/sat-to-sensor-model.pkl_871.npy',\n",
       " 'webapp/solarApp/models/sat-to-sensor-model/sat-to-sensor-model.pkl_872.npy',\n",
       " 'webapp/solarApp/models/sat-to-sensor-model/sat-to-sensor-model.pkl_873.npy',\n",
       " 'webapp/solarApp/models/sat-to-sensor-model/sat-to-sensor-model.pkl_874.npy',\n",
       " 'webapp/solarApp/models/sat-to-sensor-model/sat-to-sensor-model.pkl_875.npy',\n",
       " 'webapp/solarApp/models/sat-to-sensor-model/sat-to-sensor-model.pkl_876.npy',\n",
       " 'webapp/solarApp/models/sat-to-sensor-model/sat-to-sensor-model.pkl_877.npy',\n",
       " 'webapp/solarApp/models/sat-to-sensor-model/sat-to-sensor-model.pkl_878.npy',\n",
       " 'webapp/solarApp/models/sat-to-sensor-model/sat-to-sensor-model.pkl_879.npy',\n",
       " 'webapp/solarApp/models/sat-to-sensor-model/sat-to-sensor-model.pkl_880.npy',\n",
       " 'webapp/solarApp/models/sat-to-sensor-model/sat-to-sensor-model.pkl_881.npy',\n",
       " 'webapp/solarApp/models/sat-to-sensor-model/sat-to-sensor-model.pkl_882.npy',\n",
       " 'webapp/solarApp/models/sat-to-sensor-model/sat-to-sensor-model.pkl_883.npy',\n",
       " 'webapp/solarApp/models/sat-to-sensor-model/sat-to-sensor-model.pkl_884.npy',\n",
       " 'webapp/solarApp/models/sat-to-sensor-model/sat-to-sensor-model.pkl_885.npy',\n",
       " 'webapp/solarApp/models/sat-to-sensor-model/sat-to-sensor-model.pkl_886.npy',\n",
       " 'webapp/solarApp/models/sat-to-sensor-model/sat-to-sensor-model.pkl_887.npy',\n",
       " 'webapp/solarApp/models/sat-to-sensor-model/sat-to-sensor-model.pkl_888.npy',\n",
       " 'webapp/solarApp/models/sat-to-sensor-model/sat-to-sensor-model.pkl_889.npy',\n",
       " 'webapp/solarApp/models/sat-to-sensor-model/sat-to-sensor-model.pkl_890.npy',\n",
       " 'webapp/solarApp/models/sat-to-sensor-model/sat-to-sensor-model.pkl_891.npy',\n",
       " 'webapp/solarApp/models/sat-to-sensor-model/sat-to-sensor-model.pkl_892.npy',\n",
       " 'webapp/solarApp/models/sat-to-sensor-model/sat-to-sensor-model.pkl_893.npy',\n",
       " 'webapp/solarApp/models/sat-to-sensor-model/sat-to-sensor-model.pkl_894.npy',\n",
       " 'webapp/solarApp/models/sat-to-sensor-model/sat-to-sensor-model.pkl_895.npy',\n",
       " 'webapp/solarApp/models/sat-to-sensor-model/sat-to-sensor-model.pkl_896.npy',\n",
       " 'webapp/solarApp/models/sat-to-sensor-model/sat-to-sensor-model.pkl_897.npy',\n",
       " 'webapp/solarApp/models/sat-to-sensor-model/sat-to-sensor-model.pkl_898.npy',\n",
       " 'webapp/solarApp/models/sat-to-sensor-model/sat-to-sensor-model.pkl_899.npy',\n",
       " 'webapp/solarApp/models/sat-to-sensor-model/sat-to-sensor-model.pkl_900.npy',\n",
       " 'webapp/solarApp/models/sat-to-sensor-model/sat-to-sensor-model.pkl_901.npy',\n",
       " 'webapp/solarApp/models/sat-to-sensor-model/sat-to-sensor-model.pkl_902.npy',\n",
       " 'webapp/solarApp/models/sat-to-sensor-model/sat-to-sensor-model.pkl_903.npy',\n",
       " 'webapp/solarApp/models/sat-to-sensor-model/sat-to-sensor-model.pkl_904.npy',\n",
       " 'webapp/solarApp/models/sat-to-sensor-model/sat-to-sensor-model.pkl_905.npy',\n",
       " 'webapp/solarApp/models/sat-to-sensor-model/sat-to-sensor-model.pkl_906.npy',\n",
       " 'webapp/solarApp/models/sat-to-sensor-model/sat-to-sensor-model.pkl_907.npy',\n",
       " 'webapp/solarApp/models/sat-to-sensor-model/sat-to-sensor-model.pkl_908.npy',\n",
       " 'webapp/solarApp/models/sat-to-sensor-model/sat-to-sensor-model.pkl_909.npy',\n",
       " 'webapp/solarApp/models/sat-to-sensor-model/sat-to-sensor-model.pkl_910.npy',\n",
       " 'webapp/solarApp/models/sat-to-sensor-model/sat-to-sensor-model.pkl_911.npy',\n",
       " 'webapp/solarApp/models/sat-to-sensor-model/sat-to-sensor-model.pkl_912.npy',\n",
       " 'webapp/solarApp/models/sat-to-sensor-model/sat-to-sensor-model.pkl_913.npy',\n",
       " 'webapp/solarApp/models/sat-to-sensor-model/sat-to-sensor-model.pkl_914.npy',\n",
       " 'webapp/solarApp/models/sat-to-sensor-model/sat-to-sensor-model.pkl_915.npy',\n",
       " 'webapp/solarApp/models/sat-to-sensor-model/sat-to-sensor-model.pkl_916.npy',\n",
       " 'webapp/solarApp/models/sat-to-sensor-model/sat-to-sensor-model.pkl_917.npy',\n",
       " 'webapp/solarApp/models/sat-to-sensor-model/sat-to-sensor-model.pkl_918.npy',\n",
       " 'webapp/solarApp/models/sat-to-sensor-model/sat-to-sensor-model.pkl_919.npy',\n",
       " 'webapp/solarApp/models/sat-to-sensor-model/sat-to-sensor-model.pkl_920.npy',\n",
       " 'webapp/solarApp/models/sat-to-sensor-model/sat-to-sensor-model.pkl_921.npy',\n",
       " 'webapp/solarApp/models/sat-to-sensor-model/sat-to-sensor-model.pkl_922.npy',\n",
       " 'webapp/solarApp/models/sat-to-sensor-model/sat-to-sensor-model.pkl_923.npy',\n",
       " 'webapp/solarApp/models/sat-to-sensor-model/sat-to-sensor-model.pkl_924.npy',\n",
       " 'webapp/solarApp/models/sat-to-sensor-model/sat-to-sensor-model.pkl_925.npy',\n",
       " 'webapp/solarApp/models/sat-to-sensor-model/sat-to-sensor-model.pkl_926.npy',\n",
       " 'webapp/solarApp/models/sat-to-sensor-model/sat-to-sensor-model.pkl_927.npy',\n",
       " 'webapp/solarApp/models/sat-to-sensor-model/sat-to-sensor-model.pkl_928.npy',\n",
       " 'webapp/solarApp/models/sat-to-sensor-model/sat-to-sensor-model.pkl_929.npy',\n",
       " 'webapp/solarApp/models/sat-to-sensor-model/sat-to-sensor-model.pkl_930.npy',\n",
       " 'webapp/solarApp/models/sat-to-sensor-model/sat-to-sensor-model.pkl_931.npy',\n",
       " 'webapp/solarApp/models/sat-to-sensor-model/sat-to-sensor-model.pkl_932.npy',\n",
       " 'webapp/solarApp/models/sat-to-sensor-model/sat-to-sensor-model.pkl_933.npy',\n",
       " 'webapp/solarApp/models/sat-to-sensor-model/sat-to-sensor-model.pkl_934.npy',\n",
       " 'webapp/solarApp/models/sat-to-sensor-model/sat-to-sensor-model.pkl_935.npy',\n",
       " 'webapp/solarApp/models/sat-to-sensor-model/sat-to-sensor-model.pkl_936.npy',\n",
       " 'webapp/solarApp/models/sat-to-sensor-model/sat-to-sensor-model.pkl_937.npy',\n",
       " 'webapp/solarApp/models/sat-to-sensor-model/sat-to-sensor-model.pkl_938.npy',\n",
       " 'webapp/solarApp/models/sat-to-sensor-model/sat-to-sensor-model.pkl_939.npy',\n",
       " 'webapp/solarApp/models/sat-to-sensor-model/sat-to-sensor-model.pkl_940.npy',\n",
       " 'webapp/solarApp/models/sat-to-sensor-model/sat-to-sensor-model.pkl_941.npy',\n",
       " 'webapp/solarApp/models/sat-to-sensor-model/sat-to-sensor-model.pkl_942.npy',\n",
       " 'webapp/solarApp/models/sat-to-sensor-model/sat-to-sensor-model.pkl_943.npy',\n",
       " 'webapp/solarApp/models/sat-to-sensor-model/sat-to-sensor-model.pkl_944.npy',\n",
       " 'webapp/solarApp/models/sat-to-sensor-model/sat-to-sensor-model.pkl_945.npy',\n",
       " 'webapp/solarApp/models/sat-to-sensor-model/sat-to-sensor-model.pkl_946.npy',\n",
       " 'webapp/solarApp/models/sat-to-sensor-model/sat-to-sensor-model.pkl_947.npy',\n",
       " 'webapp/solarApp/models/sat-to-sensor-model/sat-to-sensor-model.pkl_948.npy',\n",
       " 'webapp/solarApp/models/sat-to-sensor-model/sat-to-sensor-model.pkl_949.npy',\n",
       " 'webapp/solarApp/models/sat-to-sensor-model/sat-to-sensor-model.pkl_950.npy',\n",
       " 'webapp/solarApp/models/sat-to-sensor-model/sat-to-sensor-model.pkl_951.npy',\n",
       " 'webapp/solarApp/models/sat-to-sensor-model/sat-to-sensor-model.pkl_952.npy',\n",
       " 'webapp/solarApp/models/sat-to-sensor-model/sat-to-sensor-model.pkl_953.npy',\n",
       " 'webapp/solarApp/models/sat-to-sensor-model/sat-to-sensor-model.pkl_954.npy',\n",
       " 'webapp/solarApp/models/sat-to-sensor-model/sat-to-sensor-model.pkl_955.npy',\n",
       " 'webapp/solarApp/models/sat-to-sensor-model/sat-to-sensor-model.pkl_956.npy',\n",
       " 'webapp/solarApp/models/sat-to-sensor-model/sat-to-sensor-model.pkl_957.npy',\n",
       " 'webapp/solarApp/models/sat-to-sensor-model/sat-to-sensor-model.pkl_958.npy',\n",
       " 'webapp/solarApp/models/sat-to-sensor-model/sat-to-sensor-model.pkl_959.npy',\n",
       " 'webapp/solarApp/models/sat-to-sensor-model/sat-to-sensor-model.pkl_960.npy',\n",
       " 'webapp/solarApp/models/sat-to-sensor-model/sat-to-sensor-model.pkl_961.npy',\n",
       " 'webapp/solarApp/models/sat-to-sensor-model/sat-to-sensor-model.pkl_962.npy',\n",
       " 'webapp/solarApp/models/sat-to-sensor-model/sat-to-sensor-model.pkl_963.npy',\n",
       " 'webapp/solarApp/models/sat-to-sensor-model/sat-to-sensor-model.pkl_964.npy',\n",
       " 'webapp/solarApp/models/sat-to-sensor-model/sat-to-sensor-model.pkl_965.npy',\n",
       " 'webapp/solarApp/models/sat-to-sensor-model/sat-to-sensor-model.pkl_966.npy',\n",
       " 'webapp/solarApp/models/sat-to-sensor-model/sat-to-sensor-model.pkl_967.npy',\n",
       " 'webapp/solarApp/models/sat-to-sensor-model/sat-to-sensor-model.pkl_968.npy',\n",
       " 'webapp/solarApp/models/sat-to-sensor-model/sat-to-sensor-model.pkl_969.npy',\n",
       " 'webapp/solarApp/models/sat-to-sensor-model/sat-to-sensor-model.pkl_970.npy',\n",
       " 'webapp/solarApp/models/sat-to-sensor-model/sat-to-sensor-model.pkl_971.npy',\n",
       " 'webapp/solarApp/models/sat-to-sensor-model/sat-to-sensor-model.pkl_972.npy',\n",
       " 'webapp/solarApp/models/sat-to-sensor-model/sat-to-sensor-model.pkl_973.npy',\n",
       " 'webapp/solarApp/models/sat-to-sensor-model/sat-to-sensor-model.pkl_974.npy',\n",
       " 'webapp/solarApp/models/sat-to-sensor-model/sat-to-sensor-model.pkl_975.npy',\n",
       " 'webapp/solarApp/models/sat-to-sensor-model/sat-to-sensor-model.pkl_976.npy',\n",
       " 'webapp/solarApp/models/sat-to-sensor-model/sat-to-sensor-model.pkl_977.npy',\n",
       " 'webapp/solarApp/models/sat-to-sensor-model/sat-to-sensor-model.pkl_978.npy',\n",
       " 'webapp/solarApp/models/sat-to-sensor-model/sat-to-sensor-model.pkl_979.npy',\n",
       " 'webapp/solarApp/models/sat-to-sensor-model/sat-to-sensor-model.pkl_980.npy',\n",
       " 'webapp/solarApp/models/sat-to-sensor-model/sat-to-sensor-model.pkl_981.npy',\n",
       " 'webapp/solarApp/models/sat-to-sensor-model/sat-to-sensor-model.pkl_982.npy',\n",
       " 'webapp/solarApp/models/sat-to-sensor-model/sat-to-sensor-model.pkl_983.npy',\n",
       " 'webapp/solarApp/models/sat-to-sensor-model/sat-to-sensor-model.pkl_984.npy',\n",
       " 'webapp/solarApp/models/sat-to-sensor-model/sat-to-sensor-model.pkl_985.npy',\n",
       " 'webapp/solarApp/models/sat-to-sensor-model/sat-to-sensor-model.pkl_986.npy',\n",
       " 'webapp/solarApp/models/sat-to-sensor-model/sat-to-sensor-model.pkl_987.npy',\n",
       " 'webapp/solarApp/models/sat-to-sensor-model/sat-to-sensor-model.pkl_988.npy',\n",
       " 'webapp/solarApp/models/sat-to-sensor-model/sat-to-sensor-model.pkl_989.npy',\n",
       " 'webapp/solarApp/models/sat-to-sensor-model/sat-to-sensor-model.pkl_990.npy',\n",
       " 'webapp/solarApp/models/sat-to-sensor-model/sat-to-sensor-model.pkl_991.npy',\n",
       " 'webapp/solarApp/models/sat-to-sensor-model/sat-to-sensor-model.pkl_992.npy',\n",
       " 'webapp/solarApp/models/sat-to-sensor-model/sat-to-sensor-model.pkl_993.npy',\n",
       " 'webapp/solarApp/models/sat-to-sensor-model/sat-to-sensor-model.pkl_994.npy',\n",
       " 'webapp/solarApp/models/sat-to-sensor-model/sat-to-sensor-model.pkl_995.npy',\n",
       " 'webapp/solarApp/models/sat-to-sensor-model/sat-to-sensor-model.pkl_996.npy',\n",
       " 'webapp/solarApp/models/sat-to-sensor-model/sat-to-sensor-model.pkl_997.npy',\n",
       " 'webapp/solarApp/models/sat-to-sensor-model/sat-to-sensor-model.pkl_998.npy',\n",
       " 'webapp/solarApp/models/sat-to-sensor-model/sat-to-sensor-model.pkl_999.npy',\n",
       " ...]"
      ]
     },
     "execution_count": 45,
     "metadata": {},
     "output_type": "execute_result"
    }
   ],
   "source": [
    "from sklearn.externals import joblib\n",
    "joblib.dump(etr, 'webapp/solarApp/models/sat-to-sensor-model/sat-to-sensor-model.pkl')"
   ]
  },
  {
   "cell_type": "code",
   "execution_count": 49,
   "metadata": {
    "collapsed": true
   },
   "outputs": [],
   "source": [
    "sat_to_sensor_model = joblib.load('webapp/solarApp/models/sat-to-sensor-model/sat-to-sensor-model.pkl')"
   ]
  },
  {
   "cell_type": "code",
   "execution_count": null,
   "metadata": {
    "collapsed": true
   },
   "outputs": [],
   "source": []
  },
  {
   "cell_type": "code",
   "execution_count": 42,
   "metadata": {
    "collapsed": false
   },
   "outputs": [
    {
     "name": "stdout",
     "output_type": "stream",
     "text": [
      "0.341375179423\n",
      "0.448898844836\n"
     ]
    }
   ],
   "source": [
    "print etr.score(X_test,Y_test)\n",
    "print etr.oob_score_"
   ]
  },
  {
   "cell_type": "code",
   "execution_count": 22,
   "metadata": {
    "collapsed": false
   },
   "outputs": [
    {
     "name": "stdout",
     "output_type": "stream",
     "text": [
      "[-2198.65772893 -2188.5623123  -2104.60089098 -2052.34812153 -2090.54505853\n",
      " -2156.32240028 -2116.19818674 -2211.84310991 -2211.56849777 -2211.6718011\n",
      " -2211.71221744 -2211.7269635  -2211.45021478 -2211.72584788]\n",
      "[-2204.97347    -2191.76434333 -2101.25588333 -2045.47811667 -2089.01256667\n",
      " -2160.20863333 -2116.29065    -2216.31089233 -2216.08557883 -2216.19287567\n",
      " -2216.236086   -2216.24175567 -2215.97105233 -2216.24139267]\n"
     ]
    }
   ],
   "source": [
    "Y_pred = etr.predict(X_test)\n",
    "\n",
    "from random import randint\n",
    "val = randint(0,Y_test.shape[0])\n",
    "print Y_pred[val]\n",
    "print Y_test[val]"
   ]
  },
  {
   "cell_type": "markdown",
   "metadata": {},
   "source": [
    "###After pickling the sensor to power model, use it to predict power from satellite data!"
   ]
  },
  {
   "cell_type": "code",
   "execution_count": 47,
   "metadata": {
    "collapsed": true
   },
   "outputs": [],
   "source": [
    "from sklearn.externals import joblib\n",
    "etr2 = joblib.load('data/sensor-to-power-model/sensor-to-power-model.pkl')"
   ]
  },
  {
   "cell_type": "code",
   "execution_count": 48,
   "metadata": {
    "collapsed": false
   },
   "outputs": [
    {
     "data": {
      "text/plain": [
       "(2544,)"
      ]
     },
     "execution_count": 48,
     "metadata": {},
     "output_type": "execute_result"
    }
   ],
   "source": [
    "etr2.predict(Y).shape #power predictions"
   ]
  },
  {
   "cell_type": "code",
   "execution_count": 25,
   "metadata": {
    "collapsed": true
   },
   "outputs": [],
   "source": [
    "with np.load('data/y.npz') as data:\n",
    "    y = data['y']"
   ]
  },
  {
   "cell_type": "code",
   "execution_count": 46,
   "metadata": {
    "collapsed": false
   },
   "outputs": [
    {
     "ename": "NameError",
     "evalue": "name 'etr2' is not defined",
     "output_type": "error",
     "traceback": [
      "\u001b[0;31m---------------------------------------------------------------------------\u001b[0m",
      "\u001b[0;31mNameError\u001b[0m                                 Traceback (most recent call last)",
      "\u001b[0;32m<ipython-input-46-95b375df32b7>\u001b[0m in \u001b[0;36m<module>\u001b[0;34m()\u001b[0m\n\u001b[0;32m----> 1\u001b[0;31m \u001b[0my_pred2\u001b[0m \u001b[0;34m=\u001b[0m \u001b[0metr2\u001b[0m\u001b[0;34m.\u001b[0m\u001b[0mpredict\u001b[0m\u001b[0;34m(\u001b[0m\u001b[0mY_pred\u001b[0m\u001b[0;34m)\u001b[0m \u001b[0;31m#the predicted\u001b[0m\u001b[0;34m\u001b[0m\u001b[0m\n\u001b[0m\u001b[1;32m      2\u001b[0m \u001b[0;34m\u001b[0m\u001b[0m\n\u001b[1;32m      3\u001b[0m \u001b[0my_pred2\u001b[0m\u001b[0;34m.\u001b[0m\u001b[0mshape\u001b[0m\u001b[0;34m\u001b[0m\u001b[0m\n",
      "\u001b[0;31mNameError\u001b[0m: name 'etr2' is not defined"
     ]
    }
   ],
   "source": [
    "y_pred2 = etr2.predict(Y_pred) #the predicted\n",
    "\n",
    "y_pred2.shape"
   ]
  },
  {
   "cell_type": "code",
   "execution_count": 27,
   "metadata": {
    "collapsed": false
   },
   "outputs": [
    {
     "data": {
      "text/plain": [
       "(2729,)"
      ]
     },
     "execution_count": 27,
     "metadata": {},
     "output_type": "execute_result"
    }
   ],
   "source": [
    "y.shape"
   ]
  },
  {
   "cell_type": "markdown",
   "metadata": {},
   "source": [
    "###Seems like dimensions are working out.  Probably will need to pickle the sat to sensor model too and just feed in data start to finish and see how it does."
   ]
  },
  {
   "cell_type": "code",
   "execution_count": 28,
   "metadata": {
    "collapsed": true
   },
   "outputs": [],
   "source": [
    "with np.load('data/good_times.npz') as data:\n",
    "    good_times = data['good_times']"
   ]
  },
  {
   "cell_type": "code",
   "execution_count": 35,
   "metadata": {
    "collapsed": false
   },
   "outputs": [
    {
     "name": "stdout",
     "output_type": "stream",
     "text": [
      "(2544,)\n",
      "(2544,)\n"
     ]
    }
   ],
   "source": [
    "print good_times.shape\n",
    "print etr2.predict(Y).shape"
   ]
  },
  {
   "cell_type": "markdown",
   "metadata": {},
   "source": [
    "Nice, now we have predictions for every datetime!  Now we have to check this."
   ]
  },
  {
   "cell_type": "code",
   "execution_count": 94,
   "metadata": {
    "collapsed": false
   },
   "outputs": [
    {
     "name": "stdout",
     "output_type": "stream",
     "text": [
      "Predicted power for 2014-08-02 03:00:00 is 0.0 W\n",
      "0\n"
     ]
    }
   ],
   "source": [
    "from datetime import datetime, timedelta, time\n",
    "pvoutput_filefolder = 'data/pvoutput/pvoutput6months/'\n",
    "\n",
    "datetime_index = 1747\n",
    "print 'Predicted power for ' + str(good_times[datetime_index]) + \\\n",
    "      ' is ' + str(etr2.predict(Y[datetime_index])[0]) + ' W'\n",
    "\n",
    "#pvoutput data\n",
    "desired_datetime = good_times[datetime_index]\n",
    "desired_date = (desired_datetime - timedelta(hours=6)).date() #make sure correct date\n",
    "desired_date = datetime.combine(desired_date, time.min) #get into datetime format\n",
    "pvoutput_filename = find_file_from_date(desired_date, pvoutput_filefolder)\n",
    "df_pvoutput = return_pvoutput_data(pvoutput_filename, pvoutput_filefolder)\n",
    "try:\n",
    "    print \"True power: \" + df_pvoutput[df_pvoutput.index == desired_datetime].values[0][0].astype(str)\n",
    "except:\n",
    "    print \"0\""
   ]
  },
  {
   "cell_type": "code",
   "execution_count": 95,
   "metadata": {
    "collapsed": false
   },
   "outputs": [],
   "source": [
    "from datetime import datetime, timedelta, time\n",
    "pvoutput_filefolder = 'data/pvoutput/pvoutput6months/'\n",
    "\n",
    "predicted_powers = []\n",
    "true_powers = []\n",
    "for datetime_index in range(len(good_times)):\n",
    "    predicted_powers.append(str(etr2.predict(Y[datetime_index])[0]) )\n",
    "    #pvoutput data\n",
    "    desired_datetime = good_times[datetime_index]\n",
    "    desired_date = (desired_datetime - timedelta(hours=6)).date() #make sure correct date\n",
    "    desired_date = datetime.combine(desired_date, time.min) #get into datetime format\n",
    "    pvoutput_filename = find_file_from_date(desired_date, pvoutput_filefolder)\n",
    "    df_pvoutput = return_pvoutput_data(pvoutput_filename, pvoutput_filefolder)\n",
    "    try:\n",
    "        true_powers.append(df_pvoutput[df_pvoutput.index == desired_datetime].values[0][0].astype(str))\n",
    "    except:\n",
    "        true_powers.append(0)\n"
   ]
  },
  {
   "cell_type": "code",
   "execution_count": 111,
   "metadata": {
    "collapsed": false
   },
   "outputs": [],
   "source": [
    "true_powers = np.array(true_powers).astype(float)"
   ]
  },
  {
   "cell_type": "code",
   "execution_count": 107,
   "metadata": {
    "collapsed": false
   },
   "outputs": [],
   "source": [
    "predicted_powers = np.array(predicted_powers).astype(float)"
   ]
  },
  {
   "cell_type": "code",
   "execution_count": 144,
   "metadata": {
    "collapsed": false
   },
   "outputs": [
    {
     "data": {
      "text/plain": [
       "14.248572714879463"
      ]
     },
     "execution_count": 144,
     "metadata": {},
     "output_type": "execute_result"
    }
   ],
   "source": [
    "error_add = []\n",
    "for datetime_index in range(len(good_times)):\n",
    "\n",
    "        error_add.append(\n",
    "            np.abs(true_powers[datetime_index]-predicted_powers[datetime_index]) \\\n",
    "            / true_powers[datetime_index]\n",
    "            )\n",
    "\n",
    "error_sum = 0\n",
    "for error in error_add:\n",
    "    if (np.isnan(error) or np.isinf(error)):\n",
    "        pass\n",
    "    else:\n",
    "        error_sum += error\n",
    "        \n",
    "error_sum/len(good_times)"
   ]
  },
  {
   "cell_type": "code",
   "execution_count": 30,
   "metadata": {
    "collapsed": false
   },
   "outputs": [
    {
     "data": {
      "text/plain": [
       "(array([     0.,   2000.,   4000.,   6000.,   8000.,  10000.,  12000.,\n",
       "         14000.]), <a list of 8 Text yticklabel objects>)"
      ]
     },
     "execution_count": 30,
     "metadata": {},
     "output_type": "execute_result"
    },
    {
     "data": {
      "image/png": "[encoded data removed]",
      "text/plain": [
       "<matplotlib.figure.Figure at 0x10e224390>"
      ]
     },
     "metadata": {},
     "output_type": "display_data"
    }
   ],
   "source": [
    "x = np.linspace(0,13000,100)\n",
    "y = 1.0 * x\n",
    "plt.figure(figsize=(8,8))\n",
    "plt.plot(true_powers,predicted_powers,'go', alpha=0.25)\n",
    "plt.plot(x,y,'r',linewidth = 5, alpha = 0.5)\n",
    "plt.xlabel('True Power (W)', fontsize = 16)\n",
    "plt.xticks(size=16)\n",
    "plt.ylabel('Predicted Power (W)', fontsize = 16)\n",
    "plt.yticks(size=16)"
   ]
  },
  {
   "cell_type": "markdown",
   "metadata": {},
   "source": [
    "Tres beau, call it a day!  That's a pretty graph!"
   ]
  },
  {
   "cell_type": "code",
   "execution_count": 160,
   "metadata": {
    "collapsed": true
   },
   "outputs": [],
   "source": [
    "np.savez_compressed('data/true_powers.npz',true_powers=true_powers) #save\n",
    "np.savez_compressed('data/predicted_powers.npz',predicted_powers=predicted_powers) #save"
   ]
  },
  {
   "cell_type": "markdown",
   "metadata": {
    "collapsed": true
   },
   "source": [
    "###I shut down the nb, so restart!"
   ]
  },
  {
   "cell_type": "code",
   "execution_count": 1,
   "metadata": {
    "collapsed": true
   },
   "outputs": [],
   "source": [
    "import numpy as np\n",
    "with np.load('data/true_powers.npz') as data:\n",
    "    true_powers = data['true_powers']\n",
    "with np.load('data/predicted_powers.npz') as data:\n",
    "    predicted_powers = data['predicted_powers']"
   ]
  },
  {
   "cell_type": "code",
   "execution_count": 2,
   "metadata": {
    "collapsed": true
   },
   "outputs": [],
   "source": [
    "import matplotlib.pyplot as plt\n",
    "%matplotlib inline"
   ]
  },
  {
   "cell_type": "code",
   "execution_count": 5,
   "metadata": {
    "collapsed": true
   },
   "outputs": [],
   "source": [
    "import statsmodels.api as sm"
   ]
  },
  {
   "cell_type": "code",
   "execution_count": 6,
   "metadata": {
    "collapsed": false
   },
   "outputs": [
    {
     "name": "stdout",
     "output_type": "stream",
     "text": [
      "                            OLS Regression Results                            \n",
      "==============================================================================\n",
      "Dep. Variable:                      y   R-squared:                       0.963\n",
      "Model:                            OLS   Adj. R-squared:                  0.963\n",
      "Method:                 Least Squares   F-statistic:                 6.572e+04\n",
      "Date:                Thu, 13 Aug 2015   Prob (F-statistic):               0.00\n",
      "Time:                        10:13:25   Log-Likelihood:                -21418.\n",
      "No. Observations:                2544   AIC:                         4.284e+04\n",
      "Df Residuals:                    2543   BIC:                         4.284e+04\n",
      "Df Model:                           1                                         \n",
      "Covariance Type:            nonrobust                                         \n",
      "==============================================================================\n",
      "                 coef    std err          t      P>|t|      [95.0% Conf. Int.]\n",
      "------------------------------------------------------------------------------\n",
      "x1             0.9423      0.004    256.360      0.000         0.935     0.949\n",
      "==============================================================================\n",
      "Omnibus:                     1294.023   Durbin-Watson:                   1.163\n",
      "Prob(Omnibus):                  0.000   Jarque-Bera (JB):            28454.726\n",
      "Skew:                          -1.912   Prob(JB):                         0.00\n",
      "Kurtosis:                      18.932   Cond. No.                         1.00\n",
      "==============================================================================\n",
      "\n",
      "Warnings:\n",
      "[1] Standard Errors assume that the covariance matrix of the errors is correctly specified.\n"
     ]
    }
   ],
   "source": [
    "# Fit and summarize OLS model\n",
    "mod = sm.OLS(predicted_powers,true_powers)\n",
    "res = mod.fit()\n",
    "print res.summary()"
   ]
  },
  {
   "cell_type": "code",
   "execution_count": 4,
   "metadata": {
    "collapsed": true
   },
   "outputs": [],
   "source": []
  },
  {
   "cell_type": "code",
   "execution_count": null,
   "metadata": {
    "collapsed": true
   },
   "outputs": [],
   "source": []
  },
  {
   "cell_type": "code",
   "execution_count": null,
   "metadata": {
    "collapsed": true
   },
   "outputs": [],
   "source": []
  },
  {
   "cell_type": "code",
   "execution_count": null,
   "metadata": {
    "collapsed": true
   },
   "outputs": [],
   "source": []
  },
  {
   "cell_type": "code",
   "execution_count": null,
   "metadata": {
    "collapsed": true
   },
   "outputs": [],
   "source": []
  },
  {
   "cell_type": "code",
   "execution_count": null,
   "metadata": {
    "collapsed": true
   },
   "outputs": [],
   "source": []
  },
  {
   "cell_type": "code",
   "execution_count": null,
   "metadata": {
    "collapsed": true
   },
   "outputs": [],
   "source": []
  }
 ],
 "metadata": {
  "kernelspec": {
   "display_name": "Python 2",
   "language": "python",
   "name": "python2"
  },
  "language_info": {
   "codemirror_mode": {
    "name": "ipython",
    "version": 2
   },
   "file_extension": ".py",
   "mimetype": "text/x-python",
   "name": "python",
   "nbconvert_exporter": "python",
   "pygments_lexer": "ipython2",
   "version": "2.7.10"
  }
 },
 "nbformat": 4,
 "nbformat_minor": 0
}
